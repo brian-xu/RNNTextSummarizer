{
 "cells": [
  {
   "cell_type": "code",
   "execution_count": 143,
   "id": "2f6b6a20",
   "metadata": {},
   "outputs": [],
   "source": [
    "import numpy as np\n",
    "import pandas as pd \n",
    "import re\n",
    "from bs4 import BeautifulSoup\n",
    "from tensorflow.keras.preprocessing.text import Tokenizer \n",
    "from tensorflow.keras.preprocessing.sequence import pad_sequences\n",
    "from nltk.corpus import stopwords\n",
    "from matplotlib import pyplot\n",
    "import warnings\n",
    "pd.set_option(\"display.max_colwidth\", 200)\n",
    "warnings.filterwarnings(\"ignore\")\n",
    "import pathlib"
   ]
  },
  {
   "cell_type": "code",
   "execution_count": 144,
   "id": "48150bc0",
   "metadata": {},
   "outputs": [
    {
     "name": "stdout",
     "output_type": "stream",
     "text": [
      "<class 'pandas.core.frame.DataFrame'>\n",
      "RangeIndex: 100000 entries, 0 to 99999\n",
      "Data columns (total 3 columns):\n",
      " #   Column      Non-Null Count   Dtype \n",
      "---  ------      --------------   ----- \n",
      " 0   id          100000 non-null  object\n",
      " 1   article     100000 non-null  object\n",
      " 2   highlights  100000 non-null  object\n",
      "dtypes: object(3)\n",
      "memory usage: 2.3+ MB\n"
     ]
    }
   ],
   "source": [
    "data=pd.read_csv(f\"{pathlib.Path().resolve()}\\\\input\\\\cnn_dailymail\\\\train.csv\", nrows=100000)\n",
    "data.info()"
   ]
  },
  {
   "cell_type": "code",
   "execution_count": 145,
   "id": "da56ff0a",
   "metadata": {},
   "outputs": [],
   "source": [
    "data.drop_duplicates(subset=['article'],inplace=True) #dropping duplicates\n",
    "data.dropna(axis=0,inplace=True) #dropping na"
   ]
  },
  {
   "cell_type": "code",
   "execution_count": 146,
   "id": "3f4e1343",
   "metadata": {},
   "outputs": [
    {
     "name": "stdout",
     "output_type": "stream",
     "text": [
      "<class 'pandas.core.frame.DataFrame'>\n",
      "Int64Index: 99637 entries, 0 to 99999\n",
      "Data columns (total 3 columns):\n",
      " #   Column      Non-Null Count  Dtype \n",
      "---  ------      --------------  ----- \n",
      " 0   id          99637 non-null  object\n",
      " 1   article     99637 non-null  object\n",
      " 2   highlights  99637 non-null  object\n",
      "dtypes: object(3)\n",
      "memory usage: 3.0+ MB\n"
     ]
    }
   ],
   "source": [
    "data.info()"
   ]
  },
  {
   "cell_type": "code",
   "execution_count": 147,
   "id": "c3165017",
   "metadata": {},
   "outputs": [],
   "source": [
    "contraction_mapping = {\"ain't\": \"is not\", \"aren't\": \"are not\",\"can't\": \"cannot\", \"'cause\": \"because\", \"could've\": \"could have\", \"couldn't\": \"could not\",\n",
    "                           \"didn't\": \"did not\",  \"doesn't\": \"does not\", \"don't\": \"do not\", \"hadn't\": \"had not\", \"hasn't\": \"has not\", \"haven't\": \"have not\",\n",
    "                           \"he'd\": \"he would\",\"he'll\": \"he will\", \"he's\": \"he is\", \"how'd\": \"how did\", \"how'd'y\": \"how do you\", \"how'll\": \"how will\", \"how's\": \"how is\",\n",
    "                           \"I'd\": \"I would\", \"I'd've\": \"I would have\", \"I'll\": \"I will\", \"I'll've\": \"I will have\",\"I'm\": \"I am\", \"I've\": \"I have\", \"i'd\": \"i would\",\n",
    "                           \"i'd've\": \"i would have\", \"i'll\": \"i will\",  \"i'll've\": \"i will have\",\"i'm\": \"i am\", \"i've\": \"i have\", \"isn't\": \"is not\", \"it'd\": \"it would\",\n",
    "                           \"it'd've\": \"it would have\", \"it'll\": \"it will\", \"it'll've\": \"it will have\",\"it's\": \"it is\", \"let's\": \"let us\", \"ma'am\": \"madam\",\n",
    "                           \"mayn't\": \"may not\", \"might've\": \"might have\",\"mightn't\": \"might not\",\"mightn't've\": \"might not have\", \"must've\": \"must have\",\n",
    "                           \"mustn't\": \"must not\", \"mustn't've\": \"must not have\", \"needn't\": \"need not\", \"needn't've\": \"need not have\",\"o'clock\": \"of the clock\",\n",
    "                           \"oughtn't\": \"ought not\", \"oughtn't've\": \"ought not have\", \"shan't\": \"shall not\", \"sha'n't\": \"shall not\", \"shan't've\": \"shall not have\",\n",
    "                           \"she'd\": \"she would\", \"she'd've\": \"she would have\", \"she'll\": \"she will\", \"she'll've\": \"she will have\", \"she's\": \"she is\",\n",
    "                           \"should've\": \"should have\", \"shouldn't\": \"should not\", \"shouldn't've\": \"should not have\", \"so've\": \"so have\",\"so's\": \"so as\",\n",
    "                           \"this's\": \"this is\",\"that'd\": \"that would\", \"that'd've\": \"that would have\", \"that's\": \"that is\", \"there'd\": \"there would\",\n",
    "                           \"there'd've\": \"there would have\", \"there's\": \"there is\", \"here's\": \"here is\",\"they'd\": \"they would\", \"they'd've\": \"they would have\",\n",
    "                           \"they'll\": \"they will\", \"they'll've\": \"they will have\", \"they're\": \"they are\", \"they've\": \"they have\", \"to've\": \"to have\",\n",
    "                           \"wasn't\": \"was not\", \"we'd\": \"we would\", \"we'd've\": \"we would have\", \"we'll\": \"we will\", \"we'll've\": \"we will have\", \"we're\": \"we are\",\n",
    "                           \"we've\": \"we have\", \"weren't\": \"were not\", \"what'll\": \"what will\", \"what'll've\": \"what will have\", \"what're\": \"what are\",\n",
    "                           \"what's\": \"what is\", \"what've\": \"what have\", \"when's\": \"when is\", \"when've\": \"when have\", \"where'd\": \"where did\", \"where's\": \"where is\",\n",
    "                           \"where've\": \"where have\", \"who'll\": \"who will\", \"who'll've\": \"who will have\", \"who's\": \"who is\", \"who've\": \"who have\",\n",
    "                           \"why's\": \"why is\", \"why've\": \"why have\", \"will've\": \"will have\", \"won't\": \"will not\", \"won't've\": \"will not have\",\n",
    "                           \"would've\": \"would have\", \"wouldn't\": \"would not\", \"wouldn't've\": \"would not have\", \"y'all\": \"you all\",\n",
    "                           \"y'all'd\": \"you all would\",\"y'all'd've\": \"you all would have\",\"y'all're\": \"you all are\",\"y'all've\": \"you all have\",\n",
    "                           \"you'd\": \"you would\", \"you'd've\": \"you would have\", \"you'll\": \"you will\", \"you'll've\": \"you will have\",\n",
    "                           \"you're\": \"you are\", \"you've\": \"you have\"}"
   ]
  },
  {
   "cell_type": "code",
   "execution_count": 148,
   "id": "1c2aa0f0",
   "metadata": {},
   "outputs": [],
   "source": [
    "stop_words = set(stopwords.words('english')) \n",
    "\n",
    "def text_cleaner(text,num):\n",
    "    newString = text.lower()\n",
    "    newString = BeautifulSoup(newString).text\n",
    "    newString = re.sub(r'\\([^)]*\\)', '', newString)\n",
    "    newString = re.sub('\"','', newString)\n",
    "    newString = ' '.join([contraction_mapping[t] if t in contraction_mapping else t for t in newString.split(\" \")])    \n",
    "    newString = re.sub(r\"'s\\b\",\"\",newString)\n",
    "    newString = re.sub(\"[^a-zA-Z]\", \" \", newString) \n",
    "    newString = re.sub('[m]{2,}', 'mm', newString)\n",
    "    if (num==0):\n",
    "        tokens = [w for w in newString.split() if not w in stop_words]\n",
    "    else:\n",
    "        tokens=newString.split()\n",
    "    long_words=[]\n",
    "    for i in tokens:\n",
    "        if len(i)>1: # removing short words\n",
    "            long_words.append(i)   \n",
    "    return (\" \".join(long_words)).strip()"
   ]
  },
  {
   "cell_type": "code",
   "execution_count": 149,
   "id": "f3419af2",
   "metadata": {},
   "outputs": [],
   "source": [
    "#call the function\n",
    "cleaned_text = []\n",
    "for t in data['article']:\n",
    "    cleaned_text.append(text_cleaner(t,0)) "
   ]
  },
  {
   "cell_type": "code",
   "execution_count": 150,
   "id": "702dae51",
   "metadata": {},
   "outputs": [
    {
     "data": {
      "text/plain": [
       "['associated press published est october updated est october bishop fargo catholic diocese north dakota exposed potentially hundreds church members fargo grand forks jamestown hepatitis virus late september early october state health department issued advisory exposure anyone attended five churches took communion bishop john folda fargo catholic diocese north dakota exposed potentially hundreds church members fargo grand forks jamestown hepatitis state immunization program manager molly howell says risk low officials feel important alert people possible exposure diocese announced monday bishop john folda taking time diagnosed hepatitis diocese says contracted infection contaminated food attending conference newly ordained bishops italy last month symptoms hepatitis include fever tiredness loss appetite nausea abdominal discomfort fargo catholic diocese north dakota bishop located',\n",
       " 'ralph mata internal affairs lieutenant miami dade police department working division investigates allegations wrongdoing cops outside office authorities allege year old longtime officer worked drug trafficking organization help plan murder plot get guns criminal complaint unsealed district court new jersey tuesday accuses mata also known milk man using role police officer help drug trafficking organization exchange money gifts including rolex watch one instance complaint alleges mata arranged pay two assassins kill rival drug dealers killers would pose cops pulling targets shooting according complaint ultimately decided move forward murder plot mata still received payment setting meetings federal prosecutors said statement complaint also alleges mata used police badge purchase weapons drug traffickers mata according complaint used contacts airport transport weapons carry luggage trips miami dominican republic court documents released investigators specify name drug trafficking organization mata allegedly conspired says organization importing narcotics places ecuador dominican republic hiding inside shipping containers containing pallets produce including bananas organization distributing narcotics new jersey elsewhere complaint says authorities arrested mata tuesday miami gardens florida immediately clear whether mata attorney police officials could immediately reached comment mata worked miami dade police department since including directing investigations miami gardens working lieutenant unit miami international airport according complaint since march working internal affairs division mata faces charges aiding abetting conspiracy distribute cocaine conspiring distribute cocaine engaging monetary transactions property derived specified unlawful activity scheduled appear federal court florida wednesday convicted mata could face life prison cnn suzanne presto contributed report',\n",
       " 'drunk driver killed young woman head crash checking mobile phone jailed six years craig eccleston todd driving home night pub received text message reading replying veered across road driving round bend smashed rachel titley car coming way craig eccleston todd using mobile phone crashed head car driven rachel titley died later injuries head crash took place october mr eccleston todd car barely recognisable police said eccleston todd drunk least three four pints beer getting behind wheel found guilty causing death dangerous driving portsmouth crown court yesterday miss titley year old solicitor clerk cowes isle wight also spent evening friends pub drunk alcohol police said driving responsibly nothing could done avoid collision added lindsay pennell prosecuting said craig eccleston todd driving resulted tragic death young woman rachel titley death could avoided mr eccleston todd took decision pick mobile phone whilst driving either reading replying text message distracted failed negotiate left hand bend crossing central white line path miss titley oncoming car miss titley pulled wreckage daihatsu cuore died later injuries hospital miss titley bright future ahead also returning home spent enjoyable evening friends driving responsibly arranged contact friends got home confirm arrived safely friends sadly never heard parted company miss titley death circumstances reiterates danger using hand held mobile phone whilst driving police unable take breath blood tests eccleston todd immediately tests several hours accident marginally drink drive limit judge agreed police would limit time red citroen hit miss titley blue daihatsu cuore road near yarmouth isle wight october phone records showed also texting around time crash pc mark furse hampshire constabulary serious collision investigation unit said thoughts rachel family time friends pub shalfleet evening alcohol investigation showed nothing could done avoid collision sadly cost life mr eccleston todd left work yarmouth met friends pub drank least three four pints lager long left pub return home collision occurred around pm able take breath blood tests immediately although blood taken several hours collision showed marginally limit maintain would limit time collision summing today judge agreed analysis phone records showed texting phone around time collision highly likely would also contributed dangerous driving loss control eccleston todd found guilty causing death dangerous driving following trial portsmouth crown court added mr eccleston todd spend six years behind bars rachel family lost forever hope make people think twice drinking alcohol getting behind wheel using phone road dangers drink driving driving whilst using mobile phone obvious continue risk spending substantial time prison case highlights tragic consequences committing offences mr eccleston todd spend six years behind bars rachel family lost ever hope make people think twice drinking alcohol getting behind wheel using phone road case highlights tragic consequences committing offences eccleston todd newport isle wight also disqualified driving eight years complete extended test',\n",
       " 'breezy sweep pen president vladimir putin wrote new chapter crimea turbulent history committing region future returned russian domain sixty years prior ukraine breakaway peninsula signed away swiftly soviet leader nikita khrushchev dealing blatant land grab eastern flank anywhere near quick easy europe member union unlike crimea rushed referendum everyone say initially slapping visa restrictions asset freezes limited number little known politicians military men europe facing urgent calls widen scope measures target russian business community particular logic run russia essentially two sides coin alexei navalny one time moscow mayoral contender house arrest opposing current regime called europe leaders ban everyone vladimir putin personal banker chelsea football club owner roman abramovich keeping money loved ones abroad asset freezes visa restrictions especially palatable options eu rolled discretionary basis without requiring cumbersome legal procedures recourse fact russia cancels visas people like time look hermitage capital founder bill browder lost right entry moscow based money dare go back russia also banned adoption orphans americans retaliation us implementation anti corruption law named sergei magnitsky browder lawyer died year moscow detention center apparently beaten death yet playing money talks card europe must ready consequences action money also walks eu leaders must ready accept sanctions two way street hurt sides targeting russia peripatetic business community would one way sapping tenuous support president putin strategy might also turn silver lining awarding eu countries chance finally deal unpleasant sides patronage including money laundering corruption inflated prize assets like london property picasso paintings years europe hold fire though trade two decades post soviet rapprochement almost billion worth commerce lot put stake true trade war would hurt russia far harder would eu least former gdp comes exports bloc europe hefty reliance russian gas would hard time keeping factories going citizens warm without power east putin flexes political muscle open trade channels keep dialogue going giving sides chance change subject talk less tensely one afford cut lifeline especially europe economy rebound russia one wane',\n",
       " 'fleetwood team still record sky bet league one win scunthorpe sent graham alexander men top table cod army playing third tier first time history six promotions nine years remarkable ascent shows sign slowing jamie proctor gareth evans scoring goals glanford park fleetwood one five teams two two four clubs peterborough bristol city chesterfield crawley hit first stumbling blocks posh defeated sheffield united lost opening contests jose baxter opener gave blades first half lead although later cancelled shaun brisley goal ben davies snatched winner six minutes time lead jose baxter celebrates opening scoring sheffield united battle sheffield united michael doyle challenges peterborough kyle vassell keenly contested clash bristol city beat nigel clough men opening day held goalless draw last season play finalists leyton orient chesterfield league two champions beaten mk dons play manchester united capital one cup seven days time arsenal loanee benik afobe scored goal game break meanwhile crawley lost unbeaten status bradford maintained thanks win bantams james hanson became first player score crawley season minutes joe walsh equalised five minutes later heads bristol city korey smith leyton orient lloyd james go header strikes billy knott mason bennett sealed impressive away win phil parkinson men bradford second behind fleetwood doncaster stoppage time equaliser meant preston joe garner signed new contract earlier tuesday held draw slipped table chris humphrey looked secured points lilywhites nathan tyson struck last gasp leveller stand striker matt done scored hat trick rochdale evening high scoring affair crewe hammered marcus haber marked full railwaymen debut brace done treble goals ian henderson peter vincenti helped keith hill men big away victory plenty goals coventry barnsley draw four goals coming first half josh mcquoid jordan clarke twice gave sky blues lead tykes earned point thanks strikes conor hourihane leroy lita notts county recorded home win colchester ronan murray liam noble target freddie sears replied colchester james wilson second half equaliser earned oldham points port vale tom pope opener yeovil claimed away victory walsall kevin dawson striking late winner tom bradshaw equalised veteran james hayter gave glovers lead finally swindon held gillingham draw thanks stephen bywater last minute goal danny kedwell kortney hause twice gave gills lead andy williams pulled swindon level bywater dropped raphael branco cross net']"
      ]
     },
     "execution_count": 150,
     "metadata": {},
     "output_type": "execute_result"
    }
   ],
   "source": [
    "cleaned_text[:5]  "
   ]
  },
  {
   "cell_type": "code",
   "execution_count": 151,
   "id": "64d5039a",
   "metadata": {},
   "outputs": [],
   "source": [
    "#call the function\n",
    "cleaned_summary = []\n",
    "for t in data['highlights']:\n",
    "    cleaned_summary.append(text_cleaner(t,1))"
   ]
  },
  {
   "cell_type": "code",
   "execution_count": 152,
   "id": "f2b50cdb",
   "metadata": {},
   "outputs": [
    {
     "data": {
      "text/plain": [
       "['bishop john folda of north dakota is taking time off after being diagnosed he contracted the infection through contaminated food in italy church members in fargo grand forks and jamestown could have been exposed',\n",
       " 'criminal complaint cop used his role to help cocaine traffickers ralph mata an internal affairs lieutenant allegedly helped group get guns he also arranged to pay two assassins in murder plot complaint alleges',\n",
       " 'craig eccleston todd had drunk at least three pints before driving car was using phone when he veered across road in yarmouth isle of wight crashed head on into year old rachel titley car who died in hospital police say he would have been over legal drink drive limit at time of crash he was found guilty at portsmouth crown court of causing death by dangerous driving',\n",
       " 'nina dos santos says europe must be ready to accept sanctions will hurt both sides targeting russia business community would be one way of sapping their support for president putin she says but she says europe would have hard time keeping its factories going without power from the east',\n",
       " 'fleetwood top of league one after win at scunthorpe peterborough bristol city chesterfield and crawley all drop first points of the season stand in striker matt done scores hat trick as rochdale thrash crewe wins for notts county and yeovil coventry bradford and oldham port vale both end in draws late stephen bywater own goal denies gillingham three points against millwall',\n",
       " 'prime minister and his family are enjoying an easter break in lanzarote sported the same beige loafers as he wore in portugal last year pm sat and had drink at beach side cafe on the spanish island',\n",
       " 'nba star calls for black and hispanic communities to get tested former lakers player dedicated life to raising awareness about disease',\n",
       " 'london midland service had been pulling into telford station in shropshire passenger chris downes was recording on his mobile at the time announcer can clearly be heard saying telford central please be aware of pickpockets and gipsies london midland said it is now launching an investigation into the incident',\n",
       " 'tony pulis believes saido berahino should look up to darren fletcher pulis insists berahino has been listened to the wrong advice berahino said he wants to move on to bigger things earlier in the week read berahino available for after liverpool target angers club click here for all the latest west brom news',\n",
       " 'black box data from flight could be analyzed at laboratory in australia even if the flight data recorder is damaged information is retrievable about parameters are decoded like altitude engine performance and cabin pressure the data is used to create visual representation helping the public understand an accident']"
      ]
     },
     "execution_count": 152,
     "metadata": {},
     "output_type": "execute_result"
    }
   ],
   "source": [
    "cleaned_summary[:10]"
   ]
  },
  {
   "cell_type": "code",
   "execution_count": 153,
   "id": "91f184cc",
   "metadata": {},
   "outputs": [],
   "source": [
    "data['cleaned_text']=cleaned_text\n",
    "data['cleaned_summary']=cleaned_summary"
   ]
  },
  {
   "cell_type": "code",
   "execution_count": 154,
   "id": "19769e9d",
   "metadata": {},
   "outputs": [],
   "source": [
    "#drop empty rows\n",
    "data.replace('', np.nan, inplace=True)\n",
    "data.dropna(axis=0,inplace=True)"
   ]
  },
  {
   "cell_type": "code",
   "execution_count": 155,
   "id": "02cdf4e7",
   "metadata": {},
   "outputs": [
    {
     "name": "stdout",
     "output_type": "stream",
     "text": [
      "Mean of Article Length 377.1162319218764\n",
      "Mean of Summary Length 46.43193793470297\n"
     ]
    },
    {
     "data": {
      "image/png": "[encoded data removed]",
      "text/plain": [
       "<Figure size 432x288 with 2 Axes>"
      ]
     },
     "metadata": {
      "needs_background": "light"
     },
     "output_type": "display_data"
    }
   ],
   "source": [
    "import matplotlib.pyplot as plt\n",
    "\n",
    "text_word_count = []\n",
    "summary_word_count = []\n",
    "\n",
    "# populate the lists with sentence lengths\n",
    "for i in data['cleaned_text']:\n",
    "      text_word_count.append(len(i.split()))\n",
    "\n",
    "for i in data['cleaned_summary']:\n",
    "      summary_word_count.append(len(i.split()))\n",
    "\n",
    "length_df = pd.DataFrame({'text':text_word_count, 'summary':summary_word_count})\n",
    "print('Mean of Article Length',sum(text_word_count)/len(text_word_count))\n",
    "print('Mean of Summary Length',sum(summary_word_count)/len(summary_word_count))\n",
    "length_df.hist(bins = 30)\n",
    "plt.show()"
   ]
  },
  {
   "cell_type": "code",
   "execution_count": 156,
   "id": "8f534a15",
   "metadata": {},
   "outputs": [],
   "source": [
    "max_text_len=400\n",
    "max_summary_len=46"
   ]
  },
  {
   "cell_type": "code",
   "execution_count": 157,
   "id": "d3d33622",
   "metadata": {},
   "outputs": [],
   "source": [
    "cleaned_text =np.array(data['cleaned_text'])\n",
    "cleaned_summary=np.array(data['cleaned_summary'])\n",
    "\n",
    "short_text=[]\n",
    "short_summary=[]\n",
    "\n",
    "for i in range(len(cleaned_text)):\n",
    "    if(len(cleaned_summary[i].split())<=max_summary_len and len(cleaned_text[i].split())<=max_text_len):\n",
    "        short_text.append(cleaned_text[i])\n",
    "        short_summary.append(cleaned_summary[i])\n",
    "        \n",
    "df=pd.DataFrame({'text':short_text,'summary':short_summary})"
   ]
  },
  {
   "cell_type": "code",
   "execution_count": 158,
   "id": "a3b97aad",
   "metadata": {},
   "outputs": [],
   "source": [
    "#making sure tokens dont appear in the summaries\n",
    "for summary in df['summary']:\n",
    "    if 'sostok' in summary:\n",
    "        print(\"ERROR\")\n",
    "    if 'eostok' in summary:\n",
    "        print(\"ERROR\")"
   ]
  },
  {
   "cell_type": "code",
   "execution_count": 159,
   "id": "0e986c1e",
   "metadata": {},
   "outputs": [],
   "source": [
    "df['summary'] = df['summary'].apply(lambda x : 'sostok '+ x + ' eostok')"
   ]
  },
  {
   "cell_type": "code",
   "execution_count": 165,
   "id": "bba11efb",
   "metadata": {},
   "outputs": [],
   "source": [
    "from sklearn.model_selection import train_test_split\n",
    "x_tr,x_val,y_tr,y_val=train_test_split(np.array(df['text']),np.array(df['summary']),test_size=0.1,random_state=0,shuffle=True) "
   ]
  },
  {
   "cell_type": "code",
   "execution_count": 161,
   "id": "6091d5fa",
   "metadata": {},
   "outputs": [],
   "source": [
    "from tensorflow.keras.preprocessing.text import Tokenizer \n",
    "from tensorflow.keras.preprocessing.sequence import pad_sequences\n",
    "\n",
    "#prepare a tokenizer for reviews on training data\n",
    "x_tokenizer = Tokenizer() \n",
    "x_tokenizer.fit_on_texts(list(x_tr))"
   ]
  },
  {
   "cell_type": "code",
   "execution_count": 162,
   "id": "03c581c2",
   "metadata": {},
   "outputs": [
    {
     "name": "stdout",
     "output_type": "stream",
     "text": [
      "% of rare words in vocabulary: 54.19731921326939\n",
      "Total Coverage of rare words: 1.229916235052148\n"
     ]
    }
   ],
   "source": [
    "thresh=4\n",
    "\n",
    "cnt=0\n",
    "tot_cnt=0\n",
    "freq=0\n",
    "tot_freq=0\n",
    "\n",
    "for key,value in x_tokenizer.word_counts.items():\n",
    "    tot_cnt=tot_cnt+1\n",
    "    tot_freq=tot_freq+value\n",
    "    if(value<thresh):\n",
    "        cnt=cnt+1\n",
    "        freq=freq+value\n",
    "    \n",
    "print(\"% of rare words in vocabulary:\",(cnt/tot_cnt)*100)\n",
    "print(\"Total Coverage of rare words:\",(freq/tot_freq)*100)"
   ]
  },
  {
   "cell_type": "code",
   "execution_count": 166,
   "id": "166ce74b",
   "metadata": {
    "scrolled": true
   },
   "outputs": [
    {
     "name": "stdout",
     "output_type": "stream",
     "text": [
      "['woman fighting get facebook page sister killer taken discovering uploaded new profile picture jail doris reeves logged facebook last month see pictures grandchildren shocked find joseph kennedy posted new photograph prison uniform kennedy serving life sentence plus years kidnap murder younger sister karen yarbrough stabbing times mrs reeves said makes angry something needs done would mean everything get investigation convicted murderer joseph kennedy provoked outrage posting profile picture facebook page showing prison uniform serving life sentence furious doris reeves logged facebook last month see pictures grandchildren shocked find joseph kennedy posted new photograph prison uniform trying get page removed last four weeks officials arizona department corrections say cannot take action without user password investigation launched establish kennedy able access facebook side unit pine bluff arkansas inmates banned using mobile phones shea wilson told kark still investigating happened case obvious inmate able get electronic device get facebook facebook said adc yet requested kennedy page taken victim kennedy serving life sentence plus years kidnap murder mrs reeves younger sister karen yarbrough stabbing times spokesman said receive report department corrections inmate using facebook violation local laws regulations prison facility page would deactivated officers adc confiscate around mobile phones prisoners year found guilty mobile behind bars kennedy could lose good time one year phone use high times michael simoneau meunier published photos apparently smoking marijuana drinking alcohol behind bars comes days canadian prisoner photographed apparently smoking marijuana drinking alcohol prison qmi agency reported michael simoneau meunier spending time inside bordeaux prison montreal snapped photos uploaded facebook simoneau meunier captioned photos xo blunt living da jail life prison personnel recovered cell phones bordeaux look simoneau meunier also published number shirtless selfies facebook page'\n",
      " 'mario ledwith published est february updated est february hearing commons public accounts committee chaired margaret hodge hold one day hearing severance pension payments made sfo one day hearing commons public accounts committee set launch investigation severance deals worth million paid serious fraud office watchdog hold one day hearing payments next month national audit office previously refused approve sfo accounts irregular pension severance payment made philippa williamson sfo former chief executive officer last year cabinet office approved payments made sfo independent body investigates corruption margaret hodge chair public accounts committee also asked nao carries broader investigation payments according times two sfo members staff also understood received large payments current sfo director david green former director richard alderman expected called give evidence hearing shadow attorney general emily thornberry told times payout deals damaged sfo already limited finances reputation well clear still got bottom going miss thornberry also accused attorney general dominic grieve sitting least two reports alleged impropriety sfo adding dragged information able tight lipped attorney general also said current sfo chief david green asked independent investigation findings released damage shadow attorney general emily thornberry said payments including pension severance payment paid former chief executive officer philippa williamson damaged sfo reputation mr green sought legal advice entering office deals concluded payments binding money could recovered another payment paid sfo former chief operating officer christian bailes agreed mr alderman spokesman sfo said payments agreed david green became director prior knowledge'\n",
      " 'daily mail reporter duchess cambridge famous thrifty approach fashion love bargain zara seems sister pippa exalted tastes author party planner spotted enjoying retail therapy carolina herrera boutique knightsbridge cheapest item pair sunglasses dresses cost bags start despite expensive purchases ms middleton chose low key look shopping trip teamed simple pair skinny jeans flat blue ballet pumps retail therapy pippa spotted enjoying spot retail therapy carolina herrera boutique expensive prices carolina herrera start pair sunglasses dresses cost cosy cream jumper navy cotton jacket dove grey polka dot scarf kept warm elegant grey suede tote completed look also debuted new shoulder length hair cut sported pair sunglasses despite cloudy weather toured shops joined trip mystery male friend appeared happy follow around shops although boyfriend nico jackson nowhere seen march busy month pippa started romantic trip austrian ski resort lech new look pippa sported new mid length hair cut joined mystery male friend outing busy pippa started month romantic trip lech austria boyfriend nico jackson accompanied year old stockbroker jackson spent week exclusive resort glamorous even lifts sponsored dior chanel since career columnist vanity fair telegraph occupied time ms middleton finding time create fresh recipes recent effort rocket mascarpone penne apparently middleton family favourite according pippa thing post exercise shopping spot outing knightsbridge pippa popped carolina herrera boutique'\n",
      " ...\n",
      " 'sen john mccain took anti government protest scene kiev independence square known maidan saturday snapping pictures cell phone met opposition leaders called incredible display patriotism tweet includes aerial photo square mccain also said younger brother heavyweight boxing champion vitali klitschko one opposition leaders republican senator critical ukrainian authorities use force protesters ukraine government thinks brute force politics fear see current crisis woefully mistaken mccain said statement last week ukrainian prosecutors investigating top government officials regarding beating students anti government protests two weeks ago subjects criminal investigation include ukrainian deputy secretary national security vladimir sivkovich kiev police chief valery koryak kiev mayor oleksandr popov fourth person also investigation case put judge monday could order investigated house arrest said valery vilkova spokeswoman general prosecutor tumult ukraine goes heart future ties russia rest europe protests unfolded ukraine since november president viktor yanukovych changed stance trade pact european union years making refused sign agreement would strengthened cooperation european union instead opted closer ties neighboring russia ukraine protests things need know hundreds thousands ukrainians taken streets kiev demand eu deal signed demonstrations biggest country seen since orange revolution overturned results country presidential election protesters created camps barricades throughout city center set makeshift soup kitchens said cnn ireporter harvey carrol epicenter protest city central maidan square protesters created giant revolutionary christmas tree decorated flags giant poster jailed former prime minister yulia tymoshenko saturday pro government rally held nearby european square according state news agency ukrinform kiev police estimated people participated rally ukrainian prime minister mykola azarov spoke gathering ukraine president offers amnesty protesters'\n",
      " 'ruth styles chic crimson hat elegant cream tulle dress british supermodel jodie kidd smoulders strikes pose set stunning photos released mark saturday derby year old model official face investec derby festival appears series beautifully designed hats milliner phillip treacy hats inspired parts epsom downs racecourse derby takes place among hill duchess stand queen stand looking good year old mother one smouldered set photos released mark year derby speaking photos kidd said really proud take role official face investec derby modelling three different looks shoot shows despite prestigious racing reputation fashion huge part day like royal ascot organisers investec derby festival operate strict dress code particularly queen stand derby day monarch scheduled appear female racegoers asked wear formal day dress tailored trouser suit hat substantial fascinator men expected come morning dress glamorous like royal ascot investec derby festival operates strict dress code winning ways last year victor aptly named ruler world gallops home triumph derby derby prestigious five british classics one queen yet despite first place far eluded monarch manage second place finish aureole came third carlton house first run derby also boasts largest prize money british race result attracts world top equine talent hotly tipped runners year event include favourite chestnut three year old named australia stablemates orchestra geoffrey chaucer fan horses since years old find racing almost hypnotic added kidd look forward sporting one philip treacy creations watching beautiful animals compete greatest flat race investec derby part qipco british champions series broadcast live saturday th june channel racing see britishchampionsseries com beautiful princess diana wore peach marabou trimmed john boyd number royal ascot hat belonged princess diana go display london part exhibition celebrating summer racing season peach john boyd straw hat worn visit royal ascot weeks birth prince william joining princess diana hat exhibition held mayfair restaurant pieces robyn coles created titfers princesses beatrice eugenie lara jensen milliner whose creations worn lady gaga among others hats racing season runs june th curated millinery specialist gemma williams speaking exhibition said exhibition include hats designed famous british milliners past years extremely excited partner mayfair showcase world greatest striking hat designs quirky leopard print titfer milliner noel stewart part mayfair exhibition unusual wire hat yasemen hussein form part hats racing season exhibition'\n",
      " 'new york last thing year old mohamed kamara sierra leone expected honored new york yankees tossing first pitch yankees detroit tigers game last week kamara survived one africa brutal civil wars nearly losing life homeland yankees celebrated kamara survival community spirit lived since coming sierra leone team annual project hope program hope recognizes people overcome personal challenges inspire others changing community live today going day going hang us hope week going make day make every day everybody else said brian chashman general manager yankees kamara honored hanging understatement even yankee standards kamara got shock life walked room new york stock exchange greeted yankee brass players including star lefthander sabathia along hall famer reggie jackson toured trading floor awarded internship next year stock exchange know surprise itinerary would next include chat mayor michael bloomberg visit united nations meet ambassador sierre leone stand rostrum general assembly plus trip yankee stadium throw first pitch yankee tigers contest wednesday night kamara earned special honors forced become sole provider family age mother suddenly ill absentee father kamara took care four younger siblings shaky ceasefire began sierre leone mohamed came years ago live aunt uncle bronx pursue hope could create better life family attended high school starting without english skills ended graduating top quarter class high school mentor helped get job golf caddy commutes train almost five hours day new jersey job seventy percent earns sent back family get every day four clock morning go work hard know determined family take care main focus kamara said went earn partial scholarship johnson wales university rhode island plans major business kamara recognizes problems created wall street deterred rather believes role play recovery know takes someone fix hopefully one day person kamara said derek jeter captain yankees met kamara described remarkable young man come country goes school works support family headed college could proud tour kamara said hoped one day return sierre leone help improve things inspired younger generations moving like trying rebrandish country sierra leone said ambassador shekou touray kamara friends also inspired selflessness actions inspired compare president greatly respect one time standing class president people came mobama mobama used call said owusu mensah kamara closest friend']\n"
     ]
    },
    {
     "name": "stdout",
     "output_type": "stream",
     "text": [
      "[[  127   917    28 ...     0     0     0]\n",
      " [ 2682 19702    59 ...     0     0     0]\n",
      " [  277   287   530 ...     0     0     0]\n",
      " ...\n",
      " [ 2594   279  4985 ...     0     0     0]\n",
      " [ 5368  4139  6893 ...     0     0     0]\n",
      " [    4   144     9 ...     0     0     0]]\n"
     ]
    }
   ],
   "source": [
    "#prepare a tokenizer for articles on training data\n",
    "x_tokenizer = Tokenizer(num_words=tot_cnt-cnt) \n",
    "x_tokenizer.fit_on_texts(list(x_tr))\n",
    "\n",
    "#convert text sequences into integer sequences\n",
    "x_tr_seq    =   x_tokenizer.texts_to_sequences(x_tr) \n",
    "x_val_seq   =   x_tokenizer.texts_to_sequences(x_val)\n",
    "\n",
    "#padding zero upto maximum length\n",
    "x_tr    =   pad_sequences(x_tr_seq,  maxlen=max_text_len, padding='post')\n",
    "x_val   =   pad_sequences(x_val_seq, maxlen=max_text_len, padding='post')\n",
    "\n",
    "#size of vocabulary ( +1 for padding token)\n",
    "x_voc   =  x_tokenizer.num_words + 1"
   ]
  },
  {
   "cell_type": "code",
   "execution_count": 118,
   "id": "5a071647",
   "metadata": {},
   "outputs": [
    {
     "data": {
      "text/plain": [
       "63320"
      ]
     },
     "execution_count": 118,
     "metadata": {},
     "output_type": "execute_result"
    }
   ],
   "source": [
    "x_voc"
   ]
  },
  {
   "cell_type": "code",
   "execution_count": 119,
   "id": "321b0e49",
   "metadata": {},
   "outputs": [],
   "source": [
    "#prepare a tokenizer for headlines on training data\n",
    "y_tokenizer = Tokenizer()   \n",
    "y_tokenizer.fit_on_texts(list(y_tr))"
   ]
  },
  {
   "cell_type": "code",
   "execution_count": 120,
   "id": "b7f6b481",
   "metadata": {},
   "outputs": [
    {
     "name": "stdout",
     "output_type": "stream",
     "text": [
      "% of rare words in vocabulary: 72.0870365846784\n",
      "Total Coverage of rare words: 5.206515612924975\n"
     ]
    }
   ],
   "source": [
    "thresh=6\n",
    "\n",
    "cnt=0\n",
    "tot_cnt=0\n",
    "freq=0\n",
    "tot_freq=0\n",
    "\n",
    "for key,value in y_tokenizer.word_counts.items():\n",
    "    tot_cnt=tot_cnt+1\n",
    "    tot_freq=tot_freq+value\n",
    "    if(value<thresh):\n",
    "        cnt=cnt+1\n",
    "        freq=freq+value\n",
    "    \n",
    "print(\"% of rare words in vocabulary:\",(cnt/tot_cnt)*100)\n",
    "print(\"Total Coverage of rare words:\",(freq/tot_freq)*100)"
   ]
  },
  {
   "cell_type": "code",
   "execution_count": 121,
   "id": "bda21891",
   "metadata": {},
   "outputs": [],
   "source": [
    "#prepare a tokenizer for reviews on training data\n",
    "y_tokenizer = Tokenizer(num_words=tot_cnt-cnt) \n",
    "y_tokenizer.fit_on_texts(list(y_tr))\n",
    "\n",
    "#convert text sequences into integer sequences\n",
    "y_tr_seq    =   y_tokenizer.texts_to_sequences(y_tr) \n",
    "y_val_seq   =   y_tokenizer.texts_to_sequences(y_val) \n",
    "\n",
    "#padding zero upto maximum length\n",
    "y_tr    =   pad_sequences(y_tr_seq, maxlen=max_summary_len, padding='post')\n",
    "y_val   =   pad_sequences(y_val_seq, maxlen=max_summary_len, padding='post')\n",
    "\n",
    "#size of vocabulary\n",
    "y_voc  =   y_tokenizer.num_words +1"
   ]
  },
  {
   "cell_type": "code",
   "execution_count": 122,
   "id": "76d34fbc",
   "metadata": {},
   "outputs": [
    {
     "data": {
      "text/plain": [
       "14856"
      ]
     },
     "execution_count": 122,
     "metadata": {},
     "output_type": "execute_result"
    }
   ],
   "source": [
    "y_voc"
   ]
  },
  {
   "cell_type": "code",
   "execution_count": 123,
   "id": "4126490c",
   "metadata": {},
   "outputs": [
    {
     "data": {
      "text/plain": [
       "(36721, 36721)"
      ]
     },
     "execution_count": 123,
     "metadata": {},
     "output_type": "execute_result"
    }
   ],
   "source": [
    "y_tokenizer.word_counts['sostok'], len(y_tr)"
   ]
  },
  {
   "cell_type": "code",
   "execution_count": 124,
   "id": "3a01eb1c",
   "metadata": {},
   "outputs": [],
   "source": [
    "#delete rows that only have start and end tokens\n",
    "ind=[]\n",
    "for i in range(len(y_tr)):\n",
    "    cnt=0\n",
    "    for j in y_tr[i]:\n",
    "        if j!=0:\n",
    "            cnt=cnt+1\n",
    "    if(cnt==2):\n",
    "        ind.append(i)\n",
    "\n",
    "y_tr=np.delete(y_tr, ind, axis=0)\n",
    "x_tr=np.delete(x_tr, ind, axis=0)"
   ]
  },
  {
   "cell_type": "code",
   "execution_count": 125,
   "id": "6922fb1f",
   "metadata": {},
   "outputs": [],
   "source": [
    "ind=[]\n",
    "for i in range(len(y_val)):\n",
    "    cnt=0\n",
    "    for j in y_val[i]:\n",
    "        if j!=0:\n",
    "            cnt=cnt+1\n",
    "    if(cnt==2):\n",
    "        ind.append(i)\n",
    "\n",
    "y_val=np.delete(y_val,ind, axis=0)\n",
    "x_val=np.delete(x_val,ind, axis=0)"
   ]
  },
  {
   "cell_type": "code",
   "execution_count": 126,
   "id": "0591d3f3",
   "metadata": {},
   "outputs": [
    {
     "name": "stdout",
     "output_type": "stream",
     "text": [
      "2.5.0\n",
      "[PhysicalDevice(name='/physical_device:CPU:0', device_type='CPU'), PhysicalDevice(name='/physical_device:GPU:0', device_type='GPU')]\n",
      "Num GPUs Available:  1\n"
     ]
    }
   ],
   "source": [
    "# from tensorflow.keras.layers import Input, LSTM, Embedding, Dense, Concatenate, TimeDistributed, Attention\n",
    "# from tensorflow.keras.models import Model\n",
    "# from tensorflow.keras.callbacks import EarlyStopping\n",
    "import tensorflow as tf\n",
    "from tensorflow.keras import backend as K \n",
    "from tensorflow.keras.layers import Dropout, GRU, Input, LSTM, Embedding, Dense, Concatenate, TimeDistributed, Bidirectional, Attention\n",
    "from tensorflow.keras.models import Model\n",
    "from tensorflow.keras.callbacks import EarlyStopping\n",
    "\n",
    "print(tf.__version__)\n",
    "print(tf.config.list_physical_devices())\n",
    "print(\"Num GPUs Available: \", len(tf.config.list_physical_devices('GPU')))"
   ]
  },
  {
   "cell_type": "code",
   "execution_count": 127,
   "id": "d1ef397b",
   "metadata": {},
   "outputs": [
    {
     "name": "stdout",
     "output_type": "stream",
     "text": [
      "Model: \"model\"\n",
      "__________________________________________________________________________________________________\n",
      "Layer (type)                    Output Shape         Param #     Connected to                     \n",
      "==================================================================================================\n",
      "input_1 (InputLayer)            [(None, None)]       0                                            \n",
      "__________________________________________________________________________________________________\n",
      "enc_embedding (Embedding)       (None, None, 100)    6332000     input_1[0][0]                    \n",
      "__________________________________________________________________________________________________\n",
      "encoder_lstm0 (Bidirectional)   (None, None, 600)    962400      enc_embedding[0][0]              \n",
      "__________________________________________________________________________________________________\n",
      "input_2 (InputLayer)            [(None, None)]       0                                            \n",
      "__________________________________________________________________________________________________\n",
      "encoder_lstm1 (Bidirectional)   [(None, 600), (None, 2162400     encoder_lstm0[0][0]              \n",
      "__________________________________________________________________________________________________\n",
      "dec_embedding (Embedding)       (None, None, 100)    1485600     input_2[0][0]                    \n",
      "__________________________________________________________________________________________________\n",
      "concatenate (Concatenate)       (None, 600)          0           encoder_lstm1[0][1]              \n",
      "                                                                 encoder_lstm1[0][3]              \n",
      "__________________________________________________________________________________________________\n",
      "concatenate_1 (Concatenate)     (None, 600)          0           encoder_lstm1[0][2]              \n",
      "                                                                 encoder_lstm1[0][4]              \n",
      "__________________________________________________________________________________________________\n",
      "lstm_2 (LSTM)                   [(None, None, 600),  1682400     dec_embedding[0][0]              \n",
      "                                                                 concatenate[0][0]                \n",
      "                                                                 concatenate_1[0][0]              \n",
      "__________________________________________________________________________________________________\n",
      "attention_layer (Attention)     (None, None, 600)    0           lstm_2[0][0]                     \n",
      "                                                                 encoder_lstm1[0][0]              \n",
      "__________________________________________________________________________________________________\n",
      "concat_layer (Concatenate)      (None, None, 1200)   0           lstm_2[0][0]                     \n",
      "                                                                 attention_layer[0][0]            \n",
      "__________________________________________________________________________________________________\n",
      "time_distributed (TimeDistribut (None, None, 14856)  17842056    concat_layer[0][0]               \n",
      "==================================================================================================\n",
      "Total params: 30,466,856\n",
      "Trainable params: 30,466,856\n",
      "Non-trainable params: 0\n",
      "__________________________________________________________________________________________________\n"
     ]
    }
   ],
   "source": [
    "# Bidirectional LSTM\n",
    "K.clear_session()\n",
    "\n",
    "latent_dim = 300\n",
    "embedding_dim = 100\n",
    "\n",
    "# Encoder\n",
    "encoder_inputs = Input(shape=(None,))\n",
    "\n",
    "# embedding layer\n",
    "enc_emb =  Embedding(x_voc, embedding_dim, trainable=True, name = \"enc_embedding\")(encoder_inputs)\n",
    "\n",
    "\n",
    "encoder_lstm0 = Bidirectional(\n",
    "    LSTM(latent_dim, return_sequences=True),\n",
    "    name = 'encoder_lstm0')\n",
    "encoder_outputs0 = encoder_lstm0(enc_emb)\n",
    "\n",
    "encoder_lstm1 = Bidirectional(\n",
    "    LSTM(latent_dim, return_state=True),\n",
    "    name = 'encoder_lstm1')\n",
    "encoder_outputs, enc_forward_h, enc_forward_c, enc_backward_h, enc_backward_c  = encoder_lstm1(encoder_outputs0)\n",
    "\n",
    "\n",
    "state_h = Concatenate()([enc_forward_h, enc_backward_h])\n",
    "state_c = Concatenate()([enc_forward_c, enc_backward_c])\n",
    "encoder_states = [state_h, state_c]\n",
    "# Set up the decoder, using `encoder_states` as initial state.\n",
    "decoder_inputs = Input(shape=(None,))\n",
    "\n",
    "#embedding layer\n",
    "dec_emb_layer = Embedding(y_voc, embedding_dim,trainable=True, name = 'dec_embedding')\n",
    "dec_emb = dec_emb_layer(decoder_inputs)\n",
    "\n",
    "decoder_lstm = LSTM(latent_dim*2, return_sequences=True,return_state=True,dropout=0.2,recurrent_dropout=0)\n",
    "decoder_outputs1, decoder_fwd_state, decoder_back_state = decoder_lstm(dec_emb,initial_state=encoder_states)\n",
    "\n",
    "# Attention layer\n",
    "attn_layer = Attention(name='attention_layer')\n",
    "attn_out = attn_layer([decoder_outputs1, encoder_outputs])\n",
    "\n",
    "# Concat attention input and decoder LSTM output\n",
    "decoder_concat_input = Concatenate(axis=-1, name='concat_layer')([decoder_outputs1, attn_out])\n",
    "\n",
    "#dense layer\n",
    "decoder_dense = TimeDistributed(Dense(y_voc, activation='softmax'))\n",
    "decoder_outputs = decoder_dense(decoder_concat_input)\n",
    "\n",
    "model = Model([encoder_inputs, decoder_inputs], decoder_outputs)\n",
    "\n",
    "model.summary() \n",
    "\n",
    "model.compile(optimizer='rmsprop', loss='sparse_categorical_crossentropy')\n",
    "es = EarlyStopping(monitor='val_loss', mode='min', verbose=1,patience=2)"
   ]
  },
  {
   "cell_type": "code",
   "execution_count": 128,
   "id": "9938cf12",
   "metadata": {},
   "outputs": [
    {
     "name": "stdout",
     "output_type": "stream",
     "text": [
      "Epoch 1/20\n",
      "287/287 [==============================] - 228s 778ms/step - loss: 5.4557 - val_loss: 5.0575\n",
      "Epoch 2/20\n",
      "287/287 [==============================] - 224s 780ms/step - loss: 4.9712 - val_loss: 4.7730\n",
      "Epoch 3/20\n",
      "287/287 [==============================] - 222s 775ms/step - loss: 4.7196 - val_loss: 4.5933\n",
      "Epoch 4/20\n",
      "287/287 [==============================] - 223s 776ms/step - loss: 4.5524 - val_loss: 4.4906\n",
      "Epoch 5/20\n",
      "287/287 [==============================] - 222s 773ms/step - loss: 4.4149 - val_loss: 4.4191\n",
      "Epoch 6/20\n",
      "287/287 [==============================] - 223s 776ms/step - loss: 4.2952 - val_loss: 4.3670\n",
      "Epoch 7/20\n",
      "287/287 [==============================] - 223s 776ms/step - loss: 4.1820 - val_loss: 4.3235\n",
      "Epoch 8/20\n",
      "287/287 [==============================] - 223s 776ms/step - loss: 4.0841 - val_loss: 4.2994\n",
      "Epoch 9/20\n",
      "287/287 [==============================] - 225s 785ms/step - loss: 3.9934 - val_loss: 4.2911\n",
      "Epoch 10/20\n",
      "287/287 [==============================] - 226s 786ms/step - loss: 3.9097 - val_loss: 4.2754\n",
      "Epoch 11/20\n",
      "287/287 [==============================] - 223s 778ms/step - loss: 3.8307 - val_loss: 4.2711\n",
      "Epoch 12/20\n",
      "287/287 [==============================] - 222s 775ms/step - loss: 3.7555 - val_loss: 4.2748\n",
      "Epoch 13/20\n",
      "287/287 [==============================] - 222s 774ms/step - loss: 3.6846 - val_loss: 4.2748\n",
      "Epoch 00013: early stopping\n"
     ]
    }
   ],
   "source": [
    "history=model.fit([x_tr, y_tr[:,:-1]],\n",
    "                   y_tr.reshape(y_tr.shape[0], y_tr.shape[1], 1)[:,1:],\n",
    "                   epochs=20,\n",
    "                   callbacks=[es],\n",
    "                   batch_size=128,\n",
    "                   validation_data=([x_val,\n",
    "                                     y_val[:,:-1]],\n",
    "                                     y_val.reshape(y_val.shape[0], y_val.shape[1], 1)[:,1:]\n",
    "                                     )\n",
    "                   )"
   ]
  },
  {
   "cell_type": "code",
   "execution_count": 129,
   "id": "46a786fc",
   "metadata": {},
   "outputs": [
    {
     "data": {
      "image/png": "[encoded data removed]",
      "text/plain": [
       "<Figure size 432x288 with 1 Axes>"
      ]
     },
     "metadata": {
      "needs_background": "light"
     },
     "output_type": "display_data"
    }
   ],
   "source": [
    "from matplotlib import pyplot\n",
    "pyplot.plot(history.history['loss'], label='train')\n",
    "pyplot.plot(history.history['val_loss'], label='test')\n",
    "pyplot.legend()\n",
    "pyplot.show()"
   ]
  },
  {
   "cell_type": "code",
   "execution_count": 130,
   "id": "3f3ebffb",
   "metadata": {},
   "outputs": [],
   "source": [
    "reverse_target_word_index=y_tokenizer.index_word\n",
    "reverse_source_word_index=x_tokenizer.index_word\n",
    "target_word_index=y_tokenizer.word_index"
   ]
  },
  {
   "cell_type": "code",
   "execution_count": 131,
   "id": "baecbdf6",
   "metadata": {},
   "outputs": [],
   "source": [
    "#bidirectional\n",
    "# Encode the input sequence to get the feature vector\n",
    "encoder_model = Model(inputs=encoder_inputs, outputs=[encoder_outputs, state_h, state_c])\n",
    "\n",
    "# Decoder setup\n",
    "# Below tensors will hold the states of the previous time step\n",
    "decoder_state_input_h = Input(shape=(latent_dim*2,))\n",
    "decoder_state_input_c = Input(shape=(latent_dim*2,))\n",
    "decoder_hidden_state_input = Input(shape=(latent_dim*2))\n",
    "\n",
    "# Get the embeddings of the decoder sequence\n",
    "dec_emb2 = dec_emb_layer(decoder_inputs) \n",
    "# To predict the next word in the sequence, set the initial states to the states from the previous time step\n",
    "decoder_outputs2, state_h2, state_c2 = decoder_lstm(dec_emb2, initial_state=[decoder_state_input_h, decoder_state_input_c])\n",
    "\n",
    "#attention inference\n",
    "attn_out_inf = attn_layer([decoder_outputs2, decoder_hidden_state_input])\n",
    "\n",
    "decoder_inf_concat = Concatenate(axis=-1, name='concat')([decoder_outputs2, attn_out_inf])\n",
    "\n",
    "# A dense softmax layer to generate prob dist. over the target vocabulary\n",
    "decoder_outputs2 = decoder_dense(decoder_inf_concat)\n",
    "\n",
    "# Final decoder model\n",
    "decoder_model = Model(\n",
    "    [decoder_inputs] + [decoder_hidden_state_input, decoder_state_input_h, decoder_state_input_c],\n",
    "    [decoder_outputs2] + [state_h2, state_c2])"
   ]
  },
  {
   "cell_type": "code",
   "execution_count": 135,
   "id": "c7da3c16",
   "metadata": {},
   "outputs": [],
   "source": [
    "def softmax(x):\n",
    "    \"\"\"Compute softmax values for each sets of scores in x.\"\"\"\n",
    "    e_x = np.exp(x - np.max(x))\n",
    "    return e_x / e_x.sum(axis=0) \n",
    "\n",
    "def top_k_sampling(predictions, k):\n",
    "    top_k_probabilities, top_k_indices= tf.math.top_k(predictions, k=k, sorted=True)\n",
    "    top_k_indices = np.asarray(top_k_indices).astype(\"int32\")\n",
    "    top_k_redistributed_probability=softmax(np.log(top_k_probabilities))\n",
    "    top_k_redistributed_probability = np.asarray(top_k_redistributed_probability).astype(\"float32\")\n",
    "    sampled_token = np.random.choice(top_k_indices, p=top_k_redistributed_probability)\n",
    "#     print(reverse_target_word_index[sampled_token])\n",
    "#     top_k_tokens=[dictionary[i] for i in top_k_indices]\n",
    "#     plt.bar(top_k_tokens,top_k_redistributed_probability)\n",
    "#     plt.show()\n",
    "    return sampled_token"
   ]
  },
  {
   "cell_type": "code",
   "execution_count": 136,
   "id": "96a380cd",
   "metadata": {},
   "outputs": [],
   "source": [
    "def decode_sequence(input_seq):\n",
    "    # Encode the input as state vectors.\n",
    "    e_out, e_h, e_c = encoder_model.predict(input_seq)\n",
    "    \n",
    "    # Generate empty target sequence of length 1.\n",
    "    target_seq = np.zeros((1,1))\n",
    "    \n",
    "    # Populate the first word of target sequence with the start word.\n",
    "    target_seq[0, 0] = target_word_index['sostok']\n",
    "\n",
    "    stop_condition = False\n",
    "    decoded_sentence = ''\n",
    "    while not stop_condition:\n",
    "      \n",
    "        output_tokens, h, c = decoder_model.predict([target_seq] + [e_out, e_h, e_c])\n",
    "\n",
    "        # Sample a token\n",
    "        #sampled_token_index = np.argmax(output_tokens[0, -1, :])\n",
    "        sampled_token_index = top_k_sampling(output_tokens[0, -1, :],5)\n",
    "        #sampled_token_index = np.random.choice(len(output_tokens[0, -1, :]), p=output_tokens[0, -1, :])\n",
    "  \n",
    "        sampled_token = reverse_target_word_index[sampled_token_index]\n",
    "        \n",
    "        if(sampled_token!='eostok'):\n",
    "            decoded_sentence += ' '+sampled_token\n",
    "\n",
    "        # Exit condition: either hit max length or find stop word.\n",
    "        if (sampled_token == 'eostok'  or len(decoded_sentence.split()) >= (max_summary_len-1)):\n",
    "            stop_condition = True\n",
    "\n",
    "        # Update the target sequence (of length 1).\n",
    "        target_seq = np.zeros((1,1))\n",
    "        target_seq[0, 0] = sampled_token_index\n",
    "\n",
    "        # Update internal states\n",
    "        e_h, e_c = h, c\n",
    "\n",
    "    return decoded_sentence\n",
    "\n",
    "def seq2summary(input_seq):\n",
    "    newString=''\n",
    "    for i in input_seq:\n",
    "        if((i!=0 and i!=target_word_index['sostok']) and i!=target_word_index['eostok']):\n",
    "            newString=newString+reverse_target_word_index[i]+' '\n",
    "    return newString\n",
    "\n",
    "def seq2text(input_seq):\n",
    "    newString=''\n",
    "    for i in input_seq:\n",
    "        if(i!=0):\n",
    "            newString=newString+reverse_source_word_index[i]+' '\n",
    "    return newString"
   ]
  },
  {
   "cell_type": "code",
   "execution_count": 137,
   "id": "e53a6f56",
   "metadata": {},
   "outputs": [
    {
     "name": "stdout",
     "output_type": "stream",
     "text": [
      "Article: woman fighting get facebook page sister killer taken discovering uploaded new profile picture jail doris reeves logged facebook last month see pictures grandchildren shocked find joseph kennedy posted new photograph prison uniform kennedy serving life sentence plus years kidnap murder younger sister karen stabbing times mrs reeves said makes angry something needs done would mean everything get investigation convicted murderer joseph kennedy provoked outrage posting profile picture facebook page showing prison uniform serving life sentence furious doris reeves logged facebook last month see pictures grandchildren shocked find joseph kennedy posted new photograph prison uniform trying get page removed last four weeks officials arizona department corrections say cannot take action without user password investigation launched establish kennedy able access facebook side unit pine bluff arkansas inmates banned using mobile phones shea wilson told still investigating happened case obvious inmate able get electronic device get facebook facebook said yet requested kennedy page taken victim kennedy serving life sentence plus years kidnap murder mrs reeves younger sister karen stabbing times spokesman said receive report department corrections inmate using facebook violation local laws regulations prison facility page would deactivated officers confiscate around mobile phones prisoners year found guilty mobile behind bars kennedy could lose good time one year phone use high times michael published photos apparently smoking marijuana drinking alcohol behind bars comes days canadian prisoner photographed apparently smoking marijuana drinking alcohol prison agency reported michael spending time inside bordeaux prison montreal snapped photos uploaded facebook captioned photos blunt living da jail life prison personnel recovered cell phones bordeaux look also published number shirtless selfies facebook page \n",
      "Original summary: reeves shocked to find image of joseph kennedy in prison uniform kennedy serving life plus years for murdering her sister karen mrs reeves so angry it would mean everything just to get it down \n",
      "Predicted summary:  the video of two men had been charged for months the year old has had been in jail since the theft the actress says it was her as the most of the images in\n",
      "\n",
      "\n",
      "Article: mario ledwith published est february updated est february hearing commons public accounts committee chaired margaret hodge hold one day hearing severance pension payments made one day hearing commons public accounts committee set launch investigation severance deals worth million paid serious fraud office watchdog hold one day hearing payments next month national audit office previously refused approve accounts irregular pension severance payment made philippa williamson former chief executive officer last year cabinet office approved payments made independent body investigates corruption margaret hodge chair public accounts committee also asked nao carries broader investigation payments according times two members staff also understood received large payments current director david green former director richard alderman expected called give evidence hearing shadow attorney general emily thornberry told times payout deals damaged already limited finances reputation well clear still got bottom going miss thornberry also accused attorney general dominic grieve sitting least two reports alleged impropriety adding dragged information able tight lipped attorney general also said current chief david green asked independent investigation findings released damage shadow attorney general emily thornberry said payments including pension severance payment paid former chief executive officer philippa williamson damaged reputation mr green sought legal advice entering office deals concluded payments binding money could recovered another payment paid former chief operating officer christian agreed mr alderman spokesman said payments agreed david green became director prior knowledge \n",
      "Original summary: national audit office refused to approve accounts after the payments watchdog will hold one day hearing into the payments next month shadow attorney general said the deals had damaged the reputation \n",
      "Predicted summary:  judge said he has not had the least one in ten years ago the judge has said he will not have the same sex marriage in the past three years\n",
      "\n",
      "\n",
      "Article: daily mail reporter duchess cambridge famous thrifty approach fashion love bargain zara seems sister pippa tastes author party planner spotted enjoying retail therapy carolina herrera boutique knightsbridge cheapest item pair sunglasses dresses cost bags start despite expensive purchases ms middleton chose low key look shopping trip teamed simple pair skinny jeans flat blue ballet pumps retail therapy pippa spotted enjoying spot retail therapy carolina herrera boutique expensive prices carolina herrera start pair sunglasses dresses cost cosy cream jumper navy cotton jacket dove grey polka dot scarf kept warm elegant grey suede tote completed look also debuted new shoulder length hair cut sported pair sunglasses despite cloudy weather toured shops joined trip mystery male friend appeared happy follow around shops although boyfriend nico jackson nowhere seen march busy month pippa started romantic trip austrian ski resort lech new look pippa sported new mid length hair cut joined mystery male friend outing busy pippa started month romantic trip lech austria boyfriend nico jackson accompanied year old stockbroker jackson spent week exclusive resort glamorous even lifts sponsored dior chanel since career columnist vanity fair telegraph occupied time ms middleton finding time create fresh recipes recent effort rocket apparently middleton family favourite according pippa thing post exercise shopping spot outing knightsbridge pippa popped carolina herrera boutique \n",
      "Original summary: pippa was spotted leaving the carolina herrera boutique with bag in hand the cheapest item on sale at the store are sunglasses for pair pippa who was shopping with friend was chic in jeans and pumps \n",
      "Predicted summary:  the duchess of cambridge has sold the creating price of the royal dresses\n",
      "\n",
      "\n",
      "Article: clasping stranger hand basement derelict old mansion lights go room plunged darkness alton towers ultimate sleepover brand new experience year halloween extravaganza promises punters every night well usual horror maze zombie filled scare zones strewn across park brave souls sign full overnight experience towers terror alton towers haunted frankly unpleasant characters halloween find standing around bonfire abandoned theme park pm cold autumn night evening starts well enough two course buffet meal around bonfire park gardens come join us cast ghastly ghouls ghostly figures assembled expert team led ghost hunter extraordinaire nigel daughter sadie tell tales spooks haunt premises ghostly goings grounds escorted house first part night takes place crypts mansion team try summon spirits stand darkness holding hands instructed break circle sound hear heart racing creature comfortable guests staying look forward suitably scary lodging move basement story haunting house unfolds strange things start happen sadie cries quietly corner cup table starts move nigel admits things got bit control rest either led dormitory camp beds night terror ensues haunted harassed dragged beds hosts possessed spirits trying raise park takes different atmosphere dark crowds gone home morning somewhat weary woken breakfast sent enjoy day park certification add another faint hearted alton towers runs november ultimate sleepover starts per person per person booking group six people includes breakfast two day theme park entry one day scare maze ticket two course buffet meal car parking \n",
      "Original summary: the staffordshire theme park has the ghostly for halloween brave customers can opt to stay the night but may not get much sleep involves ghost hunt in the old property at the core of the park \n",
      "Predicted summary:  video of the enjoying its best friend the two viewed the riding in the first time in the world to the th century\n",
      "\n",
      "\n",
      "Article: father collapsed toy shop bitten ten times uk dangerous spider chris shopping children store toys us wife zoe one year old daughter imogen suddenly became unwell dropped floor bitten chris pictured daughter imogen received several nasty bites fake widow spider year old rushed hospital doctors discovered many ten pence sized red welts neck back watch false widow spider came canary islands hundred years ago mr southampton hampshire aware several stings day assumed come bee horrified discover bites come false widow spider closely related black widow spider thankfully suffered reaction given painkillers released day spider whose body bigger five pence coin thought dropped mr hooded top foliage growing close mr home said stung earlier day assumed bee took anti histamine pills think shopping toys us daughter first birthday later felt stings next thing knew feeling hot queasy light headed collapsed floor mrs nurse kept husband comfortable help shop staff spider caught ambulance called paramedics gave oxygen taken southampton general hospital doctors identified spider false widow sent formal identification false widow one around dozen uk spiders deliver nasty bite thought country venomous arachnid species came canary islands years ago established long time devon recent years spread south east spiders found walls fences trees brown rotund body pale markings female bites method self defence bite victims describe burning pain travels along body bite swelling suffer fever general sick feeling mr said stung wasps like really sharp pin prick painful thankful never jumped got daughter handful cases bites false widow confirmed year delivers enough poison cause severe pain inflammation insect experts natural history museum said one particular variety called steatoda nobilis arrived britain cargo bananas canary islands century ago spokesman toys us confirmed incident happened afternoon one store worker said scary big spider never see one like insect wessex pest control southampton said increasingly mild climates helping exotic species like fake widow spread establish colonies \n",
      "Original summary: false widow spider is thought to have dropped into mr hooded top from near his home arrived in devon from islands century ago and has spread south and east \n"
     ]
    },
    {
     "name": "stdout",
     "output_type": "stream",
     "text": [
      "Predicted summary:  peter from the netherlands was taken to her home after her daughter she has been told her life to her daughter but she has not now the operation had since she would die\n",
      "\n",
      "\n",
      "Article: facebook friend request turned face slap unfriendly encounter landed year old woman jail allegedly assaulting grandmother rachel hayes flew rage repeatedly slapped year old grandmother rejected friend request police seminole florida say elderly woman said like hayes facebook name rachel hayes told granddaughter changed name would add friends list social network friendly rachel hayes faces felony charges abuse elder allegedly slapping year old grandmother thursday morning hayes mother one clearwater drunk thursday showed grandmother house seminole outside tampa furious facebook slight pinellas county sheriff office said elderly woman answered door allegedly smacked elderly woman across face several times assault stopped septuagenarian able retreat inside home close lock door behind called police arrested hayes charges felony battery elderly person records rachel hayes three previous arrests including one drunk driving one public urination hayes mother one drunk showed grandmother house thursday police say \n",
      "Original summary: rachel hayes grandmother told her she would not accept her friend request because her facebook name rachel hayes was too rude hayes was drunk and flew into rage and slapped her grandmother several times at her home police say \n",
      "Predicted summary:  the actress was sentenced to the hospital for years at time she allegedly stole the girl and her friends were found at the home the home is the second child she has been arrested since\n",
      "\n",
      "\n",
      "Article: two women came blows front shocked travellers one accused jumping queue airport thailand passengers pulled phones record video snap photos fight erupted bangkok international airport friday according one witnesses orderly queue check desk budget airline thai lion air travellers became furious woman china cut front two women trade punches arguing check desk bangkok international airport chinese traveller woman thailand began shouting briefly involved physical fight bangkok post reported trading blows seconds brawl broken several men queue women continued scream friday airport rage incident follows series clashes disturbances month involving chinese passengers one incident female passenger upset seated next boyfriend threw cup hot water noodles face thai airasia flight attendant women reportedly china thailand separated continued argue chaos boyfriend jumped seat made threat blow nanjing bound plane forced turn around make emergency landing bangkok incident led chinese travellers called barbarians china state run media country government vowed severely punish couple two travel companions scathing statement china national tourism administration said tourists disrupted flight hurt passengers badly damaged overall image chinese people days later mum involved brawl air china flight chongqing hong kong two women complained crying baby making much noise passengers queuing check desk budget airline thai lion air fight erupted two women reclined seats fully backwards led mid air scuffle another incident man board xiamen air flight hangzhou chengdu caused panic opened emergency exit take wanted fresh air days man opened emergency exit deployed slide wanting get quicker china eastern flight landed sanya international airport hainan incidents involving chinese tourists making angry outbursts prompted beijing issue stern guidelines behaving abroad \n",
      "Original summary: travellers recorded video of fight at don international airport witness says chinese woman and thai woman were involved fight erupted after chinese woman cut in front of others says witness brawl was broken up by several men who were in the queue \n",
      "Predicted summary:  new the death was the first of the year the pilot says the navy had been on board the plane is one of the world war in the world\n",
      "\n",
      "\n",
      "Article: tottenham keen sign west ham defender winston reid bid transfer window spurs understood willing meet reid wage demands week wages reid set leave west ham summer free transfer linked number top premier league clubs tottenham entered race sign west ham winston reid contract summer arsenal boss arsene wenger linked move reid transfer window chelsea also sounded everton reid believed heart set move top six club year old joined west ham danish club midtjylland made appearances hammers year old arsenal alexis sanchez become integral part west ham defence winston reid competes high ball swansea gomis liberty stadium \n",
      "Original summary: winston reid is out of contact with west ham united in the summer the year old has refused to sign new deal with the east london club tottenham and arsenal are both interested in signing the defender reid joined the hammers in making over appearances \n",
      "Predicted summary:  chelsea have been on the verge of premier league season ronald koeman wants to sign arsene wenger is courtois to join the club chelsea have been in recent league deal with arsenal\n",
      "\n",
      "\n",
      "Article: emma glanfield maxine carr enjoyed relaxing honeymoon family friendly resort days marrying besotted boyfriend maxine carr enjoyed relaxing honeymoon bustling family friendly resort days marrying besotted boyfriend emerged carr lives new identity thanks lifelong anonymity order said spent time talking joking parents children holiday comes following private wedding ceremony attended families pair guests toasted marriage three course banquet sparkling wine former girlfriend soham murderer ian huntley married current boyfriend front registrar celebrating wedding friends family hotel carr served months jail providing killer ian huntley false alibi murdered holly wells jessica chapman ten wore ivory dress big day former teaching assistant given away ceremony year old mother new husband said absolutely besotted despite knowing shameful past pair relished posing photographs hotel patio wedding reception following ceremony newlyweds departed honeymoon family friendly resort although known whether travelled abroad remained uk romantic break due lifelong anonymity order carr assumes completely new identity said changed appearance easily recognisable however one source said families would horrified know joking around honeymoon source told sun horrified know could within yards one hated women britain carr girlfriend school caretaker huntley arrested soon bodies schoolgirls holly jessica found august missing homes soham cambridgeshire days scroll video schoolgirls holly wells best friend jessica chapman ten went missing august maxine carr interviewed police august interview carr told police holly wells type girl would like daughter huntley eventually admitted girls died house invited said deaths accidental told carr house actually gone grimsby visit relatives although carr implicated murder gave huntley false alibi claiming time killings delayed police investigation fact nightclub grimsby another man originally jailed three half years perverting course justice covering huntley served half sentence given anonymity life release maxine carr served months jail providing child killer ian huntley false alibi murdered schoolgirls holly wells jessica chapman soham cambridgeshire august means details honeymoon wedding new partner cannot published could lead identification one four former uk prisoners given secret identities along child killer mary bell james bulger murderers robert thompson jon venables police protection new identity carr thought cost taxpayer millions huntley found guilty murdering girls following seven week trial old bailey serving double life sentence prison \n",
      "Original summary: carr enjoyed holiday at family friendly resort days after marrying boyfriend the year old husband is said to be with her despite her past served months in jail for giving murderer ian false \n",
      "Predicted summary:  the year old woman died from hospital in the early of her husband the year old daughter of her daughter was found dead on march by her daughter the woman has been married since she was not seen\n",
      "\n",
      "\n",
      "Article: year old woman fell seven stories death mall stamford connecticut yesterday woman fell stamford town center mall atrium resulted shopping center closing early police said investigating woman death possible suicide woman fell seven stories death stamford town center mall connecticut yesterday according stamford advocate shoppers employees saw woman plummet seating area pm woman said new canaan pronounced dead stamford hospital minutes later newspaper reported witnesses saw woman crawling railing escalator seventh ninth levels mall jumping witnesses said saw year old climb escalator railings jumping mall atrium mall escalators traverse across open atrium high large open area full seating employee works social apparel told newspaper woman fall place mall frightening \n",
      "Original summary: the woman fell into area at the stamford town center mall the year old was pronounced dead at hospital minutes later police are investigating the incident as possible suicide \n"
     ]
    },
    {
     "name": "stdout",
     "output_type": "stream",
     "text": [
      "Predicted summary:  year old was found dead in his car home on saturday night police say they will not be the first time in the death in the incident\n",
      "\n",
      "\n"
     ]
    }
   ],
   "source": [
    "#bidirectional\n",
    "for i in range(0,10):\n",
    "    print(\"Article:\",seq2text(x_val[i]))\n",
    "    print(\"Original summary:\",seq2summary(y_val[i]))\n",
    "    print(\"Predicted summary:\",decode_sequence(x_val[i].reshape(1,max_text_len)))\n",
    "    print(\"\\n\")"
   ]
  },
  {
   "cell_type": "code",
   "execution_count": 150,
   "id": "8b8e4579",
   "metadata": {},
   "outputs": [
    {
     "name": "stdout",
     "output_type": "stream",
     "text": [
      "(375,)\n"
     ]
    }
   ],
   "source": [
    "print(x_val[0].shape)"
   ]
  },
  {
   "cell_type": "code",
   "execution_count": 154,
   "id": "cd5a0c19",
   "metadata": {},
   "outputs": [
    {
     "ename": "AttributeError",
     "evalue": "'str' object has no attribute 'reshape'",
     "output_type": "error",
     "traceback": [
      "\u001b[1;31m---------------------------------------------------------------------------\u001b[0m",
      "\u001b[1;31mAttributeError\u001b[0m                            Traceback (most recent call last)",
      "\u001b[1;32m<ipython-input-154-314ffadd163f>\u001b[0m in \u001b[0;36m<module>\u001b[1;34m\u001b[0m\n\u001b[0;32m      6\u001b[0m     \u001b[1;32mreturn\u001b[0m \u001b[0mdecode_sequence\u001b[0m\u001b[1;33m(\u001b[0m\u001b[0mcleaned_input\u001b[0m\u001b[1;33m.\u001b[0m\u001b[0mreshape\u001b[0m\u001b[1;33m(\u001b[0m\u001b[1;36m1\u001b[0m\u001b[1;33m,\u001b[0m\u001b[0mmax_text_len\u001b[0m\u001b[1;33m)\u001b[0m\u001b[1;33m)\u001b[0m\u001b[1;33m\u001b[0m\u001b[1;33m\u001b[0m\u001b[0m\n\u001b[0;32m      7\u001b[0m \u001b[1;33m\u001b[0m\u001b[0m\n\u001b[1;32m----> 8\u001b[1;33m \u001b[0mprint\u001b[0m\u001b[1;33m(\u001b[0m\u001b[0msummarizeText\u001b[0m\u001b[1;33m(\u001b[0m\u001b[1;34m'Microsoft chairman bill gates late wednesday unveiled his vision of the digital lifestyle , outlining the latest version of his windows operating system to be launched later this year'\u001b[0m\u001b[1;33m)\u001b[0m\u001b[1;33m)\u001b[0m\u001b[1;33m\u001b[0m\u001b[1;33m\u001b[0m\u001b[0m\n\u001b[0m",
      "\u001b[1;32m<ipython-input-154-314ffadd163f>\u001b[0m in \u001b[0;36msummarizeText\u001b[1;34m(input_text)\u001b[0m\n\u001b[0;32m      4\u001b[0m \u001b[1;31m#     print(cleaned_input)\u001b[0m\u001b[1;33m\u001b[0m\u001b[1;33m\u001b[0m\u001b[1;33m\u001b[0m\u001b[0m\n\u001b[0;32m      5\u001b[0m \u001b[1;31m#     cleaned   =   pad_sequences(cleaned_seq, maxlen=max_text_len, padding='post')\u001b[0m\u001b[1;33m\u001b[0m\u001b[1;33m\u001b[0m\u001b[1;33m\u001b[0m\u001b[0m\n\u001b[1;32m----> 6\u001b[1;33m     \u001b[1;32mreturn\u001b[0m \u001b[0mdecode_sequence\u001b[0m\u001b[1;33m(\u001b[0m\u001b[0mcleaned_input\u001b[0m\u001b[1;33m.\u001b[0m\u001b[0mreshape\u001b[0m\u001b[1;33m(\u001b[0m\u001b[1;36m1\u001b[0m\u001b[1;33m,\u001b[0m\u001b[0mmax_text_len\u001b[0m\u001b[1;33m)\u001b[0m\u001b[1;33m)\u001b[0m\u001b[1;33m\u001b[0m\u001b[1;33m\u001b[0m\u001b[0m\n\u001b[0m\u001b[0;32m      7\u001b[0m \u001b[1;33m\u001b[0m\u001b[0m\n\u001b[0;32m      8\u001b[0m \u001b[0mprint\u001b[0m\u001b[1;33m(\u001b[0m\u001b[0msummarizeText\u001b[0m\u001b[1;33m(\u001b[0m\u001b[1;34m'Microsoft chairman bill gates late wednesday unveiled his vision of the digital lifestyle , outlining the latest version of his windows operating system to be launched later this year'\u001b[0m\u001b[1;33m)\u001b[0m\u001b[1;33m)\u001b[0m\u001b[1;33m\u001b[0m\u001b[1;33m\u001b[0m\u001b[0m\n",
      "\u001b[1;31mAttributeError\u001b[0m: 'str' object has no attribute 'reshape'"
     ]
    }
   ],
   "source": [
    "def summarizeText(input_text):\n",
    "    cleaned_input = text_cleaner(input_text,0)\n",
    "#     cleaned_seq   =   x_tokenizer.texts_to_sequences(cleaned_input )\n",
    "#     print(cleaned_input)\n",
    "#     cleaned   =   pad_sequences(cleaned_seq, maxlen=max_text_len, padding='post')\n",
    "    return decode_sequence(cleaned_input.reshape(1,max_text_len))\n",
    "\n",
    "print(summarizeText('Microsoft chairman bill gates late wednesday unveiled his vision of the digital lifestyle , outlining the latest version of his windows operating system to be launched later this year'))"
   ]
  },
  {
   "cell_type": "code",
   "execution_count": 142,
   "id": "471c574e",
   "metadata": {},
   "outputs": [
    {
     "name": "stdout",
     "output_type": "stream",
     "text": [
      "here\n",
      "here\n",
      "here\n",
      "here\n",
      "here\n",
      "here\n"
     ]
    }
   ],
   "source": [
    "import pickle \n",
    "# Save the tokenizer\n",
    "with open('model/x_tokenizer.pickle', 'wb') as handle:\n",
    "    pickle.dump(x_tokenizer, handle, protocol=pickle.HIGHEST_PROTOCOL)\n",
    "with open('model/y_tokenizer.pickle', 'wb') as handle:\n",
    "    pickle.dump(y_tokenizer, handle, protocol=pickle.HIGHEST_PROTOCOL)\n",
    "\n",
    "# save the weights individually\n",
    "for layer in model.layers:\n",
    "    \n",
    "    weights = layer.get_weights()\n",
    "    if weights != []:\n",
    "        print('here')\n",
    "        np.savez(f'model/{layer.name}.npz', weights)"
   ]
  },
  {
   "cell_type": "code",
   "execution_count": null,
   "id": "36e7e729",
   "metadata": {},
   "outputs": [],
   "source": []
  }
 ],
 "metadata": {
  "kernelspec": {
   "display_name": "Python [conda env:175]",
   "language": "python",
   "name": "conda-env-175-py"
  },
  "language_info": {
   "codemirror_mode": {
    "name": "ipython",
    "version": 3
   },
   "file_extension": ".py",
   "mimetype": "text/x-python",
   "name": "python",
   "nbconvert_exporter": "python",
   "pygments_lexer": "ipython3",
   "version": "3.8.12"
  }
 },
 "nbformat": 4,
 "nbformat_minor": 5
}
