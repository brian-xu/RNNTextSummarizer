{
 "cells": [
  {
   "cell_type": "code",
   "execution_count": 1,
   "id": "e9fbac5a",
   "metadata": {},
   "outputs": [],
   "source": [
    "import numpy as np\n",
    "import pandas as pd \n",
    "import re\n",
    "from bs4 import BeautifulSoup\n",
    "from tensorflow.keras.preprocessing.text import Tokenizer \n",
    "from tensorflow.keras.preprocessing.sequence import pad_sequences\n",
    "from nltk.corpus import stopwords\n",
    "import warnings\n",
    "pd.set_option(\"display.max_colwidth\", 200)\n",
    "warnings.filterwarnings(\"ignore\")\n",
    "import pathlib"
   ]
  },
  {
   "cell_type": "code",
   "execution_count": 2,
   "id": "6931b827",
   "metadata": {},
   "outputs": [
    {
     "name": "stdout",
     "output_type": "stream",
     "text": [
      "<class 'pandas.core.frame.DataFrame'>\n",
      "RangeIndex: 100000 entries, 0 to 99999\n",
      "Data columns (total 3 columns):\n",
      " #   Column      Non-Null Count   Dtype \n",
      "---  ------      --------------   ----- \n",
      " 0   id          100000 non-null  object\n",
      " 1   article     100000 non-null  object\n",
      " 2   highlights  100000 non-null  object\n",
      "dtypes: object(3)\n",
      "memory usage: 2.3+ MB\n"
     ]
    }
   ],
   "source": [
    "data=pd.read_csv(f\"{pathlib.Path().resolve()}\\\\input\\\\cnn_dailymail\\\\train.csv\", nrows=100000)\n",
    "data.info()"
   ]
  },
  {
   "cell_type": "code",
   "execution_count": 3,
   "id": "452f3b48",
   "metadata": {},
   "outputs": [],
   "source": [
    "data.drop_duplicates(subset=['article'],inplace=True) #dropping duplicates\n",
    "data.dropna(axis=0,inplace=True) #dropping na"
   ]
  },
  {
   "cell_type": "code",
   "execution_count": 4,
   "id": "06685920",
   "metadata": {},
   "outputs": [
    {
     "name": "stdout",
     "output_type": "stream",
     "text": [
      "<class 'pandas.core.frame.DataFrame'>\n",
      "Int64Index: 99637 entries, 0 to 99999\n",
      "Data columns (total 3 columns):\n",
      " #   Column      Non-Null Count  Dtype \n",
      "---  ------      --------------  ----- \n",
      " 0   id          99637 non-null  object\n",
      " 1   article     99637 non-null  object\n",
      " 2   highlights  99637 non-null  object\n",
      "dtypes: object(3)\n",
      "memory usage: 3.0+ MB\n"
     ]
    }
   ],
   "source": [
    "data.info()"
   ]
  },
  {
   "cell_type": "code",
   "execution_count": 5,
   "id": "ac1295ca",
   "metadata": {},
   "outputs": [],
   "source": [
    "contraction_mapping = {\"ain't\": \"is not\", \"aren't\": \"are not\",\"can't\": \"cannot\", \"'cause\": \"because\", \"could've\": \"could have\", \"couldn't\": \"could not\",\n",
    "                           \"didn't\": \"did not\",  \"doesn't\": \"does not\", \"don't\": \"do not\", \"hadn't\": \"had not\", \"hasn't\": \"has not\", \"haven't\": \"have not\",\n",
    "                           \"he'd\": \"he would\",\"he'll\": \"he will\", \"he's\": \"he is\", \"how'd\": \"how did\", \"how'd'y\": \"how do you\", \"how'll\": \"how will\", \"how's\": \"how is\",\n",
    "                           \"I'd\": \"I would\", \"I'd've\": \"I would have\", \"I'll\": \"I will\", \"I'll've\": \"I will have\",\"I'm\": \"I am\", \"I've\": \"I have\", \"i'd\": \"i would\",\n",
    "                           \"i'd've\": \"i would have\", \"i'll\": \"i will\",  \"i'll've\": \"i will have\",\"i'm\": \"i am\", \"i've\": \"i have\", \"isn't\": \"is not\", \"it'd\": \"it would\",\n",
    "                           \"it'd've\": \"it would have\", \"it'll\": \"it will\", \"it'll've\": \"it will have\",\"it's\": \"it is\", \"let's\": \"let us\", \"ma'am\": \"madam\",\n",
    "                           \"mayn't\": \"may not\", \"might've\": \"might have\",\"mightn't\": \"might not\",\"mightn't've\": \"might not have\", \"must've\": \"must have\",\n",
    "                           \"mustn't\": \"must not\", \"mustn't've\": \"must not have\", \"needn't\": \"need not\", \"needn't've\": \"need not have\",\"o'clock\": \"of the clock\",\n",
    "                           \"oughtn't\": \"ought not\", \"oughtn't've\": \"ought not have\", \"shan't\": \"shall not\", \"sha'n't\": \"shall not\", \"shan't've\": \"shall not have\",\n",
    "                           \"she'd\": \"she would\", \"she'd've\": \"she would have\", \"she'll\": \"she will\", \"she'll've\": \"she will have\", \"she's\": \"she is\",\n",
    "                           \"should've\": \"should have\", \"shouldn't\": \"should not\", \"shouldn't've\": \"should not have\", \"so've\": \"so have\",\"so's\": \"so as\",\n",
    "                           \"this's\": \"this is\",\"that'd\": \"that would\", \"that'd've\": \"that would have\", \"that's\": \"that is\", \"there'd\": \"there would\",\n",
    "                           \"there'd've\": \"there would have\", \"there's\": \"there is\", \"here's\": \"here is\",\"they'd\": \"they would\", \"they'd've\": \"they would have\",\n",
    "                           \"they'll\": \"they will\", \"they'll've\": \"they will have\", \"they're\": \"they are\", \"they've\": \"they have\", \"to've\": \"to have\",\n",
    "                           \"wasn't\": \"was not\", \"we'd\": \"we would\", \"we'd've\": \"we would have\", \"we'll\": \"we will\", \"we'll've\": \"we will have\", \"we're\": \"we are\",\n",
    "                           \"we've\": \"we have\", \"weren't\": \"were not\", \"what'll\": \"what will\", \"what'll've\": \"what will have\", \"what're\": \"what are\",\n",
    "                           \"what's\": \"what is\", \"what've\": \"what have\", \"when's\": \"when is\", \"when've\": \"when have\", \"where'd\": \"where did\", \"where's\": \"where is\",\n",
    "                           \"where've\": \"where have\", \"who'll\": \"who will\", \"who'll've\": \"who will have\", \"who's\": \"who is\", \"who've\": \"who have\",\n",
    "                           \"why's\": \"why is\", \"why've\": \"why have\", \"will've\": \"will have\", \"won't\": \"will not\", \"won't've\": \"will not have\",\n",
    "                           \"would've\": \"would have\", \"wouldn't\": \"would not\", \"wouldn't've\": \"would not have\", \"y'all\": \"you all\",\n",
    "                           \"y'all'd\": \"you all would\",\"y'all'd've\": \"you all would have\",\"y'all're\": \"you all are\",\"y'all've\": \"you all have\",\n",
    "                           \"you'd\": \"you would\", \"you'd've\": \"you would have\", \"you'll\": \"you will\", \"you'll've\": \"you will have\",\n",
    "                           \"you're\": \"you are\", \"you've\": \"you have\"}"
   ]
  },
  {
   "cell_type": "code",
   "execution_count": 6,
   "id": "e48453b9",
   "metadata": {},
   "outputs": [],
   "source": [
    "stop_words = set(stopwords.words('english')) \n",
    "\n",
    "def text_cleaner(text,num):\n",
    "    newString = text.lower()\n",
    "    newString = BeautifulSoup(newString).text\n",
    "    newString = re.sub(r'\\([^)]*\\)', '', newString)\n",
    "    newString = re.sub('\"','', newString)\n",
    "    newString = ' '.join([contraction_mapping[t] if t in contraction_mapping else t for t in newString.split(\" \")])    \n",
    "    newString = re.sub(r\"'s\\b\",\"\",newString)\n",
    "    newString = re.sub(\"[^a-zA-Z]\", \" \", newString) \n",
    "    newString = re.sub('[m]{2,}', 'mm', newString)\n",
    "    if (num==0):\n",
    "        tokens = [w for w in newString.split() if not w in stop_words]\n",
    "    else:\n",
    "        tokens=newString.split()\n",
    "    long_words=[]\n",
    "    for i in tokens:\n",
    "        if len(i)>1: # removing short words\n",
    "            long_words.append(i)   \n",
    "    return (\" \".join(long_words)).strip()"
   ]
  },
  {
   "cell_type": "code",
   "execution_count": 7,
   "id": "46ea9cae",
   "metadata": {},
   "outputs": [],
   "source": [
    "#call the function\n",
    "cleaned_text = []\n",
    "for t in data['article']:\n",
    "    cleaned_text.append(text_cleaner(t,0)) "
   ]
  },
  {
   "cell_type": "code",
   "execution_count": 8,
   "id": "c2ec04a3",
   "metadata": {},
   "outputs": [],
   "source": [
    "#call the function\n",
    "cleaned_summary = []\n",
    "for t in data['highlights']:\n",
    "    cleaned_summary.append(text_cleaner(t,1))"
   ]
  },
  {
   "cell_type": "code",
   "execution_count": 9,
   "id": "b8ffc0f1",
   "metadata": {},
   "outputs": [],
   "source": [
    "data['cleaned_text']=cleaned_text\n",
    "data['cleaned_summary']=cleaned_summary"
   ]
  },
  {
   "cell_type": "code",
   "execution_count": 10,
   "id": "aa8e0f8e",
   "metadata": {},
   "outputs": [],
   "source": [
    "#drop empty rows\n",
    "data.replace('', np.nan, inplace=True)\n",
    "data.dropna(axis=0,inplace=True)"
   ]
  },
  {
   "cell_type": "code",
   "execution_count": 11,
   "id": "ea83ee71",
   "metadata": {},
   "outputs": [
    {
     "data": {
      "image/png": "[encoded data removed]",
      "text/plain": [
       "<Figure size 432x288 with 2 Axes>"
      ]
     },
     "metadata": {
      "needs_background": "light"
     },
     "output_type": "display_data"
    }
   ],
   "source": [
    "import matplotlib.pyplot as plt\n",
    "\n",
    "text_word_count = []\n",
    "summary_word_count = []\n",
    "\n",
    "# populate the lists with sentence lengths\n",
    "for i in data['cleaned_text']:\n",
    "      text_word_count.append(len(i.split()))\n",
    "\n",
    "for i in data['cleaned_summary']:\n",
    "      summary_word_count.append(len(i.split()))\n",
    "\n",
    "length_df = pd.DataFrame({'text':text_word_count, 'summary':summary_word_count})\n",
    "\n",
    "length_df.hist(bins = 30)\n",
    "plt.show()"
   ]
  },
  {
   "cell_type": "code",
   "execution_count": 12,
   "id": "b5c9a420",
   "metadata": {},
   "outputs": [
    {
     "name": "stdout",
     "output_type": "stream",
     "text": [
      "0.6828387044973253\n"
     ]
    }
   ],
   "source": [
    "cnt=0\n",
    "for i in data['cleaned_summary']:\n",
    "    if(len(i.split())<=50):\n",
    "        cnt=cnt+1\n",
    "print(cnt/len(data['cleaned_summary']))"
   ]
  },
  {
   "cell_type": "code",
   "execution_count": 13,
   "id": "649d7ab1",
   "metadata": {},
   "outputs": [
    {
     "name": "stdout",
     "output_type": "stream",
     "text": [
      "0.9358270521994841\n"
     ]
    }
   ],
   "source": [
    "cnt=0\n",
    "for i in data['cleaned_text']:\n",
    "    if(len(i.split())<=700):\n",
    "        cnt=cnt+1\n",
    "print(cnt/len(data['cleaned_text']))"
   ]
  },
  {
   "cell_type": "code",
   "execution_count": 14,
   "id": "a40f54d8",
   "metadata": {},
   "outputs": [],
   "source": [
    "max_text_len=700\n",
    "max_summary_len=50"
   ]
  },
  {
   "cell_type": "code",
   "execution_count": 15,
   "id": "231d346d",
   "metadata": {},
   "outputs": [],
   "source": [
    "cleaned_text =np.array(data['cleaned_text'])\n",
    "cleaned_summary=np.array(data['cleaned_summary'])\n",
    "\n",
    "short_text=[]\n",
    "short_summary=[]\n",
    "\n",
    "for i in range(len(cleaned_text)):\n",
    "    if(len(cleaned_summary[i].split())<=max_summary_len and len(cleaned_text[i].split())<=max_text_len):\n",
    "        short_text.append(cleaned_text[i])\n",
    "        short_summary.append(cleaned_summary[i])\n",
    "        \n",
    "df=pd.DataFrame({'text':short_text,'summary':short_summary})"
   ]
  },
  {
   "cell_type": "code",
   "execution_count": 16,
   "id": "a91ff862",
   "metadata": {},
   "outputs": [],
   "source": [
    "#making sure tokens dont appear in the summaries\n",
    "for summary in df['summary']:\n",
    "    if 'sostok' in summary:\n",
    "        print(\"ERROR\")\n",
    "    if 'eostok' in summary:\n",
    "        print(\"ERROR\")"
   ]
  },
  {
   "cell_type": "code",
   "execution_count": 17,
   "id": "113b7b7c",
   "metadata": {},
   "outputs": [],
   "source": [
    "df['summary'] = df['summary'].apply(lambda x : 'sostok '+ x + ' eostok')"
   ]
  },
  {
   "cell_type": "code",
   "execution_count": 18,
   "id": "ebb4ecc8",
   "metadata": {},
   "outputs": [],
   "source": [
    "from sklearn.model_selection import train_test_split\n",
    "x_tr,x_val,y_tr,y_val=train_test_split(np.array(df['text']),np.array(df['summary']),test_size=0.1,random_state=0,shuffle=True) "
   ]
  },
  {
   "cell_type": "code",
   "execution_count": 19,
   "id": "9cbb1687",
   "metadata": {},
   "outputs": [],
   "source": [
    "from tensorflow.keras.preprocessing.text import Tokenizer \n",
    "from tensorflow.keras.preprocessing.sequence import pad_sequences\n",
    "\n",
    "#prepare a tokenizer for reviews on training data\n",
    "x_tokenizer = Tokenizer() \n",
    "x_tokenizer.fit_on_texts(list(x_tr))"
   ]
  },
  {
   "cell_type": "code",
   "execution_count": 20,
   "id": "08bd3d72",
   "metadata": {},
   "outputs": [
    {
     "name": "stdout",
     "output_type": "stream",
     "text": [
      "% of rare words in vocabulary: 54.67126228834927\n",
      "Total Coverage of rare words: 0.8275629913951933\n"
     ]
    }
   ],
   "source": [
    "thresh=4\n",
    "\n",
    "cnt=0\n",
    "tot_cnt=0\n",
    "freq=0\n",
    "tot_freq=0\n",
    "\n",
    "for key,value in x_tokenizer.word_counts.items():\n",
    "    tot_cnt=tot_cnt+1\n",
    "    tot_freq=tot_freq+value\n",
    "    if(value<thresh):\n",
    "        cnt=cnt+1\n",
    "        freq=freq+value\n",
    "    \n",
    "print(\"% of rare words in vocabulary:\",(cnt/tot_cnt)*100)\n",
    "print(\"Total Coverage of rare words:\",(freq/tot_freq)*100)"
   ]
  },
  {
   "cell_type": "code",
   "execution_count": 21,
   "id": "b4f82003",
   "metadata": {},
   "outputs": [],
   "source": [
    "#prepare a tokenizer for articles on training data\n",
    "x_tokenizer = Tokenizer(num_words=tot_cnt-cnt) \n",
    "x_tokenizer.fit_on_texts(list(x_tr))\n",
    "\n",
    "#convert text sequences into integer sequences\n",
    "x_tr_seq    =   x_tokenizer.texts_to_sequences(x_tr) \n",
    "x_val_seq   =   x_tokenizer.texts_to_sequences(x_val)\n",
    "\n",
    "#padding zero upto maximum length\n",
    "x_tr    =   pad_sequences(x_tr_seq,  maxlen=max_text_len, padding='post')\n",
    "x_val   =   pad_sequences(x_val_seq, maxlen=max_text_len, padding='post')\n",
    "\n",
    "#size of vocabulary ( +1 for padding token)\n",
    "x_voc   =  x_tokenizer.num_words + 1"
   ]
  },
  {
   "cell_type": "code",
   "execution_count": 22,
   "id": "ed69e342",
   "metadata": {},
   "outputs": [
    {
     "data": {
      "text/plain": [
       "87194"
      ]
     },
     "execution_count": 22,
     "metadata": {},
     "output_type": "execute_result"
    }
   ],
   "source": [
    "x_voc"
   ]
  },
  {
   "cell_type": "code",
   "execution_count": 23,
   "id": "758d54fc",
   "metadata": {},
   "outputs": [],
   "source": [
    "#prepare a tokenizer for headlines on training data\n",
    "y_tokenizer = Tokenizer()   \n",
    "y_tokenizer.fit_on_texts(list(y_tr))"
   ]
  },
  {
   "cell_type": "code",
   "execution_count": 24,
   "id": "fb3825bd",
   "metadata": {},
   "outputs": [
    {
     "name": "stdout",
     "output_type": "stream",
     "text": [
      "% of rare words in vocabulary: 70.4966454907083\n",
      "Total Coverage of rare words: 3.799591105143823\n"
     ]
    }
   ],
   "source": [
    "thresh=6\n",
    "\n",
    "cnt=0\n",
    "tot_cnt=0\n",
    "freq=0\n",
    "tot_freq=0\n",
    "\n",
    "for key,value in y_tokenizer.word_counts.items():\n",
    "    tot_cnt=tot_cnt+1\n",
    "    tot_freq=tot_freq+value\n",
    "    if(value<thresh):\n",
    "        cnt=cnt+1\n",
    "        freq=freq+value\n",
    "    \n",
    "print(\"% of rare words in vocabulary:\",(cnt/tot_cnt)*100)\n",
    "print(\"Total Coverage of rare words:\",(freq/tot_freq)*100)"
   ]
  },
  {
   "cell_type": "code",
   "execution_count": 25,
   "id": "68032ca6",
   "metadata": {},
   "outputs": [],
   "source": [
    "#prepare a tokenizer for reviews on training data\n",
    "y_tokenizer = Tokenizer(num_words=tot_cnt-cnt) \n",
    "y_tokenizer.fit_on_texts(list(y_tr))\n",
    "\n",
    "#convert text sequences into integer sequences\n",
    "y_tr_seq    =   y_tokenizer.texts_to_sequences(y_tr) \n",
    "y_val_seq   =   y_tokenizer.texts_to_sequences(y_val) \n",
    "\n",
    "#padding zero upto maximum length\n",
    "y_tr    =   pad_sequences(y_tr_seq, maxlen=max_summary_len, padding='post')\n",
    "y_val   =   pad_sequences(y_val_seq, maxlen=max_summary_len, padding='post')\n",
    "\n",
    "#size of vocabulary\n",
    "y_voc  =   y_tokenizer.num_words +1"
   ]
  },
  {
   "cell_type": "code",
   "execution_count": 26,
   "id": "00735635",
   "metadata": {},
   "outputs": [
    {
     "data": {
      "text/plain": [
       "19878"
      ]
     },
     "execution_count": 26,
     "metadata": {},
     "output_type": "execute_result"
    }
   ],
   "source": [
    "y_voc"
   ]
  },
  {
   "cell_type": "code",
   "execution_count": 27,
   "id": "7db26b46",
   "metadata": {},
   "outputs": [
    {
     "data": {
      "text/plain": [
       "(58500, 58500)"
      ]
     },
     "execution_count": 27,
     "metadata": {},
     "output_type": "execute_result"
    }
   ],
   "source": [
    "y_tokenizer.word_counts['sostok'], len(y_tr)"
   ]
  },
  {
   "cell_type": "code",
   "execution_count": 28,
   "id": "55fbaab1",
   "metadata": {},
   "outputs": [],
   "source": [
    "#delete rows that only have start and end tokens\n",
    "ind=[]\n",
    "for i in range(len(y_tr)):\n",
    "    cnt=0\n",
    "    for j in y_tr[i]:\n",
    "        if j!=0:\n",
    "            cnt=cnt+1\n",
    "    if(cnt==2):\n",
    "        ind.append(i)\n",
    "\n",
    "y_tr=np.delete(y_tr, ind, axis=0)\n",
    "x_tr=np.delete(x_tr, ind, axis=0)"
   ]
  },
  {
   "cell_type": "code",
   "execution_count": 29,
   "id": "8491c1da",
   "metadata": {},
   "outputs": [],
   "source": [
    "ind=[]\n",
    "for i in range(len(y_val)):\n",
    "    cnt=0\n",
    "    for j in y_val[i]:\n",
    "        if j!=0:\n",
    "            cnt=cnt+1\n",
    "    if(cnt==2):\n",
    "        ind.append(i)\n",
    "\n",
    "y_val=np.delete(y_val,ind, axis=0)\n",
    "x_val=np.delete(x_val,ind, axis=0)"
   ]
  },
  {
   "cell_type": "code",
   "execution_count": 30,
   "id": "f016d76a",
   "metadata": {},
   "outputs": [],
   "source": [
    "ind=[]\n",
    "for i in range(len(y_val)):\n",
    "    cnt=0\n",
    "    for j in y_val[i]:\n",
    "        if j!=0:\n",
    "            cnt=cnt+1\n",
    "    if(cnt==2):\n",
    "        ind.append(i)\n",
    "\n",
    "y_val=np.delete(y_val,ind, axis=0)\n",
    "x_val=np.delete(x_val,ind, axis=0)"
   ]
  },
  {
   "cell_type": "code",
   "execution_count": 31,
   "id": "c453373a",
   "metadata": {},
   "outputs": [
    {
     "name": "stdout",
     "output_type": "stream",
     "text": [
      "2.5.0\n",
      "[PhysicalDevice(name='/physical_device:CPU:0', device_type='CPU'), PhysicalDevice(name='/physical_device:GPU:0', device_type='GPU')]\n",
      "Num GPUs Available:  1\n"
     ]
    }
   ],
   "source": [
    "# from tensorflow.keras.layers import Input, LSTM, Embedding, Dense, Concatenate, TimeDistributed, Attention\n",
    "# from tensorflow.keras.models import Model\n",
    "# from tensorflow.keras.callbacks import EarlyStopping\n",
    "import tensorflow as tf\n",
    "from tensorflow.keras import backend as K \n",
    "from tensorflow.keras.layers import Input, LSTM, Embedding, Dense, Concatenate, TimeDistributed, Bidirectional, Attention\n",
    "from tensorflow.keras.models import Model\n",
    "from tensorflow.keras.callbacks import EarlyStopping\n",
    "\n",
    "print(tf.__version__)\n",
    "print(tf.config.list_physical_devices())\n",
    "print(\"Num GPUs Available: \", len(tf.config.list_physical_devices('GPU')))"
   ]
  },
  {
   "cell_type": "markdown",
   "id": "bf82466b",
   "metadata": {},
   "source": [
    "## Model"
   ]
  },
  {
   "cell_type": "code",
   "execution_count": 32,
   "id": "10bbcbc6",
   "metadata": {},
   "outputs": [],
   "source": [
    "# LSTM\n",
    "K.clear_session()\n",
    "\n",
    "latent_dim = 300\n",
    "embedding_dim = 100\n",
    "\n",
    "# Encoder\n",
    "encoder_inputs = Input(shape=(None,))\n",
    "\n",
    "#embedding layer\n",
    "enc_emb =  Embedding(x_voc, embedding_dim, trainable=True)(encoder_inputs)\n",
    "\n",
    "#encoder lstm 1\n",
    "encoder_lstm1 = LSTM(latent_dim, return_sequences=True,return_state=True,dropout=0.2,recurrent_dropout=0)\n",
    "encoder_output1, state_h1, state_c1 = encoder_lstm1(enc_emb)\n",
    "\n",
    "#encoder lstm 2\n",
    "encoder_lstm2 = LSTM(latent_dim,return_sequences=True,return_state=True,dropout=0.2,recurrent_dropout=0)\n",
    "encoder_output2, state_h2, state_c2 = encoder_lstm2(encoder_output1)\n",
    "\n",
    "#encoder lstm 3\n",
    "encoder_lstm3 = LSTM(latent_dim,return_sequences=True,return_state=True,dropout=0.2,recurrent_dropout=0)\n",
    "encoder_outputs, state_h, state_c= encoder_lstm3(encoder_output2)\n",
    "\n",
    "# Set up the decoder, using `encoder_states` as initial state.\n",
    "decoder_inputs = Input(shape=(None,))\n",
    "\n",
    "#embedding layer\n",
    "dec_emb_layer = Embedding(y_voc, embedding_dim,trainable=True)\n",
    "dec_emb = dec_emb_layer(decoder_inputs)\n",
    "\n",
    "decoder_lstm = LSTM(latent_dim, return_sequences=True,return_state=True,dropout=0.2,recurrent_dropout=0)\n",
    "decoder_outputs, decoder_fwd_state, decoder_back_state = decoder_lstm(dec_emb,initial_state=[state_h, state_c])\n",
    "\n",
    "# Attention layer\n",
    "attn_layer = Attention(name='attention_layer')\n",
    "attn_out = attn_layer([decoder_outputs, encoder_outputs])\n",
    "\n",
    "# Concat attention input and decoder LSTM output\n",
    "decoder_concat_input = Concatenate(axis=-1, name='concat_layer')([decoder_outputs, attn_out])\n",
    "\n",
    "#dense layer\n",
    "decoder_dense = TimeDistributed(Dense(y_voc, activation='softmax'))\n",
    "decoder_outputs = decoder_dense(decoder_concat_input)"
   ]
  },
  {
   "cell_type": "code",
   "execution_count": 33,
   "id": "de177993",
   "metadata": {},
   "outputs": [
    {
     "name": "stdout",
     "output_type": "stream",
     "text": [
      "Model: \"model\"\n",
      "__________________________________________________________________________________________________\n",
      "Layer (type)                    Output Shape         Param #     Connected to                     \n",
      "==================================================================================================\n",
      "input_1 (InputLayer)            [(None, None)]       0                                            \n",
      "__________________________________________________________________________________________________\n",
      "embedding (Embedding)           (None, None, 100)    8719400     input_1[0][0]                    \n",
      "__________________________________________________________________________________________________\n",
      "lstm (LSTM)                     [(None, None, 300),  481200      embedding[0][0]                  \n",
      "__________________________________________________________________________________________________\n",
      "input_2 (InputLayer)            [(None, None)]       0                                            \n",
      "__________________________________________________________________________________________________\n",
      "lstm_1 (LSTM)                   [(None, None, 300),  721200      lstm[0][0]                       \n",
      "__________________________________________________________________________________________________\n",
      "embedding_1 (Embedding)         (None, None, 100)    1987800     input_2[0][0]                    \n",
      "__________________________________________________________________________________________________\n",
      "lstm_2 (LSTM)                   [(None, None, 300),  721200      lstm_1[0][0]                     \n",
      "__________________________________________________________________________________________________\n",
      "lstm_3 (LSTM)                   [(None, None, 300),  481200      embedding_1[0][0]                \n",
      "                                                                 lstm_2[0][1]                     \n",
      "                                                                 lstm_2[0][2]                     \n",
      "__________________________________________________________________________________________________\n",
      "attention_layer (Attention)     (None, None, 300)    0           lstm_3[0][0]                     \n",
      "                                                                 lstm_2[0][0]                     \n",
      "__________________________________________________________________________________________________\n",
      "concat_layer (Concatenate)      (None, None, 600)    0           lstm_3[0][0]                     \n",
      "                                                                 attention_layer[0][0]            \n",
      "__________________________________________________________________________________________________\n",
      "time_distributed (TimeDistribut (None, None, 19878)  11946678    concat_layer[0][0]               \n",
      "==================================================================================================\n",
      "Total params: 25,058,678\n",
      "Trainable params: 25,058,678\n",
      "Non-trainable params: 0\n",
      "__________________________________________________________________________________________________\n"
     ]
    }
   ],
   "source": [
    "model = Model([encoder_inputs, decoder_inputs], decoder_outputs)\n",
    "\n",
    "model.summary() "
   ]
  },
  {
   "cell_type": "code",
   "execution_count": 34,
   "id": "02145814",
   "metadata": {},
   "outputs": [],
   "source": [
    "model.compile(optimizer='rmsprop', loss='sparse_categorical_crossentropy')"
   ]
  },
  {
   "cell_type": "code",
   "execution_count": 35,
   "id": "5350548b",
   "metadata": {},
   "outputs": [],
   "source": [
    "es = EarlyStopping(monitor='val_loss', mode='min', verbose=1,patience=2)"
   ]
  },
  {
   "cell_type": "code",
   "execution_count": 36,
   "id": "17f1f671",
   "metadata": {},
   "outputs": [
    {
     "name": "stdout",
     "output_type": "stream",
     "text": [
      "Epoch 1/20\n",
      "458/458 [==============================] - 409s 880ms/step - loss: 5.4336 - val_loss: 5.1497\n",
      "Epoch 2/20\n",
      "458/458 [==============================] - 403s 881ms/step - loss: 4.9524 - val_loss: 4.8656\n",
      "Epoch 3/20\n",
      "458/458 [==============================] - 404s 882ms/step - loss: 4.7069 - val_loss: 4.6825\n",
      "Epoch 4/20\n",
      "458/458 [==============================] - 402s 878ms/step - loss: 4.5730 - val_loss: 4.5863\n",
      "Epoch 5/20\n",
      "458/458 [==============================] - 404s 881ms/step - loss: 4.4689 - val_loss: 4.5042\n",
      "Epoch 6/20\n",
      "458/458 [==============================] - 403s 881ms/step - loss: 4.3825 - val_loss: 4.4486\n",
      "Epoch 7/20\n",
      "458/458 [==============================] - 403s 881ms/step - loss: 4.3173 - val_loss: 4.4011\n",
      "Epoch 8/20\n",
      "458/458 [==============================] - 403s 880ms/step - loss: 4.2510 - val_loss: 4.3810\n",
      "Epoch 9/20\n",
      "458/458 [==============================] - 403s 881ms/step - loss: 4.2057 - val_loss: 4.4452\n",
      "Epoch 10/20\n",
      "458/458 [==============================] - 403s 880ms/step - loss: 4.1949 - val_loss: 4.3104\n",
      "Epoch 11/20\n",
      "458/458 [==============================] - 404s 882ms/step - loss: 4.1158 - val_loss: 4.3083\n",
      "Epoch 12/20\n",
      "458/458 [==============================] - 403s 880ms/step - loss: 4.0729 - val_loss: 4.2790\n",
      "Epoch 13/20\n",
      "458/458 [==============================] - 403s 880ms/step - loss: 4.0394 - val_loss: 4.2660\n",
      "Epoch 14/20\n",
      "458/458 [==============================] - 404s 882ms/step - loss: 4.0025 - val_loss: 4.2601\n",
      "Epoch 15/20\n",
      "458/458 [==============================] - 404s 882ms/step - loss: 3.9690 - val_loss: 4.2527\n",
      "Epoch 16/20\n",
      "458/458 [==============================] - 405s 883ms/step - loss: 3.9316 - val_loss: 4.2395\n",
      "Epoch 17/20\n",
      "458/458 [==============================] - 404s 883ms/step - loss: 3.8946 - val_loss: 4.2308\n",
      "Epoch 18/20\n",
      "458/458 [==============================] - 407s 889ms/step - loss: 3.8639 - val_loss: 4.2154\n",
      "Epoch 19/20\n",
      "458/458 [==============================] - 402s 879ms/step - loss: 3.8327 - val_loss: 4.2102\n",
      "Epoch 20/20\n",
      "458/458 [==============================] - 403s 880ms/step - loss: 3.8060 - val_loss: 4.1864\n"
     ]
    }
   ],
   "source": [
    "history=model.fit([x_tr, y_tr[:,:-1]],\n",
    "                   y_tr.reshape(y_tr.shape[0], y_tr.shape[1], 1)[:,1:],\n",
    "                   epochs=20,\n",
    "                   callbacks=[es],\n",
    "                   batch_size=128,\n",
    "                   validation_data=([x_val,\n",
    "                                     y_val[:,:-1]],\n",
    "                                     y_val.reshape(y_val.shape[0], y_val.shape[1], 1)[:,1:]\n",
    "                                     )\n",
    "                   )"
   ]
  },
  {
   "cell_type": "code",
   "execution_count": 37,
   "id": "df820f38",
   "metadata": {},
   "outputs": [
    {
     "data": {
      "image/png": "[encoded data removed]",
      "text/plain": [
       "<Figure size 432x288 with 1 Axes>"
      ]
     },
     "metadata": {
      "needs_background": "light"
     },
     "output_type": "display_data"
    }
   ],
   "source": [
    "from matplotlib import pyplot\n",
    "pyplot.plot(history.history['loss'], label='train')\n",
    "pyplot.plot(history.history['val_loss'], label='test')\n",
    "pyplot.legend()\n",
    "pyplot.show()"
   ]
  },
  {
   "cell_type": "code",
   "execution_count": 40,
   "id": "a221d4af",
   "metadata": {},
   "outputs": [
    {
     "name": "stderr",
     "output_type": "stream",
     "text": [
      "WARNING:absl:Found untraced functions such as lstm_cell_layer_call_and_return_conditional_losses, lstm_cell_layer_call_fn, lstm_cell_1_layer_call_and_return_conditional_losses, lstm_cell_1_layer_call_fn, lstm_cell_2_layer_call_and_return_conditional_losses while saving (showing 5 of 20). These functions will not be directly callable after loading.\n"
     ]
    },
    {
     "name": "stdout",
     "output_type": "stream",
     "text": [
      "INFO:tensorflow:Assets written to: model//cnn\\assets\n"
     ]
    },
    {
     "name": "stderr",
     "output_type": "stream",
     "text": [
      "INFO:tensorflow:Assets written to: model//cnn\\assets\n"
     ]
    }
   ],
   "source": [
    "model.save('model//cnn')"
   ]
  },
  {
   "cell_type": "code",
   "execution_count": null,
   "id": "86033e7d",
   "metadata": {},
   "outputs": [],
   "source": [
    "from tensorflow.keras.models import load_model\n",
    "model1 = load_model('model//cnn')"
   ]
  },
  {
   "cell_type": "code",
   "execution_count": 38,
   "id": "bd604eb4",
   "metadata": {},
   "outputs": [],
   "source": [
    "reverse_target_word_index=y_tokenizer.index_word\n",
    "reverse_source_word_index=x_tokenizer.index_word\n",
    "target_word_index=y_tokenizer.word_index"
   ]
  },
  {
   "cell_type": "markdown",
   "id": "df46c591",
   "metadata": {},
   "source": [
    "## Inference Decoder"
   ]
  },
  {
   "cell_type": "code",
   "execution_count": 39,
   "id": "df1ce707",
   "metadata": {},
   "outputs": [],
   "source": [
    "# Encode the input sequence to get the feature vector\n",
    "encoder_model = Model(inputs=encoder_inputs, outputs=[encoder_outputs, state_h, state_c])\n",
    "\n",
    "# Decoder setup\n",
    "# Below tensors will hold the states of the previous time step\n",
    "decoder_state_input_h = Input(shape=(latent_dim,))\n",
    "decoder_state_input_c = Input(shape=(latent_dim,))\n",
    "decoder_hidden_state_input = Input(shape=(max_text_len,latent_dim))\n",
    "\n",
    "# Get the embeddings of the decoder sequence\n",
    "dec_emb2 = dec_emb_layer(decoder_inputs) \n",
    "# To predict the next word in the sequence, set the initial states to the states from the previous time step\n",
    "decoder_outputs2, state_h2, state_c2 = decoder_lstm(dec_emb2, initial_state=[decoder_state_input_h, decoder_state_input_c])\n",
    "\n",
    "#attention inference\n",
    "attn_out_inf = attn_layer([decoder_outputs2, decoder_hidden_state_input])\n",
    "\n",
    "decoder_inf_concat = Concatenate(axis=-1, name='concat')([decoder_outputs2, attn_out_inf])\n",
    "\n",
    "# A dense softmax layer to generate prob dist. over the target vocabulary\n",
    "decoder_outputs2 = decoder_dense(decoder_inf_concat)\n",
    "\n",
    "# Final decoder model\n",
    "decoder_model = Model(\n",
    "    [decoder_inputs] + [decoder_hidden_state_input, decoder_state_input_h, decoder_state_input_c],\n",
    "    [decoder_outputs2] + [state_h2, state_c2])"
   ]
  },
  {
   "cell_type": "code",
   "execution_count": 41,
   "id": "5a244e11",
   "metadata": {},
   "outputs": [],
   "source": [
    "#bidirectional\n",
    "# Encode the input sequence to get the feature vector\n",
    "encoder_model = Model(inputs=encoder_inputs, outputs=[encoder_outputs, state_h, state_c])\n",
    "\n",
    "# Decoder setup\n",
    "# Below tensors will hold the states of the previous time step\n",
    "decoder_state_input_h = Input(shape=(latent_dim*2,))\n",
    "decoder_state_input_c = Input(shape=(latent_dim*2,))\n",
    "decoder_hidden_state_input = Input(shape=(latent_dim*2))\n",
    "\n",
    "# Get the embeddings of the decoder sequence\n",
    "dec_emb2 = dec_emb_layer(decoder_inputs) \n",
    "# To predict the next word in the sequence, set the initial states to the states from the previous time step\n",
    "decoder_outputs2, state_h2, state_c2 = decoder_lstm(dec_emb2, initial_state=[decoder_state_input_h, decoder_state_input_c])\n",
    "\n",
    "#attention inference\n",
    "attn_out_inf = attn_layer([decoder_outputs2, decoder_hidden_state_input])\n",
    "\n",
    "decoder_inf_concat = Concatenate(axis=-1, name='concat')([decoder_outputs2, attn_out_inf])\n",
    "\n",
    "# A dense softmax layer to generate prob dist. over the target vocabulary\n",
    "decoder_outputs2 = decoder_dense(decoder_inf_concat)\n",
    "\n",
    "# Final decoder model\n",
    "decoder_model = Model(\n",
    "    [decoder_inputs] + [decoder_hidden_state_input, decoder_state_input_h, decoder_state_input_c],\n",
    "    [decoder_outputs2] + [state_h2, state_c2])"
   ]
  },
  {
   "cell_type": "code",
   "execution_count": 40,
   "id": "9dc60efc",
   "metadata": {},
   "outputs": [],
   "source": [
    "def decode_sequence(input_seq):\n",
    "    # Encode the input as state vectors.\n",
    "    e_out, e_h, e_c = encoder_model.predict(input_seq)\n",
    "    \n",
    "    # Generate empty target sequence of length 1.\n",
    "    target_seq = np.zeros((1,1))\n",
    "    \n",
    "    # Populate the first word of target sequence with the start word.\n",
    "    target_seq[0, 0] = target_word_index['sostok']\n",
    "\n",
    "    stop_condition = False\n",
    "    decoded_sentence = ''\n",
    "    while not stop_condition:\n",
    "      \n",
    "        output_tokens, h, c = decoder_model.predict([target_seq] + [e_out, e_h, e_c])\n",
    "\n",
    "        # Sample a token\n",
    "        sampled_token_index = np.argmax(output_tokens[0, -1, :])\n",
    "        sampled_token = reverse_target_word_index[sampled_token_index]\n",
    "        \n",
    "        if(sampled_token!='eostok'):\n",
    "            decoded_sentence += ' '+sampled_token\n",
    "\n",
    "        # Exit condition: either hit max length or find stop word.\n",
    "        if (sampled_token == 'eostok'  or len(decoded_sentence.split()) >= (max_summary_len-1)):\n",
    "            stop_condition = True\n",
    "\n",
    "        # Update the target sequence (of length 1).\n",
    "        target_seq = np.zeros((1,1))\n",
    "        target_seq[0, 0] = sampled_token_index\n",
    "\n",
    "        # Update internal states\n",
    "        e_h, e_c = h, c\n",
    "\n",
    "    return decoded_sentence"
   ]
  },
  {
   "cell_type": "code",
   "execution_count": 41,
   "id": "0c9e5ab6",
   "metadata": {},
   "outputs": [],
   "source": [
    "def seq2summary(input_seq):\n",
    "    newString=''\n",
    "    for i in input_seq:\n",
    "        if((i!=0 and i!=target_word_index['sostok']) and i!=target_word_index['eostok']):\n",
    "            newString=newString+reverse_target_word_index[i]+' '\n",
    "    return newString\n",
    "\n",
    "def seq2text(input_seq):\n",
    "    newString=''\n",
    "    for i in input_seq:\n",
    "        if(i!=0):\n",
    "            newString=newString+reverse_source_word_index[i]+' '\n",
    "    return newString"
   ]
  },
  {
   "cell_type": "code",
   "execution_count": 45,
   "id": "fde5d992",
   "metadata": {},
   "outputs": [],
   "source": [
    "import pickle \n",
    "# Save the tokenizer\n",
    "with open('LSTM3model/x_tokenizer.pickle', 'wb') as handle:\n",
    "    pickle.dump(x_tokenizer, handle, protocol=pickle.HIGHEST_PROTOCOL)\n",
    "with open('LSTM3model/y_tokenizer.pickle', 'wb') as handle:\n",
    "    pickle.dump(y_tokenizer, handle, protocol=pickle.HIGHEST_PROTOCOL)\n",
    "\n",
    "# save the weights individually\n",
    "for layer in model.layers:\n",
    "    \n",
    "    weights = layer.get_weights()\n",
    "    if weights != []:\n",
    "        np.savez(f'LSTM3model/{layer.name}.npz', weights)"
   ]
  },
  {
   "cell_type": "code",
   "execution_count": 43,
   "id": "670fe584",
   "metadata": {},
   "outputs": [
    {
     "name": "stdout",
     "output_type": "stream",
     "text": [
      "Article: conventional way breaking protests sam skateboarding dog certainly seems effective ukrainian police found secret weapon battle demonstrations city odessa form skateboarding british bulldog performing pup already managed work magic one group demonstrators descended city hall duma square south western ukrainian city sam skateboarding dog caused stir ploughed crowds duma square odessa british bulldog proved hit crowds performed tricks board angry mob gathered protest corruption particular relation building permits handed allegedly bribes angry mob waving placards chanting three officers security outside looks things get hand mob started gathering door building looked wanted get inside anger turned amusement laughter mob faded away skateboarder sam swept square started nipping masses skateboard dog even managed break protest demonstrators started laugh pranks ukrainian police could certainly use dog unusual method crowd control protests instantly crowd focused attention dog performed impressive steering manoeuvres even able turn skateboard back onto wheels every time turned hitting someone eyewitness anatoly said hilarious impossible ignore seemed excited action smashing skateboard left right running everyone also panting like steam engine suddenly people seemed focus building grabbing mobile phones film hilarious dog one person heard one videos asking animal police dog another woman confirming must look way rounding everybody sam apparently well known sight city favourite clever tricks eventually though sam well known least odessa skateboarding stunts local skate park enough distance without stopping owner sight suspected dog run local park skateboard attracted noise excitement nearby square afterwards apparently decided return back owner \n",
      "Original summary: sam the british bulldog was hit when he turned up to demonstration angry protesters started laughing as the dog performed tricks the mob in square eventually after sam turned up \n",
      "Predicted summary:  the year old man was found dead in the head of his car in south africa the year old was the only man in the world largest in the world\n",
      "\n",
      "\n",
      "Article: washington nine technicians responsible monitoring operations louisiana nuclear power plant spent duty time surfing internet visiting websites included news sports fishing retirement information jeopardizing safety plant federal regulators say nuclear regulatory commission disclosed web surfing activities monday letter proposes fine river bend nuclear power station miles northwest baton rouge pornography sites accessed nuclear regulatory commission said importantly nrc said computer use present avenue hackers gain access reactor control systems modern day fear industrial plants nrc said web surfing control room operators directly responsible monitoring reactor plant systems actions violated plant procedures requiring operators remain attentive focused work according nrc investigation nine operators deliberately violated safety procedures surfing web january april three nine frequency duration issued severity level three enforcement violations remaining six operators receive severity level four violations operators named nrc nrc spokesman said proposed fine web surfing action web surfing memory may action history agency notice entergy operations inc operators river bend station nrc said appears operators remained attentive reactor operations indications alarms surfing internet however operators involved knew understood prohibitions internet access exhibited deliberate misconduct engaged hundreds instances accessing internet controls area control room violation serious concern nrc accessing internet potential distract licensed operator nrc said also large number licensed reactor operators deliberately chose ignore ban nrc chastised plant saying river bend station strong evidence safety culture problem existed comprehensive actions taken least year nrc regional administrator elmo collins said letter river bend particularly poor performance responding problem merited doubling base fine entergy operations disagrees enforcement action proposed fine company request neutral mediator explore resolution according nrc entergy operations inc immediately respond call cnn dave alsup contributed report \n",
      "Original summary: wants to fine operators of louisiana nuclear plant nine technicians spent on duty time surfing the internet the says accessing the internet has the potential to distract the licensed operator the plant parent company did not immediately respond to call \n",
      "Predicted summary:  the daily transcript is written version of each day cnn student news program use this transcript to help students with reading comprehension and vocabulary use the weekly newsquiz to test your knowledge of stories you saw on cnn student news\n",
      "\n",
      "\n",
      "Article: harriet arkell published est may updated est may supply teacher john bradley stoke denies rape sexual assaults pupils primary school teacher attempted rape young girl sexually assaulted seven pupils court heard john bradley stoke bristol said touched children youngest nine seven year period working supply teacher allegedly attempted rape one youngster pinned naked locked classroom bristol crown court heard initially stood trial june case halted five complainants came forward reading newspaper reports trial worked substitute teacher number schools around bristol denies charges pleaded guilty charge attempted rape sexual assaults eight girls prosecutor ian told jurors police brought one youngster told mother bottom despite mother telling daughter demand stop abuse continued court heard mr said mother realised something know aware teacher alone daughter class last straw mum daughter came home happy pleased day touched teacher john mr said mother complained south gloucestershire school investigation followed seen arriving bristol crown court alleged assaulted girls young nine police called due lack additional evidence prosecution brought said july former pupil school south bristol also made complaint teacher mr said allegation serious bore real similarities said john touched lunchtime got sharpen pencils sat lap kissed cuddled recalled ran clammy hands back squeezed bottom happened number times jury told progressed lying youngster floor touching private parts john first trial bristol crown court right halted complainants came forward one occasion stripped naked lay top stopped disturbed knock classroom door mr told court police tied new complaint first girl allegation along allegations third girl supported said know one girls insisted touching others entirely unintentional trial followed bristol crown court june last year stopped complainants came forward read newspaper reports case mr said cases legitimate source public concern interest press present bristol press reported local newspaper trial name complainants entitled publish name defendant john narrow escape skeletons came rattling cupboard prosecutor ian another young woman heard report knew victim sexual abuse hands john came forward sudden five additional complainants jury heard three pupils north bristol school recounted touched improperly one claimed locked cupboard released hugged another said happened school trip third girl said touched bottom made inappropriate comments physical development two former pupils another school south gloucestershire said teacher touched backsides made one feel sick thought going school mr said john narrow escape skeletons came rattling cupboard trial continues sorry unable accept comments legal reasons \n",
      "Original summary: john allegedly touched pupils when working as supply teacher his original trial was halted when more former came forward from bradley stoke bristol denies rape and sexual assaults \n",
      "Predicted summary:  ian was jailed for two years after admitting rape rape charges he was accused of sexual abuse by the alleged victim he was not guilty of sexual abuse by the alleged victim\n",
      "\n",
      "\n",
      "Article: conspiracy theorists accused nasa cutting live feed international space station whenever ufo appears two separate occasions month alien hunters claim spotted mysterious objects appearing screens goes blank ufo watcher toby recently spotted ufo outside space station moments stream interrupted seconds scroll video last week grey object seen coming horizon disappearing moments nasa switched different camera one possible bit debris hit lens even moon mr told disclose tv always ufos showing nasa always cuts feed ufo gets close station alien hunter claims captured still photo unidentified object feed looks remarkably like insignia star trek also says nasa removed recording archives part efforts conceal alleged communication astronauts ufos separate incident last week grey object seen coming horizon disappearing moments nasa switched different camera ufo watcher toby recently spotted ufo outside space station stream interrupted seconds alien hunter claims captured still photo unidentified object appeared live feed january look remarkably like insignia star trek one possible bit debris hit lens even moon youtuber posted video convinced please bear mind moon appears white shows writes meanwhile october ufo watchers said witnessed strange object near station spacewalk astronauts reid alexander gerst object later identified either speck dust lens flare sun stopped conspiracy theories arising though somewhat claiming proof alone universe one interesting cases files lubbock lights incident reported august texas us government launched several inquiries ufo sightings many believed sparked cold war paranoia became known project blue book encounters ufos looked air force decades files closed made available online free allowing anyone examine evidence usaf says blue book included sightings reports remained unidentified around per cent files files accessed previously available visiting national archives washington professor andrew imperial college london department physics tells mailonline generally speaking ufo sightings either explained artefact effect even space junk left unexplained enough evidence difficult judge video instance poor quality nasa access high quality images may investigate nasa yet comment incidents space agency iss live stream rover photos become huge source evidence conspiracy theorists many scientists believe ufo sightings psychological phenomenon called pareidolia describes brain response seeing significant objects random places vast majority images vague elusive posted ufo witnesses earth many fairly mundane explanation nigel watson author ufo investigations manual told mailonline problem nasa denies things explains people think conspiracy hide truth aliens visiting planet october ufo watchers said witnessed strange object near station spacewalk astronauts reid alexander gerst \n",
      "Original summary: alien hunter toby recently spotted ufo outside the iss but the live stream was interrupted for seconds after it appeared in separate incident grey object was seen coming over the horizon one possibility is that it was the moon or debris left on the lens \n"
     ]
    },
    {
     "name": "stdout",
     "output_type": "stream",
     "text": [
      "Predicted summary:  nasa says it is the first time to be able to land the space station in space station is the first time to the space station in the space station the space station is currently on the ground for the first time since\n",
      "\n",
      "\n",
      "Article: nigeria president declared state emergency parts country afflicted violence militant islamist group boko haram become imperative take decisive measures necessary restore normalcy country especially within affected communities president goodluck jonathan said saturday address order includes closure country borders affected areas last two months seen widespread bloodshed northern nigeria churches police stations among targets boko haram claimed responsibility series attacks churches central northern nigeria christmas day including one near capital abuja killed nearly people two days later bomb attack islamic school madrassa southern delta state injured several children clear whether intended revenge sectarian attacks rare delta state jonathan said instructed military police chiefs violence stricken areas ensure life property protected \n",
      "Original summary: the president called for state of emergency in certain parts of the country those parts have seen violence by the group boko haram \n",
      "Predicted summary:  new the islamic state is the latest in the united states the government says it is the first time to the world war ii the government is also in the region\n",
      "\n",
      "\n",
      "Article: daniel daily mail australia hardline sydney islamic preacher launched inflammatory facebook tirade saying muslims preach acceptance never australian enough bigots post supporters sheikh abu adnan sydney western suburbs wrote advice muslims trying hard send message acceptance australian screaming responses many facebook articles goes rant realise comments go unnoticed bigoted australian white blue eyed carry white name like john scroll read facebook post full scroll video sheik abu adnan considered prominent lecturer islamic community sydney sheikh abu adnan pictured delivering lecture global islamic youth centre sydney south western suburbs sheikh continued forget born yet ask migrant parents people hated asian neighbours different eyes read top fathers issues greeks italians immigrated australia invented derogatory term grandfathers problems irish catholics great grandfathers believed black people developed sub humans deserved killed land raped never australian enough bigot wife wears oppressed sheikh respond daily mail australia query remarks facebook comments followed said aimed australians bigoted community members obviously many good post aiming bigots get wrote know many aussies racist leading muslim activist dr jamal rifi blasted post said sent wrong message right feel right feel australian anyone else said feel anything less regardless born regardless faith regardless funny name sounds post sheikh adnan also labelled unnamed muslim activists criticised community win white votes house negros sheikh told daily mail australia comments anyone particular emailed comments general advise made incident particular event particular individual community dr rifi fired back saying real people demonising islamic community likes australian militants khaled sharrouf mohamed elomar fighting middle east reckon one demonising community australians fighting overseas parading severed heads facebook culprit everyone else point finger people overseas demonising community family religion wrong pictured australian jihadist khaled sharrouf australian militant khaled sharrouf pictured earlier times mike tyson twitter account purporting belong khaled sharrouf posted horrific image son wielding head dead fighter dr rifi said sheikh take stand enlighten inform supporters way lead follow masses taking stand informs masses said last week sheikh abu adnan one islamic community members groups signed letter opposing prime minister tony abbott proposed counter terrorism laws legislation divided local islamic community members refusing meet mr abbott laws laws clearly target muslims unjustly petition said language law neutral secret practice laws specifically target muslims debate proposed laws continues advice muslims trying hard send message acceptance australian screaming responses many facebook articles realise comments go unnoticed bigoted australian white blue eyed carry white name like john bigot wife wears hijab oppressed brown follow religion originated far away deserts middle east forget born yet ask migrant parents people hated asian neighbours different eyes read top fathers issues greeks italians immigrated australia invented derogatory term grandfathers problems irish catholics great grandfathers believed black people developed sub humans deserved killed land raped never australian enough sincere reminder muslim politicians like continually demonise community thinking win hearts minds white voters stop dancing embarrassing stop house negro source facebook com sorry currently accepting comments article \n",
      "Original summary: sheikh abu adnan warns muslims they will never be australian enough for the australian community leader dr jamal blasts the post saying the comment sends the wrong message have the right to feel the right to feel as australian as anyone else dr said \n",
      "Predicted summary:  new york prime minister says the men are being held in the uk the group says the group is not aware of the attack the men are accused of trying to kidnap the women in the uk\n",
      "\n",
      "\n",
      "Article: steve doughty last updated pm th january sir terry pratchett prominent backers assisted suicide anyone given months less live legal right ask doctor help kill easy painless manner possible influential report said yesterday said avoid unnecessary suffering right choose die limited mental capacity express wish end life diagnosed terminal illness two doctors among string safeguards proposed minimum two week period dying man woman would given time change mind anyone physically unable take prescribed deadly drugs would ruled avoid potential abuse vulnerable malevolent relatives friends report commission assisted dying led former labour lord chancellor lord falconer stopped short recommending euthanasia kind practised dignitas clinic switzerland however lord falconer told bbc radio today programme think ever system completely water tight therefore looked current system check whether really terminally ill go dignitas without second check commission set amid growing controversy deaths dignitas erosion year old law assisted suicide sets maximum year jail sentence anyone aids death another followed new rules set director public prosecutions keir starmer effectively free people threat criminal charges help suicide somebody desperately ill compassion without thought gain right life groups said report fixed favour calling legalised assisted suicide pointed financed author sir terry pratchett businessman bernard lewis prominent backers assisted suicide report recommended string safeguards proposed minimum two week period dying man woman would given time change mind lord falconer chose ten members commission led attempt bring assisted dying bill lords three years ago page report states dying person met legal criteria would able ask doctor prescribe dose medication would end life report set detail system assisted dying would work individual would diagnosed doctor terminal illness likely kill within year would require capacity express choice die second doctor would approve first doctor diagnosis would speak patient make sure decision die firm made pressure others two doctor system similar process developed allow legalised abortion use numbers abortions england risen nearly year report recommended either doctor suspicious independent assessment carried nurse care worker social worker doctor collect poison pharmacist supervise death patient report said take poison preferably mouth disabled patient might allowed use automated syringe machine added report also said provision high quality end life care must priority government independent issue assisted dying richard hawkes disability charity scope said little confidence commission simple safeguards said drew arbitrary line people terminal illness people long term impairments added reality lines two often blurred making distinction unworkable dr peter saunders care killing campaign group dismissed commission sham adding investigation unnecessary biased lacking transparency report seriously flawed differing view including representatives major disability rights organisations doctors groups invited join commission sarah wootton dignity dying said opponents change law continue attack efforts find solution unbearable suffering continues daily absence compassionate assisted dying law cannot suggest alternative \n",
      "Original summary: report said the right to die should be limited to those who have mental capacity to express their wish but commission leader lord admits no system can be water tight \n"
     ]
    },
    {
     "name": "stdout",
     "output_type": "stream",
     "text": [
      "Predicted summary:  the uk is the first time to be in the uk since the uk is now in the uk for the first time since the uk is now being held in the uk\n",
      "\n",
      "\n",
      "Article: two former navy seals among four americans killed last week attack consulate benghazi libya died rushing aid colleagues according sources familiar incident glen doherty tyrone woods benghazi part security contractor force september ensconced safety annex location another part city got word main consulate building fire diplomats armed force nine people overwhelmed deteriorating situation doherty woods along security personnel left secure annex made way chaotic scene rounding consulate staff attack guiding back second safe building grim task also included recovering body computer expert sean smith succumbed smoke inhalation fire ignited attackers sources said diesel fuel used set fire thick black smoke created accelerant added confusion ground ambassador chris stevens gone missing attack among evacuated later reported dead state department released details stevens died though numerous media reports said ambassador taken consulate benghazi medical center locals arriving back annex incident far security team included woods doherty attack launched annex one intense initial assault main building military officials benghazi told cnn rocket propelled grenades among heavy firepower used attackers annex one official saying mortars also fired two additional personnel killed two others wounded senior administration official said last week providing details attack two victims later confirmed doherty woods men remembered last week transfer remains ceremony attended secretary state hillary clinton president barack obama doherty grew massachusetts passion outdoors served two tours duty iraq starting invasion leaving military became private security contractor working afghanistan pakistan yemen diplomatic source told cnn doherty libya search shoulder fired anti aircraft missiles mission given high priority fall longtime libyan strongman moammar gadhafi woods registered nurse certified paramedic served multiple tours iraq afghanistan retiring navy worked diplomatic security posts central america middle east four americans four patriots loved country chose serve serve well obama said mission believed knew danger accepted simply embrace american ideal lived embodied courage hope yes idealism cnn arwa damon contributed report benghazi libya \n",
      "Original summary: glen doherty and tyrone woods were part of security team that rushed to scene of consulate attack after they made their way back to safe location they came under fire they were among four americans killed last week in benghazi \n",
      "Predicted summary:  new the united states is the first time in the world war ii the year old is the first highest since the world war ii the highest number of the world war ii is the most likely to be in the world\n",
      "\n",
      "\n",
      "Article: juventus scouts watch sheffield united striker diego de girolamo play italy wednesday chesterfield born forward contract end season juventus keen recruit summer year old play italy qatar empoli ground serie sides also represented diego de girolamo pictured loan york city scouted serie giants juventus wednesday de girolamo contract sheffield united summer also watched sunderland de girolamo qualifies italy father hails naples currently loan league two york city watched sunderland scouts weekend bournemouth also expressed interest move juventus would fairytale although sheffield united would get less compensation fee move abroad juventus alerted ability arrigo sacchi former italy ac milan coach critical italian sides last week saying contain many foreign players youth system sheffield united would receive less compensation de girolamo moves team abroad summer \n",
      "Original summary: diego de is out of contract at sheffield united this summer juventus are keen to sign him while sunderland are also interested de will play for italy under side against qatar on wednesday the striker is currently on loan at league two side york city \n",
      "Predicted summary:  barcelona beat real madrid at the end of the season the year old has been linked with move to the club in the summer the year old has been linked with move to the club\n",
      "\n",
      "\n",
      "Article: retired holiday camp entertainer britain married man tied knot whopping eight times set celebrate tenth wedding anniversary ron sheppard somerset first walked aisle years ago since married eight times eight children welcomed grandchildren four great grandchildren however despite keen past marry mr sheppard happier ever promises latest wife year old filipino weng last ron sheppard somerset first walked aisle years ago married eighth wife year old filipino weng ten years couple celebrating ten years marriage second longest partnership mr sheppard said made double figures second longest marriage first one real marriage like love much year goes love everything together love mr sheppard written book life set film made married eight women since first ceremony aged tied knot first wife margaret years ago pair two children together divorcing two years later met second wife jeanette wed lasted one year mr sheppard since described marriage business transaction enabled receive bigger house council shortly divorce mr sheppard met third wife lesley tied knot went two children together said thought keeps left five years later following string arguments mr sheppard first walked aisle married first wife margaret age mr sheppard married third wife lesley two children together left five years later went meet year old blonde kathy holiday camp somerset pair married daughter together lasted four years despite mr sheppard claiming rebound relationship following split lesley long split met fifth wife sue bingo hall despite claiming swept feet moved two bedroom home married two sons together threw offered job bournemouth went marry pair met stop trip singapore lasted four years split mr sheppard cheated holiday alone thailand margaret married three children divorced two years jeanette married marriage lasted one year lesley married two sons together mr sheppard left kathy married one daughter together lasted four years sue married two sons threw married marriage singaporean bride ended four years wan married left return home bangkok eight months weng married due celebrate tenth anniversary next week divorce number six behind met seventh wife wan bangkok trip visit old friend however returning uk pair stayed together eight months bride announced returning native country mr sheppard met current wife ms reaching online sparking friendship retired entertainer mentored actor singer shane richie said finally settled finding true love soul mate mr sheppard married year old kathy rebound lesley mr sheppard tied knot fifth wife sue already seven months pregnant marriage last total years making mr sheppard longest partnership eight marriages couple celebrate tenth wedding anniversary november mr sheppard said going go spain celebrate weng gets two days instead think nice steak meal bottle pop made ten years hope least another ten come mr sheppard spent last years married longest union lasted years shortest lasted months mr sheppard met ms splitting seventh wife wan returned home bangkok eight months met ms sent email christian relationship advisor philippines shortly splitting seventh wife wan eight months poured heart lengthy message kept touch bride flying santa rosa laguna philippines meet following may couple instantly clicked married isle wight month later november mr sheppard added decade pure joy love everything marriage weng changed life way could imagined people say made never argument ten years compatible way never experienced mr sheppard whose new memoir lord wedding rings details lothario lifestyle previously admitted failed mention previous marriages ms proposing scared told truth would reject knew would found right woman time sad always planned tell could pluck courage fact told saw planning new book saw notes previous partnerships said saw emailing publisher saw words wife wife wife asked meant tell however former student nurse seem mind said angry said culture get married even twice hear ron married seven times big surprise would fallen love knew ron lived colourful life gentle caring man knew would lovely life together mr sheppard married ms said hopes last another decade together \n",
      "Original summary: ron sheppard from somerset first walked down the aisle years ago retired entertainer has had eight wives eight children and grandchildren married in and pair are set to celebrate years together promises filipino wife will be his last after finding true love and soul mate \n"
     ]
    },
    {
     "name": "stdout",
     "output_type": "stream",
     "text": [
      "Predicted summary:  the duchess of cambridge was found in the morning of the girl family home in the north london and was handed to the house in south london\n",
      "\n",
      "\n"
     ]
    }
   ],
   "source": [
    "for i in range(0,10):\n",
    "    print(\"Article:\",seq2text(x_val[i]))\n",
    "    print(\"Original summary:\",seq2summary(y_val[i]))\n",
    "    print(\"Predicted summary:\",decode_sequence(x_val[i].reshape(1,max_text_len)))\n",
    "    print(\"\\n\")"
   ]
  },
  {
   "cell_type": "markdown",
   "id": "998c432c",
   "metadata": {},
   "source": [
    "### Bidirectional Results\n",
    "The cells are out of order because I ran it and then rearranged the cells"
   ]
  },
  {
   "cell_type": "code",
   "execution_count": 34,
   "id": "4a4ba34c",
   "metadata": {},
   "outputs": [],
   "source": [
    "# Bidirectional LSTM\n",
    "K.clear_session()\n",
    "\n",
    "latent_dim = 300\n",
    "embedding_dim = 100\n",
    "\n",
    "# Encoder\n",
    "encoder_inputs = Input(shape=(None,))\n",
    "\n",
    "# embedding layer\n",
    "enc_emb =  Embedding(x_voc, embedding_dim, trainable=True, name = \"enc_embedding\")(encoder_inputs)\n",
    "\n",
    "encoder_lstm1 = Bidirectional(\n",
    "    LSTM(latent_dim, return_state=True,dropout=0.4,recurrent_dropout=0),\n",
    "    name = 'encoder_lstm1')\n",
    "encoder_outputs, enc_forward_h, enc_forward_c, enc_backward_h, enc_backward_c  = encoder_lstm1(enc_emb)\n",
    "\n",
    "state_h = Concatenate()([enc_forward_h, enc_backward_h])\n",
    "state_c = Concatenate()([enc_forward_c, enc_backward_c])\n",
    "encoder_states = [state_h, state_c]\n",
    "# Set up the decoder, using `encoder_states` as initial state.\n",
    "decoder_inputs = Input(shape=(None,))\n",
    "\n",
    "#embedding layer\n",
    "dec_emb_layer = Embedding(y_voc, embedding_dim,trainable=True, name = 'dec_embedding')\n",
    "dec_emb = dec_emb_layer(decoder_inputs)\n",
    "\n",
    "decoder_lstm = LSTM(latent_dim*2, return_sequences=True,return_state=True,dropout=0.4,recurrent_dropout=0)\n",
    "decoder_outputs1, decoder_fwd_state, decoder_back_state = decoder_lstm(dec_emb,initial_state=encoder_states)\n",
    "\n",
    "# Attention layer\n",
    "attn_layer = Attention(name='attention_layer')\n",
    "attn_out = attn_layer([decoder_outputs1, encoder_outputs])\n",
    "\n",
    "# Concat attention input and decoder LSTM output\n",
    "decoder_concat_input = Concatenate(axis=-1, name='concat_layer')([decoder_outputs1, attn_out])\n",
    "\n",
    "#dense layer\n",
    "decoder_dense = TimeDistributed(Dense(y_voc, activation='softmax'))\n",
    "decoder_outputs = decoder_dense(decoder_concat_input)"
   ]
  },
  {
   "cell_type": "code",
   "execution_count": 38,
   "id": "5b5bac8c",
   "metadata": {},
   "outputs": [
    {
     "name": "stdout",
     "output_type": "stream",
     "text": [
      "Epoch 1/20\n",
      "458/458 [==============================] - 384s 810ms/step - loss: 5.4144 - val_loss: 5.0887\n",
      "Epoch 2/20\n",
      "458/458 [==============================] - 364s 795ms/step - loss: 4.8844 - val_loss: 4.7562\n",
      "Epoch 3/20\n",
      "458/458 [==============================] - 362s 790ms/step - loss: 4.6502 - val_loss: 4.6087\n",
      "Epoch 4/20\n",
      "458/458 [==============================] - 343s 748ms/step - loss: 4.5019 - val_loss: 4.5208\n",
      "Epoch 5/20\n",
      "458/458 [==============================] - 343s 750ms/step - loss: 4.3849 - val_loss: 4.4533\n",
      "Epoch 6/20\n",
      "458/458 [==============================] - 343s 749ms/step - loss: 4.2899 - val_loss: 4.3999\n",
      "Epoch 7/20\n",
      "458/458 [==============================] - 343s 749ms/step - loss: 4.2073 - val_loss: 4.3700\n",
      "Epoch 8/20\n",
      "458/458 [==============================] - 343s 749ms/step - loss: 4.1317 - val_loss: 4.3351\n",
      "Epoch 9/20\n",
      "458/458 [==============================] - 344s 750ms/step - loss: 4.0634 - val_loss: 4.3067\n",
      "Epoch 10/20\n",
      "458/458 [==============================] - 343s 748ms/step - loss: 4.0016 - val_loss: 4.2973\n",
      "Epoch 11/20\n",
      "458/458 [==============================] - 343s 749ms/step - loss: 3.9429 - val_loss: 4.2880\n",
      "Epoch 12/20\n",
      "458/458 [==============================] - 343s 749ms/step - loss: 3.8903 - val_loss: 4.2710\n",
      "Epoch 13/20\n",
      "458/458 [==============================] - 343s 749ms/step - loss: 3.8416 - val_loss: 4.2582\n",
      "Epoch 14/20\n",
      "458/458 [==============================] - 343s 748ms/step - loss: 3.7947 - val_loss: 4.2617\n",
      "Epoch 15/20\n",
      "458/458 [==============================] - 343s 749ms/step - loss: 3.7510 - val_loss: 4.2601\n",
      "Epoch 00015: early stopping\n"
     ]
    }
   ],
   "source": [
    "history=model.fit([x_tr, y_tr[:,:-1]],\n",
    "                   y_tr.reshape(y_tr.shape[0], y_tr.shape[1], 1)[:,1:],\n",
    "                   epochs=20,\n",
    "                   callbacks=[es],\n",
    "                   batch_size=128,\n",
    "                   validation_data=([x_val,\n",
    "                                     y_val[:,:-1]],\n",
    "                                     y_val.reshape(y_val.shape[0], y_val.shape[1], 1)[:,1:]\n",
    "                                     )\n",
    "                   )"
   ]
  },
  {
   "cell_type": "code",
   "execution_count": 45,
   "id": "f844d8d2",
   "metadata": {},
   "outputs": [
    {
     "data": {
      "image/png": "[encoded data removed]",
      "text/plain": [
       "<Figure size 432x288 with 1 Axes>"
      ]
     },
     "metadata": {
      "needs_background": "light"
     },
     "output_type": "display_data"
    }
   ],
   "source": [
    "# bidirectional\n",
    "from matplotlib import pyplot\n",
    "pyplot.plot(history.history['loss'], label='train')\n",
    "pyplot.plot(history.history['val_loss'], label='test')\n",
    "pyplot.legend()\n",
    "pyplot.show()"
   ]
  },
  {
   "cell_type": "code",
   "execution_count": 44,
   "id": "d888ff66",
   "metadata": {},
   "outputs": [
    {
     "name": "stdout",
     "output_type": "stream",
     "text": [
      "Article: conventional way breaking protests sam skateboarding dog certainly seems effective ukrainian police found secret weapon battle demonstrations city odessa form skateboarding british bulldog performing pup already managed work magic one group demonstrators descended city hall duma square south western ukrainian city sam skateboarding dog caused stir ploughed crowds duma square odessa british bulldog proved hit crowds performed tricks board angry mob gathered protest corruption particular relation building permits handed allegedly bribes angry mob waving placards chanting three officers security outside looks things get hand mob started gathering door building looked wanted get inside anger turned amusement laughter mob faded away skateboarder sam swept square started nipping masses skateboard dog even managed break protest demonstrators started laugh pranks ukrainian police could certainly use dog unusual method crowd control protests instantly crowd focused attention dog performed impressive steering manoeuvres even able turn skateboard back onto wheels every time turned hitting someone eyewitness anatoly said hilarious impossible ignore seemed excited action smashing skateboard left right running everyone also panting like steam engine suddenly people seemed focus building grabbing mobile phones film hilarious dog one person heard one videos asking animal police dog another woman confirming must look way rounding everybody sam apparently well known sight city favourite clever tricks eventually though sam well known least odessa skateboarding stunts local skate park enough distance without stopping owner sight suspected dog run local park skateboard attracted noise excitement nearby square afterwards apparently decided return back owner \n",
      "Original summary: sam the british bulldog was hit when he turned up to demonstration angry protesters started laughing as the dog performed tricks the mob in square eventually after sam turned up \n",
      "Predicted summary:  the incident occurred in the city of the city of the city of the city of the city of the city of the city of the city of the year\n",
      "\n",
      "\n",
      "Article: washington nine technicians responsible monitoring operations louisiana nuclear power plant spent duty time surfing internet visiting websites included news sports fishing retirement information jeopardizing safety plant federal regulators say nuclear regulatory commission disclosed web surfing activities monday letter proposes fine river bend nuclear power station miles northwest baton rouge pornography sites accessed nuclear regulatory commission said importantly nrc said computer use present avenue hackers gain access reactor control systems modern day fear industrial plants nrc said web surfing control room operators directly responsible monitoring reactor plant systems actions violated plant procedures requiring operators remain attentive focused work according nrc investigation nine operators deliberately violated safety procedures surfing web january april three nine frequency duration issued severity level three enforcement violations remaining six operators receive severity level four violations operators named nrc nrc spokesman said proposed fine web surfing action web surfing memory may action history agency notice entergy operations inc operators river bend station nrc said appears operators remained attentive reactor operations indications alarms surfing internet however operators involved knew understood prohibitions internet access exhibited deliberate misconduct engaged hundreds instances accessing internet controls area control room violation serious concern nrc accessing internet potential distract licensed operator nrc said also large number licensed reactor operators deliberately chose ignore ban nrc chastised plant saying river bend station strong evidence safety culture problem existed comprehensive actions taken least year nrc regional administrator elmo collins said letter river bend particularly poor performance responding problem merited doubling base fine entergy operations disagrees enforcement action proposed fine company request neutral mediator explore resolution according nrc entergy operations inc immediately respond call cnn dave alsup contributed report \n",
      "Original summary: wants to fine operators of louisiana nuclear plant nine technicians spent on duty time surfing the internet the says accessing the internet has the potential to distract the licensed operator the plant parent company did not immediately respond to call \n",
      "Predicted summary:  new obama says the plant is the most common problem of the united states says the united states is the only to be the worst of the kind of the united states\n",
      "\n",
      "\n",
      "Article: harriet arkell published est may updated est may supply teacher john bradley stoke denies rape sexual assaults pupils primary school teacher attempted rape young girl sexually assaulted seven pupils court heard john bradley stoke bristol said touched children youngest nine seven year period working supply teacher allegedly attempted rape one youngster pinned naked locked classroom bristol crown court heard initially stood trial june case halted five complainants came forward reading newspaper reports trial worked substitute teacher number schools around bristol denies charges pleaded guilty charge attempted rape sexual assaults eight girls prosecutor ian told jurors police brought one youngster told mother bottom despite mother telling daughter demand stop abuse continued court heard mr said mother realised something know aware teacher alone daughter class last straw mum daughter came home happy pleased day touched teacher john mr said mother complained south gloucestershire school investigation followed seen arriving bristol crown court alleged assaulted girls young nine police called due lack additional evidence prosecution brought said july former pupil school south bristol also made complaint teacher mr said allegation serious bore real similarities said john touched lunchtime got sharpen pencils sat lap kissed cuddled recalled ran clammy hands back squeezed bottom happened number times jury told progressed lying youngster floor touching private parts john first trial bristol crown court right halted complainants came forward one occasion stripped naked lay top stopped disturbed knock classroom door mr told court police tied new complaint first girl allegation along allegations third girl supported said know one girls insisted touching others entirely unintentional trial followed bristol crown court june last year stopped complainants came forward read newspaper reports case mr said cases legitimate source public concern interest press present bristol press reported local newspaper trial name complainants entitled publish name defendant john narrow escape skeletons came rattling cupboard prosecutor ian another young woman heard report knew victim sexual abuse hands john came forward sudden five additional complainants jury heard three pupils north bristol school recounted touched improperly one claimed locked cupboard released hugged another said happened school trip third girl said touched bottom made inappropriate comments physical development two former pupils another school south gloucestershire said teacher touched backsides made one feel sick thought going school mr said john narrow escape skeletons came rattling cupboard trial continues sorry unable accept comments legal reasons \n",
      "Original summary: john allegedly touched pupils when working as supply teacher his original trial was halted when more former came forward from bradley stoke bristol denies rape and sexual assaults \n",
      "Predicted summary:  the year old teacher arrested on suspicion of sexual assault on sexual assault he allegedly stole from his wife and children with children and children aged and were arrested in the street and were jailed for two years\n",
      "\n",
      "\n",
      "Article: conspiracy theorists accused nasa cutting live feed international space station whenever ufo appears two separate occasions month alien hunters claim spotted mysterious objects appearing screens goes blank ufo watcher toby recently spotted ufo outside space station moments stream interrupted seconds scroll video last week grey object seen coming horizon disappearing moments nasa switched different camera one possible bit debris hit lens even moon mr told disclose tv always ufos showing nasa always cuts feed ufo gets close station alien hunter claims captured still photo unidentified object feed looks remarkably like insignia star trek also says nasa removed recording archives part efforts conceal alleged communication astronauts ufos separate incident last week grey object seen coming horizon disappearing moments nasa switched different camera ufo watcher toby recently spotted ufo outside space station stream interrupted seconds alien hunter claims captured still photo unidentified object appeared live feed january look remarkably like insignia star trek one possible bit debris hit lens even moon youtuber posted video convinced please bear mind moon appears white shows writes meanwhile october ufo watchers said witnessed strange object near station spacewalk astronauts reid alexander gerst object later identified either speck dust lens flare sun stopped conspiracy theories arising though somewhat claiming proof alone universe one interesting cases files lubbock lights incident reported august texas us government launched several inquiries ufo sightings many believed sparked cold war paranoia became known project blue book encounters ufos looked air force decades files closed made available online free allowing anyone examine evidence usaf says blue book included sightings reports remained unidentified around per cent files files accessed previously available visiting national archives washington professor andrew imperial college london department physics tells mailonline generally speaking ufo sightings either explained artefact effect even space junk left unexplained enough evidence difficult judge video instance poor quality nasa access high quality images may investigate nasa yet comment incidents space agency iss live stream rover photos become huge source evidence conspiracy theorists many scientists believe ufo sightings psychological phenomenon called pareidolia describes brain response seeing significant objects random places vast majority images vague elusive posted ufo witnesses earth many fairly mundane explanation nigel watson author ufo investigations manual told mailonline problem nasa denies things explains people think conspiracy hide truth aliens visiting planet october ufo watchers said witnessed strange object near station spacewalk astronauts reid alexander gerst \n",
      "Original summary: alien hunter toby recently spotted ufo outside the iss but the live stream was interrupted for seconds after it appeared in separate incident grey object was seen coming over the horizon one possibility is that it was the moon or debris left on the lens \n"
     ]
    },
    {
     "name": "stdout",
     "output_type": "stream",
     "text": [
      "Predicted summary:  the man was pictured on camera in the river river station in the north east of the island of the year old was captured by nasa photographer in the space station the station was on the market for the first time since the moon was released\n",
      "\n",
      "\n",
      "Article: nigeria president declared state emergency parts country afflicted violence militant islamist group boko haram become imperative take decisive measures necessary restore normalcy country especially within affected communities president goodluck jonathan said saturday address order includes closure country borders affected areas last two months seen widespread bloodshed northern nigeria churches police stations among targets boko haram claimed responsibility series attacks churches central northern nigeria christmas day including one near capital abuja killed nearly people two days later bomb attack islamic school madrassa southern delta state injured several children clear whether intended revenge sectarian attacks rare delta state jonathan said instructed military police chiefs violence stricken areas ensure life property protected \n",
      "Original summary: the president called for state of emergency in certain parts of the country those parts have seen violence by the group boko haram \n",
      "Predicted summary:  new the death toll rises to the united states the number of the deaths are in the region of the region the official says the group has been trying to boko haram\n",
      "\n",
      "\n",
      "Article: daniel daily mail australia hardline sydney islamic preacher launched inflammatory facebook tirade saying muslims preach acceptance never australian enough bigots post supporters sheikh abu adnan sydney western suburbs wrote advice muslims trying hard send message acceptance australian screaming responses many facebook articles goes rant realise comments go unnoticed bigoted australian white blue eyed carry white name like john scroll read facebook post full scroll video sheik abu adnan considered prominent lecturer islamic community sydney sheikh abu adnan pictured delivering lecture global islamic youth centre sydney south western suburbs sheikh continued forget born yet ask migrant parents people hated asian neighbours different eyes read top fathers issues greeks italians immigrated australia invented derogatory term grandfathers problems irish catholics great grandfathers believed black people developed sub humans deserved killed land raped never australian enough bigot wife wears oppressed sheikh respond daily mail australia query remarks facebook comments followed said aimed australians bigoted community members obviously many good post aiming bigots get wrote know many aussies racist leading muslim activist dr jamal rifi blasted post said sent wrong message right feel right feel australian anyone else said feel anything less regardless born regardless faith regardless funny name sounds post sheikh adnan also labelled unnamed muslim activists criticised community win white votes house negros sheikh told daily mail australia comments anyone particular emailed comments general advise made incident particular event particular individual community dr rifi fired back saying real people demonising islamic community likes australian militants khaled sharrouf mohamed elomar fighting middle east reckon one demonising community australians fighting overseas parading severed heads facebook culprit everyone else point finger people overseas demonising community family religion wrong pictured australian jihadist khaled sharrouf australian militant khaled sharrouf pictured earlier times mike tyson twitter account purporting belong khaled sharrouf posted horrific image son wielding head dead fighter dr rifi said sheikh take stand enlighten inform supporters way lead follow masses taking stand informs masses said last week sheikh abu adnan one islamic community members groups signed letter opposing prime minister tony abbott proposed counter terrorism laws legislation divided local islamic community members refusing meet mr abbott laws laws clearly target muslims unjustly petition said language law neutral secret practice laws specifically target muslims debate proposed laws continues advice muslims trying hard send message acceptance australian screaming responses many facebook articles realise comments go unnoticed bigoted australian white blue eyed carry white name like john bigot wife wears hijab oppressed brown follow religion originated far away deserts middle east forget born yet ask migrant parents people hated asian neighbours different eyes read top fathers issues greeks italians immigrated australia invented derogatory term grandfathers problems irish catholics great grandfathers believed black people developed sub humans deserved killed land raped never australian enough sincere reminder muslim politicians like continually demonise community thinking win hearts minds white voters stop dancing embarrassing stop house negro source facebook com sorry currently accepting comments article \n",
      "Original summary: sheikh abu adnan warns muslims they will never be australian enough for the australian community leader dr jamal blasts the post saying the comment sends the wrong message have the right to feel the right to feel as australian as anyone else dr said \n",
      "Predicted summary:  the year old was in the middle east of the year of the revolution he was speaking to be released on bail and was released by the british regime he was speaking to the uk for years\n",
      "\n",
      "\n",
      "Article: steve doughty last updated pm th january sir terry pratchett prominent backers assisted suicide anyone given months less live legal right ask doctor help kill easy painless manner possible influential report said yesterday said avoid unnecessary suffering right choose die limited mental capacity express wish end life diagnosed terminal illness two doctors among string safeguards proposed minimum two week period dying man woman would given time change mind anyone physically unable take prescribed deadly drugs would ruled avoid potential abuse vulnerable malevolent relatives friends report commission assisted dying led former labour lord chancellor lord falconer stopped short recommending euthanasia kind practised dignitas clinic switzerland however lord falconer told bbc radio today programme think ever system completely water tight therefore looked current system check whether really terminally ill go dignitas without second check commission set amid growing controversy deaths dignitas erosion year old law assisted suicide sets maximum year jail sentence anyone aids death another followed new rules set director public prosecutions keir starmer effectively free people threat criminal charges help suicide somebody desperately ill compassion without thought gain right life groups said report fixed favour calling legalised assisted suicide pointed financed author sir terry pratchett businessman bernard lewis prominent backers assisted suicide report recommended string safeguards proposed minimum two week period dying man woman would given time change mind lord falconer chose ten members commission led attempt bring assisted dying bill lords three years ago page report states dying person met legal criteria would able ask doctor prescribe dose medication would end life report set detail system assisted dying would work individual would diagnosed doctor terminal illness likely kill within year would require capacity express choice die second doctor would approve first doctor diagnosis would speak patient make sure decision die firm made pressure others two doctor system similar process developed allow legalised abortion use numbers abortions england risen nearly year report recommended either doctor suspicious independent assessment carried nurse care worker social worker doctor collect poison pharmacist supervise death patient report said take poison preferably mouth disabled patient might allowed use automated syringe machine added report also said provision high quality end life care must priority government independent issue assisted dying richard hawkes disability charity scope said little confidence commission simple safeguards said drew arbitrary line people terminal illness people long term impairments added reality lines two often blurred making distinction unworkable dr peter saunders care killing campaign group dismissed commission sham adding investigation unnecessary biased lacking transparency report seriously flawed differing view including representatives major disability rights organisations doctors groups invited join commission sarah wootton dignity dying said opponents change law continue attack efforts find solution unbearable suffering continues daily absence compassionate assisted dying law cannot suggest alternative \n",
      "Original summary: report said the right to die should be limited to those who have mental capacity to express their wish but commission leader lord admits no system can be water tight \n"
     ]
    },
    {
     "name": "stdout",
     "output_type": "stream",
     "text": [
      "Predicted summary:  dr david said he would not be able to leave the nhs because of patients he says he is not enough to see the drugs as they are not enough to be\n",
      "\n",
      "\n",
      "Article: two former navy seals among four americans killed last week attack consulate benghazi libya died rushing aid colleagues according sources familiar incident glen doherty tyrone woods benghazi part security contractor force september ensconced safety annex location another part city got word main consulate building fire diplomats armed force nine people overwhelmed deteriorating situation doherty woods along security personnel left secure annex made way chaotic scene rounding consulate staff attack guiding back second safe building grim task also included recovering body computer expert sean smith succumbed smoke inhalation fire ignited attackers sources said diesel fuel used set fire thick black smoke created accelerant added confusion ground ambassador chris stevens gone missing attack among evacuated later reported dead state department released details stevens died though numerous media reports said ambassador taken consulate benghazi medical center locals arriving back annex incident far security team included woods doherty attack launched annex one intense initial assault main building military officials benghazi told cnn rocket propelled grenades among heavy firepower used attackers annex one official saying mortars also fired two additional personnel killed two others wounded senior administration official said last week providing details attack two victims later confirmed doherty woods men remembered last week transfer remains ceremony attended secretary state hillary clinton president barack obama doherty grew massachusetts passion outdoors served two tours duty iraq starting invasion leaving military became private security contractor working afghanistan pakistan yemen diplomatic source told cnn doherty libya search shoulder fired anti aircraft missiles mission given high priority fall longtime libyan strongman moammar gadhafi woods registered nurse certified paramedic served multiple tours iraq afghanistan retiring navy worked diplomatic security posts central america middle east four americans four patriots loved country chose serve serve well obama said mission believed knew danger accepted simply embrace american ideal lived embodied courage hope yes idealism cnn arwa damon contributed report benghazi libya \n",
      "Original summary: glen doherty and tyrone woods were part of security team that rushed to scene of consulate attack after they made their way back to safe location they came under fire they were among four americans killed last week in benghazi \n",
      "Predicted summary:  new the death toll rises to the united states the victims were found in the city of the capital one of the victims were injured in the attack\n",
      "\n",
      "\n",
      "Article: juventus scouts watch sheffield united striker diego de girolamo play italy wednesday chesterfield born forward contract end season juventus keen recruit summer year old play italy qatar empoli ground serie sides also represented diego de girolamo pictured loan york city scouted serie giants juventus wednesday de girolamo contract sheffield united summer also watched sunderland de girolamo qualifies italy father hails naples currently loan league two york city watched sunderland scouts weekend bournemouth also expressed interest move juventus would fairytale although sheffield united would get less compensation fee move abroad juventus alerted ability arrigo sacchi former italy ac milan coach critical italian sides last week saying contain many foreign players youth system sheffield united would receive less compensation de girolamo moves team abroad summer \n",
      "Original summary: diego de is out of contract at sheffield united this summer juventus are keen to sign him while sunderland are also interested de will play for italy under side against qatar on wednesday the striker is currently on loan at league two side york city \n",
      "Predicted summary:  chelsea are interested in signing of the bundesliga side of the year old has been in the bundesliga for million in the summer the year old has been in the bundesliga for the first time since the season\n",
      "\n",
      "\n",
      "Article: retired holiday camp entertainer britain married man tied knot whopping eight times set celebrate tenth wedding anniversary ron sheppard somerset first walked aisle years ago since married eight times eight children welcomed grandchildren four great grandchildren however despite keen past marry mr sheppard happier ever promises latest wife year old filipino weng last ron sheppard somerset first walked aisle years ago married eighth wife year old filipino weng ten years couple celebrating ten years marriage second longest partnership mr sheppard said made double figures second longest marriage first one real marriage like love much year goes love everything together love mr sheppard written book life set film made married eight women since first ceremony aged tied knot first wife margaret years ago pair two children together divorcing two years later met second wife jeanette wed lasted one year mr sheppard since described marriage business transaction enabled receive bigger house council shortly divorce mr sheppard met third wife lesley tied knot went two children together said thought keeps left five years later following string arguments mr sheppard first walked aisle married first wife margaret age mr sheppard married third wife lesley two children together left five years later went meet year old blonde kathy holiday camp somerset pair married daughter together lasted four years despite mr sheppard claiming rebound relationship following split lesley long split met fifth wife sue bingo hall despite claiming swept feet moved two bedroom home married two sons together threw offered job bournemouth went marry pair met stop trip singapore lasted four years split mr sheppard cheated holiday alone thailand margaret married three children divorced two years jeanette married marriage lasted one year lesley married two sons together mr sheppard left kathy married one daughter together lasted four years sue married two sons threw married marriage singaporean bride ended four years wan married left return home bangkok eight months weng married due celebrate tenth anniversary next week divorce number six behind met seventh wife wan bangkok trip visit old friend however returning uk pair stayed together eight months bride announced returning native country mr sheppard met current wife ms reaching online sparking friendship retired entertainer mentored actor singer shane richie said finally settled finding true love soul mate mr sheppard married year old kathy rebound lesley mr sheppard tied knot fifth wife sue already seven months pregnant marriage last total years making mr sheppard longest partnership eight marriages couple celebrate tenth wedding anniversary november mr sheppard said going go spain celebrate weng gets two days instead think nice steak meal bottle pop made ten years hope least another ten come mr sheppard spent last years married longest union lasted years shortest lasted months mr sheppard met ms splitting seventh wife wan returned home bangkok eight months met ms sent email christian relationship advisor philippines shortly splitting seventh wife wan eight months poured heart lengthy message kept touch bride flying santa rosa laguna philippines meet following may couple instantly clicked married isle wight month later november mr sheppard added decade pure joy love everything marriage weng changed life way could imagined people say made never argument ten years compatible way never experienced mr sheppard whose new memoir lord wedding rings details lothario lifestyle previously admitted failed mention previous marriages ms proposing scared told truth would reject knew would found right woman time sad always planned tell could pluck courage fact told saw planning new book saw notes previous partnerships said saw emailing publisher saw words wife wife wife asked meant tell however former student nurse seem mind said angry said culture get married even twice hear ron married seven times big surprise would fallen love knew ron lived colourful life gentle caring man knew would lovely life together mr sheppard married ms said hopes last another decade together \n",
      "Original summary: ron sheppard from somerset first walked down the aisle years ago retired entertainer has had eight wives eight children and grandchildren married in and pair are set to celebrate years together promises filipino wife will be his last after finding true love and soul mate \n"
     ]
    },
    {
     "name": "stdout",
     "output_type": "stream",
     "text": [
      "Predicted summary:  the year old was born in the couple in the year old girl who was born in the village of her mother and sister she has been named as the couple of the year old\n",
      "\n",
      "\n"
     ]
    }
   ],
   "source": [
    "#bidirectional\n",
    "for i in range(0,10):\n",
    "    print(\"Article:\",seq2text(x_val[i]))\n",
    "    print(\"Original summary:\",seq2summary(y_val[i]))\n",
    "    print(\"Predicted summary:\",decode_sequence(x_val[i].reshape(1,max_text_len)))\n",
    "    print(\"\\n\")"
   ]
  }
 ],
 "metadata": {
  "kernelspec": {
   "display_name": "Python [conda env:175]",
   "language": "python",
   "name": "conda-env-175-py"
  },
  "language_info": {
   "codemirror_mode": {
    "name": "ipython",
    "version": 3
   },
   "file_extension": ".py",
   "mimetype": "text/x-python",
   "name": "python",
   "nbconvert_exporter": "python",
   "pygments_lexer": "ipython3",
   "version": "3.8.12"
  }
 },
 "nbformat": 4,
 "nbformat_minor": 5
}
