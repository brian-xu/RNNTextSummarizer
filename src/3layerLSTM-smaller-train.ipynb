{
 "cells": [
  {
   "cell_type": "markdown",
   "id": "ccd216d9",
   "metadata": {},
   "source": [
    "This was where we trained and compared results from the 3 LSTM layer model with a smaller number of training data. 10,000 vs 100,000"
   ]
  },
  {
   "cell_type": "code",
   "execution_count": 1,
   "id": "e9fbac5a",
   "metadata": {},
   "outputs": [],
   "source": [
    "import numpy as np\n",
    "import pandas as pd \n",
    "import re\n",
    "from bs4 import BeautifulSoup\n",
    "from tensorflow.keras.preprocessing.text import Tokenizer \n",
    "from tensorflow.keras.preprocessing.sequence import pad_sequences\n",
    "from nltk.corpus import stopwords\n",
    "import warnings\n",
    "pd.set_option(\"display.max_colwidth\", 200)\n",
    "warnings.filterwarnings(\"ignore\")\n",
    "import pathlib"
   ]
  },
  {
   "cell_type": "code",
   "execution_count": 2,
   "id": "6931b827",
   "metadata": {},
   "outputs": [
    {
     "name": "stdout",
     "output_type": "stream",
     "text": [
      "<class 'pandas.core.frame.DataFrame'>\n",
      "RangeIndex: 10000 entries, 0 to 9999\n",
      "Data columns (total 3 columns):\n",
      " #   Column      Non-Null Count  Dtype \n",
      "---  ------      --------------  ----- \n",
      " 0   id          10000 non-null  object\n",
      " 1   article     10000 non-null  object\n",
      " 2   highlights  10000 non-null  object\n",
      "dtypes: object(3)\n",
      "memory usage: 234.5+ KB\n"
     ]
    }
   ],
   "source": [
    "data=pd.read_csv(f\"{pathlib.Path().resolve()}\\\\input\\\\cnn_dailymail\\\\train.csv\", nrows=10000)\n",
    "data.info()"
   ]
  },
  {
   "cell_type": "code",
   "execution_count": 3,
   "id": "452f3b48",
   "metadata": {},
   "outputs": [],
   "source": [
    "data.drop_duplicates(subset=['article'],inplace=True) #dropping duplicates\n",
    "data.dropna(axis=0,inplace=True) #dropping na"
   ]
  },
  {
   "cell_type": "code",
   "execution_count": 4,
   "id": "06685920",
   "metadata": {},
   "outputs": [
    {
     "name": "stdout",
     "output_type": "stream",
     "text": [
      "<class 'pandas.core.frame.DataFrame'>\n",
      "Int64Index: 9997 entries, 0 to 9999\n",
      "Data columns (total 3 columns):\n",
      " #   Column      Non-Null Count  Dtype \n",
      "---  ------      --------------  ----- \n",
      " 0   id          9997 non-null   object\n",
      " 1   article     9997 non-null   object\n",
      " 2   highlights  9997 non-null   object\n",
      "dtypes: object(3)\n",
      "memory usage: 312.4+ KB\n"
     ]
    }
   ],
   "source": [
    "data.info()"
   ]
  },
  {
   "cell_type": "code",
   "execution_count": 5,
   "id": "ac1295ca",
   "metadata": {},
   "outputs": [],
   "source": [
    "contraction_mapping = {\"ain't\": \"is not\", \"aren't\": \"are not\",\"can't\": \"cannot\", \"'cause\": \"because\", \"could've\": \"could have\", \"couldn't\": \"could not\",\n",
    "                           \"didn't\": \"did not\",  \"doesn't\": \"does not\", \"don't\": \"do not\", \"hadn't\": \"had not\", \"hasn't\": \"has not\", \"haven't\": \"have not\",\n",
    "                           \"he'd\": \"he would\",\"he'll\": \"he will\", \"he's\": \"he is\", \"how'd\": \"how did\", \"how'd'y\": \"how do you\", \"how'll\": \"how will\", \"how's\": \"how is\",\n",
    "                           \"I'd\": \"I would\", \"I'd've\": \"I would have\", \"I'll\": \"I will\", \"I'll've\": \"I will have\",\"I'm\": \"I am\", \"I've\": \"I have\", \"i'd\": \"i would\",\n",
    "                           \"i'd've\": \"i would have\", \"i'll\": \"i will\",  \"i'll've\": \"i will have\",\"i'm\": \"i am\", \"i've\": \"i have\", \"isn't\": \"is not\", \"it'd\": \"it would\",\n",
    "                           \"it'd've\": \"it would have\", \"it'll\": \"it will\", \"it'll've\": \"it will have\",\"it's\": \"it is\", \"let's\": \"let us\", \"ma'am\": \"madam\",\n",
    "                           \"mayn't\": \"may not\", \"might've\": \"might have\",\"mightn't\": \"might not\",\"mightn't've\": \"might not have\", \"must've\": \"must have\",\n",
    "                           \"mustn't\": \"must not\", \"mustn't've\": \"must not have\", \"needn't\": \"need not\", \"needn't've\": \"need not have\",\"o'clock\": \"of the clock\",\n",
    "                           \"oughtn't\": \"ought not\", \"oughtn't've\": \"ought not have\", \"shan't\": \"shall not\", \"sha'n't\": \"shall not\", \"shan't've\": \"shall not have\",\n",
    "                           \"she'd\": \"she would\", \"she'd've\": \"she would have\", \"she'll\": \"she will\", \"she'll've\": \"she will have\", \"she's\": \"she is\",\n",
    "                           \"should've\": \"should have\", \"shouldn't\": \"should not\", \"shouldn't've\": \"should not have\", \"so've\": \"so have\",\"so's\": \"so as\",\n",
    "                           \"this's\": \"this is\",\"that'd\": \"that would\", \"that'd've\": \"that would have\", \"that's\": \"that is\", \"there'd\": \"there would\",\n",
    "                           \"there'd've\": \"there would have\", \"there's\": \"there is\", \"here's\": \"here is\",\"they'd\": \"they would\", \"they'd've\": \"they would have\",\n",
    "                           \"they'll\": \"they will\", \"they'll've\": \"they will have\", \"they're\": \"they are\", \"they've\": \"they have\", \"to've\": \"to have\",\n",
    "                           \"wasn't\": \"was not\", \"we'd\": \"we would\", \"we'd've\": \"we would have\", \"we'll\": \"we will\", \"we'll've\": \"we will have\", \"we're\": \"we are\",\n",
    "                           \"we've\": \"we have\", \"weren't\": \"were not\", \"what'll\": \"what will\", \"what'll've\": \"what will have\", \"what're\": \"what are\",\n",
    "                           \"what's\": \"what is\", \"what've\": \"what have\", \"when's\": \"when is\", \"when've\": \"when have\", \"where'd\": \"where did\", \"where's\": \"where is\",\n",
    "                           \"where've\": \"where have\", \"who'll\": \"who will\", \"who'll've\": \"who will have\", \"who's\": \"who is\", \"who've\": \"who have\",\n",
    "                           \"why's\": \"why is\", \"why've\": \"why have\", \"will've\": \"will have\", \"won't\": \"will not\", \"won't've\": \"will not have\",\n",
    "                           \"would've\": \"would have\", \"wouldn't\": \"would not\", \"wouldn't've\": \"would not have\", \"y'all\": \"you all\",\n",
    "                           \"y'all'd\": \"you all would\",\"y'all'd've\": \"you all would have\",\"y'all're\": \"you all are\",\"y'all've\": \"you all have\",\n",
    "                           \"you'd\": \"you would\", \"you'd've\": \"you would have\", \"you'll\": \"you will\", \"you'll've\": \"you will have\",\n",
    "                           \"you're\": \"you are\", \"you've\": \"you have\"}"
   ]
  },
  {
   "cell_type": "code",
   "execution_count": 6,
   "id": "e48453b9",
   "metadata": {},
   "outputs": [],
   "source": [
    "stop_words = set(stopwords.words('english')) \n",
    "\n",
    "def text_cleaner(text,num):\n",
    "    newString = text.lower()\n",
    "    newString = BeautifulSoup(newString).text\n",
    "    newString = re.sub(r'\\([^)]*\\)', '', newString)\n",
    "    newString = re.sub('\"','', newString)\n",
    "    newString = ' '.join([contraction_mapping[t] if t in contraction_mapping else t for t in newString.split(\" \")])    \n",
    "    newString = re.sub(r\"'s\\b\",\"\",newString)\n",
    "    newString = re.sub(\"[^a-zA-Z]\", \" \", newString) \n",
    "    newString = re.sub('[m]{2,}', 'mm', newString)\n",
    "    if (num==0):\n",
    "        tokens = [w for w in newString.split() if not w in stop_words]\n",
    "    else:\n",
    "        tokens=newString.split()\n",
    "    long_words=[]\n",
    "    for i in tokens:\n",
    "        if len(i)>1: # removing short words\n",
    "            long_words.append(i)   \n",
    "    return (\" \".join(long_words)).strip()"
   ]
  },
  {
   "cell_type": "code",
   "execution_count": 7,
   "id": "46ea9cae",
   "metadata": {},
   "outputs": [],
   "source": [
    "#call the function\n",
    "cleaned_text = []\n",
    "for t in data['article']:\n",
    "    cleaned_text.append(text_cleaner(t,0)) "
   ]
  },
  {
   "cell_type": "code",
   "execution_count": 8,
   "id": "c2ec04a3",
   "metadata": {},
   "outputs": [],
   "source": [
    "#call the function\n",
    "cleaned_summary = []\n",
    "for t in data['highlights']:\n",
    "    cleaned_summary.append(text_cleaner(t,1))"
   ]
  },
  {
   "cell_type": "code",
   "execution_count": 9,
   "id": "b8ffc0f1",
   "metadata": {},
   "outputs": [],
   "source": [
    "data['cleaned_text']=cleaned_text\n",
    "data['cleaned_summary']=cleaned_summary"
   ]
  },
  {
   "cell_type": "code",
   "execution_count": 10,
   "id": "aa8e0f8e",
   "metadata": {},
   "outputs": [],
   "source": [
    "#drop empty rows\n",
    "data.replace('', np.nan, inplace=True)\n",
    "data.dropna(axis=0,inplace=True)"
   ]
  },
  {
   "cell_type": "code",
   "execution_count": 11,
   "id": "ea83ee71",
   "metadata": {},
   "outputs": [
    {
     "data": {
      "image/png": "[encoded data removed]",
      "text/plain": [
       "<Figure size 432x288 with 2 Axes>"
      ]
     },
     "metadata": {
      "needs_background": "light"
     },
     "output_type": "display_data"
    }
   ],
   "source": [
    "import matplotlib.pyplot as plt\n",
    "\n",
    "text_word_count = []\n",
    "summary_word_count = []\n",
    "\n",
    "# populate the lists with sentence lengths\n",
    "for i in data['cleaned_text']:\n",
    "      text_word_count.append(len(i.split()))\n",
    "\n",
    "for i in data['cleaned_summary']:\n",
    "      summary_word_count.append(len(i.split()))\n",
    "\n",
    "length_df = pd.DataFrame({'text':text_word_count, 'summary':summary_word_count})\n",
    "\n",
    "length_df.hist(bins = 30)\n",
    "plt.show()"
   ]
  },
  {
   "cell_type": "code",
   "execution_count": 12,
   "id": "b5c9a420",
   "metadata": {},
   "outputs": [
    {
     "name": "stdout",
     "output_type": "stream",
     "text": [
      "0.6858057417225167\n"
     ]
    }
   ],
   "source": [
    "cnt=0\n",
    "for i in data['cleaned_summary']:\n",
    "    if(len(i.split())<=50):\n",
    "        cnt=cnt+1\n",
    "print(cnt/len(data['cleaned_summary']))"
   ]
  },
  {
   "cell_type": "code",
   "execution_count": 13,
   "id": "649d7ab1",
   "metadata": {},
   "outputs": [
    {
     "name": "stdout",
     "output_type": "stream",
     "text": [
      "0.939481844553366\n"
     ]
    }
   ],
   "source": [
    "cnt=0\n",
    "for i in data['cleaned_text']:\n",
    "    if(len(i.split())<=700):\n",
    "        cnt=cnt+1\n",
    "print(cnt/len(data['cleaned_text']))"
   ]
  },
  {
   "cell_type": "code",
   "execution_count": 14,
   "id": "a40f54d8",
   "metadata": {},
   "outputs": [],
   "source": [
    "max_text_len=700\n",
    "max_summary_len=50"
   ]
  },
  {
   "cell_type": "code",
   "execution_count": 15,
   "id": "231d346d",
   "metadata": {},
   "outputs": [],
   "source": [
    "cleaned_text =np.array(data['cleaned_text'])\n",
    "cleaned_summary=np.array(data['cleaned_summary'])\n",
    "\n",
    "short_text=[]\n",
    "short_summary=[]\n",
    "\n",
    "for i in range(len(cleaned_text)):\n",
    "    if(len(cleaned_summary[i].split())<=max_summary_len and len(cleaned_text[i].split())<=max_text_len):\n",
    "        short_text.append(cleaned_text[i])\n",
    "        short_summary.append(cleaned_summary[i])\n",
    "        \n",
    "df=pd.DataFrame({'text':short_text,'summary':short_summary})"
   ]
  },
  {
   "cell_type": "code",
   "execution_count": 16,
   "id": "a91ff862",
   "metadata": {},
   "outputs": [],
   "source": [
    "#making sure tokens dont appear in the summaries\n",
    "for summary in df['summary']:\n",
    "    if 'sostok' in summary:\n",
    "        print(\"ERROR\")\n",
    "    if 'eostok' in summary:\n",
    "        print(\"ERROR\")"
   ]
  },
  {
   "cell_type": "code",
   "execution_count": 17,
   "id": "113b7b7c",
   "metadata": {},
   "outputs": [],
   "source": [
    "df['summary'] = df['summary'].apply(lambda x : 'sostok '+ x + ' eostok')"
   ]
  },
  {
   "cell_type": "code",
   "execution_count": 18,
   "id": "ebb4ecc8",
   "metadata": {},
   "outputs": [],
   "source": [
    "from sklearn.model_selection import train_test_split\n",
    "x_tr,x_val,y_tr,y_val=train_test_split(np.array(df['text']),np.array(df['summary']),test_size=0.1,random_state=0,shuffle=True) "
   ]
  },
  {
   "cell_type": "code",
   "execution_count": 19,
   "id": "9cbb1687",
   "metadata": {},
   "outputs": [],
   "source": [
    "from tensorflow.keras.preprocessing.text import Tokenizer \n",
    "from tensorflow.keras.preprocessing.sequence import pad_sequences\n",
    "\n",
    "#prepare a tokenizer for reviews on training data\n",
    "x_tokenizer = Tokenizer() \n",
    "x_tokenizer.fit_on_texts(list(x_tr))"
   ]
  },
  {
   "cell_type": "code",
   "execution_count": 20,
   "id": "08bd3d72",
   "metadata": {},
   "outputs": [
    {
     "name": "stdout",
     "output_type": "stream",
     "text": [
      "% of rare words in vocabulary: 54.99456869484993\n",
      "Total Coverage of rare words: 2.940365546377151\n"
     ]
    }
   ],
   "source": [
    "thresh=4\n",
    "\n",
    "cnt=0\n",
    "tot_cnt=0\n",
    "freq=0\n",
    "tot_freq=0\n",
    "\n",
    "for key,value in x_tokenizer.word_counts.items():\n",
    "    tot_cnt=tot_cnt+1\n",
    "    tot_freq=tot_freq+value\n",
    "    if(value<thresh):\n",
    "        cnt=cnt+1\n",
    "        freq=freq+value\n",
    "    \n",
    "print(\"% of rare words in vocabulary:\",(cnt/tot_cnt)*100)\n",
    "print(\"Total Coverage of rare words:\",(freq/tot_freq)*100)"
   ]
  },
  {
   "cell_type": "code",
   "execution_count": 21,
   "id": "b4f82003",
   "metadata": {},
   "outputs": [],
   "source": [
    "#prepare a tokenizer for articles on training data\n",
    "x_tokenizer = Tokenizer(num_words=tot_cnt-cnt) \n",
    "x_tokenizer.fit_on_texts(list(x_tr))\n",
    "\n",
    "#convert text sequences into integer sequences\n",
    "x_tr_seq    =   x_tokenizer.texts_to_sequences(x_tr) \n",
    "x_val_seq   =   x_tokenizer.texts_to_sequences(x_val)\n",
    "\n",
    "#padding zero upto maximum length\n",
    "x_tr    =   pad_sequences(x_tr_seq,  maxlen=max_text_len, padding='post')\n",
    "x_val   =   pad_sequences(x_val_seq, maxlen=max_text_len, padding='post')\n",
    "\n",
    "#size of vocabulary ( +1 for padding token)\n",
    "x_voc   =  x_tokenizer.num_words + 1"
   ]
  },
  {
   "cell_type": "code",
   "execution_count": 22,
   "id": "ed69e342",
   "metadata": {},
   "outputs": [
    {
     "data": {
      "text/plain": [
       "30246"
      ]
     },
     "execution_count": 22,
     "metadata": {},
     "output_type": "execute_result"
    }
   ],
   "source": [
    "x_voc"
   ]
  },
  {
   "cell_type": "code",
   "execution_count": 23,
   "id": "758d54fc",
   "metadata": {},
   "outputs": [],
   "source": [
    "#prepare a tokenizer for headlines on training data\n",
    "y_tokenizer = Tokenizer()   \n",
    "y_tokenizer.fit_on_texts(list(y_tr))"
   ]
  },
  {
   "cell_type": "code",
   "execution_count": 24,
   "id": "fb3825bd",
   "metadata": {},
   "outputs": [
    {
     "name": "stdout",
     "output_type": "stream",
     "text": [
      "% of rare words in vocabulary: 79.36604429005645\n",
      "Total Coverage of rare words: 14.193531406412443\n"
     ]
    }
   ],
   "source": [
    "thresh=6\n",
    "\n",
    "cnt=0\n",
    "tot_cnt=0\n",
    "freq=0\n",
    "tot_freq=0\n",
    "\n",
    "for key,value in y_tokenizer.word_counts.items():\n",
    "    tot_cnt=tot_cnt+1\n",
    "    tot_freq=tot_freq+value\n",
    "    if(value<thresh):\n",
    "        cnt=cnt+1\n",
    "        freq=freq+value\n",
    "    \n",
    "print(\"% of rare words in vocabulary:\",(cnt/tot_cnt)*100)\n",
    "print(\"Total Coverage of rare words:\",(freq/tot_freq)*100)"
   ]
  },
  {
   "cell_type": "code",
   "execution_count": 25,
   "id": "68032ca6",
   "metadata": {},
   "outputs": [],
   "source": [
    "#prepare a tokenizer for reviews on training data\n",
    "y_tokenizer = Tokenizer(num_words=tot_cnt-cnt) \n",
    "y_tokenizer.fit_on_texts(list(y_tr))\n",
    "\n",
    "#convert text sequences into integer sequences\n",
    "y_tr_seq    =   y_tokenizer.texts_to_sequences(y_tr) \n",
    "y_val_seq   =   y_tokenizer.texts_to_sequences(y_val) \n",
    "\n",
    "#padding zero upto maximum length\n",
    "y_tr    =   pad_sequences(y_tr_seq, maxlen=max_summary_len, padding='post')\n",
    "y_val   =   pad_sequences(y_val_seq, maxlen=max_summary_len, padding='post')\n",
    "\n",
    "#size of vocabulary\n",
    "y_voc  =   y_tokenizer.num_words +1"
   ]
  },
  {
   "cell_type": "code",
   "execution_count": 26,
   "id": "00735635",
   "metadata": {},
   "outputs": [
    {
     "data": {
      "text/plain": [
       "4753"
      ]
     },
     "execution_count": 26,
     "metadata": {},
     "output_type": "execute_result"
    }
   ],
   "source": [
    "y_voc"
   ]
  },
  {
   "cell_type": "code",
   "execution_count": 27,
   "id": "7db26b46",
   "metadata": {},
   "outputs": [
    {
     "data": {
      "text/plain": [
       "(5903, 5903)"
      ]
     },
     "execution_count": 27,
     "metadata": {},
     "output_type": "execute_result"
    }
   ],
   "source": [
    "y_tokenizer.word_counts['sostok'], len(y_tr)"
   ]
  },
  {
   "cell_type": "code",
   "execution_count": 28,
   "id": "55fbaab1",
   "metadata": {},
   "outputs": [],
   "source": [
    "#delete rows that only have start and end tokens\n",
    "ind=[]\n",
    "for i in range(len(y_tr)):\n",
    "    cnt=0\n",
    "    for j in y_tr[i]:\n",
    "        if j!=0:\n",
    "            cnt=cnt+1\n",
    "    if(cnt==2):\n",
    "        ind.append(i)\n",
    "\n",
    "y_tr=np.delete(y_tr, ind, axis=0)\n",
    "x_tr=np.delete(x_tr, ind, axis=0)"
   ]
  },
  {
   "cell_type": "code",
   "execution_count": 29,
   "id": "8491c1da",
   "metadata": {},
   "outputs": [],
   "source": [
    "ind=[]\n",
    "for i in range(len(y_val)):\n",
    "    cnt=0\n",
    "    for j in y_val[i]:\n",
    "        if j!=0:\n",
    "            cnt=cnt+1\n",
    "    if(cnt==2):\n",
    "        ind.append(i)\n",
    "\n",
    "y_val=np.delete(y_val,ind, axis=0)\n",
    "x_val=np.delete(x_val,ind, axis=0)"
   ]
  },
  {
   "cell_type": "code",
   "execution_count": 30,
   "id": "f016d76a",
   "metadata": {},
   "outputs": [],
   "source": [
    "ind=[]\n",
    "for i in range(len(y_val)):\n",
    "    cnt=0\n",
    "    for j in y_val[i]:\n",
    "        if j!=0:\n",
    "            cnt=cnt+1\n",
    "    if(cnt==2):\n",
    "        ind.append(i)\n",
    "\n",
    "y_val=np.delete(y_val,ind, axis=0)\n",
    "x_val=np.delete(x_val,ind, axis=0)"
   ]
  },
  {
   "cell_type": "code",
   "execution_count": 31,
   "id": "c453373a",
   "metadata": {},
   "outputs": [
    {
     "name": "stdout",
     "output_type": "stream",
     "text": [
      "2.5.0\n",
      "[PhysicalDevice(name='/physical_device:CPU:0', device_type='CPU'), PhysicalDevice(name='/physical_device:GPU:0', device_type='GPU')]\n",
      "Num GPUs Available:  1\n"
     ]
    }
   ],
   "source": [
    "# from tensorflow.keras.layers import Input, LSTM, Embedding, Dense, Concatenate, TimeDistributed, Attention\n",
    "# from tensorflow.keras.models import Model\n",
    "# from tensorflow.keras.callbacks import EarlyStopping\n",
    "import tensorflow as tf\n",
    "from tensorflow.keras import backend as K \n",
    "from tensorflow.keras.layers import Input, LSTM, Embedding, Dense, Concatenate, TimeDistributed, Bidirectional, Attention\n",
    "from tensorflow.keras.models import Model\n",
    "from tensorflow.keras.callbacks import EarlyStopping\n",
    "\n",
    "print(tf.__version__)\n",
    "print(tf.config.list_physical_devices())\n",
    "print(\"Num GPUs Available: \", len(tf.config.list_physical_devices('GPU')))"
   ]
  },
  {
   "cell_type": "markdown",
   "id": "bf82466b",
   "metadata": {},
   "source": [
    "## Model"
   ]
  },
  {
   "cell_type": "code",
   "execution_count": 32,
   "id": "10bbcbc6",
   "metadata": {},
   "outputs": [],
   "source": [
    "# LSTM\n",
    "K.clear_session()\n",
    "\n",
    "latent_dim = 300\n",
    "embedding_dim = 100\n",
    "\n",
    "# Encoder\n",
    "encoder_inputs = Input(shape=(None,))\n",
    "\n",
    "#embedding layer\n",
    "enc_emb =  Embedding(x_voc, embedding_dim, trainable=True)(encoder_inputs)\n",
    "\n",
    "#encoder lstm 1\n",
    "encoder_lstm1 = LSTM(latent_dim, return_sequences=True,return_state=True,dropout=0.2,recurrent_dropout=0)\n",
    "encoder_output1, state_h1, state_c1 = encoder_lstm1(enc_emb)\n",
    "\n",
    "#encoder lstm 2\n",
    "encoder_lstm2 = LSTM(latent_dim,return_sequences=True,return_state=True,dropout=0.2,recurrent_dropout=0)\n",
    "encoder_output2, state_h2, state_c2 = encoder_lstm2(encoder_output1)\n",
    "\n",
    "#encoder lstm 3\n",
    "encoder_lstm3 = LSTM(latent_dim,return_sequences=True,return_state=True,dropout=0.2,recurrent_dropout=0)\n",
    "encoder_outputs, state_h, state_c= encoder_lstm3(encoder_output2)\n",
    "\n",
    "# Set up the decoder, using `encoder_states` as initial state.\n",
    "decoder_inputs = Input(shape=(None,))\n",
    "\n",
    "#embedding layer\n",
    "dec_emb_layer = Embedding(y_voc, embedding_dim,trainable=True)\n",
    "dec_emb = dec_emb_layer(decoder_inputs)\n",
    "\n",
    "decoder_lstm = LSTM(latent_dim, return_sequences=True,return_state=True,dropout=0.2,recurrent_dropout=0)\n",
    "decoder_outputs, decoder_fwd_state, decoder_back_state = decoder_lstm(dec_emb,initial_state=[state_h, state_c])\n",
    "\n",
    "# Attention layer\n",
    "attn_layer = Attention(name='attention_layer')\n",
    "attn_out = attn_layer([decoder_outputs, encoder_outputs])\n",
    "\n",
    "# Concat attention input and decoder LSTM output\n",
    "decoder_concat_input = Concatenate(axis=-1, name='concat_layer')([decoder_outputs, attn_out])\n",
    "\n",
    "#dense layer\n",
    "decoder_dense = TimeDistributed(Dense(y_voc, activation='softmax'))\n",
    "decoder_outputs = decoder_dense(decoder_concat_input)"
   ]
  },
  {
   "cell_type": "code",
   "execution_count": 33,
   "id": "de177993",
   "metadata": {},
   "outputs": [
    {
     "name": "stdout",
     "output_type": "stream",
     "text": [
      "Model: \"model\"\n",
      "__________________________________________________________________________________________________\n",
      "Layer (type)                    Output Shape         Param #     Connected to                     \n",
      "==================================================================================================\n",
      "input_1 (InputLayer)            [(None, None)]       0                                            \n",
      "__________________________________________________________________________________________________\n",
      "embedding (Embedding)           (None, None, 100)    3024600     input_1[0][0]                    \n",
      "__________________________________________________________________________________________________\n",
      "lstm (LSTM)                     [(None, None, 300),  481200      embedding[0][0]                  \n",
      "__________________________________________________________________________________________________\n",
      "input_2 (InputLayer)            [(None, None)]       0                                            \n",
      "__________________________________________________________________________________________________\n",
      "lstm_1 (LSTM)                   [(None, None, 300),  721200      lstm[0][0]                       \n",
      "__________________________________________________________________________________________________\n",
      "embedding_1 (Embedding)         (None, None, 100)    475300      input_2[0][0]                    \n",
      "__________________________________________________________________________________________________\n",
      "lstm_2 (LSTM)                   [(None, None, 300),  721200      lstm_1[0][0]                     \n",
      "__________________________________________________________________________________________________\n",
      "lstm_3 (LSTM)                   [(None, None, 300),  481200      embedding_1[0][0]                \n",
      "                                                                 lstm_2[0][1]                     \n",
      "                                                                 lstm_2[0][2]                     \n",
      "__________________________________________________________________________________________________\n",
      "attention_layer (Attention)     (None, None, 300)    0           lstm_3[0][0]                     \n",
      "                                                                 lstm_2[0][0]                     \n",
      "__________________________________________________________________________________________________\n",
      "concat_layer (Concatenate)      (None, None, 600)    0           lstm_3[0][0]                     \n",
      "                                                                 attention_layer[0][0]            \n",
      "__________________________________________________________________________________________________\n",
      "time_distributed (TimeDistribut (None, None, 4753)   2856553     concat_layer[0][0]               \n",
      "==================================================================================================\n",
      "Total params: 8,761,253\n",
      "Trainable params: 8,761,253\n",
      "Non-trainable params: 0\n",
      "__________________________________________________________________________________________________\n"
     ]
    }
   ],
   "source": [
    "model = Model([encoder_inputs, decoder_inputs], decoder_outputs)\n",
    "\n",
    "model.summary() "
   ]
  },
  {
   "cell_type": "code",
   "execution_count": 34,
   "id": "02145814",
   "metadata": {},
   "outputs": [],
   "source": [
    "model.compile(optimizer='rmsprop', loss='sparse_categorical_crossentropy')"
   ]
  },
  {
   "cell_type": "code",
   "execution_count": 35,
   "id": "5350548b",
   "metadata": {},
   "outputs": [],
   "source": [
    "es = EarlyStopping(monitor='val_loss', mode='min', verbose=1,patience=2)"
   ]
  },
  {
   "cell_type": "code",
   "execution_count": 36,
   "id": "17f1f671",
   "metadata": {},
   "outputs": [
    {
     "name": "stdout",
     "output_type": "stream",
     "text": [
      "Epoch 1/20\n",
      "47/47 [==============================] - 39s 699ms/step - loss: 5.0847 - val_loss: 4.4821\n",
      "Epoch 2/20\n",
      "47/47 [==============================] - 32s 682ms/step - loss: 4.5346 - val_loss: 4.3611\n",
      "Epoch 3/20\n",
      "47/47 [==============================] - 32s 690ms/step - loss: 4.4514 - val_loss: 4.3033\n",
      "Epoch 4/20\n",
      "47/47 [==============================] - 33s 699ms/step - loss: 4.3774 - val_loss: 4.2521\n",
      "Epoch 5/20\n",
      "47/47 [==============================] - 32s 685ms/step - loss: 4.3066 - val_loss: 4.2045\n",
      "Epoch 6/20\n",
      "47/47 [==============================] - 32s 682ms/step - loss: 4.2485 - val_loss: 4.1745\n",
      "Epoch 7/20\n",
      "47/47 [==============================] - 32s 679ms/step - loss: 4.1909 - val_loss: 4.1422\n",
      "Epoch 8/20\n",
      "47/47 [==============================] - 32s 681ms/step - loss: 4.1365 - val_loss: 4.1134\n",
      "Epoch 9/20\n",
      "47/47 [==============================] - 32s 682ms/step - loss: 4.0830 - val_loss: 4.0864\n",
      "Epoch 10/20\n",
      "47/47 [==============================] - 32s 682ms/step - loss: 4.0338 - val_loss: 4.0695\n",
      "Epoch 11/20\n",
      "47/47 [==============================] - 32s 681ms/step - loss: 3.9864 - val_loss: 4.0582\n",
      "Epoch 12/20\n",
      "47/47 [==============================] - 32s 683ms/step - loss: 3.9795 - val_loss: 4.0490\n",
      "Epoch 13/20\n",
      "47/47 [==============================] - 32s 683ms/step - loss: 3.9112 - val_loss: 4.0281\n",
      "Epoch 14/20\n",
      "47/47 [==============================] - 32s 684ms/step - loss: 3.8651 - val_loss: 4.0384\n",
      "Epoch 15/20\n",
      "47/47 [==============================] - 32s 684ms/step - loss: 3.8246 - val_loss: 4.0215\n",
      "Epoch 16/20\n",
      "47/47 [==============================] - 32s 684ms/step - loss: 3.7843 - val_loss: 4.0083\n",
      "Epoch 17/20\n",
      "47/47 [==============================] - 32s 675ms/step - loss: 3.7439 - val_loss: 4.0050\n",
      "Epoch 18/20\n",
      "47/47 [==============================] - 32s 680ms/step - loss: 3.7046 - val_loss: 4.0046\n",
      "Epoch 19/20\n",
      "47/47 [==============================] - 32s 680ms/step - loss: 3.6679 - val_loss: 4.0198\n",
      "Epoch 20/20\n",
      "47/47 [==============================] - 32s 680ms/step - loss: 3.6290 - val_loss: 4.0259\n",
      "Epoch 00020: early stopping\n"
     ]
    }
   ],
   "source": [
    "history=model.fit([x_tr, y_tr[:,:-1]],\n",
    "                   y_tr.reshape(y_tr.shape[0], y_tr.shape[1], 1)[:,1:],\n",
    "                   epochs=20,\n",
    "                   callbacks=[es],\n",
    "                   batch_size=128,\n",
    "                   validation_data=([x_val,\n",
    "                                     y_val[:,:-1]],\n",
    "                                     y_val.reshape(y_val.shape[0], y_val.shape[1], 1)[:,1:]\n",
    "                                     )\n",
    "                   )"
   ]
  },
  {
   "cell_type": "code",
   "execution_count": 37,
   "id": "df820f38",
   "metadata": {},
   "outputs": [
    {
     "data": {
      "image/png": "[encoded data removed]",
      "text/plain": [
       "<Figure size 432x288 with 1 Axes>"
      ]
     },
     "metadata": {
      "needs_background": "light"
     },
     "output_type": "display_data"
    }
   ],
   "source": [
    "from matplotlib import pyplot\n",
    "pyplot.plot(history.history['loss'], label='train')\n",
    "pyplot.plot(history.history['val_loss'], label='test')\n",
    "pyplot.legend()\n",
    "pyplot.show()"
   ]
  },
  {
   "cell_type": "code",
   "execution_count": 38,
   "id": "a221d4af",
   "metadata": {},
   "outputs": [
    {
     "name": "stderr",
     "output_type": "stream",
     "text": [
      "WARNING:absl:Found untraced functions such as lstm_cell_layer_call_fn, lstm_cell_layer_call_and_return_conditional_losses, lstm_cell_1_layer_call_fn, lstm_cell_1_layer_call_and_return_conditional_losses, lstm_cell_2_layer_call_fn while saving (showing 5 of 20). These functions will not be directly callable after loading.\n"
     ]
    },
    {
     "name": "stdout",
     "output_type": "stream",
     "text": [
      "INFO:tensorflow:Assets written to: model//cnn\\assets\n"
     ]
    },
    {
     "name": "stderr",
     "output_type": "stream",
     "text": [
      "INFO:tensorflow:Assets written to: model//cnn\\assets\n"
     ]
    }
   ],
   "source": [
    "model.save('model//cnn')"
   ]
  },
  {
   "cell_type": "code",
   "execution_count": 39,
   "id": "86033e7d",
   "metadata": {},
   "outputs": [],
   "source": [
    "from tensorflow.keras.models import load_model\n",
    "model1 = load_model('model//cnn')"
   ]
  },
  {
   "cell_type": "code",
   "execution_count": 40,
   "id": "bd604eb4",
   "metadata": {},
   "outputs": [],
   "source": [
    "reverse_target_word_index=y_tokenizer.index_word\n",
    "reverse_source_word_index=x_tokenizer.index_word\n",
    "target_word_index=y_tokenizer.word_index"
   ]
  },
  {
   "cell_type": "markdown",
   "id": "df46c591",
   "metadata": {},
   "source": [
    "## Inference Decoder"
   ]
  },
  {
   "cell_type": "code",
   "execution_count": 41,
   "id": "df1ce707",
   "metadata": {},
   "outputs": [],
   "source": [
    "# Encode the input sequence to get the feature vector\n",
    "encoder_model = Model(inputs=encoder_inputs, outputs=[encoder_outputs, state_h, state_c])\n",
    "\n",
    "# Decoder setup\n",
    "# Below tensors will hold the states of the previous time step\n",
    "decoder_state_input_h = Input(shape=(latent_dim,))\n",
    "decoder_state_input_c = Input(shape=(latent_dim,))\n",
    "decoder_hidden_state_input = Input(shape=(max_text_len,latent_dim))\n",
    "\n",
    "# Get the embeddings of the decoder sequence\n",
    "dec_emb2 = dec_emb_layer(decoder_inputs) \n",
    "# To predict the next word in the sequence, set the initial states to the states from the previous time step\n",
    "decoder_outputs2, state_h2, state_c2 = decoder_lstm(dec_emb2, initial_state=[decoder_state_input_h, decoder_state_input_c])\n",
    "\n",
    "#attention inference\n",
    "attn_out_inf = attn_layer([decoder_outputs2, decoder_hidden_state_input])\n",
    "\n",
    "decoder_inf_concat = Concatenate(axis=-1, name='concat')([decoder_outputs2, attn_out_inf])\n",
    "\n",
    "# A dense softmax layer to generate prob dist. over the target vocabulary\n",
    "decoder_outputs2 = decoder_dense(decoder_inf_concat)\n",
    "\n",
    "# Final decoder model\n",
    "decoder_model = Model(\n",
    "    [decoder_inputs] + [decoder_hidden_state_input, decoder_state_input_h, decoder_state_input_c],\n",
    "    [decoder_outputs2] + [state_h2, state_c2])"
   ]
  },
  {
   "cell_type": "code",
   "execution_count": 42,
   "id": "9dc60efc",
   "metadata": {},
   "outputs": [],
   "source": [
    "def decode_sequence(input_seq):\n",
    "    # Encode the input as state vectors.\n",
    "    e_out, e_h, e_c = encoder_model.predict(input_seq)\n",
    "    \n",
    "    # Generate empty target sequence of length 1.\n",
    "    target_seq = np.zeros((1,1))\n",
    "    \n",
    "    # Populate the first word of target sequence with the start word.\n",
    "    target_seq[0, 0] = target_word_index['sostok']\n",
    "\n",
    "    stop_condition = False\n",
    "    decoded_sentence = ''\n",
    "    while not stop_condition:\n",
    "      \n",
    "        output_tokens, h, c = decoder_model.predict([target_seq] + [e_out, e_h, e_c])\n",
    "\n",
    "        # Sample a token\n",
    "        sampled_token_index = np.argmax(output_tokens[0, -1, :])\n",
    "        sampled_token = reverse_target_word_index[sampled_token_index]\n",
    "        \n",
    "        if(sampled_token!='eostok'):\n",
    "            decoded_sentence += ' '+sampled_token\n",
    "\n",
    "        # Exit condition: either hit max length or find stop word.\n",
    "        if (sampled_token == 'eostok'  or len(decoded_sentence.split()) >= (max_summary_len-1)):\n",
    "            stop_condition = True\n",
    "\n",
    "        # Update the target sequence (of length 1).\n",
    "        target_seq = np.zeros((1,1))\n",
    "        target_seq[0, 0] = sampled_token_index\n",
    "\n",
    "        # Update internal states\n",
    "        e_h, e_c = h, c\n",
    "\n",
    "    return decoded_sentence"
   ]
  },
  {
   "cell_type": "code",
   "execution_count": 43,
   "id": "0c9e5ab6",
   "metadata": {},
   "outputs": [],
   "source": [
    "def seq2summary(input_seq):\n",
    "    newString=''\n",
    "    for i in input_seq:\n",
    "        if((i!=0 and i!=target_word_index['sostok']) and i!=target_word_index['eostok']):\n",
    "            newString=newString+reverse_target_word_index[i]+' '\n",
    "    return newString\n",
    "\n",
    "def seq2text(input_seq):\n",
    "    newString=''\n",
    "    for i in input_seq:\n",
    "        if(i!=0):\n",
    "            newString=newString+reverse_source_word_index[i]+' '\n",
    "    return newString"
   ]
  },
  {
   "cell_type": "code",
   "execution_count": 45,
   "id": "670fe584",
   "metadata": {},
   "outputs": [
    {
     "name": "stdout",
     "output_type": "stream",
     "text": [
      "Article: paul donnelley oxford union fresh turmoil last night treasurer resigned society handling sex scandal seen president arrested suspicion rape charles malton history student christ church oxford left four days prestigious debating society leader ben sullivan taken police mr malton resignation letter acting president st john college said people innocent proven guilty every hope ben prove innocent however way many within union handled situation last weeks behaviour would wish associate charles malton resigned oxford union treasurer way union handled arrest alleged rape president ben sullivan prior arrest mr malton voted union pay legal fees sullivan take action student news website tab oxford alleged sullivan member drinking club called banter squadron later admitted true mr malton said position become untenable following sullivan arrest suspicion rape attempted rape two female students last year oxford university christ church like sister college trinity college cambridge traditionally considered aristocratic college university debating society breeding ground notable figures since founded william herbert edward heath tony benn benazir bhutto michael foot sir robin day jeremy thorpe lord john foreign secretary william hague education secretary michael gove boris johnson mayor london among former presidents second year student became union acting president place sullivan pictured leadership crisis ever since allegations began swirling sullivan banker son kensington west london studies history politics held thames valley police several hours wednesday released bail oxford union respond requests comment sorry currently accepting comments article \n",
      "Original summary: charles himself from union handling of scandal mr approved legal fees for ben to sue student site arrested on suspicion of rape and attempted rape \n",
      "Predicted summary:  the year old was found in the and the year old was found in the year old was in the year old was in the year old was found in the and\n",
      "\n",
      "\n",
      "Article: whistleblower caught mp playing candy crush saga commons meeting face punishment parliamentary watchdog revealed today leaked photo showed tory nigel mills playing game taxpayer funded ipad supposed listening evidence pensions insurance instead investigating mp remains work pensions committee commons officials launched probe leaked photo scroll video punishment whistleblower leaked photo tory mp nigel mills playing candy crush saga ipad punished commons authorities confirmed mole hunt find culprit could one candy crush whistleblower footage showed two people alternately sitting behind mp although possible incident filmed someone hidden view sparked criticism decision pursue mole rather mr mills footage meeting held last monday showed male female sound technician sitting behind mr mills appeared using mobile phones however clear one responsible filming whether another person camera captured gaming film commons spokesman insisted investigation standard procedure parliamentary rules film inside westminster without permission break rules barred parliamentary estate includes mps offices meeting rooms today day probe launched confirmed whistleblower face action distracted mp amber valley derbyshire spotted closely studying ipad screen finger attempted complete levels popular app candy crush saga apology mr mills vowed would play game popular even david cameron meetings house commons spokesman said standard procedure breach filming photography rules brought attention house investigated arms concluded investigation breach issued reminder current rules action taken arms post dates scope impose low level punishments serious breaches reported commons administration committee spokesman could confirm whether whistleblower actually tracked whether reminder general one mr mills defending majority amber valley initially told sun would try distracted game later issued full apology saying apologise unreservedly behaviour committee meeting realise fell short expected member parliament addictive candy crush incredibly popular million games played mobile devices guarantee happen fantastic privilege represent amber valley hope constituents continue support campaigns gail labour councillor constituency said think disgusting mp find worrying billion people every day play addictive game candy crush saga players line least three sweets colour row constantly shifting grid david cameron self confessed games addict defended mr mills know well fights hard constituency people derbyshire works hard parliament prime minister said sure embarrassed work even harder future mr cameron previously admitted addicted mobile games fruit ninja angry birds asked level pm reached candy crush spokesman said line questioning game \n",
      "Original summary: tory nigel mills caught playing on tax funded ipad in meeting so watchdog investigated to find out who photo hunt now called off and will face no punishment mr mills apologised but keeps his seat and position on committee \n",
      "Predicted summary:  the of the world cup of the world cup of the world cup of the world cup of the world cup in the world cup in the world cup\n",
      "\n",
      "\n",
      "Article: astonishing drawings adolf hitler british artist allowed dictator emerged helen woman allowed sketch hitler munich headquarters called brown house produced chilling pictures nazi monster inner drawn two years hitler came power eight years start world war two images glimpse early stages life like astonishing drawings hitler early days nazi party british artist helen come light inside helen given access heart fledgling dictator munich headquarters two years bloody rise power brown house became nazi hq january named colour uniforms drawings put album wrote inside hitler brown house munich special permission hitler aide de camp woman ever allowed sketch pencil sketches emerged family late mark well known arms armour collector offered sale auction estimate incredible access helen woman allowed sketch hitler infamous brown house produced pictures detailing day day life nazi party trouble drawing british artist shows police controlling disturbance outside brown house captioned drawings show entrance hq nazi outside council chamber interior scenes one shows hitler standing rather pose artist copied portrait hanging council chamber another captioned drawings shows three smiling nazis beer beer hall brown house also depicted interior room committee control three nazis conversation behind scenes sketch shows two nazis opening curtain civilian glimpse drawing helen shows nazi officials inside committee room hitler munich headquarters also one showing two policemen outside brown house controlling disturbance created civilians well hitler heinrich himmler hermann goring hess offices also home nazi sacred relic blood flag swastika splattered blood beer hall munich police opened fire nazis born london died illustrator various magazines became known painting military figures world war one entrance guard stands reception hall brown house evil inscription supreme council chamber helen images inside brown house sold auction november lived worked chelsea throughout life travelled extensively work nazi sketches sold dominic winter auction house near gloucester chris said benefit hindsight drawings quite chilling drawn shortly hitler seized power close turning point german world history interesting artist gained reputation first world war well known transport artist one paintings presented churchill world war two good commercial artist managed gain access brown house although sketches lot movement human quality brown house damaged october largely destroyed allied bombing raid late world war two rubble cleared away leaving empty lot auction takes place november \n",
      "Original summary: helen was the only woman allowed to in munich headquarters are an incredible into early stages of \n",
      "Predicted summary:  the of the of the of the of the world cup of the world cup of the world cup of the world cup of the world cup of the world cup\n",
      "\n",
      "\n",
      "Article: patriotic scots home produced smoked salmon cherished part national heritage nessie robbie burns astonishing cross border power grab politicians westminster seeking claim delicacy england environment secretary elizabeth truss said believes london cure smoked scottish salmon legal safeguards famous food products pork pies cornish cream politicians westminster seeking claim scottish smoked salmon process invented east end london surprisingly campaign first bid capital gone well scots likely leave leading figures north border former first minister alex salmond distinctly unimpressed claim london reputed firm son based delicate taste texture created special smoking cure used east end since th century company owner lance said delighted involved application would give company product protected food name status tom campbell founded ayrshire years ago said people recognise scottish salmon best world think many london name claim london reputed firm son based delicate taste texture created special smoking cure supporting application ms truss said marriage generations old process born london east end quality scottish salmon testament country amazing food culture last night scottish government spokeswoman said pay close attention application protected food names relate scottish products defra spokesperson said eu scheme open part uk produces food drink unique fashion distinct geographical area government continue support applicants meet relevant criteria pleased supported successful scottish farmed salmon bid protected food name status along number successful scottish bids recent years \n",
      "Original summary: westminster politicians seek to claim scottish salmon for england minister calls for salmon to have same protection as cream claim put forward by east end son firm says salmon comes from process in london \n"
     ]
    },
    {
     "name": "stdout",
     "output_type": "stream",
     "text": [
      "Predicted summary:  the of the world cup of the world cup of the world cup of the world cup of the world cup in the world cup in the world cup\n",
      "\n",
      "\n",
      "Article: daily mail reporter published est january updated est january teenage son renowned boston globe columnist disappeared monday broad daylight caleb vanished around pm massachusetts last seen wearing navy pants jeans navy polo shirt brown winter jacket hood brown shoes sneakers white socks caleb teenage son conservative columnist jeff wife laura caleb year old son boston globe columnist jeff missing since monday afternoon massachusetts teenager thin build short brown hair often goes public libraries young israel th grade school friends members jewish community circulating fliers throughout area tuesday another search party organized wednesday morning prayer vigil planned young israel tuesday evening police continuing investigate today authorities told com releasing information time suspect foul play teenager vanished bitterly cold stretch weather east coast current temperature boston area mr tweeted tuesday deeply deeply grateful everything done reunite us beloved son caleb teenager hebrew teacher told com know anything even clue posters information missing year old distributed greater boston area family friends took studies seriously took life seriously easygoing quiet boy also good one people really love school good person caleb teenage son boston globe columnist jeff anyone information please contact police \n",
      "Original summary: around pm in massachusetts on monday teenage son of conservative jeff and his wife laura \n",
      "Predicted summary:  the year old was found in the and the year old was found in the year old was in the year old was in the year old was found in the and\n",
      "\n",
      "\n",
      "Article: china opened world longest cross sea bridge stretches five miles distance dover calais bay bridge miles long links china eastern port city offshore island road bridge ft wide longest kind cost nearly billion build bridge misty waters immense billion structure supported pillars stretches miles along china eastern port city offshore island engineering feat vast bridge largest cross ocean bridge world cost million took four years build chinese tv reports said bridge passed construction monday along undersea tunnel would opened traffic today took four years build bridge supported pillars across bay almost three miles longer previous record holder lake louisiana lengthy bridge stretches distance eye see right first cars roll across surface open road drivers pass mist make first passes ft wide bridge longer others kind flowers first vehicle runs toll station applause staff passers bridge opened traffic today musical brass band plays sides road flags banners herald opening bridge start things come two cars edge toll gates raise revenue maintain billion bridge structure features two bridges running side side miles long three way bridge times longer london tower bridge spanning river thames cuts miles drive two separate groups workers building different ends structure since linking two ends bridge december one engineer said computer models calculations well cannot relax two sides together keep hanging suspension beams form imposing sight reach clouds look upon colourful flags marking bridge grand opening long road home two roads run alongside wind across bay even centimetres would disaster engineering feat hold record longest sea bridge years beaten another chinese bridge next decade last december officials announced workers begun constructing bridge link southern guangdong province hong kong macau set completed officials said billion bridge span nearly miles designed cope earthquakes magnitude strong typhoons impact tonne vessel structures still dwarfed longest bridge world also china grand bridge astonishing miles length record breaker bay bridge spanning miles open traffic today impressive testing bridge completed monday expected opened traffic first time today driver dream twenty four miles fresh untouched tarmac stretch \n",
      "Original summary: at miles long it is five miles further than the between and \n",
      "Predicted summary:  new york is the of the of the year old is years of the year old was arrested in the city of the city\n",
      "\n",
      "\n",
      "Article: graham smith updated est february friendly rivalry long existed canada many americans enjoy nothing poking fun neighboring nation exception war two centuries ago two countries stood side side today world largest trading partners boost mutual love poll rather surprisingly revealed americans rate canada favourite country landslide per cent citizens surveyed rate canada four per cent rise time last year border crossing americans rate canada favourite country per cent signalling approval next door neighbour according poll surprisingly australia came second gallup poll per cent approval rating britain rounded top three proving enduring special relationship uk supported american public germany japan came fourth fifth respectively followed another unexpected choice sixth place per cent approval france less ten years since relations france low second gulf war iraq dubbed french cheese eating surrender monkeys branded french fries freedom fries nation failed support invasion popularity contest iran came bottom gallup poll hardly surprising considering escalating showdown islamic republic west nuclear program equally surprising growth towards mexico ravaged ongoing war drug gangs seen people killed six per cent americans year ago approve country comes days state department week recommended americans avoid travel parts mexican states widest travel advisory since country stepped drug war advisory said citizens victims drug violence including killings kidnappings car sydney harbour australia came surprising second survey american opinions nations great britain named third popular proving enduring special relationship uk supported american public less surprising countries americans dislike escalating showdown iran west islamic republic nuclear program led per cent citizens view country second least popular north korea per cent approval rating liaison hold talks north korea nuclear program beijing next week first negotiations since death nation long time dictator kim jong il north korea followed afghanistan per cent approval american public opinion pakistan afghanistan north korea changed last decade pakistan fallen three points per cent last year pakistan fell three points per cent predictable fall popularity among american public given circumstances surrounding killing osama bin laden may last year unilateral american raid killed world wanted man army town led fresh wave suspicion western diplomats pakistani security establishment apparently stung cia agents operating country without knowledge tension remains defence secretary leon panetta last month said pakistan officials must known bin laden holed remote compound abbottabad \n",
      "Original summary: english language nations popular with americans as australia and britain are second and third poll finds most countries to be iran north korea afghanistan pakistan and syria \n",
      "Predicted summary:  the year old was found in the and the year old was found in the year old was in the year old was in the year old was found in the and\n",
      "\n",
      "\n",
      "Article: bout amir khan floyd mayweather would one hotly anticipated events sporting calendar comes flashy boxers valuable collection watches contest khan posted picture instagram thursday six expensive looking watches would receiving jewellers frost london next fight december video scroll watch amir khan beat ageing worried mayweather amir khan collection six watches jewellers frost london would set back royal oak royal oak offshore royal oak offshore rolex sky rolex sky rolex new jewelry pieces waiting fight december thanks wrote instagram six watches picture combined total cost including watch worth mayweather previously shared snap collection watches includes eight brand eight floyd mayweather shared picture watch collection worth sportsmail reveal total cost watches million jacob co rainbow watch would set back prices take account personal added diamonds mayweather insists upon many people world boxing would predict close fight ring comes watches mayweather blows khan water royal oak royal oak offshore royal oak mill royal oak offshore royal oak royal oak offshore royal oak offshore royal oak offshore rolex oyster rolex oyster rolex oyster perpetual rolex rolex gmt master rolex gmt master rolex oyster rolex oyster king pro king pro franck mueller franck mueller franck mueller cortez big bang king jacob co rainbow galaxy \n",
      "Original summary: amir khan showed off his new collection of on instagram the six cost combined total of more than floyd mayweather has previously his collection of that have combined cost of more than million mayweather owns co watch worth more than \n"
     ]
    },
    {
     "name": "stdout",
     "output_type": "stream",
     "text": [
      "Predicted summary:  new york is the of the of the year old is the first time of the world cup of the world cup in the world cup in the world cup in the world cup\n",
      "\n",
      "\n",
      "Article: daily mail reporter published est september updated est september family told shunned mormonism opted preach love commitment fear hell promise heaven tv program five wives debuted sunday follows brady williams five wives combined children live together large family property outside salt lake city utah newest family utah reality tv considers progressive independent believes god judge scroll video progressive polygamy patriarch brady five wives robyn rosemarie left mormon church due conservative beliefs despite left church family still lives community outside salt lake williams wives slowly withdrew fundamentalist mormon church rural community outside salt lake city mid evaluating core beliefs family longer teaches fundamental mormonism children home opting instead take teachings good moral values two dozen children range age since left religion love commitment happiness family said mr williams project manager brother construction business fear hell promise heaven first time mr williams crossed religious lines husband five brady raised mainstream mormon church family became fundamentalist began believing polygamy teenager parents left mainstream mormonism joined polygamy said transition difficult hard leaving fundamentalist church five wives grew show go behind closed doors focus frustrations needs fears family living controversial lifestyle according tlc press release though beliefs estranged many family members members williams family believe sacrifices worth first wife dental married brady years couple six children range age nine years old good friends williams five wives left right robyn rosemary get along show robyn also cousins raised family expected husband additional wives oldest daughter recently married plans lifestyle married second wife robyn dubbed creative wife art classes love making gifts family nine months ceremony five children divide conquer wife cooks dinner strong family one night week wife space family divided across apartments two homes yards three wives live home front door separate kitchen personal bedroom brady five nightly third wife rosemary worked family construction business stopped winning scholarship local college studying teaching degree music four children mr williams fourth wife living montana met husband year ago duo long distance relationship wife works handling administrative side family construction business mom five children fifth wife robyn cousin entered picture years ago admits took eight years really felt belonged family though says downsides polygamy loves four children mothers around cameras allowed bedroom women speak openly frustrations brady schedule sister wives brown wives robyn christine children introduced many americans lifestyle show wives detailed cook dinner massive family one night week brady bedrooms nightly basis wife gets one night five family lives two home compound community outside salt lake city two homes divided five apartments wife kitchen living space well bedroom bedrooms biological children brady goes wives also birthday anniversary brady show premiered september right sister wives reality show first brought polygamy many americans living rooms brown four wives christine robyn children faced many challenges super sized family living alternative lifestyle \n",
      "Original summary: my five follows brady williams his five and children he says they will love and instead of fear of god they in after their instead they take from such as to values \n",
      "Predicted summary:  the year old was found in the and the year old was found in the year old was in the year old was in the year old was found in the and\n",
      "\n",
      "\n",
      "Article: tim cahill super strike hailed brilliant technique left fans around world showed nothing better struck volley rank among best volleyed efforts time sportsmail looks back best volleyed goals rival cahill list football greatest crash bang cahill showed nothing better struck volleyed goal brazil cahill goal rank among time greatest volleyed strikes marco van holland russia june enormity occasion angle mean van iconic effort might never beaten waiting ball drop shoulder would panicked dutchman produced moment magic hooking ball back across keeper net simply best van goal everything outrageous piece skill huge occasion zinedine zidane real madrid bayer leverkusen may sense occasion helps club football come bigger champions league final genius pretty average high ball dropping penalty area frenchman thinking usual one step ahead rest swinging left boot right angle made almost impossible shot look easy classic zidane goal decided champions league final hampden park glasgow tony leeds liverpool august everyone knows goal goes crossbar looks twice good one stunning shot already looking good hit woodwork despite leaning back control strike controlled effort send flying past david james hero leeds icon least brilliant goal liverpool elland road paolo di canio west ham wimbledon march brilliant memorable effort mad italian playing days pulled perfect kick score west ham made even better di canio fairly casual celebration despite ludicrous goal scored maybe wanted see replay brilliant di canio stunning kick set west ham win wimbledon upton park ronnie republic ireland russia june goal almost forgotten times coming tournament van best efforts former liverpool captain left footed volley flew top corner long throw move would even bothered attempting edge area brilliant delight celebrates left irish team mates ecstatic robin van persie charlton arsenal van persie loves spectacular goal different running onto ball edge penalty area somehow body slam home volley never forgotten van persie celebrates volleyed effort former club arsenal charlton jeremy goss norwich city bayern munich october one biggest nights norwich city history came call man habit scoring big goals jeremy goss reacted fastest loose ball edge area shot past keeper local hero goss scored norwich bayern munich first home loss english club real zaragoza arsenal may half way line followed arsenal years dramatic effort bit hit hope effort dramatic nature goal coming closing minutes extra time win european final fact came full yards rank among best helpless brilliant last minute effort gave david seaman chance arsenal goal tim cahill australia holland takes something special pull move like biggest stage particularly lowest ranked team tournament cahill brilliantly controlled finished routine ball across penalty area one vicious swipe left boot pick one cahill recorded probably best goal tournament far porto david platt england belgium june platt swivel strike home brilliant moment one england important goals saving nation dreaded penalties midfielder showed brilliant technique secure england place last eight would three lions give moment like brazil flying high platt celebrates brilliant goal guide england past belgium extra time \n",
      "Original summary: cahill scored as australia went down to holland his van effort among the best of all time \n",
      "Predicted summary:  new york is the of the of the year old is the first time of the world of the year old was in the world of the world cup in the world cup\n",
      "\n",
      "\n"
     ]
    }
   ],
   "source": [
    "for i in range(0,10):\n",
    "    print(\"Article:\",seq2text(x_val[i]))\n",
    "    print(\"Original summary:\",seq2summary(y_val[i]))\n",
    "    print(\"Predicted summary:\",decode_sequence(x_val[i].reshape(1,max_text_len)))\n",
    "    print(\"\\n\")"
   ]
  }
 ],
 "metadata": {
  "kernelspec": {
   "display_name": "Python [conda env:175]",
   "language": "python",
   "name": "conda-env-175-py"
  },
  "language_info": {
   "codemirror_mode": {
    "name": "ipython",
    "version": 3
   },
   "file_extension": ".py",
   "mimetype": "text/x-python",
   "name": "python",
   "nbconvert_exporter": "python",
   "pygments_lexer": "ipython3",
   "version": "3.8.12"
  }
 },
 "nbformat": 4,
 "nbformat_minor": 5
}
