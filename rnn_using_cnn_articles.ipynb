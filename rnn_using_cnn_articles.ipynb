{
 "cells": [
  {
   "cell_type": "code",
   "execution_count": 1,
   "id": "e9fbac5a",
   "metadata": {},
   "outputs": [],
   "source": [
    "import numpy as np\n",
    "import pandas as pd \n",
    "import re\n",
    "from bs4 import BeautifulSoup\n",
    "from tensorflow.keras.preprocessing.text import Tokenizer \n",
    "from tensorflow.keras.preprocessing.sequence import pad_sequences\n",
    "from nltk.corpus import stopwords\n",
    "import warnings\n",
    "pd.set_option(\"display.max_colwidth\", 200)\n",
    "warnings.filterwarnings(\"ignore\")\n",
    "import pathlib"
   ]
  },
  {
   "cell_type": "code",
   "execution_count": 2,
   "id": "6931b827",
   "metadata": {},
   "outputs": [
    {
     "name": "stdout",
     "output_type": "stream",
     "text": [
      "<class 'pandas.core.frame.DataFrame'>\n",
      "RangeIndex: 100000 entries, 0 to 99999\n",
      "Data columns (total 3 columns):\n",
      " #   Column      Non-Null Count   Dtype \n",
      "---  ------      --------------   ----- \n",
      " 0   id          100000 non-null  object\n",
      " 1   article     100000 non-null  object\n",
      " 2   highlights  100000 non-null  object\n",
      "dtypes: object(3)\n",
      "memory usage: 2.3+ MB\n"
     ]
    }
   ],
   "source": [
    "data=pd.read_csv(f\"{pathlib.Path().resolve()}\\\\input\\\\cnn_dailymail\\\\train.csv\", nrows=100000)\n",
    "data.info()"
   ]
  },
  {
   "cell_type": "code",
   "execution_count": 3,
   "id": "452f3b48",
   "metadata": {},
   "outputs": [],
   "source": [
    "data.drop_duplicates(subset=['article'],inplace=True) #dropping duplicates\n",
    "data.dropna(axis=0,inplace=True) #dropping na"
   ]
  },
  {
   "cell_type": "code",
   "execution_count": 4,
   "id": "06685920",
   "metadata": {},
   "outputs": [
    {
     "name": "stdout",
     "output_type": "stream",
     "text": [
      "<class 'pandas.core.frame.DataFrame'>\n",
      "Int64Index: 99637 entries, 0 to 99999\n",
      "Data columns (total 3 columns):\n",
      " #   Column      Non-Null Count  Dtype \n",
      "---  ------      --------------  ----- \n",
      " 0   id          99637 non-null  object\n",
      " 1   article     99637 non-null  object\n",
      " 2   highlights  99637 non-null  object\n",
      "dtypes: object(3)\n",
      "memory usage: 3.0+ MB\n"
     ]
    }
   ],
   "source": [
    "data.info()"
   ]
  },
  {
   "cell_type": "code",
   "execution_count": 5,
   "id": "ac1295ca",
   "metadata": {},
   "outputs": [],
   "source": [
    "contraction_mapping = {\"ain't\": \"is not\", \"aren't\": \"are not\",\"can't\": \"cannot\", \"'cause\": \"because\", \"could've\": \"could have\", \"couldn't\": \"could not\",\n",
    "                           \"didn't\": \"did not\",  \"doesn't\": \"does not\", \"don't\": \"do not\", \"hadn't\": \"had not\", \"hasn't\": \"has not\", \"haven't\": \"have not\",\n",
    "                           \"he'd\": \"he would\",\"he'll\": \"he will\", \"he's\": \"he is\", \"how'd\": \"how did\", \"how'd'y\": \"how do you\", \"how'll\": \"how will\", \"how's\": \"how is\",\n",
    "                           \"I'd\": \"I would\", \"I'd've\": \"I would have\", \"I'll\": \"I will\", \"I'll've\": \"I will have\",\"I'm\": \"I am\", \"I've\": \"I have\", \"i'd\": \"i would\",\n",
    "                           \"i'd've\": \"i would have\", \"i'll\": \"i will\",  \"i'll've\": \"i will have\",\"i'm\": \"i am\", \"i've\": \"i have\", \"isn't\": \"is not\", \"it'd\": \"it would\",\n",
    "                           \"it'd've\": \"it would have\", \"it'll\": \"it will\", \"it'll've\": \"it will have\",\"it's\": \"it is\", \"let's\": \"let us\", \"ma'am\": \"madam\",\n",
    "                           \"mayn't\": \"may not\", \"might've\": \"might have\",\"mightn't\": \"might not\",\"mightn't've\": \"might not have\", \"must've\": \"must have\",\n",
    "                           \"mustn't\": \"must not\", \"mustn't've\": \"must not have\", \"needn't\": \"need not\", \"needn't've\": \"need not have\",\"o'clock\": \"of the clock\",\n",
    "                           \"oughtn't\": \"ought not\", \"oughtn't've\": \"ought not have\", \"shan't\": \"shall not\", \"sha'n't\": \"shall not\", \"shan't've\": \"shall not have\",\n",
    "                           \"she'd\": \"she would\", \"she'd've\": \"she would have\", \"she'll\": \"she will\", \"she'll've\": \"she will have\", \"she's\": \"she is\",\n",
    "                           \"should've\": \"should have\", \"shouldn't\": \"should not\", \"shouldn't've\": \"should not have\", \"so've\": \"so have\",\"so's\": \"so as\",\n",
    "                           \"this's\": \"this is\",\"that'd\": \"that would\", \"that'd've\": \"that would have\", \"that's\": \"that is\", \"there'd\": \"there would\",\n",
    "                           \"there'd've\": \"there would have\", \"there's\": \"there is\", \"here's\": \"here is\",\"they'd\": \"they would\", \"they'd've\": \"they would have\",\n",
    "                           \"they'll\": \"they will\", \"they'll've\": \"they will have\", \"they're\": \"they are\", \"they've\": \"they have\", \"to've\": \"to have\",\n",
    "                           \"wasn't\": \"was not\", \"we'd\": \"we would\", \"we'd've\": \"we would have\", \"we'll\": \"we will\", \"we'll've\": \"we will have\", \"we're\": \"we are\",\n",
    "                           \"we've\": \"we have\", \"weren't\": \"were not\", \"what'll\": \"what will\", \"what'll've\": \"what will have\", \"what're\": \"what are\",\n",
    "                           \"what's\": \"what is\", \"what've\": \"what have\", \"when's\": \"when is\", \"when've\": \"when have\", \"where'd\": \"where did\", \"where's\": \"where is\",\n",
    "                           \"where've\": \"where have\", \"who'll\": \"who will\", \"who'll've\": \"who will have\", \"who's\": \"who is\", \"who've\": \"who have\",\n",
    "                           \"why's\": \"why is\", \"why've\": \"why have\", \"will've\": \"will have\", \"won't\": \"will not\", \"won't've\": \"will not have\",\n",
    "                           \"would've\": \"would have\", \"wouldn't\": \"would not\", \"wouldn't've\": \"would not have\", \"y'all\": \"you all\",\n",
    "                           \"y'all'd\": \"you all would\",\"y'all'd've\": \"you all would have\",\"y'all're\": \"you all are\",\"y'all've\": \"you all have\",\n",
    "                           \"you'd\": \"you would\", \"you'd've\": \"you would have\", \"you'll\": \"you will\", \"you'll've\": \"you will have\",\n",
    "                           \"you're\": \"you are\", \"you've\": \"you have\"}"
   ]
  },
  {
   "cell_type": "code",
   "execution_count": 6,
   "id": "e48453b9",
   "metadata": {},
   "outputs": [],
   "source": [
    "stop_words = set(stopwords.words('english')) \n",
    "\n",
    "def text_cleaner(text,num):\n",
    "    newString = text.lower()\n",
    "    newString = BeautifulSoup(newString).text\n",
    "    newString = re.sub(r'\\([^)]*\\)', '', newString)\n",
    "    newString = re.sub('\"','', newString)\n",
    "    newString = ' '.join([contraction_mapping[t] if t in contraction_mapping else t for t in newString.split(\" \")])    \n",
    "    newString = re.sub(r\"'s\\b\",\"\",newString)\n",
    "    newString = re.sub(\"[^a-zA-Z]\", \" \", newString) \n",
    "    newString = re.sub('[m]{2,}', 'mm', newString)\n",
    "    if (num==0):\n",
    "        tokens = [w for w in newString.split() if not w in stop_words]\n",
    "    else:\n",
    "        tokens=newString.split()\n",
    "    long_words=[]\n",
    "    for i in tokens:\n",
    "        if len(i)>1: # removing short words\n",
    "            long_words.append(i)   \n",
    "    return (\" \".join(long_words)).strip()"
   ]
  },
  {
   "cell_type": "code",
   "execution_count": 7,
   "id": "46ea9cae",
   "metadata": {},
   "outputs": [],
   "source": [
    "#call the function\n",
    "cleaned_text = []\n",
    "for t in data['article']:\n",
    "    cleaned_text.append(text_cleaner(t,0)) "
   ]
  },
  {
   "cell_type": "code",
   "execution_count": 8,
   "id": "8d3a15b9",
   "metadata": {},
   "outputs": [
    {
     "data": {
      "text/plain": [
       "['associated press published est october updated est october bishop fargo catholic diocese north dakota exposed potentially hundreds church members fargo grand forks jamestown hepatitis virus late september early october state health department issued advisory exposure anyone attended five churches took communion bishop john folda fargo catholic diocese north dakota exposed potentially hundreds church members fargo grand forks jamestown hepatitis state immunization program manager molly howell says risk low officials feel important alert people possible exposure diocese announced monday bishop john folda taking time diagnosed hepatitis diocese says contracted infection contaminated food attending conference newly ordained bishops italy last month symptoms hepatitis include fever tiredness loss appetite nausea abdominal discomfort fargo catholic diocese north dakota bishop located',\n",
       " 'ralph mata internal affairs lieutenant miami dade police department working division investigates allegations wrongdoing cops outside office authorities allege year old longtime officer worked drug trafficking organization help plan murder plot get guns criminal complaint unsealed district court new jersey tuesday accuses mata also known milk man using role police officer help drug trafficking organization exchange money gifts including rolex watch one instance complaint alleges mata arranged pay two assassins kill rival drug dealers killers would pose cops pulling targets shooting according complaint ultimately decided move forward murder plot mata still received payment setting meetings federal prosecutors said statement complaint also alleges mata used police badge purchase weapons drug traffickers mata according complaint used contacts airport transport weapons carry luggage trips miami dominican republic court documents released investigators specify name drug trafficking organization mata allegedly conspired says organization importing narcotics places ecuador dominican republic hiding inside shipping containers containing pallets produce including bananas organization distributing narcotics new jersey elsewhere complaint says authorities arrested mata tuesday miami gardens florida immediately clear whether mata attorney police officials could immediately reached comment mata worked miami dade police department since including directing investigations miami gardens working lieutenant unit miami international airport according complaint since march working internal affairs division mata faces charges aiding abetting conspiracy distribute cocaine conspiring distribute cocaine engaging monetary transactions property derived specified unlawful activity scheduled appear federal court florida wednesday convicted mata could face life prison cnn suzanne presto contributed report',\n",
       " 'drunk driver killed young woman head crash checking mobile phone jailed six years craig eccleston todd driving home night pub received text message reading replying veered across road driving round bend smashed rachel titley car coming way craig eccleston todd using mobile phone crashed head car driven rachel titley died later injuries head crash took place october mr eccleston todd car barely recognisable police said eccleston todd drunk least three four pints beer getting behind wheel found guilty causing death dangerous driving portsmouth crown court yesterday miss titley year old solicitor clerk cowes isle wight also spent evening friends pub drunk alcohol police said driving responsibly nothing could done avoid collision added lindsay pennell prosecuting said craig eccleston todd driving resulted tragic death young woman rachel titley death could avoided mr eccleston todd took decision pick mobile phone whilst driving either reading replying text message distracted failed negotiate left hand bend crossing central white line path miss titley oncoming car miss titley pulled wreckage daihatsu cuore died later injuries hospital miss titley bright future ahead also returning home spent enjoyable evening friends driving responsibly arranged contact friends got home confirm arrived safely friends sadly never heard parted company miss titley death circumstances reiterates danger using hand held mobile phone whilst driving police unable take breath blood tests eccleston todd immediately tests several hours accident marginally drink drive limit judge agreed police would limit time red citroen hit miss titley blue daihatsu cuore road near yarmouth isle wight october phone records showed also texting around time crash pc mark furse hampshire constabulary serious collision investigation unit said thoughts rachel family time friends pub shalfleet evening alcohol investigation showed nothing could done avoid collision sadly cost life mr eccleston todd left work yarmouth met friends pub drank least three four pints lager long left pub return home collision occurred around pm able take breath blood tests immediately although blood taken several hours collision showed marginally limit maintain would limit time collision summing today judge agreed analysis phone records showed texting phone around time collision highly likely would also contributed dangerous driving loss control eccleston todd found guilty causing death dangerous driving following trial portsmouth crown court added mr eccleston todd spend six years behind bars rachel family lost forever hope make people think twice drinking alcohol getting behind wheel using phone road dangers drink driving driving whilst using mobile phone obvious continue risk spending substantial time prison case highlights tragic consequences committing offences mr eccleston todd spend six years behind bars rachel family lost ever hope make people think twice drinking alcohol getting behind wheel using phone road case highlights tragic consequences committing offences eccleston todd newport isle wight also disqualified driving eight years complete extended test',\n",
       " 'breezy sweep pen president vladimir putin wrote new chapter crimea turbulent history committing region future returned russian domain sixty years prior ukraine breakaway peninsula signed away swiftly soviet leader nikita khrushchev dealing blatant land grab eastern flank anywhere near quick easy europe member union unlike crimea rushed referendum everyone say initially slapping visa restrictions asset freezes limited number little known politicians military men europe facing urgent calls widen scope measures target russian business community particular logic run russia essentially two sides coin alexei navalny one time moscow mayoral contender house arrest opposing current regime called europe leaders ban everyone vladimir putin personal banker chelsea football club owner roman abramovich keeping money loved ones abroad asset freezes visa restrictions especially palatable options eu rolled discretionary basis without requiring cumbersome legal procedures recourse fact russia cancels visas people like time look hermitage capital founder bill browder lost right entry moscow based money dare go back russia also banned adoption orphans americans retaliation us implementation anti corruption law named sergei magnitsky browder lawyer died year moscow detention center apparently beaten death yet playing money talks card europe must ready consequences action money also walks eu leaders must ready accept sanctions two way street hurt sides targeting russia peripatetic business community would one way sapping tenuous support president putin strategy might also turn silver lining awarding eu countries chance finally deal unpleasant sides patronage including money laundering corruption inflated prize assets like london property picasso paintings years europe hold fire though trade two decades post soviet rapprochement almost billion worth commerce lot put stake true trade war would hurt russia far harder would eu least former gdp comes exports bloc europe hefty reliance russian gas would hard time keeping factories going citizens warm without power east putin flexes political muscle open trade channels keep dialogue going giving sides chance change subject talk less tensely one afford cut lifeline especially europe economy rebound russia one wane',\n",
       " 'fleetwood team still record sky bet league one win scunthorpe sent graham alexander men top table cod army playing third tier first time history six promotions nine years remarkable ascent shows sign slowing jamie proctor gareth evans scoring goals glanford park fleetwood one five teams two two four clubs peterborough bristol city chesterfield crawley hit first stumbling blocks posh defeated sheffield united lost opening contests jose baxter opener gave blades first half lead although later cancelled shaun brisley goal ben davies snatched winner six minutes time lead jose baxter celebrates opening scoring sheffield united battle sheffield united michael doyle challenges peterborough kyle vassell keenly contested clash bristol city beat nigel clough men opening day held goalless draw last season play finalists leyton orient chesterfield league two champions beaten mk dons play manchester united capital one cup seven days time arsenal loanee benik afobe scored goal game break meanwhile crawley lost unbeaten status bradford maintained thanks win bantams james hanson became first player score crawley season minutes joe walsh equalised five minutes later heads bristol city korey smith leyton orient lloyd james go header strikes billy knott mason bennett sealed impressive away win phil parkinson men bradford second behind fleetwood doncaster stoppage time equaliser meant preston joe garner signed new contract earlier tuesday held draw slipped table chris humphrey looked secured points lilywhites nathan tyson struck last gasp leveller stand striker matt done scored hat trick rochdale evening high scoring affair crewe hammered marcus haber marked full railwaymen debut brace done treble goals ian henderson peter vincenti helped keith hill men big away victory plenty goals coventry barnsley draw four goals coming first half josh mcquoid jordan clarke twice gave sky blues lead tykes earned point thanks strikes conor hourihane leroy lita notts county recorded home win colchester ronan murray liam noble target freddie sears replied colchester james wilson second half equaliser earned oldham points port vale tom pope opener yeovil claimed away victory walsall kevin dawson striking late winner tom bradshaw equalised veteran james hayter gave glovers lead finally swindon held gillingham draw thanks stephen bywater last minute goal danny kedwell kortney hause twice gave gills lead andy williams pulled swindon level bywater dropped raphael branco cross net']"
      ]
     },
     "execution_count": 8,
     "metadata": {},
     "output_type": "execute_result"
    }
   ],
   "source": [
    "cleaned_text[:5]  "
   ]
  },
  {
   "cell_type": "code",
   "execution_count": 9,
   "id": "c2ec04a3",
   "metadata": {},
   "outputs": [],
   "source": [
    "#call the function\n",
    "cleaned_summary = []\n",
    "for t in data['highlights']:\n",
    "    cleaned_summary.append(text_cleaner(t,1))"
   ]
  },
  {
   "cell_type": "code",
   "execution_count": 10,
   "id": "d13e4870",
   "metadata": {},
   "outputs": [
    {
     "data": {
      "text/plain": [
       "['bishop john folda of north dakota is taking time off after being diagnosed he contracted the infection through contaminated food in italy church members in fargo grand forks and jamestown could have been exposed',\n",
       " 'criminal complaint cop used his role to help cocaine traffickers ralph mata an internal affairs lieutenant allegedly helped group get guns he also arranged to pay two assassins in murder plot complaint alleges',\n",
       " 'craig eccleston todd had drunk at least three pints before driving car was using phone when he veered across road in yarmouth isle of wight crashed head on into year old rachel titley car who died in hospital police say he would have been over legal drink drive limit at time of crash he was found guilty at portsmouth crown court of causing death by dangerous driving',\n",
       " 'nina dos santos says europe must be ready to accept sanctions will hurt both sides targeting russia business community would be one way of sapping their support for president putin she says but she says europe would have hard time keeping its factories going without power from the east',\n",
       " 'fleetwood top of league one after win at scunthorpe peterborough bristol city chesterfield and crawley all drop first points of the season stand in striker matt done scores hat trick as rochdale thrash crewe wins for notts county and yeovil coventry bradford and oldham port vale both end in draws late stephen bywater own goal denies gillingham three points against millwall',\n",
       " 'prime minister and his family are enjoying an easter break in lanzarote sported the same beige loafers as he wore in portugal last year pm sat and had drink at beach side cafe on the spanish island',\n",
       " 'nba star calls for black and hispanic communities to get tested former lakers player dedicated life to raising awareness about disease',\n",
       " 'london midland service had been pulling into telford station in shropshire passenger chris downes was recording on his mobile at the time announcer can clearly be heard saying telford central please be aware of pickpockets and gipsies london midland said it is now launching an investigation into the incident',\n",
       " 'tony pulis believes saido berahino should look up to darren fletcher pulis insists berahino has been listened to the wrong advice berahino said he wants to move on to bigger things earlier in the week read berahino available for after liverpool target angers club click here for all the latest west brom news',\n",
       " 'black box data from flight could be analyzed at laboratory in australia even if the flight data recorder is damaged information is retrievable about parameters are decoded like altitude engine performance and cabin pressure the data is used to create visual representation helping the public understand an accident']"
      ]
     },
     "execution_count": 10,
     "metadata": {},
     "output_type": "execute_result"
    }
   ],
   "source": [
    "cleaned_summary[:10]"
   ]
  },
  {
   "cell_type": "code",
   "execution_count": 11,
   "id": "b8ffc0f1",
   "metadata": {},
   "outputs": [],
   "source": [
    "data['cleaned_text']=cleaned_text\n",
    "data['cleaned_summary']=cleaned_summary"
   ]
  },
  {
   "cell_type": "code",
   "execution_count": 12,
   "id": "aa8e0f8e",
   "metadata": {},
   "outputs": [],
   "source": [
    "#drop empty rows\n",
    "data.replace('', np.nan, inplace=True)\n",
    "data.dropna(axis=0,inplace=True)"
   ]
  },
  {
   "cell_type": "code",
   "execution_count": 13,
   "id": "ea83ee71",
   "metadata": {},
   "outputs": [
    {
     "data": {
      "image/png": "[encoded data removed]",
      "text/plain": [
       "<Figure size 432x288 with 2 Axes>"
      ]
     },
     "metadata": {
      "needs_background": "light"
     },
     "output_type": "display_data"
    }
   ],
   "source": [
    "import matplotlib.pyplot as plt\n",
    "\n",
    "text_word_count = []\n",
    "summary_word_count = []\n",
    "\n",
    "# populate the lists with sentence lengths\n",
    "for i in data['cleaned_text']:\n",
    "      text_word_count.append(len(i.split()))\n",
    "\n",
    "for i in data['cleaned_summary']:\n",
    "      summary_word_count.append(len(i.split()))\n",
    "\n",
    "length_df = pd.DataFrame({'text':text_word_count, 'summary':summary_word_count})\n",
    "\n",
    "length_df.hist(bins = 30)\n",
    "plt.show()"
   ]
  },
  {
   "cell_type": "code",
   "execution_count": 14,
   "id": "b5c9a420",
   "metadata": {},
   "outputs": [
    {
     "name": "stdout",
     "output_type": "stream",
     "text": [
      "0.6828387044973253\n"
     ]
    }
   ],
   "source": [
    "cnt=0\n",
    "for i in data['cleaned_summary']:\n",
    "    if(len(i.split())<=50):\n",
    "        cnt=cnt+1\n",
    "print(cnt/len(data['cleaned_summary']))"
   ]
  },
  {
   "cell_type": "code",
   "execution_count": 15,
   "id": "649d7ab1",
   "metadata": {},
   "outputs": [
    {
     "name": "stdout",
     "output_type": "stream",
     "text": [
      "0.9358270521994841\n"
     ]
    }
   ],
   "source": [
    "cnt=0\n",
    "for i in data['cleaned_text']:\n",
    "    if(len(i.split())<=700):\n",
    "        cnt=cnt+1\n",
    "print(cnt/len(data['cleaned_text']))"
   ]
  },
  {
   "cell_type": "code",
   "execution_count": 16,
   "id": "a40f54d8",
   "metadata": {},
   "outputs": [],
   "source": [
    "max_text_len=700\n",
    "max_summary_len=50"
   ]
  },
  {
   "cell_type": "code",
   "execution_count": 17,
   "id": "231d346d",
   "metadata": {},
   "outputs": [],
   "source": [
    "cleaned_text =np.array(data['cleaned_text'])\n",
    "cleaned_summary=np.array(data['cleaned_summary'])\n",
    "\n",
    "short_text=[]\n",
    "short_summary=[]\n",
    "\n",
    "for i in range(len(cleaned_text)):\n",
    "    if(len(cleaned_summary[i].split())<=max_summary_len and len(cleaned_text[i].split())<=max_text_len):\n",
    "        short_text.append(cleaned_text[i])\n",
    "        short_summary.append(cleaned_summary[i])\n",
    "        \n",
    "df=pd.DataFrame({'text':short_text,'summary':short_summary})"
   ]
  },
  {
   "cell_type": "code",
   "execution_count": 18,
   "id": "a91ff862",
   "metadata": {},
   "outputs": [],
   "source": [
    "#making sure tokens dont appear in the summaries\n",
    "for summary in df['summary']:\n",
    "    if 'sostok' in summary:\n",
    "        print(\"ERROR\")\n",
    "    if 'eostok' in summary:\n",
    "        print(\"ERROR\")"
   ]
  },
  {
   "cell_type": "code",
   "execution_count": 19,
   "id": "113b7b7c",
   "metadata": {},
   "outputs": [],
   "source": [
    "df['summary'] = df['summary'].apply(lambda x : 'sostok '+ x + ' eostok')"
   ]
  },
  {
   "cell_type": "code",
   "execution_count": 20,
   "id": "ebb4ecc8",
   "metadata": {},
   "outputs": [],
   "source": [
    "from sklearn.model_selection import train_test_split\n",
    "x_tr,x_val,y_tr,y_val=train_test_split(np.array(df['text']),np.array(df['summary']),test_size=0.1,random_state=0,shuffle=True) "
   ]
  },
  {
   "cell_type": "code",
   "execution_count": 21,
   "id": "9cbb1687",
   "metadata": {},
   "outputs": [],
   "source": [
    "from tensorflow.keras.preprocessing.text import Tokenizer \n",
    "from tensorflow.keras.preprocessing.sequence import pad_sequences\n",
    "\n",
    "#prepare a tokenizer for reviews on training data\n",
    "x_tokenizer = Tokenizer() \n",
    "x_tokenizer.fit_on_texts(list(x_tr))"
   ]
  },
  {
   "cell_type": "code",
   "execution_count": 22,
   "id": "08bd3d72",
   "metadata": {},
   "outputs": [
    {
     "name": "stdout",
     "output_type": "stream",
     "text": [
      "% of rare words in vocabulary: 54.67126228834927\n",
      "Total Coverage of rare words: 0.8275629913951933\n"
     ]
    }
   ],
   "source": [
    "thresh=4\n",
    "\n",
    "cnt=0\n",
    "tot_cnt=0\n",
    "freq=0\n",
    "tot_freq=0\n",
    "\n",
    "for key,value in x_tokenizer.word_counts.items():\n",
    "    tot_cnt=tot_cnt+1\n",
    "    tot_freq=tot_freq+value\n",
    "    if(value<thresh):\n",
    "        cnt=cnt+1\n",
    "        freq=freq+value\n",
    "    \n",
    "print(\"% of rare words in vocabulary:\",(cnt/tot_cnt)*100)\n",
    "print(\"Total Coverage of rare words:\",(freq/tot_freq)*100)"
   ]
  },
  {
   "cell_type": "code",
   "execution_count": 23,
   "id": "b4f82003",
   "metadata": {},
   "outputs": [],
   "source": [
    "#prepare a tokenizer for articles on training data\n",
    "x_tokenizer = Tokenizer(num_words=tot_cnt-cnt) \n",
    "x_tokenizer.fit_on_texts(list(x_tr))\n",
    "\n",
    "#convert text sequences into integer sequences\n",
    "x_tr_seq    =   x_tokenizer.texts_to_sequences(x_tr) \n",
    "x_val_seq   =   x_tokenizer.texts_to_sequences(x_val)\n",
    "\n",
    "#padding zero upto maximum length\n",
    "x_tr    =   pad_sequences(x_tr_seq,  maxlen=max_text_len, padding='post')\n",
    "x_val   =   pad_sequences(x_val_seq, maxlen=max_text_len, padding='post')\n",
    "\n",
    "#size of vocabulary ( +1 for padding token)\n",
    "x_voc   =  x_tokenizer.num_words + 1"
   ]
  },
  {
   "cell_type": "code",
   "execution_count": 24,
   "id": "ed69e342",
   "metadata": {},
   "outputs": [
    {
     "data": {
      "text/plain": [
       "87194"
      ]
     },
     "execution_count": 24,
     "metadata": {},
     "output_type": "execute_result"
    }
   ],
   "source": [
    "x_voc"
   ]
  },
  {
   "cell_type": "code",
   "execution_count": 25,
   "id": "758d54fc",
   "metadata": {},
   "outputs": [],
   "source": [
    "#prepare a tokenizer for headlines on training data\n",
    "y_tokenizer = Tokenizer()   \n",
    "y_tokenizer.fit_on_texts(list(y_tr))"
   ]
  },
  {
   "cell_type": "code",
   "execution_count": 26,
   "id": "fb3825bd",
   "metadata": {},
   "outputs": [
    {
     "name": "stdout",
     "output_type": "stream",
     "text": [
      "% of rare words in vocabulary: 70.4966454907083\n",
      "Total Coverage of rare words: 3.799591105143823\n"
     ]
    }
   ],
   "source": [
    "thresh=6\n",
    "\n",
    "cnt=0\n",
    "tot_cnt=0\n",
    "freq=0\n",
    "tot_freq=0\n",
    "\n",
    "for key,value in y_tokenizer.word_counts.items():\n",
    "    tot_cnt=tot_cnt+1\n",
    "    tot_freq=tot_freq+value\n",
    "    if(value<thresh):\n",
    "        cnt=cnt+1\n",
    "        freq=freq+value\n",
    "    \n",
    "print(\"% of rare words in vocabulary:\",(cnt/tot_cnt)*100)\n",
    "print(\"Total Coverage of rare words:\",(freq/tot_freq)*100)"
   ]
  },
  {
   "cell_type": "code",
   "execution_count": 27,
   "id": "68032ca6",
   "metadata": {},
   "outputs": [],
   "source": [
    "#prepare a tokenizer for reviews on training data\n",
    "y_tokenizer = Tokenizer(num_words=tot_cnt-cnt) \n",
    "y_tokenizer.fit_on_texts(list(y_tr))\n",
    "\n",
    "#convert text sequences into integer sequences\n",
    "y_tr_seq    =   y_tokenizer.texts_to_sequences(y_tr) \n",
    "y_val_seq   =   y_tokenizer.texts_to_sequences(y_val) \n",
    "\n",
    "#padding zero upto maximum length\n",
    "y_tr    =   pad_sequences(y_tr_seq, maxlen=max_summary_len, padding='post')\n",
    "y_val   =   pad_sequences(y_val_seq, maxlen=max_summary_len, padding='post')\n",
    "\n",
    "#size of vocabulary\n",
    "y_voc  =   y_tokenizer.num_words +1"
   ]
  },
  {
   "cell_type": "code",
   "execution_count": 28,
   "id": "00735635",
   "metadata": {},
   "outputs": [
    {
     "data": {
      "text/plain": [
       "19878"
      ]
     },
     "execution_count": 28,
     "metadata": {},
     "output_type": "execute_result"
    }
   ],
   "source": [
    "y_voc"
   ]
  },
  {
   "cell_type": "code",
   "execution_count": 29,
   "id": "7db26b46",
   "metadata": {},
   "outputs": [
    {
     "data": {
      "text/plain": [
       "(58500, 58500)"
      ]
     },
     "execution_count": 29,
     "metadata": {},
     "output_type": "execute_result"
    }
   ],
   "source": [
    "y_tokenizer.word_counts['sostok'], len(y_tr)"
   ]
  },
  {
   "cell_type": "code",
   "execution_count": 30,
   "id": "55fbaab1",
   "metadata": {},
   "outputs": [],
   "source": [
    "#delete rows that only have start and end tokens\n",
    "ind=[]\n",
    "for i in range(len(y_tr)):\n",
    "    cnt=0\n",
    "    for j in y_tr[i]:\n",
    "        if j!=0:\n",
    "            cnt=cnt+1\n",
    "    if(cnt==2):\n",
    "        ind.append(i)\n",
    "\n",
    "y_tr=np.delete(y_tr, ind, axis=0)\n",
    "x_tr=np.delete(x_tr, ind, axis=0)"
   ]
  },
  {
   "cell_type": "code",
   "execution_count": 31,
   "id": "8491c1da",
   "metadata": {},
   "outputs": [],
   "source": [
    "ind=[]\n",
    "for i in range(len(y_val)):\n",
    "    cnt=0\n",
    "    for j in y_val[i]:\n",
    "        if j!=0:\n",
    "            cnt=cnt+1\n",
    "    if(cnt==2):\n",
    "        ind.append(i)\n",
    "\n",
    "y_val=np.delete(y_val,ind, axis=0)\n",
    "x_val=np.delete(x_val,ind, axis=0)"
   ]
  },
  {
   "cell_type": "code",
   "execution_count": 32,
   "id": "f016d76a",
   "metadata": {},
   "outputs": [],
   "source": [
    "ind=[]\n",
    "for i in range(len(y_val)):\n",
    "    cnt=0\n",
    "    for j in y_val[i]:\n",
    "        if j!=0:\n",
    "            cnt=cnt+1\n",
    "    if(cnt==2):\n",
    "        ind.append(i)\n",
    "\n",
    "y_val=np.delete(y_val,ind, axis=0)\n",
    "x_val=np.delete(x_val,ind, axis=0)"
   ]
  },
  {
   "cell_type": "code",
   "execution_count": 33,
   "id": "c453373a",
   "metadata": {},
   "outputs": [
    {
     "name": "stdout",
     "output_type": "stream",
     "text": [
      "2.5.0\n",
      "[PhysicalDevice(name='/physical_device:CPU:0', device_type='CPU'), PhysicalDevice(name='/physical_device:GPU:0', device_type='GPU')]\n",
      "Num GPUs Available:  1\n"
     ]
    }
   ],
   "source": [
    "# from tensorflow.keras.layers import Input, LSTM, Embedding, Dense, Concatenate, TimeDistributed, Attention\n",
    "# from tensorflow.keras.models import Model\n",
    "# from tensorflow.keras.callbacks import EarlyStopping\n",
    "import tensorflow as tf\n",
    "from tensorflow.keras import backend as K \n",
    "from tensorflow.keras.layers import Input, LSTM, Embedding, Dense, Concatenate, TimeDistributed, Bidirectional, Attention\n",
    "from tensorflow.keras.models import Model\n",
    "from tensorflow.keras.callbacks import EarlyStopping\n",
    "\n",
    "print(tf.__version__)\n",
    "print(tf.config.list_physical_devices())\n",
    "print(\"Num GPUs Available: \", len(tf.config.list_physical_devices('GPU')))"
   ]
  },
  {
   "cell_type": "markdown",
   "id": "bf82466b",
   "metadata": {},
   "source": [
    "## Model"
   ]
  },
  {
   "cell_type": "code",
   "execution_count": 34,
   "id": "10bbcbc6",
   "metadata": {},
   "outputs": [],
   "source": [
    "# LSTM\n",
    "K.clear_session()\n",
    "\n",
    "latent_dim = 300\n",
    "embedding_dim = 100\n",
    "\n",
    "# Encoder\n",
    "encoder_inputs = Input(shape=(None,))\n",
    "\n",
    "#embedding layer\n",
    "enc_emb =  Embedding(x_voc, embedding_dim, trainable=True)(encoder_inputs)\n",
    "\n",
    "#encoder lstm 1\n",
    "encoder_lstm1 = LSTM(latent_dim, return_sequences=True,return_state=True,dropout=0.4,recurrent_dropout=0)\n",
    "encoder_output1, state_h1, state_c1 = encoder_lstm1(enc_emb)\n",
    "\n",
    "#encoder lstm 2\n",
    "encoder_lstm2 = LSTM(latent_dim,return_sequences=True,return_state=True,dropout=0.4,recurrent_dropout=0)\n",
    "encoder_output2, state_h2, state_c2 = encoder_lstm2(encoder_output1)\n",
    "\n",
    "#encoder lstm 3\n",
    "encoder_lstm3 = LSTM(latent_dim,return_sequences=True,return_state=True,dropout=0.4,recurrent_dropout=0)\n",
    "encoder_outputs, state_h, state_c= encoder_lstm3(encoder_output2)\n",
    "\n",
    "# Set up the decoder, using `encoder_states` as initial state.\n",
    "decoder_inputs = Input(shape=(None,))\n",
    "\n",
    "#embedding layer\n",
    "dec_emb_layer = Embedding(y_voc, embedding_dim,trainable=True)\n",
    "dec_emb = dec_emb_layer(decoder_inputs)\n",
    "\n",
    "decoder_lstm = LSTM(latent_dim, return_sequences=True,return_state=True,dropout=0.4,recurrent_dropout=0)\n",
    "decoder_outputs, decoder_fwd_state, decoder_back_state = decoder_lstm(dec_emb,initial_state=[state_h, state_c])\n",
    "\n",
    "# Attention layer\n",
    "attn_layer = Attention(name='attention_layer')\n",
    "attn_out = attn_layer([decoder_outputs, encoder_outputs])\n",
    "\n",
    "# Concat attention input and decoder LSTM output\n",
    "decoder_concat_input = Concatenate(axis=-1, name='concat_layer')([decoder_outputs, attn_out])\n",
    "\n",
    "#dense layer\n",
    "decoder_dense = TimeDistributed(Dense(y_voc, activation='softmax'))\n",
    "decoder_outputs = decoder_dense(decoder_concat_input)"
   ]
  },
  {
   "cell_type": "code",
   "execution_count": 34,
   "id": "4a4ba34c",
   "metadata": {},
   "outputs": [],
   "source": [
    "# Bidirectional LSTM\n",
    "K.clear_session()\n",
    "\n",
    "latent_dim = 300\n",
    "embedding_dim = 100\n",
    "\n",
    "# Encoder\n",
    "encoder_inputs = Input(shape=(None,))\n",
    "\n",
    "# embedding layer\n",
    "enc_emb =  Embedding(x_voc, embedding_dim, trainable=True, name = \"enc_embedding\")(encoder_inputs)\n",
    "\n",
    "encoder_lstm1 = Bidirectional(\n",
    "    LSTM(latent_dim, return_state=True,dropout=0.4,recurrent_dropout=0),\n",
    "    name = 'encoder_lstm1')\n",
    "encoder_outputs, enc_forward_h, enc_forward_c, enc_backward_h, enc_backward_c  = encoder_lstm1(enc_emb)\n",
    "\n",
    "state_h = Concatenate()([enc_forward_h, enc_backward_h])\n",
    "state_c = Concatenate()([enc_forward_c, enc_backward_c])\n",
    "encoder_states = [state_h, state_c]\n",
    "# Set up the decoder, using `encoder_states` as initial state.\n",
    "decoder_inputs = Input(shape=(None,))\n",
    "\n",
    "#embedding layer\n",
    "dec_emb_layer = Embedding(y_voc, embedding_dim,trainable=True, name = 'dec_embedding')\n",
    "dec_emb = dec_emb_layer(decoder_inputs)\n",
    "\n",
    "decoder_lstm = LSTM(latent_dim*2, return_sequences=True,return_state=True,dropout=0.4,recurrent_dropout=0)\n",
    "decoder_outputs1, decoder_fwd_state, decoder_back_state = decoder_lstm(dec_emb,initial_state=encoder_states)\n",
    "\n",
    "# Attention layer\n",
    "attn_layer = Attention(name='attention_layer')\n",
    "attn_out = attn_layer([decoder_outputs1, encoder_outputs])\n",
    "\n",
    "# Concat attention input and decoder LSTM output\n",
    "decoder_concat_input = Concatenate(axis=-1, name='concat_layer')([decoder_outputs1, attn_out])\n",
    "\n",
    "#dense layer\n",
    "decoder_dense = TimeDistributed(Dense(y_voc, activation='softmax'))\n",
    "decoder_outputs = decoder_dense(decoder_concat_input)"
   ]
  },
  {
   "cell_type": "code",
   "execution_count": 35,
   "id": "de177993",
   "metadata": {},
   "outputs": [
    {
     "name": "stdout",
     "output_type": "stream",
     "text": [
      "Model: \"model\"\n",
      "__________________________________________________________________________________________________\n",
      "Layer (type)                    Output Shape         Param #     Connected to                     \n",
      "==================================================================================================\n",
      "input_1 (InputLayer)            [(None, None)]       0                                            \n",
      "__________________________________________________________________________________________________\n",
      "enc_embedding (Embedding)       (None, None, 100)    8719400     input_1[0][0]                    \n",
      "__________________________________________________________________________________________________\n",
      "input_2 (InputLayer)            [(None, None)]       0                                            \n",
      "__________________________________________________________________________________________________\n",
      "encoder_lstm1 (Bidirectional)   [(None, 600), (None, 962400      enc_embedding[0][0]              \n",
      "__________________________________________________________________________________________________\n",
      "dec_embedding (Embedding)       (None, None, 100)    1987800     input_2[0][0]                    \n",
      "__________________________________________________________________________________________________\n",
      "concatenate (Concatenate)       (None, 600)          0           encoder_lstm1[0][1]              \n",
      "                                                                 encoder_lstm1[0][3]              \n",
      "__________________________________________________________________________________________________\n",
      "concatenate_1 (Concatenate)     (None, 600)          0           encoder_lstm1[0][2]              \n",
      "                                                                 encoder_lstm1[0][4]              \n",
      "__________________________________________________________________________________________________\n",
      "lstm_1 (LSTM)                   [(None, None, 600),  1682400     dec_embedding[0][0]              \n",
      "                                                                 concatenate[0][0]                \n",
      "                                                                 concatenate_1[0][0]              \n",
      "__________________________________________________________________________________________________\n",
      "attention_layer (Attention)     (None, None, 600)    0           lstm_1[0][0]                     \n",
      "                                                                 encoder_lstm1[0][0]              \n",
      "__________________________________________________________________________________________________\n",
      "concat_layer (Concatenate)      (None, None, 1200)   0           lstm_1[0][0]                     \n",
      "                                                                 attention_layer[0][0]            \n",
      "__________________________________________________________________________________________________\n",
      "time_distributed (TimeDistribut (None, None, 19878)  23873478    concat_layer[0][0]               \n",
      "==================================================================================================\n",
      "Total params: 37,225,478\n",
      "Trainable params: 37,225,478\n",
      "Non-trainable params: 0\n",
      "__________________________________________________________________________________________________\n"
     ]
    }
   ],
   "source": [
    "model = Model([encoder_inputs, decoder_inputs], decoder_outputs)\n",
    "\n",
    "model.summary() "
   ]
  },
  {
   "cell_type": "code",
   "execution_count": 36,
   "id": "02145814",
   "metadata": {},
   "outputs": [],
   "source": [
    "model.compile(optimizer='rmsprop', loss='sparse_categorical_crossentropy')"
   ]
  },
  {
   "cell_type": "code",
   "execution_count": 37,
   "id": "5350548b",
   "metadata": {},
   "outputs": [],
   "source": [
    "es = EarlyStopping(monitor='val_loss', mode='min', verbose=1,patience=2)"
   ]
  },
  {
   "cell_type": "code",
   "execution_count": 38,
   "id": "17f1f671",
   "metadata": {},
   "outputs": [
    {
     "name": "stdout",
     "output_type": "stream",
     "text": [
      "Epoch 1/5\n",
      "458/458 [==============================] - 410s 885ms/step - loss: 5.4718 - val_loss: 5.1691\n",
      "Epoch 2/5\n",
      "458/458 [==============================] - 399s 872ms/step - loss: 5.0211 - val_loss: 5.0360\n",
      "Epoch 3/5\n",
      "458/458 [==============================] - 402s 877ms/step - loss: 4.7808 - val_loss: 4.7307\n",
      "Epoch 4/5\n",
      "458/458 [==============================] - 405s 885ms/step - loss: 4.6318 - val_loss: 4.6250\n",
      "Epoch 5/5\n",
      "458/458 [==============================] - 403s 879ms/step - loss: 4.5320 - val_loss: 4.5679\n"
     ]
    }
   ],
   "source": [
    "history=model.fit([x_tr, y_tr[:,:-1]],\n",
    "                   y_tr.reshape(y_tr.shape[0], y_tr.shape[1], 1)[:,1:],\n",
    "                   epochs=5,\n",
    "                   callbacks=[es],\n",
    "                   batch_size=128,\n",
    "                   validation_data=([x_val,\n",
    "                                     y_val[:,:-1]],\n",
    "                                     y_val.reshape(y_val.shape[0], y_val.shape[1], 1)[:,1:]\n",
    "                                     )\n",
    "                   )"
   ]
  },
  {
   "cell_type": "code",
   "execution_count": 38,
   "id": "5b5bac8c",
   "metadata": {},
   "outputs": [
    {
     "name": "stdout",
     "output_type": "stream",
     "text": [
      "Epoch 1/20\n",
      "458/458 [==============================] - 384s 810ms/step - loss: 5.4144 - val_loss: 5.0887\n",
      "Epoch 2/20\n",
      "458/458 [==============================] - 364s 795ms/step - loss: 4.8844 - val_loss: 4.7562\n",
      "Epoch 3/20\n",
      "458/458 [==============================] - 362s 790ms/step - loss: 4.6502 - val_loss: 4.6087\n",
      "Epoch 4/20\n",
      "458/458 [==============================] - 343s 748ms/step - loss: 4.5019 - val_loss: 4.5208\n",
      "Epoch 5/20\n",
      "458/458 [==============================] - 343s 750ms/step - loss: 4.3849 - val_loss: 4.4533\n",
      "Epoch 6/20\n",
      "458/458 [==============================] - 343s 749ms/step - loss: 4.2899 - val_loss: 4.3999\n",
      "Epoch 7/20\n",
      "458/458 [==============================] - 343s 749ms/step - loss: 4.2073 - val_loss: 4.3700\n",
      "Epoch 8/20\n",
      "458/458 [==============================] - 343s 749ms/step - loss: 4.1317 - val_loss: 4.3351\n",
      "Epoch 9/20\n",
      "458/458 [==============================] - 344s 750ms/step - loss: 4.0634 - val_loss: 4.3067\n",
      "Epoch 10/20\n",
      "458/458 [==============================] - 343s 748ms/step - loss: 4.0016 - val_loss: 4.2973\n",
      "Epoch 11/20\n",
      "458/458 [==============================] - 343s 749ms/step - loss: 3.9429 - val_loss: 4.2880\n",
      "Epoch 12/20\n",
      "458/458 [==============================] - 343s 749ms/step - loss: 3.8903 - val_loss: 4.2710\n",
      "Epoch 13/20\n",
      "458/458 [==============================] - 343s 749ms/step - loss: 3.8416 - val_loss: 4.2582\n",
      "Epoch 14/20\n",
      "458/458 [==============================] - 343s 748ms/step - loss: 3.7947 - val_loss: 4.2617\n",
      "Epoch 15/20\n",
      "458/458 [==============================] - 343s 749ms/step - loss: 3.7510 - val_loss: 4.2601\n",
      "Epoch 00015: early stopping\n"
     ]
    }
   ],
   "source": [
    "history=model.fit([x_tr, y_tr[:,:-1]],\n",
    "                   y_tr.reshape(y_tr.shape[0], y_tr.shape[1], 1)[:,1:],\n",
    "                   epochs=20,\n",
    "                   callbacks=[es],\n",
    "                   batch_size=128,\n",
    "                   validation_data=([x_val,\n",
    "                                     y_val[:,:-1]],\n",
    "                                     y_val.reshape(y_val.shape[0], y_val.shape[1], 1)[:,1:]\n",
    "                                     )\n",
    "                   )"
   ]
  },
  {
   "cell_type": "code",
   "execution_count": 39,
   "id": "df820f38",
   "metadata": {},
   "outputs": [
    {
     "data": {
      "image/png": "[encoded data removed]",
      "text/plain": [
       "<Figure size 432x288 with 1 Axes>"
      ]
     },
     "metadata": {
      "needs_background": "light"
     },
     "output_type": "display_data"
    }
   ],
   "source": [
    "from matplotlib import pyplot\n",
    "pyplot.plot(history.history['loss'], label='train')\n",
    "pyplot.plot(history.history['val_loss'], label='test')\n",
    "pyplot.legend()\n",
    "pyplot.show()"
   ]
  },
  {
   "cell_type": "code",
   "execution_count": 45,
   "id": "f844d8d2",
   "metadata": {},
   "outputs": [
    {
     "data": {
      "image/png": "[encoded data removed]",
      "text/plain": [
       "<Figure size 432x288 with 1 Axes>"
      ]
     },
     "metadata": {
      "needs_background": "light"
     },
     "output_type": "display_data"
    }
   ],
   "source": [
    "# bidirectional\n",
    "from matplotlib import pyplot\n",
    "pyplot.plot(history.history['loss'], label='train')\n",
    "pyplot.plot(history.history['val_loss'], label='test')\n",
    "pyplot.legend()\n",
    "pyplot.show()"
   ]
  },
  {
   "cell_type": "code",
   "execution_count": 40,
   "id": "a221d4af",
   "metadata": {},
   "outputs": [
    {
     "name": "stderr",
     "output_type": "stream",
     "text": [
      "WARNING:absl:Found untraced functions such as lstm_cell_layer_call_and_return_conditional_losses, lstm_cell_layer_call_fn, lstm_cell_1_layer_call_and_return_conditional_losses, lstm_cell_1_layer_call_fn, lstm_cell_2_layer_call_and_return_conditional_losses while saving (showing 5 of 20). These functions will not be directly callable after loading.\n"
     ]
    },
    {
     "name": "stdout",
     "output_type": "stream",
     "text": [
      "INFO:tensorflow:Assets written to: model//cnn\\assets\n"
     ]
    },
    {
     "name": "stderr",
     "output_type": "stream",
     "text": [
      "INFO:tensorflow:Assets written to: model//cnn\\assets\n"
     ]
    }
   ],
   "source": [
    "model.save('model//cnn')"
   ]
  },
  {
   "cell_type": "code",
   "execution_count": null,
   "id": "86033e7d",
   "metadata": {},
   "outputs": [],
   "source": [
    "from tensorflow.keras.models import load_model\n",
    "model1 = load_model('model//cnn')"
   ]
  },
  {
   "cell_type": "code",
   "execution_count": 40,
   "id": "bd604eb4",
   "metadata": {},
   "outputs": [],
   "source": [
    "reverse_target_word_index=y_tokenizer.index_word\n",
    "reverse_source_word_index=x_tokenizer.index_word\n",
    "target_word_index=y_tokenizer.word_index"
   ]
  },
  {
   "cell_type": "markdown",
   "id": "df46c591",
   "metadata": {},
   "source": [
    "## Inference Decoder"
   ]
  },
  {
   "cell_type": "code",
   "execution_count": 42,
   "id": "df1ce707",
   "metadata": {},
   "outputs": [],
   "source": [
    "# Encode the input sequence to get the feature vector\n",
    "encoder_model = Model(inputs=encoder_inputs, outputs=[encoder_outputs, state_h, state_c])\n",
    "\n",
    "# Decoder setup\n",
    "# Below tensors will hold the states of the previous time step\n",
    "decoder_state_input_h = Input(shape=(latent_dim,))\n",
    "decoder_state_input_c = Input(shape=(latent_dim,))\n",
    "decoder_hidden_state_input = Input(shape=(max_text_len,latent_dim))\n",
    "\n",
    "# Get the embeddings of the decoder sequence\n",
    "dec_emb2 = dec_emb_layer(decoder_inputs) \n",
    "# To predict the next word in the sequence, set the initial states to the states from the previous time step\n",
    "decoder_outputs2, state_h2, state_c2 = decoder_lstm(dec_emb2, initial_state=[decoder_state_input_h, decoder_state_input_c])\n",
    "\n",
    "#attention inference\n",
    "attn_out_inf = attn_layer([decoder_outputs2, decoder_hidden_state_input])\n",
    "\n",
    "decoder_inf_concat = Concatenate(axis=-1, name='concat')([decoder_outputs2, attn_out_inf])\n",
    "\n",
    "# A dense softmax layer to generate prob dist. over the target vocabulary\n",
    "decoder_outputs2 = decoder_dense(decoder_inf_concat)\n",
    "\n",
    "# Final decoder model\n",
    "decoder_model = Model(\n",
    "    [decoder_inputs] + [decoder_hidden_state_input, decoder_state_input_h, decoder_state_input_c],\n",
    "    [decoder_outputs2] + [state_h2, state_c2])"
   ]
  },
  {
   "cell_type": "code",
   "execution_count": 41,
   "id": "5a244e11",
   "metadata": {},
   "outputs": [],
   "source": [
    "#bidirectional\n",
    "# Encode the input sequence to get the feature vector\n",
    "encoder_model = Model(inputs=encoder_inputs, outputs=[encoder_outputs, state_h, state_c])\n",
    "\n",
    "# Decoder setup\n",
    "# Below tensors will hold the states of the previous time step\n",
    "decoder_state_input_h = Input(shape=(latent_dim*2,))\n",
    "decoder_state_input_c = Input(shape=(latent_dim*2,))\n",
    "decoder_hidden_state_input = Input(shape=(latent_dim*2))\n",
    "\n",
    "# Get the embeddings of the decoder sequence\n",
    "dec_emb2 = dec_emb_layer(decoder_inputs) \n",
    "# To predict the next word in the sequence, set the initial states to the states from the previous time step\n",
    "decoder_outputs2, state_h2, state_c2 = decoder_lstm(dec_emb2, initial_state=[decoder_state_input_h, decoder_state_input_c])\n",
    "\n",
    "#attention inference\n",
    "attn_out_inf = attn_layer([decoder_outputs2, decoder_hidden_state_input])\n",
    "\n",
    "decoder_inf_concat = Concatenate(axis=-1, name='concat')([decoder_outputs2, attn_out_inf])\n",
    "\n",
    "# A dense softmax layer to generate prob dist. over the target vocabulary\n",
    "decoder_outputs2 = decoder_dense(decoder_inf_concat)\n",
    "\n",
    "# Final decoder model\n",
    "decoder_model = Model(\n",
    "    [decoder_inputs] + [decoder_hidden_state_input, decoder_state_input_h, decoder_state_input_c],\n",
    "    [decoder_outputs2] + [state_h2, state_c2])"
   ]
  },
  {
   "cell_type": "code",
   "execution_count": 42,
   "id": "9dc60efc",
   "metadata": {},
   "outputs": [],
   "source": [
    "def decode_sequence(input_seq):\n",
    "    # Encode the input as state vectors.\n",
    "    e_out, e_h, e_c = encoder_model.predict(input_seq)\n",
    "    \n",
    "    # Generate empty target sequence of length 1.\n",
    "    target_seq = np.zeros((1,1))\n",
    "    \n",
    "    # Populate the first word of target sequence with the start word.\n",
    "    target_seq[0, 0] = target_word_index['sostok']\n",
    "\n",
    "    stop_condition = False\n",
    "    decoded_sentence = ''\n",
    "    while not stop_condition:\n",
    "      \n",
    "        output_tokens, h, c = decoder_model.predict([target_seq] + [e_out, e_h, e_c])\n",
    "\n",
    "        # Sample a token\n",
    "        sampled_token_index = np.argmax(output_tokens[0, -1, :])\n",
    "        sampled_token = reverse_target_word_index[sampled_token_index]\n",
    "        \n",
    "        if(sampled_token!='eostok'):\n",
    "            decoded_sentence += ' '+sampled_token\n",
    "\n",
    "        # Exit condition: either hit max length or find stop word.\n",
    "        if (sampled_token == 'eostok'  or len(decoded_sentence.split()) >= (max_summary_len-1)):\n",
    "            stop_condition = True\n",
    "\n",
    "        # Update the target sequence (of length 1).\n",
    "        target_seq = np.zeros((1,1))\n",
    "        target_seq[0, 0] = sampled_token_index\n",
    "\n",
    "        # Update internal states\n",
    "        e_h, e_c = h, c\n",
    "\n",
    "    return decoded_sentence"
   ]
  },
  {
   "cell_type": "code",
   "execution_count": 43,
   "id": "0c9e5ab6",
   "metadata": {},
   "outputs": [],
   "source": [
    "def seq2summary(input_seq):\n",
    "    newString=''\n",
    "    for i in input_seq:\n",
    "        if((i!=0 and i!=target_word_index['sostok']) and i!=target_word_index['eostok']):\n",
    "            newString=newString+reverse_target_word_index[i]+' '\n",
    "    return newString\n",
    "\n",
    "def seq2text(input_seq):\n",
    "    newString=''\n",
    "    for i in input_seq:\n",
    "        if(i!=0):\n",
    "            newString=newString+reverse_source_word_index[i]+' '\n",
    "    return newString"
   ]
  },
  {
   "cell_type": "code",
   "execution_count": 46,
   "id": "670fe584",
   "metadata": {},
   "outputs": [
    {
     "name": "stdout",
     "output_type": "stream",
     "text": [
      "Article: conventional way breaking protests sam skateboarding dog certainly seems effective ukrainian police found secret weapon battle demonstrations city odessa form skateboarding british bulldog performing pup already managed work magic one group demonstrators descended city hall duma square south western ukrainian city sam skateboarding dog caused stir ploughed crowds duma square odessa british bulldog proved hit crowds performed tricks board angry mob gathered protest corruption particular relation building permits handed allegedly bribes angry mob waving placards chanting three officers security outside looks things get hand mob started gathering door building looked wanted get inside anger turned amusement laughter mob faded away skateboarder sam swept square started nipping masses skateboard dog even managed break protest demonstrators started laugh pranks ukrainian police could certainly use dog unusual method crowd control protests instantly crowd focused attention dog performed impressive steering manoeuvres even able turn skateboard back onto wheels every time turned hitting someone eyewitness anatoly said hilarious impossible ignore seemed excited action smashing skateboard left right running everyone also panting like steam engine suddenly people seemed focus building grabbing mobile phones film hilarious dog one person heard one videos asking animal police dog another woman confirming must look way rounding everybody sam apparently well known sight city favourite clever tricks eventually though sam well known least odessa skateboarding stunts local skate park enough distance without stopping owner sight suspected dog run local park skateboard attracted noise excitement nearby square afterwards apparently decided return back owner \n",
      "Original summary: sam the british bulldog was hit when he turned up to demonstration angry protesters started laughing as the dog performed tricks the mob in square eventually after sam turned up \n",
      "Predicted summary:  the year old man was killed in the crash in the crash he was killed in the crash in the crash of the crash\n",
      "\n",
      "\n",
      "Article: washington nine technicians responsible monitoring operations louisiana nuclear power plant spent duty time surfing internet visiting websites included news sports fishing retirement information jeopardizing safety plant federal regulators say nuclear regulatory commission disclosed web surfing activities monday letter proposes fine river bend nuclear power station miles northwest baton rouge pornography sites accessed nuclear regulatory commission said importantly nrc said computer use present avenue hackers gain access reactor control systems modern day fear industrial plants nrc said web surfing control room operators directly responsible monitoring reactor plant systems actions violated plant procedures requiring operators remain attentive focused work according nrc investigation nine operators deliberately violated safety procedures surfing web january april three nine frequency duration issued severity level three enforcement violations remaining six operators receive severity level four violations operators named nrc nrc spokesman said proposed fine web surfing action web surfing memory may action history agency notice entergy operations inc operators river bend station nrc said appears operators remained attentive reactor operations indications alarms surfing internet however operators involved knew understood prohibitions internet access exhibited deliberate misconduct engaged hundreds instances accessing internet controls area control room violation serious concern nrc accessing internet potential distract licensed operator nrc said also large number licensed reactor operators deliberately chose ignore ban nrc chastised plant saying river bend station strong evidence safety culture problem existed comprehensive actions taken least year nrc regional administrator elmo collins said letter river bend particularly poor performance responding problem merited doubling base fine entergy operations disagrees enforcement action proposed fine company request neutral mediator explore resolution according nrc entergy operations inc immediately respond call cnn dave alsup contributed report \n",
      "Original summary: wants to fine operators of louisiana nuclear plant nine technicians spent on duty time surfing the internet the says accessing the internet has the potential to distract the licensed operator the plant parent company did not immediately respond to call \n",
      "Predicted summary:  new york gov says it is not to be able to get out of the country the president says the government is the first time to the country\n",
      "\n",
      "\n",
      "Article: harriet arkell published est may updated est may supply teacher john bradley stoke denies rape sexual assaults pupils primary school teacher attempted rape young girl sexually assaulted seven pupils court heard john bradley stoke bristol said touched children youngest nine seven year period working supply teacher allegedly attempted rape one youngster pinned naked locked classroom bristol crown court heard initially stood trial june case halted five complainants came forward reading newspaper reports trial worked substitute teacher number schools around bristol denies charges pleaded guilty charge attempted rape sexual assaults eight girls prosecutor ian told jurors police brought one youngster told mother bottom despite mother telling daughter demand stop abuse continued court heard mr said mother realised something know aware teacher alone daughter class last straw mum daughter came home happy pleased day touched teacher john mr said mother complained south gloucestershire school investigation followed seen arriving bristol crown court alleged assaulted girls young nine police called due lack additional evidence prosecution brought said july former pupil school south bristol also made complaint teacher mr said allegation serious bore real similarities said john touched lunchtime got sharpen pencils sat lap kissed cuddled recalled ran clammy hands back squeezed bottom happened number times jury told progressed lying youngster floor touching private parts john first trial bristol crown court right halted complainants came forward one occasion stripped naked lay top stopped disturbed knock classroom door mr told court police tied new complaint first girl allegation along allegations third girl supported said know one girls insisted touching others entirely unintentional trial followed bristol crown court june last year stopped complainants came forward read newspaper reports case mr said cases legitimate source public concern interest press present bristol press reported local newspaper trial name complainants entitled publish name defendant john narrow escape skeletons came rattling cupboard prosecutor ian another young woman heard report knew victim sexual abuse hands john came forward sudden five additional complainants jury heard three pupils north bristol school recounted touched improperly one claimed locked cupboard released hugged another said happened school trip third girl said touched bottom made inappropriate comments physical development two former pupils another school south gloucestershire said teacher touched backsides made one feel sick thought going school mr said john narrow escape skeletons came rattling cupboard trial continues sorry unable accept comments legal reasons \n",
      "Original summary: john allegedly touched pupils when working as supply teacher his original trial was halted when more former came forward from bradley stoke bristol denies rape and sexual assaults \n",
      "Predicted summary:  new police say the suspect was killed in the city of the city of the year old man was killed in the scene in the city of the year old was arrested in the scene of the year old\n",
      "\n",
      "\n",
      "Article: conspiracy theorists accused nasa cutting live feed international space station whenever ufo appears two separate occasions month alien hunters claim spotted mysterious objects appearing screens goes blank ufo watcher toby recently spotted ufo outside space station moments stream interrupted seconds scroll video last week grey object seen coming horizon disappearing moments nasa switched different camera one possible bit debris hit lens even moon mr told disclose tv always ufos showing nasa always cuts feed ufo gets close station alien hunter claims captured still photo unidentified object feed looks remarkably like insignia star trek also says nasa removed recording archives part efforts conceal alleged communication astronauts ufos separate incident last week grey object seen coming horizon disappearing moments nasa switched different camera ufo watcher toby recently spotted ufo outside space station stream interrupted seconds alien hunter claims captured still photo unidentified object appeared live feed january look remarkably like insignia star trek one possible bit debris hit lens even moon youtuber posted video convinced please bear mind moon appears white shows writes meanwhile october ufo watchers said witnessed strange object near station spacewalk astronauts reid alexander gerst object later identified either speck dust lens flare sun stopped conspiracy theories arising though somewhat claiming proof alone universe one interesting cases files lubbock lights incident reported august texas us government launched several inquiries ufo sightings many believed sparked cold war paranoia became known project blue book encounters ufos looked air force decades files closed made available online free allowing anyone examine evidence usaf says blue book included sightings reports remained unidentified around per cent files files accessed previously available visiting national archives washington professor andrew imperial college london department physics tells mailonline generally speaking ufo sightings either explained artefact effect even space junk left unexplained enough evidence difficult judge video instance poor quality nasa access high quality images may investigate nasa yet comment incidents space agency iss live stream rover photos become huge source evidence conspiracy theorists many scientists believe ufo sightings psychological phenomenon called pareidolia describes brain response seeing significant objects random places vast majority images vague elusive posted ufo witnesses earth many fairly mundane explanation nigel watson author ufo investigations manual told mailonline problem nasa denies things explains people think conspiracy hide truth aliens visiting planet october ufo watchers said witnessed strange object near station spacewalk astronauts reid alexander gerst \n",
      "Original summary: alien hunter toby recently spotted ufo outside the iss but the live stream was interrupted for seconds after it appeared in separate incident grey object was seen coming over the horizon one possibility is that it was the moon or debris left on the lens \n"
     ]
    },
    {
     "name": "stdout",
     "output_type": "stream",
     "text": [
      "Predicted summary:  the new york is the most popular in the most popular in the world the world is the most popular in the most popular and the most popular and the most popular and the most popular\n",
      "\n",
      "\n",
      "Article: nigeria president declared state emergency parts country afflicted violence militant islamist group boko haram become imperative take decisive measures necessary restore normalcy country especially within affected communities president goodluck jonathan said saturday address order includes closure country borders affected areas last two months seen widespread bloodshed northern nigeria churches police stations among targets boko haram claimed responsibility series attacks churches central northern nigeria christmas day including one near capital abuja killed nearly people two days later bomb attack islamic school madrassa southern delta state injured several children clear whether intended revenge sectarian attacks rare delta state jonathan said instructed military police chiefs violence stricken areas ensure life property protected \n",
      "Original summary: the president called for state of emergency in certain parts of the country those parts have seen violence by the group boko haram \n",
      "Predicted summary:  new president says the death toll in the death toll in the death toll of the death toll in the death toll of the death toll in the region of the region\n",
      "\n",
      "\n",
      "Article: daniel daily mail australia hardline sydney islamic preacher launched inflammatory facebook tirade saying muslims preach acceptance never australian enough bigots post supporters sheikh abu adnan sydney western suburbs wrote advice muslims trying hard send message acceptance australian screaming responses many facebook articles goes rant realise comments go unnoticed bigoted australian white blue eyed carry white name like john scroll read facebook post full scroll video sheik abu adnan considered prominent lecturer islamic community sydney sheikh abu adnan pictured delivering lecture global islamic youth centre sydney south western suburbs sheikh continued forget born yet ask migrant parents people hated asian neighbours different eyes read top fathers issues greeks italians immigrated australia invented derogatory term grandfathers problems irish catholics great grandfathers believed black people developed sub humans deserved killed land raped never australian enough bigot wife wears oppressed sheikh respond daily mail australia query remarks facebook comments followed said aimed australians bigoted community members obviously many good post aiming bigots get wrote know many aussies racist leading muslim activist dr jamal rifi blasted post said sent wrong message right feel right feel australian anyone else said feel anything less regardless born regardless faith regardless funny name sounds post sheikh adnan also labelled unnamed muslim activists criticised community win white votes house negros sheikh told daily mail australia comments anyone particular emailed comments general advise made incident particular event particular individual community dr rifi fired back saying real people demonising islamic community likes australian militants khaled sharrouf mohamed elomar fighting middle east reckon one demonising community australians fighting overseas parading severed heads facebook culprit everyone else point finger people overseas demonising community family religion wrong pictured australian jihadist khaled sharrouf australian militant khaled sharrouf pictured earlier times mike tyson twitter account purporting belong khaled sharrouf posted horrific image son wielding head dead fighter dr rifi said sheikh take stand enlighten inform supporters way lead follow masses taking stand informs masses said last week sheikh abu adnan one islamic community members groups signed letter opposing prime minister tony abbott proposed counter terrorism laws legislation divided local islamic community members refusing meet mr abbott laws laws clearly target muslims unjustly petition said language law neutral secret practice laws specifically target muslims debate proposed laws continues advice muslims trying hard send message acceptance australian screaming responses many facebook articles realise comments go unnoticed bigoted australian white blue eyed carry white name like john bigot wife wears hijab oppressed brown follow religion originated far away deserts middle east forget born yet ask migrant parents people hated asian neighbours different eyes read top fathers issues greeks italians immigrated australia invented derogatory term grandfathers problems irish catholics great grandfathers believed black people developed sub humans deserved killed land raped never australian enough sincere reminder muslim politicians like continually demonise community thinking win hearts minds white voters stop dancing embarrassing stop house negro source facebook com sorry currently accepting comments article \n",
      "Original summary: sheikh abu adnan warns muslims they will never be australian enough for the australian community leader dr jamal blasts the post saying the comment sends the wrong message have the right to feel the right to feel as australian as anyone else dr said \n",
      "Predicted summary:  new police say the suspect was killed in the capital of the weekend the fbi says the death toll was killed in the attack\n",
      "\n",
      "\n",
      "Article: steve doughty last updated pm th january sir terry pratchett prominent backers assisted suicide anyone given months less live legal right ask doctor help kill easy painless manner possible influential report said yesterday said avoid unnecessary suffering right choose die limited mental capacity express wish end life diagnosed terminal illness two doctors among string safeguards proposed minimum two week period dying man woman would given time change mind anyone physically unable take prescribed deadly drugs would ruled avoid potential abuse vulnerable malevolent relatives friends report commission assisted dying led former labour lord chancellor lord falconer stopped short recommending euthanasia kind practised dignitas clinic switzerland however lord falconer told bbc radio today programme think ever system completely water tight therefore looked current system check whether really terminally ill go dignitas without second check commission set amid growing controversy deaths dignitas erosion year old law assisted suicide sets maximum year jail sentence anyone aids death another followed new rules set director public prosecutions keir starmer effectively free people threat criminal charges help suicide somebody desperately ill compassion without thought gain right life groups said report fixed favour calling legalised assisted suicide pointed financed author sir terry pratchett businessman bernard lewis prominent backers assisted suicide report recommended string safeguards proposed minimum two week period dying man woman would given time change mind lord falconer chose ten members commission led attempt bring assisted dying bill lords three years ago page report states dying person met legal criteria would able ask doctor prescribe dose medication would end life report set detail system assisted dying would work individual would diagnosed doctor terminal illness likely kill within year would require capacity express choice die second doctor would approve first doctor diagnosis would speak patient make sure decision die firm made pressure others two doctor system similar process developed allow legalised abortion use numbers abortions england risen nearly year report recommended either doctor suspicious independent assessment carried nurse care worker social worker doctor collect poison pharmacist supervise death patient report said take poison preferably mouth disabled patient might allowed use automated syringe machine added report also said provision high quality end life care must priority government independent issue assisted dying richard hawkes disability charity scope said little confidence commission simple safeguards said drew arbitrary line people terminal illness people long term impairments added reality lines two often blurred making distinction unworkable dr peter saunders care killing campaign group dismissed commission sham adding investigation unnecessary biased lacking transparency report seriously flawed differing view including representatives major disability rights organisations doctors groups invited join commission sarah wootton dignity dying said opponents change law continue attack efforts find solution unbearable suffering continues daily absence compassionate assisted dying law cannot suggest alternative \n",
      "Original summary: report said the right to die should be limited to those who have mental capacity to express their wish but commission leader lord admits no system can be water tight \n"
     ]
    },
    {
     "name": "stdout",
     "output_type": "stream",
     "text": [
      "Predicted summary:  new york city is the most common in the country the year old has been killed in the past years the year old was killed in the crash in the crash\n",
      "\n",
      "\n",
      "Article: two former navy seals among four americans killed last week attack consulate benghazi libya died rushing aid colleagues according sources familiar incident glen doherty tyrone woods benghazi part security contractor force september ensconced safety annex location another part city got word main consulate building fire diplomats armed force nine people overwhelmed deteriorating situation doherty woods along security personnel left secure annex made way chaotic scene rounding consulate staff attack guiding back second safe building grim task also included recovering body computer expert sean smith succumbed smoke inhalation fire ignited attackers sources said diesel fuel used set fire thick black smoke created accelerant added confusion ground ambassador chris stevens gone missing attack among evacuated later reported dead state department released details stevens died though numerous media reports said ambassador taken consulate benghazi medical center locals arriving back annex incident far security team included woods doherty attack launched annex one intense initial assault main building military officials benghazi told cnn rocket propelled grenades among heavy firepower used attackers annex one official saying mortars also fired two additional personnel killed two others wounded senior administration official said last week providing details attack two victims later confirmed doherty woods men remembered last week transfer remains ceremony attended secretary state hillary clinton president barack obama doherty grew massachusetts passion outdoors served two tours duty iraq starting invasion leaving military became private security contractor working afghanistan pakistan yemen diplomatic source told cnn doherty libya search shoulder fired anti aircraft missiles mission given high priority fall longtime libyan strongman moammar gadhafi woods registered nurse certified paramedic served multiple tours iraq afghanistan retiring navy worked diplomatic security posts central america middle east four americans four patriots loved country chose serve serve well obama said mission believed knew danger accepted simply embrace american ideal lived embodied courage hope yes idealism cnn arwa damon contributed report benghazi libya \n",
      "Original summary: glen doherty and tyrone woods were part of security team that rushed to scene of consulate attack after they made their way back to safe location they came under fire they were among four americans killed last week in benghazi \n",
      "Predicted summary:  new police say the death toll in the death of the death toll in the death of the death toll of the death of the death of the death of the death of the death of the death of the death\n",
      "\n",
      "\n",
      "Article: juventus scouts watch sheffield united striker diego de girolamo play italy wednesday chesterfield born forward contract end season juventus keen recruit summer year old play italy qatar empoli ground serie sides also represented diego de girolamo pictured loan york city scouted serie giants juventus wednesday de girolamo contract sheffield united summer also watched sunderland de girolamo qualifies italy father hails naples currently loan league two york city watched sunderland scouts weekend bournemouth also expressed interest move juventus would fairytale although sheffield united would get less compensation fee move abroad juventus alerted ability arrigo sacchi former italy ac milan coach critical italian sides last week saying contain many foreign players youth system sheffield united would receive less compensation de girolamo moves team abroad summer \n",
      "Original summary: diego de is out of contract at sheffield united this summer juventus are keen to sign him while sunderland are also interested de will play for italy under side against qatar on wednesday the striker is currently on loan at league two side york city \n",
      "Predicted summary:  new police say the suspect was killed in the attack in the capital of the attack the year old was killed in the attack in the attack\n",
      "\n",
      "\n",
      "Article: retired holiday camp entertainer britain married man tied knot whopping eight times set celebrate tenth wedding anniversary ron sheppard somerset first walked aisle years ago since married eight times eight children welcomed grandchildren four great grandchildren however despite keen past marry mr sheppard happier ever promises latest wife year old filipino weng last ron sheppard somerset first walked aisle years ago married eighth wife year old filipino weng ten years couple celebrating ten years marriage second longest partnership mr sheppard said made double figures second longest marriage first one real marriage like love much year goes love everything together love mr sheppard written book life set film made married eight women since first ceremony aged tied knot first wife margaret years ago pair two children together divorcing two years later met second wife jeanette wed lasted one year mr sheppard since described marriage business transaction enabled receive bigger house council shortly divorce mr sheppard met third wife lesley tied knot went two children together said thought keeps left five years later following string arguments mr sheppard first walked aisle married first wife margaret age mr sheppard married third wife lesley two children together left five years later went meet year old blonde kathy holiday camp somerset pair married daughter together lasted four years despite mr sheppard claiming rebound relationship following split lesley long split met fifth wife sue bingo hall despite claiming swept feet moved two bedroom home married two sons together threw offered job bournemouth went marry pair met stop trip singapore lasted four years split mr sheppard cheated holiday alone thailand margaret married three children divorced two years jeanette married marriage lasted one year lesley married two sons together mr sheppard left kathy married one daughter together lasted four years sue married two sons threw married marriage singaporean bride ended four years wan married left return home bangkok eight months weng married due celebrate tenth anniversary next week divorce number six behind met seventh wife wan bangkok trip visit old friend however returning uk pair stayed together eight months bride announced returning native country mr sheppard met current wife ms reaching online sparking friendship retired entertainer mentored actor singer shane richie said finally settled finding true love soul mate mr sheppard married year old kathy rebound lesley mr sheppard tied knot fifth wife sue already seven months pregnant marriage last total years making mr sheppard longest partnership eight marriages couple celebrate tenth wedding anniversary november mr sheppard said going go spain celebrate weng gets two days instead think nice steak meal bottle pop made ten years hope least another ten come mr sheppard spent last years married longest union lasted years shortest lasted months mr sheppard met ms splitting seventh wife wan returned home bangkok eight months met ms sent email christian relationship advisor philippines shortly splitting seventh wife wan eight months poured heart lengthy message kept touch bride flying santa rosa laguna philippines meet following may couple instantly clicked married isle wight month later november mr sheppard added decade pure joy love everything marriage weng changed life way could imagined people say made never argument ten years compatible way never experienced mr sheppard whose new memoir lord wedding rings details lothario lifestyle previously admitted failed mention previous marriages ms proposing scared told truth would reject knew would found right woman time sad always planned tell could pluck courage fact told saw planning new book saw notes previous partnerships said saw emailing publisher saw words wife wife wife asked meant tell however former student nurse seem mind said angry said culture get married even twice hear ron married seven times big surprise would fallen love knew ron lived colourful life gentle caring man knew would lovely life together mr sheppard married ms said hopes last another decade together \n",
      "Original summary: ron sheppard from somerset first walked down the aisle years ago retired entertainer has had eight wives eight children and grandchildren married in and pair are set to celebrate years together promises filipino wife will be his last after finding true love and soul mate \n"
     ]
    },
    {
     "name": "stdout",
     "output_type": "stream",
     "text": [
      "Predicted summary:  the year old was found dead in the crash in the crash he was the first time to the hospital in the death of the death of the death of the death of the death\n",
      "\n",
      "\n"
     ]
    }
   ],
   "source": [
    "for i in range(0,10):\n",
    "    print(\"Article:\",seq2text(x_val[i]))\n",
    "    print(\"Original summary:\",seq2summary(y_val[i]))\n",
    "    print(\"Predicted summary:\",decode_sequence(x_val[i].reshape(1,max_text_len)))\n",
    "    print(\"\\n\")"
   ]
  },
  {
   "cell_type": "code",
   "execution_count": 44,
   "id": "d888ff66",
   "metadata": {},
   "outputs": [
    {
     "name": "stdout",
     "output_type": "stream",
     "text": [
      "Article: conventional way breaking protests sam skateboarding dog certainly seems effective ukrainian police found secret weapon battle demonstrations city odessa form skateboarding british bulldog performing pup already managed work magic one group demonstrators descended city hall duma square south western ukrainian city sam skateboarding dog caused stir ploughed crowds duma square odessa british bulldog proved hit crowds performed tricks board angry mob gathered protest corruption particular relation building permits handed allegedly bribes angry mob waving placards chanting three officers security outside looks things get hand mob started gathering door building looked wanted get inside anger turned amusement laughter mob faded away skateboarder sam swept square started nipping masses skateboard dog even managed break protest demonstrators started laugh pranks ukrainian police could certainly use dog unusual method crowd control protests instantly crowd focused attention dog performed impressive steering manoeuvres even able turn skateboard back onto wheels every time turned hitting someone eyewitness anatoly said hilarious impossible ignore seemed excited action smashing skateboard left right running everyone also panting like steam engine suddenly people seemed focus building grabbing mobile phones film hilarious dog one person heard one videos asking animal police dog another woman confirming must look way rounding everybody sam apparently well known sight city favourite clever tricks eventually though sam well known least odessa skateboarding stunts local skate park enough distance without stopping owner sight suspected dog run local park skateboard attracted noise excitement nearby square afterwards apparently decided return back owner \n",
      "Original summary: sam the british bulldog was hit when he turned up to demonstration angry protesters started laughing as the dog performed tricks the mob in square eventually after sam turned up \n",
      "Predicted summary:  the incident occurred in the city of the city of the city of the city of the city of the city of the city of the city of the year\n",
      "\n",
      "\n",
      "Article: washington nine technicians responsible monitoring operations louisiana nuclear power plant spent duty time surfing internet visiting websites included news sports fishing retirement information jeopardizing safety plant federal regulators say nuclear regulatory commission disclosed web surfing activities monday letter proposes fine river bend nuclear power station miles northwest baton rouge pornography sites accessed nuclear regulatory commission said importantly nrc said computer use present avenue hackers gain access reactor control systems modern day fear industrial plants nrc said web surfing control room operators directly responsible monitoring reactor plant systems actions violated plant procedures requiring operators remain attentive focused work according nrc investigation nine operators deliberately violated safety procedures surfing web january april three nine frequency duration issued severity level three enforcement violations remaining six operators receive severity level four violations operators named nrc nrc spokesman said proposed fine web surfing action web surfing memory may action history agency notice entergy operations inc operators river bend station nrc said appears operators remained attentive reactor operations indications alarms surfing internet however operators involved knew understood prohibitions internet access exhibited deliberate misconduct engaged hundreds instances accessing internet controls area control room violation serious concern nrc accessing internet potential distract licensed operator nrc said also large number licensed reactor operators deliberately chose ignore ban nrc chastised plant saying river bend station strong evidence safety culture problem existed comprehensive actions taken least year nrc regional administrator elmo collins said letter river bend particularly poor performance responding problem merited doubling base fine entergy operations disagrees enforcement action proposed fine company request neutral mediator explore resolution according nrc entergy operations inc immediately respond call cnn dave alsup contributed report \n",
      "Original summary: wants to fine operators of louisiana nuclear plant nine technicians spent on duty time surfing the internet the says accessing the internet has the potential to distract the licensed operator the plant parent company did not immediately respond to call \n",
      "Predicted summary:  new obama says the plant is the most common problem of the united states says the united states is the only to be the worst of the kind of the united states\n",
      "\n",
      "\n",
      "Article: harriet arkell published est may updated est may supply teacher john bradley stoke denies rape sexual assaults pupils primary school teacher attempted rape young girl sexually assaulted seven pupils court heard john bradley stoke bristol said touched children youngest nine seven year period working supply teacher allegedly attempted rape one youngster pinned naked locked classroom bristol crown court heard initially stood trial june case halted five complainants came forward reading newspaper reports trial worked substitute teacher number schools around bristol denies charges pleaded guilty charge attempted rape sexual assaults eight girls prosecutor ian told jurors police brought one youngster told mother bottom despite mother telling daughter demand stop abuse continued court heard mr said mother realised something know aware teacher alone daughter class last straw mum daughter came home happy pleased day touched teacher john mr said mother complained south gloucestershire school investigation followed seen arriving bristol crown court alleged assaulted girls young nine police called due lack additional evidence prosecution brought said july former pupil school south bristol also made complaint teacher mr said allegation serious bore real similarities said john touched lunchtime got sharpen pencils sat lap kissed cuddled recalled ran clammy hands back squeezed bottom happened number times jury told progressed lying youngster floor touching private parts john first trial bristol crown court right halted complainants came forward one occasion stripped naked lay top stopped disturbed knock classroom door mr told court police tied new complaint first girl allegation along allegations third girl supported said know one girls insisted touching others entirely unintentional trial followed bristol crown court june last year stopped complainants came forward read newspaper reports case mr said cases legitimate source public concern interest press present bristol press reported local newspaper trial name complainants entitled publish name defendant john narrow escape skeletons came rattling cupboard prosecutor ian another young woman heard report knew victim sexual abuse hands john came forward sudden five additional complainants jury heard three pupils north bristol school recounted touched improperly one claimed locked cupboard released hugged another said happened school trip third girl said touched bottom made inappropriate comments physical development two former pupils another school south gloucestershire said teacher touched backsides made one feel sick thought going school mr said john narrow escape skeletons came rattling cupboard trial continues sorry unable accept comments legal reasons \n",
      "Original summary: john allegedly touched pupils when working as supply teacher his original trial was halted when more former came forward from bradley stoke bristol denies rape and sexual assaults \n",
      "Predicted summary:  the year old teacher arrested on suspicion of sexual assault on sexual assault he allegedly stole from his wife and children with children and children aged and were arrested in the street and were jailed for two years\n",
      "\n",
      "\n",
      "Article: conspiracy theorists accused nasa cutting live feed international space station whenever ufo appears two separate occasions month alien hunters claim spotted mysterious objects appearing screens goes blank ufo watcher toby recently spotted ufo outside space station moments stream interrupted seconds scroll video last week grey object seen coming horizon disappearing moments nasa switched different camera one possible bit debris hit lens even moon mr told disclose tv always ufos showing nasa always cuts feed ufo gets close station alien hunter claims captured still photo unidentified object feed looks remarkably like insignia star trek also says nasa removed recording archives part efforts conceal alleged communication astronauts ufos separate incident last week grey object seen coming horizon disappearing moments nasa switched different camera ufo watcher toby recently spotted ufo outside space station stream interrupted seconds alien hunter claims captured still photo unidentified object appeared live feed january look remarkably like insignia star trek one possible bit debris hit lens even moon youtuber posted video convinced please bear mind moon appears white shows writes meanwhile october ufo watchers said witnessed strange object near station spacewalk astronauts reid alexander gerst object later identified either speck dust lens flare sun stopped conspiracy theories arising though somewhat claiming proof alone universe one interesting cases files lubbock lights incident reported august texas us government launched several inquiries ufo sightings many believed sparked cold war paranoia became known project blue book encounters ufos looked air force decades files closed made available online free allowing anyone examine evidence usaf says blue book included sightings reports remained unidentified around per cent files files accessed previously available visiting national archives washington professor andrew imperial college london department physics tells mailonline generally speaking ufo sightings either explained artefact effect even space junk left unexplained enough evidence difficult judge video instance poor quality nasa access high quality images may investigate nasa yet comment incidents space agency iss live stream rover photos become huge source evidence conspiracy theorists many scientists believe ufo sightings psychological phenomenon called pareidolia describes brain response seeing significant objects random places vast majority images vague elusive posted ufo witnesses earth many fairly mundane explanation nigel watson author ufo investigations manual told mailonline problem nasa denies things explains people think conspiracy hide truth aliens visiting planet october ufo watchers said witnessed strange object near station spacewalk astronauts reid alexander gerst \n",
      "Original summary: alien hunter toby recently spotted ufo outside the iss but the live stream was interrupted for seconds after it appeared in separate incident grey object was seen coming over the horizon one possibility is that it was the moon or debris left on the lens \n"
     ]
    },
    {
     "name": "stdout",
     "output_type": "stream",
     "text": [
      "Predicted summary:  the man was pictured on camera in the river river station in the north east of the island of the year old was captured by nasa photographer in the space station the station was on the market for the first time since the moon was released\n",
      "\n",
      "\n",
      "Article: nigeria president declared state emergency parts country afflicted violence militant islamist group boko haram become imperative take decisive measures necessary restore normalcy country especially within affected communities president goodluck jonathan said saturday address order includes closure country borders affected areas last two months seen widespread bloodshed northern nigeria churches police stations among targets boko haram claimed responsibility series attacks churches central northern nigeria christmas day including one near capital abuja killed nearly people two days later bomb attack islamic school madrassa southern delta state injured several children clear whether intended revenge sectarian attacks rare delta state jonathan said instructed military police chiefs violence stricken areas ensure life property protected \n",
      "Original summary: the president called for state of emergency in certain parts of the country those parts have seen violence by the group boko haram \n",
      "Predicted summary:  new the death toll rises to the united states the number of the deaths are in the region of the region the official says the group has been trying to boko haram\n",
      "\n",
      "\n",
      "Article: daniel daily mail australia hardline sydney islamic preacher launched inflammatory facebook tirade saying muslims preach acceptance never australian enough bigots post supporters sheikh abu adnan sydney western suburbs wrote advice muslims trying hard send message acceptance australian screaming responses many facebook articles goes rant realise comments go unnoticed bigoted australian white blue eyed carry white name like john scroll read facebook post full scroll video sheik abu adnan considered prominent lecturer islamic community sydney sheikh abu adnan pictured delivering lecture global islamic youth centre sydney south western suburbs sheikh continued forget born yet ask migrant parents people hated asian neighbours different eyes read top fathers issues greeks italians immigrated australia invented derogatory term grandfathers problems irish catholics great grandfathers believed black people developed sub humans deserved killed land raped never australian enough bigot wife wears oppressed sheikh respond daily mail australia query remarks facebook comments followed said aimed australians bigoted community members obviously many good post aiming bigots get wrote know many aussies racist leading muslim activist dr jamal rifi blasted post said sent wrong message right feel right feel australian anyone else said feel anything less regardless born regardless faith regardless funny name sounds post sheikh adnan also labelled unnamed muslim activists criticised community win white votes house negros sheikh told daily mail australia comments anyone particular emailed comments general advise made incident particular event particular individual community dr rifi fired back saying real people demonising islamic community likes australian militants khaled sharrouf mohamed elomar fighting middle east reckon one demonising community australians fighting overseas parading severed heads facebook culprit everyone else point finger people overseas demonising community family religion wrong pictured australian jihadist khaled sharrouf australian militant khaled sharrouf pictured earlier times mike tyson twitter account purporting belong khaled sharrouf posted horrific image son wielding head dead fighter dr rifi said sheikh take stand enlighten inform supporters way lead follow masses taking stand informs masses said last week sheikh abu adnan one islamic community members groups signed letter opposing prime minister tony abbott proposed counter terrorism laws legislation divided local islamic community members refusing meet mr abbott laws laws clearly target muslims unjustly petition said language law neutral secret practice laws specifically target muslims debate proposed laws continues advice muslims trying hard send message acceptance australian screaming responses many facebook articles realise comments go unnoticed bigoted australian white blue eyed carry white name like john bigot wife wears hijab oppressed brown follow religion originated far away deserts middle east forget born yet ask migrant parents people hated asian neighbours different eyes read top fathers issues greeks italians immigrated australia invented derogatory term grandfathers problems irish catholics great grandfathers believed black people developed sub humans deserved killed land raped never australian enough sincere reminder muslim politicians like continually demonise community thinking win hearts minds white voters stop dancing embarrassing stop house negro source facebook com sorry currently accepting comments article \n",
      "Original summary: sheikh abu adnan warns muslims they will never be australian enough for the australian community leader dr jamal blasts the post saying the comment sends the wrong message have the right to feel the right to feel as australian as anyone else dr said \n",
      "Predicted summary:  the year old was in the middle east of the year of the revolution he was speaking to be released on bail and was released by the british regime he was speaking to the uk for years\n",
      "\n",
      "\n",
      "Article: steve doughty last updated pm th january sir terry pratchett prominent backers assisted suicide anyone given months less live legal right ask doctor help kill easy painless manner possible influential report said yesterday said avoid unnecessary suffering right choose die limited mental capacity express wish end life diagnosed terminal illness two doctors among string safeguards proposed minimum two week period dying man woman would given time change mind anyone physically unable take prescribed deadly drugs would ruled avoid potential abuse vulnerable malevolent relatives friends report commission assisted dying led former labour lord chancellor lord falconer stopped short recommending euthanasia kind practised dignitas clinic switzerland however lord falconer told bbc radio today programme think ever system completely water tight therefore looked current system check whether really terminally ill go dignitas without second check commission set amid growing controversy deaths dignitas erosion year old law assisted suicide sets maximum year jail sentence anyone aids death another followed new rules set director public prosecutions keir starmer effectively free people threat criminal charges help suicide somebody desperately ill compassion without thought gain right life groups said report fixed favour calling legalised assisted suicide pointed financed author sir terry pratchett businessman bernard lewis prominent backers assisted suicide report recommended string safeguards proposed minimum two week period dying man woman would given time change mind lord falconer chose ten members commission led attempt bring assisted dying bill lords three years ago page report states dying person met legal criteria would able ask doctor prescribe dose medication would end life report set detail system assisted dying would work individual would diagnosed doctor terminal illness likely kill within year would require capacity express choice die second doctor would approve first doctor diagnosis would speak patient make sure decision die firm made pressure others two doctor system similar process developed allow legalised abortion use numbers abortions england risen nearly year report recommended either doctor suspicious independent assessment carried nurse care worker social worker doctor collect poison pharmacist supervise death patient report said take poison preferably mouth disabled patient might allowed use automated syringe machine added report also said provision high quality end life care must priority government independent issue assisted dying richard hawkes disability charity scope said little confidence commission simple safeguards said drew arbitrary line people terminal illness people long term impairments added reality lines two often blurred making distinction unworkable dr peter saunders care killing campaign group dismissed commission sham adding investigation unnecessary biased lacking transparency report seriously flawed differing view including representatives major disability rights organisations doctors groups invited join commission sarah wootton dignity dying said opponents change law continue attack efforts find solution unbearable suffering continues daily absence compassionate assisted dying law cannot suggest alternative \n",
      "Original summary: report said the right to die should be limited to those who have mental capacity to express their wish but commission leader lord admits no system can be water tight \n"
     ]
    },
    {
     "name": "stdout",
     "output_type": "stream",
     "text": [
      "Predicted summary:  dr david said he would not be able to leave the nhs because of patients he says he is not enough to see the drugs as they are not enough to be\n",
      "\n",
      "\n",
      "Article: two former navy seals among four americans killed last week attack consulate benghazi libya died rushing aid colleagues according sources familiar incident glen doherty tyrone woods benghazi part security contractor force september ensconced safety annex location another part city got word main consulate building fire diplomats armed force nine people overwhelmed deteriorating situation doherty woods along security personnel left secure annex made way chaotic scene rounding consulate staff attack guiding back second safe building grim task also included recovering body computer expert sean smith succumbed smoke inhalation fire ignited attackers sources said diesel fuel used set fire thick black smoke created accelerant added confusion ground ambassador chris stevens gone missing attack among evacuated later reported dead state department released details stevens died though numerous media reports said ambassador taken consulate benghazi medical center locals arriving back annex incident far security team included woods doherty attack launched annex one intense initial assault main building military officials benghazi told cnn rocket propelled grenades among heavy firepower used attackers annex one official saying mortars also fired two additional personnel killed two others wounded senior administration official said last week providing details attack two victims later confirmed doherty woods men remembered last week transfer remains ceremony attended secretary state hillary clinton president barack obama doherty grew massachusetts passion outdoors served two tours duty iraq starting invasion leaving military became private security contractor working afghanistan pakistan yemen diplomatic source told cnn doherty libya search shoulder fired anti aircraft missiles mission given high priority fall longtime libyan strongman moammar gadhafi woods registered nurse certified paramedic served multiple tours iraq afghanistan retiring navy worked diplomatic security posts central america middle east four americans four patriots loved country chose serve serve well obama said mission believed knew danger accepted simply embrace american ideal lived embodied courage hope yes idealism cnn arwa damon contributed report benghazi libya \n",
      "Original summary: glen doherty and tyrone woods were part of security team that rushed to scene of consulate attack after they made their way back to safe location they came under fire they were among four americans killed last week in benghazi \n",
      "Predicted summary:  new the death toll rises to the united states the victims were found in the city of the capital one of the victims were injured in the attack\n",
      "\n",
      "\n",
      "Article: juventus scouts watch sheffield united striker diego de girolamo play italy wednesday chesterfield born forward contract end season juventus keen recruit summer year old play italy qatar empoli ground serie sides also represented diego de girolamo pictured loan york city scouted serie giants juventus wednesday de girolamo contract sheffield united summer also watched sunderland de girolamo qualifies italy father hails naples currently loan league two york city watched sunderland scouts weekend bournemouth also expressed interest move juventus would fairytale although sheffield united would get less compensation fee move abroad juventus alerted ability arrigo sacchi former italy ac milan coach critical italian sides last week saying contain many foreign players youth system sheffield united would receive less compensation de girolamo moves team abroad summer \n",
      "Original summary: diego de is out of contract at sheffield united this summer juventus are keen to sign him while sunderland are also interested de will play for italy under side against qatar on wednesday the striker is currently on loan at league two side york city \n",
      "Predicted summary:  chelsea are interested in signing of the bundesliga side of the year old has been in the bundesliga for million in the summer the year old has been in the bundesliga for the first time since the season\n",
      "\n",
      "\n",
      "Article: retired holiday camp entertainer britain married man tied knot whopping eight times set celebrate tenth wedding anniversary ron sheppard somerset first walked aisle years ago since married eight times eight children welcomed grandchildren four great grandchildren however despite keen past marry mr sheppard happier ever promises latest wife year old filipino weng last ron sheppard somerset first walked aisle years ago married eighth wife year old filipino weng ten years couple celebrating ten years marriage second longest partnership mr sheppard said made double figures second longest marriage first one real marriage like love much year goes love everything together love mr sheppard written book life set film made married eight women since first ceremony aged tied knot first wife margaret years ago pair two children together divorcing two years later met second wife jeanette wed lasted one year mr sheppard since described marriage business transaction enabled receive bigger house council shortly divorce mr sheppard met third wife lesley tied knot went two children together said thought keeps left five years later following string arguments mr sheppard first walked aisle married first wife margaret age mr sheppard married third wife lesley two children together left five years later went meet year old blonde kathy holiday camp somerset pair married daughter together lasted four years despite mr sheppard claiming rebound relationship following split lesley long split met fifth wife sue bingo hall despite claiming swept feet moved two bedroom home married two sons together threw offered job bournemouth went marry pair met stop trip singapore lasted four years split mr sheppard cheated holiday alone thailand margaret married three children divorced two years jeanette married marriage lasted one year lesley married two sons together mr sheppard left kathy married one daughter together lasted four years sue married two sons threw married marriage singaporean bride ended four years wan married left return home bangkok eight months weng married due celebrate tenth anniversary next week divorce number six behind met seventh wife wan bangkok trip visit old friend however returning uk pair stayed together eight months bride announced returning native country mr sheppard met current wife ms reaching online sparking friendship retired entertainer mentored actor singer shane richie said finally settled finding true love soul mate mr sheppard married year old kathy rebound lesley mr sheppard tied knot fifth wife sue already seven months pregnant marriage last total years making mr sheppard longest partnership eight marriages couple celebrate tenth wedding anniversary november mr sheppard said going go spain celebrate weng gets two days instead think nice steak meal bottle pop made ten years hope least another ten come mr sheppard spent last years married longest union lasted years shortest lasted months mr sheppard met ms splitting seventh wife wan returned home bangkok eight months met ms sent email christian relationship advisor philippines shortly splitting seventh wife wan eight months poured heart lengthy message kept touch bride flying santa rosa laguna philippines meet following may couple instantly clicked married isle wight month later november mr sheppard added decade pure joy love everything marriage weng changed life way could imagined people say made never argument ten years compatible way never experienced mr sheppard whose new memoir lord wedding rings details lothario lifestyle previously admitted failed mention previous marriages ms proposing scared told truth would reject knew would found right woman time sad always planned tell could pluck courage fact told saw planning new book saw notes previous partnerships said saw emailing publisher saw words wife wife wife asked meant tell however former student nurse seem mind said angry said culture get married even twice hear ron married seven times big surprise would fallen love knew ron lived colourful life gentle caring man knew would lovely life together mr sheppard married ms said hopes last another decade together \n",
      "Original summary: ron sheppard from somerset first walked down the aisle years ago retired entertainer has had eight wives eight children and grandchildren married in and pair are set to celebrate years together promises filipino wife will be his last after finding true love and soul mate \n"
     ]
    },
    {
     "name": "stdout",
     "output_type": "stream",
     "text": [
      "Predicted summary:  the year old was born in the couple in the year old girl who was born in the village of her mother and sister she has been named as the couple of the year old\n",
      "\n",
      "\n"
     ]
    }
   ],
   "source": [
    "#bidirectional\n",
    "for i in range(0,10):\n",
    "    print(\"Article:\",seq2text(x_val[i]))\n",
    "    print(\"Original summary:\",seq2summary(y_val[i]))\n",
    "    print(\"Predicted summary:\",decode_sequence(x_val[i].reshape(1,max_text_len)))\n",
    "    print(\"\\n\")"
   ]
  },
  {
   "cell_type": "code",
   "execution_count": null,
   "id": "6a1db254",
   "metadata": {},
   "outputs": [],
   "source": []
  }
 ],
 "metadata": {
  "kernelspec": {
   "display_name": "Python [conda env:175]",
   "language": "python",
   "name": "conda-env-175-py"
  },
  "language_info": {
   "codemirror_mode": {
    "name": "ipython",
    "version": 3
   },
   "file_extension": ".py",
   "mimetype": "text/x-python",
   "name": "python",
   "nbconvert_exporter": "python",
   "pygments_lexer": "ipython3",
   "version": "3.8.12"
  }
 },
 "nbformat": 4,
 "nbformat_minor": 5
}
