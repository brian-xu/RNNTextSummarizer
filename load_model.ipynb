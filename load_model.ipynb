{
 "cells": [
  {
   "cell_type": "code",
   "execution_count": 1,
   "id": "b782c417",
   "metadata": {},
   "outputs": [
    {
     "name": "stdout",
     "output_type": "stream",
     "text": [
      "2.5.0\n",
      "[PhysicalDevice(name='/physical_device:CPU:0', device_type='CPU'), PhysicalDevice(name='/physical_device:GPU:0', device_type='GPU')]\n",
      "Num GPUs Available:  1\n"
     ]
    }
   ],
   "source": [
    "import numpy as np\n",
    "import pandas as pd \n",
    "import re\n",
    "from bs4 import BeautifulSoup\n",
    "from tensorflow.keras.preprocessing.text import Tokenizer \n",
    "from tensorflow.keras.preprocessing.sequence import pad_sequences\n",
    "from nltk.corpus import stopwords\n",
    "from matplotlib import pyplot\n",
    "import warnings\n",
    "pd.set_option(\"display.max_colwidth\", 200)\n",
    "warnings.filterwarnings(\"ignore\")\n",
    "import pathlib\n",
    "# from tensorflow.keras.layers import Input, LSTM, Embedding, Dense, Concatenate, TimeDistributed, Attention\n",
    "# from tensorflow.keras.models import Model\n",
    "# from tensorflow.keras.callbacks import EarlyStopping\n",
    "import tensorflow as tf\n",
    "from tensorflow.keras import backend as K \n",
    "from tensorflow.keras.layers import Dropout, GRU, Input, LSTM, Embedding, Dense, Concatenate, TimeDistributed, Bidirectional, Attention\n",
    "from tensorflow.keras.models import Model\n",
    "from tensorflow.keras.callbacks import EarlyStopping\n",
    "\n",
    "print(tf.__version__)\n",
    "print(tf.config.list_physical_devices())\n",
    "print(\"Num GPUs Available: \", len(tf.config.list_physical_devices('GPU')))"
   ]
  },
  {
   "cell_type": "code",
   "execution_count": 3,
   "id": "56308513",
   "metadata": {},
   "outputs": [],
   "source": [
    "x_voc = 8440\n",
    "y_voc = 1989"
   ]
  },
  {
   "cell_type": "code",
   "execution_count": 11,
   "id": "d498dd45",
   "metadata": {},
   "outputs": [],
   "source": [
    "# load the weights\n",
    "w_encoder_embeddings = np.load('model/enc_embedding.npz', allow_pickle=True)\n",
    "w_decoder_embeddings = np.load('model/dec_embedding.npz', allow_pickle=True)\n",
    "w_encoder_lstm0 = np.load('model/encoder_lstm0.npz', allow_pickle=True)\n",
    "w_encoder_lstm1 = np.load('model/encoder_lstm1.npz', allow_pickle=True)\n",
    "w_decoder_lstm = np.load('model/lstm_2.npz', allow_pickle=True)\n",
    "time_distributed  = np.load('model/time_distributed.npz', allow_pickle=True)"
   ]
  },
  {
   "cell_type": "code",
   "execution_count": 24,
   "id": "0b0e203d",
   "metadata": {},
   "outputs": [
    {
     "name": "stdout",
     "output_type": "stream",
     "text": [
      "Model: \"model\"\n",
      "__________________________________________________________________________________________________\n",
      "Layer (type)                    Output Shape         Param #     Connected to                     \n",
      "==================================================================================================\n",
      "input_1 (InputLayer)            [(None, None)]       0                                            \n",
      "__________________________________________________________________________________________________\n",
      "enc_embedding (Embedding)       (None, None, 100)    6332000     input_1[0][0]                    \n",
      "__________________________________________________________________________________________________\n",
      "encoder_lstm0 (Bidirectional)   (None, None, 600)    962400      enc_embedding[0][0]              \n",
      "__________________________________________________________________________________________________\n",
      "input_2 (InputLayer)            [(None, None)]       0                                            \n",
      "__________________________________________________________________________________________________\n",
      "encoder_lstm1 (Bidirectional)   [(None, 600), (None, 2162400     encoder_lstm0[0][0]              \n",
      "__________________________________________________________________________________________________\n",
      "dec_embedding (Embedding)       (None, None, 100)    1485600     input_2[0][0]                    \n",
      "__________________________________________________________________________________________________\n",
      "concatenate (Concatenate)       (None, 600)          0           encoder_lstm1[0][1]              \n",
      "                                                                 encoder_lstm1[0][3]              \n",
      "__________________________________________________________________________________________________\n",
      "concatenate_1 (Concatenate)     (None, 600)          0           encoder_lstm1[0][2]              \n",
      "                                                                 encoder_lstm1[0][4]              \n",
      "__________________________________________________________________________________________________\n",
      "lstm_2 (LSTM)                   [(None, None, 600),  1682400     dec_embedding[0][0]              \n",
      "                                                                 concatenate[0][0]                \n",
      "                                                                 concatenate_1[0][0]              \n",
      "__________________________________________________________________________________________________\n",
      "attention_layer (Attention)     (None, None, 600)    0           lstm_2[0][0]                     \n",
      "                                                                 encoder_lstm1[0][0]              \n",
      "__________________________________________________________________________________________________\n",
      "concat_layer (Concatenate)      (None, None, 1200)   0           lstm_2[0][0]                     \n",
      "                                                                 attention_layer[0][0]            \n",
      "__________________________________________________________________________________________________\n",
      "time_distributed (TimeDistribut (None, None, 14856)  17842056    concat_layer[0][0]               \n",
      "==================================================================================================\n",
      "Total params: 30,466,856\n",
      "Trainable params: 30,466,856\n",
      "Non-trainable params: 0\n",
      "__________________________________________________________________________________________________\n"
     ]
    }
   ],
   "source": [
    "# Bidirectional LSTM\n",
    "K.clear_session()\n",
    "\n",
    "latent_dim = 300\n",
    "embedding_dim = 100\n",
    "\n",
    "# Encoder\n",
    "encoder_inputs = Input(shape=(None,))\n",
    "\n",
    "# embedding layer\n",
    "enc_emb =  Embedding(63320, 100, trainable=True, name = \"enc_embedding\")(encoder_inputs)\n",
    "\n",
    "\n",
    "encoder_lstm0 = Bidirectional(\n",
    "    LSTM(latent_dim, return_sequences=True),\n",
    "    name = 'encoder_lstm0')\n",
    "encoder_outputs0 = encoder_lstm0(enc_emb)\n",
    "\n",
    "encoder_lstm1 = Bidirectional(\n",
    "    LSTM(latent_dim, return_state=True),\n",
    "    name = 'encoder_lstm1')\n",
    "encoder_outputs, enc_forward_h, enc_forward_c, enc_backward_h, enc_backward_c  = encoder_lstm1(encoder_outputs0)\n",
    "\n",
    "\n",
    "state_h = Concatenate()([enc_forward_h, enc_backward_h])\n",
    "state_c = Concatenate()([enc_forward_c, enc_backward_c])\n",
    "encoder_states = [state_h, state_c]\n",
    "# Set up the decoder, using `encoder_states` as initial state.\n",
    "decoder_inputs = Input(shape=(None,))\n",
    "\n",
    "#embedding layer\n",
    "dec_emb_layer = Embedding(14856, 100,trainable=True, name = 'dec_embedding')\n",
    "dec_emb = dec_emb_layer(decoder_inputs)\n",
    "\n",
    "decoder_lstm = LSTM(latent_dim*2, return_sequences=True,return_state=True,dropout=0.2,recurrent_dropout=0)\n",
    "decoder_outputs1, decoder_fwd_state, decoder_back_state = decoder_lstm(dec_emb,initial_state=encoder_states)\n",
    "\n",
    "# Attention layer\n",
    "attn_layer = Attention(name='attention_layer')\n",
    "attn_out = attn_layer([decoder_outputs1, encoder_outputs])\n",
    "\n",
    "# Concat attention input and decoder LSTM output\n",
    "decoder_concat_input = Concatenate(axis=-1, name='concat_layer')([decoder_outputs1, attn_out])\n",
    "\n",
    "#dense layer\n",
    "decoder_dense = TimeDistributed(Dense(14856, activation='softmax'))\n",
    "decoder_outputs = decoder_dense(decoder_concat_input)\n",
    "\n",
    "model = Model([encoder_inputs, decoder_inputs], decoder_outputs)\n",
    "\n",
    "model.summary() \n",
    "\n",
    "model.compile(optimizer='rmsprop', loss='sparse_categorical_crossentropy')\n",
    "es = EarlyStopping(monitor='val_loss', mode='min', verbose=1,patience=2)"
   ]
  },
  {
   "cell_type": "code",
   "execution_count": 25,
   "id": "e2647bed",
   "metadata": {},
   "outputs": [],
   "source": [
    "# set the weights of the model\n",
    "\n",
    "model.layers[1].set_weights(w_encoder_embeddings['arr_0'])\n",
    "model.layers[2].set_weights(w_encoder_lstm0['arr_0'])\n",
    "model.layers[4].set_weights(w_encoder_lstm1['arr_0'])\n",
    "model.layers[5].set_weights(w_decoder_embeddings['arr_0'])\n",
    "model.layers[8].set_weights(w_decoder_lstm['arr_0'])\n",
    "model.layers[11].set_weights(time_distributed['arr_0'])"
   ]
  },
  {
   "cell_type": "code",
   "execution_count": 46,
   "id": "1574fd6a",
   "metadata": {},
   "outputs": [],
   "source": [
    "import pickle\n",
    "# load the tokenizer\n",
    "with open('model/x_tokenizer.pickle', 'rb') as handle:\n",
    "    x_tokenizer = pickle.load(handle)\n",
    "with open('model/y_tokenizer.pickle', 'rb') as handle:\n",
    "    y_tokenizer = pickle.load(handle)\n",
    "reverse_target_word_index=y_tokenizer.index_word\n",
    "reverse_source_word_index=x_tokenizer.index_word\n",
    "target_word_index=y_tokenizer.word_index"
   ]
  },
  {
   "cell_type": "code",
   "execution_count": 28,
   "id": "fd006f41",
   "metadata": {},
   "outputs": [],
   "source": [
    "#bidirectional\n",
    "# Encode the input sequence to get the feature vector\n",
    "encoder_model = Model(inputs=encoder_inputs, outputs=[encoder_outputs, state_h, state_c])\n",
    "\n",
    "# Decoder setup\n",
    "# Below tensors will hold the states of the previous time step\n",
    "decoder_state_input_h = Input(shape=(latent_dim*2,))\n",
    "decoder_state_input_c = Input(shape=(latent_dim*2,))\n",
    "decoder_hidden_state_input = Input(shape=(latent_dim*2))\n",
    "\n",
    "# Get the embeddings of the decoder sequence\n",
    "dec_emb2 = dec_emb_layer(decoder_inputs) \n",
    "# To predict the next word in the sequence, set the initial states to the states from the previous time step\n",
    "decoder_outputs2, state_h2, state_c2 = decoder_lstm(dec_emb2, initial_state=[decoder_state_input_h, decoder_state_input_c])\n",
    "\n",
    "#attention inference\n",
    "attn_out_inf = attn_layer([decoder_outputs2, decoder_hidden_state_input])\n",
    "\n",
    "decoder_inf_concat = Concatenate(axis=-1, name='concat')([decoder_outputs2, attn_out_inf])\n",
    "\n",
    "# A dense softmax layer to generate prob dist. over the target vocabulary\n",
    "decoder_outputs2 = decoder_dense(decoder_inf_concat)\n",
    "\n",
    "# Final decoder model\n",
    "decoder_model = Model(\n",
    "    [decoder_inputs] + [decoder_hidden_state_input, decoder_state_input_h, decoder_state_input_c],\n",
    "    [decoder_outputs2] + [state_h2, state_c2])"
   ]
  },
  {
   "cell_type": "markdown",
   "id": "a74b2784",
   "metadata": {},
   "source": [
    "https://stackoverflow.com/questions/70128813/how-do-i-save-an-encoder-decoder-model-with-tensorflow"
   ]
  },
  {
   "cell_type": "code",
   "execution_count": 29,
   "id": "17c4c863",
   "metadata": {},
   "outputs": [],
   "source": [
    "def softmax(x):\n",
    "    \"\"\"Compute softmax values for each sets of scores in x.\"\"\"\n",
    "    e_x = np.exp(x - np.max(x))\n",
    "    return e_x / e_x.sum(axis=0) \n",
    "\n",
    "def top_k_sampling(predictions, k):\n",
    "    top_k_probabilities, top_k_indices= tf.math.top_k(predictions, k=k, sorted=True)\n",
    "    top_k_indices = np.asarray(top_k_indices).astype(\"int32\")\n",
    "    top_k_redistributed_probability=softmax(np.log(top_k_probabilities))\n",
    "    top_k_redistributed_probability = np.asarray(top_k_redistributed_probability).astype(\"float32\")\n",
    "    sampled_token = np.random.choice(top_k_indices, p=top_k_redistributed_probability)\n",
    "#     print(reverse_target_word_index[sampled_token])\n",
    "#     top_k_tokens=[dictionary[i] for i in top_k_indices]\n",
    "#     plt.bar(top_k_tokens,top_k_redistributed_probability)\n",
    "#     plt.show()\n",
    "    return sampled_token"
   ]
  },
  {
   "cell_type": "code",
   "execution_count": 30,
   "id": "38399be7",
   "metadata": {},
   "outputs": [],
   "source": [
    "def decode_sequence(input_seq):\n",
    "    # Encode the input as state vectors.\n",
    "    e_out, e_h, e_c = encoder_model.predict(input_seq)\n",
    "    \n",
    "    # Generate empty target sequence of length 1.\n",
    "    target_seq = np.zeros((1,1))\n",
    "    \n",
    "    # Populate the first word of target sequence with the start word.\n",
    "    target_seq[0, 0] = target_word_index['sostok']\n",
    "\n",
    "    stop_condition = False\n",
    "    decoded_sentence = ''\n",
    "    while not stop_condition:\n",
    "      \n",
    "        output_tokens, h, c = decoder_model.predict([target_seq] + [e_out, e_h, e_c])\n",
    "\n",
    "        # Sample a token\n",
    "        #sampled_token_index = np.argmax(output_tokens[0, -1, :])\n",
    "        sampled_token_index = top_k_sampling(output_tokens[0, -1, :],5)\n",
    "        #sampled_token_index = np.random.choice(len(output_tokens[0, -1, :]), p=output_tokens[0, -1, :])\n",
    "  \n",
    "        sampled_token = reverse_target_word_index[sampled_token_index]\n",
    "        \n",
    "        if(sampled_token!='eostok'):\n",
    "            decoded_sentence += ' '+sampled_token\n",
    "\n",
    "        # Exit condition: either hit max length or find stop word.\n",
    "        if (sampled_token == 'eostok'  or len(decoded_sentence.split()) >= (max_summary_len-1)):\n",
    "            stop_condition = True\n",
    "\n",
    "        # Update the target sequence (of length 1).\n",
    "        target_seq = np.zeros((1,1))\n",
    "        target_seq[0, 0] = sampled_token_index\n",
    "\n",
    "        # Update internal states\n",
    "        e_h, e_c = h, c\n",
    "\n",
    "    return decoded_sentence\n",
    "\n",
    "def seq2summary(input_seq):\n",
    "    newString=''\n",
    "    for i in input_seq:\n",
    "        if((i!=0 and i!=target_word_index['sostok']) and i!=target_word_index['eostok']):\n",
    "            newString=newString+reverse_target_word_index[i]+' '\n",
    "    return newString\n",
    "\n",
    "def seq2text(input_seq):\n",
    "    newString=''\n",
    "    for i in input_seq:\n",
    "        if(i!=0):\n",
    "            newString=newString+reverse_source_word_index[i]+' '\n",
    "    return newString"
   ]
  },
  {
   "cell_type": "code",
   "execution_count": 32,
   "id": "075f72cd",
   "metadata": {},
   "outputs": [
    {
     "name": "stdout",
     "output_type": "stream",
     "text": [
      "<class 'pandas.core.frame.DataFrame'>\n",
      "RangeIndex: 10000 entries, 0 to 9999\n",
      "Data columns (total 3 columns):\n",
      " #   Column      Non-Null Count  Dtype \n",
      "---  ------      --------------  ----- \n",
      " 0   id          10000 non-null  object\n",
      " 1   article     10000 non-null  object\n",
      " 2   highlights  10000 non-null  object\n",
      "dtypes: object(3)\n",
      "memory usage: 234.5+ KB\n"
     ]
    }
   ],
   "source": [
    "data=pd.read_csv(f\"{pathlib.Path().resolve()}\\\\input\\\\cnn_dailymail\\\\train.csv\", nrows=10000)\n",
    "data.info()"
   ]
  },
  {
   "cell_type": "code",
   "execution_count": 33,
   "id": "915a180d",
   "metadata": {},
   "outputs": [],
   "source": [
    "data.drop_duplicates(subset=['article'],inplace=True) #dropping duplicates\n",
    "data.dropna(axis=0,inplace=True) #dropping na"
   ]
  },
  {
   "cell_type": "code",
   "execution_count": 34,
   "id": "c51f6b9a",
   "metadata": {},
   "outputs": [],
   "source": [
    "contraction_mapping = {\"ain't\": \"is not\", \"aren't\": \"are not\",\"can't\": \"cannot\", \"'cause\": \"because\", \"could've\": \"could have\", \"couldn't\": \"could not\",\n",
    "                           \"didn't\": \"did not\",  \"doesn't\": \"does not\", \"don't\": \"do not\", \"hadn't\": \"had not\", \"hasn't\": \"has not\", \"haven't\": \"have not\",\n",
    "                           \"he'd\": \"he would\",\"he'll\": \"he will\", \"he's\": \"he is\", \"how'd\": \"how did\", \"how'd'y\": \"how do you\", \"how'll\": \"how will\", \"how's\": \"how is\",\n",
    "                           \"I'd\": \"I would\", \"I'd've\": \"I would have\", \"I'll\": \"I will\", \"I'll've\": \"I will have\",\"I'm\": \"I am\", \"I've\": \"I have\", \"i'd\": \"i would\",\n",
    "                           \"i'd've\": \"i would have\", \"i'll\": \"i will\",  \"i'll've\": \"i will have\",\"i'm\": \"i am\", \"i've\": \"i have\", \"isn't\": \"is not\", \"it'd\": \"it would\",\n",
    "                           \"it'd've\": \"it would have\", \"it'll\": \"it will\", \"it'll've\": \"it will have\",\"it's\": \"it is\", \"let's\": \"let us\", \"ma'am\": \"madam\",\n",
    "                           \"mayn't\": \"may not\", \"might've\": \"might have\",\"mightn't\": \"might not\",\"mightn't've\": \"might not have\", \"must've\": \"must have\",\n",
    "                           \"mustn't\": \"must not\", \"mustn't've\": \"must not have\", \"needn't\": \"need not\", \"needn't've\": \"need not have\",\"o'clock\": \"of the clock\",\n",
    "                           \"oughtn't\": \"ought not\", \"oughtn't've\": \"ought not have\", \"shan't\": \"shall not\", \"sha'n't\": \"shall not\", \"shan't've\": \"shall not have\",\n",
    "                           \"she'd\": \"she would\", \"she'd've\": \"she would have\", \"she'll\": \"she will\", \"she'll've\": \"she will have\", \"she's\": \"she is\",\n",
    "                           \"should've\": \"should have\", \"shouldn't\": \"should not\", \"shouldn't've\": \"should not have\", \"so've\": \"so have\",\"so's\": \"so as\",\n",
    "                           \"this's\": \"this is\",\"that'd\": \"that would\", \"that'd've\": \"that would have\", \"that's\": \"that is\", \"there'd\": \"there would\",\n",
    "                           \"there'd've\": \"there would have\", \"there's\": \"there is\", \"here's\": \"here is\",\"they'd\": \"they would\", \"they'd've\": \"they would have\",\n",
    "                           \"they'll\": \"they will\", \"they'll've\": \"they will have\", \"they're\": \"they are\", \"they've\": \"they have\", \"to've\": \"to have\",\n",
    "                           \"wasn't\": \"was not\", \"we'd\": \"we would\", \"we'd've\": \"we would have\", \"we'll\": \"we will\", \"we'll've\": \"we will have\", \"we're\": \"we are\",\n",
    "                           \"we've\": \"we have\", \"weren't\": \"were not\", \"what'll\": \"what will\", \"what'll've\": \"what will have\", \"what're\": \"what are\",\n",
    "                           \"what's\": \"what is\", \"what've\": \"what have\", \"when's\": \"when is\", \"when've\": \"when have\", \"where'd\": \"where did\", \"where's\": \"where is\",\n",
    "                           \"where've\": \"where have\", \"who'll\": \"who will\", \"who'll've\": \"who will have\", \"who's\": \"who is\", \"who've\": \"who have\",\n",
    "                           \"why's\": \"why is\", \"why've\": \"why have\", \"will've\": \"will have\", \"won't\": \"will not\", \"won't've\": \"will not have\",\n",
    "                           \"would've\": \"would have\", \"wouldn't\": \"would not\", \"wouldn't've\": \"would not have\", \"y'all\": \"you all\",\n",
    "                           \"y'all'd\": \"you all would\",\"y'all'd've\": \"you all would have\",\"y'all're\": \"you all are\",\"y'all've\": \"you all have\",\n",
    "                           \"you'd\": \"you would\", \"you'd've\": \"you would have\", \"you'll\": \"you will\", \"you'll've\": \"you will have\",\n",
    "                           \"you're\": \"you are\", \"you've\": \"you have\"}"
   ]
  },
  {
   "cell_type": "code",
   "execution_count": 35,
   "id": "d0368b1b",
   "metadata": {},
   "outputs": [],
   "source": [
    "stop_words = set(stopwords.words('english')) \n",
    "\n",
    "def text_cleaner(text,num):\n",
    "    newString = text.lower()\n",
    "    newString = BeautifulSoup(newString).text\n",
    "    newString = re.sub(r'\\([^)]*\\)', '', newString)\n",
    "    newString = re.sub('\"','', newString)\n",
    "    newString = ' '.join([contraction_mapping[t] if t in contraction_mapping else t for t in newString.split(\" \")])    \n",
    "    newString = re.sub(r\"'s\\b\",\"\",newString)\n",
    "    newString = re.sub(\"[^a-zA-Z]\", \" \", newString) \n",
    "    newString = re.sub('[m]{2,}', 'mm', newString)\n",
    "    if (num==0):\n",
    "        tokens = [w for w in newString.split() if not w in stop_words]\n",
    "    else:\n",
    "        tokens=newString.split()\n",
    "    long_words=[]\n",
    "    for i in tokens:\n",
    "        if len(i)>1: # removing short words\n",
    "            long_words.append(i)   \n",
    "    return (\" \".join(long_words)).strip()"
   ]
  },
  {
   "cell_type": "code",
   "execution_count": 36,
   "id": "fdc4387f",
   "metadata": {},
   "outputs": [],
   "source": [
    "#call the function\n",
    "cleaned_text = []\n",
    "for t in data['article']:\n",
    "    cleaned_text.append(text_cleaner(t,0)) "
   ]
  },
  {
   "cell_type": "code",
   "execution_count": 37,
   "id": "66e9e48d",
   "metadata": {},
   "outputs": [],
   "source": [
    "#call the function\n",
    "cleaned_summary = []\n",
    "for t in data['highlights']:\n",
    "    cleaned_summary.append(text_cleaner(t,1))"
   ]
  },
  {
   "cell_type": "code",
   "execution_count": 38,
   "id": "cc08876d",
   "metadata": {},
   "outputs": [],
   "source": [
    "data['cleaned_text']=cleaned_text\n",
    "data['cleaned_summary']=cleaned_summary"
   ]
  },
  {
   "cell_type": "code",
   "execution_count": 39,
   "id": "aa1721bc",
   "metadata": {},
   "outputs": [],
   "source": [
    "#drop empty rows\n",
    "data.replace('', np.nan, inplace=True)\n",
    "data.dropna(axis=0,inplace=True)"
   ]
  },
  {
   "cell_type": "code",
   "execution_count": 40,
   "id": "5a1bb77f",
   "metadata": {},
   "outputs": [
    {
     "name": "stdout",
     "output_type": "stream",
     "text": [
      "Mean of Article Length 374.88456536961087\n",
      "Mean of Summary Length 46.14494348304491\n"
     ]
    },
    {
     "data": {
      "image/png": "[encoded data removed]",
      "text/plain": [
       "<Figure size 432x288 with 2 Axes>"
      ]
     },
     "metadata": {
      "needs_background": "light"
     },
     "output_type": "display_data"
    }
   ],
   "source": [
    "import matplotlib.pyplot as plt\n",
    "\n",
    "text_word_count = []\n",
    "summary_word_count = []\n",
    "\n",
    "# populate the lists with sentence lengths\n",
    "for i in data['cleaned_text']:\n",
    "      text_word_count.append(len(i.split()))\n",
    "\n",
    "for i in data['cleaned_summary']:\n",
    "      summary_word_count.append(len(i.split()))\n",
    "\n",
    "length_df = pd.DataFrame({'text':text_word_count, 'summary':summary_word_count})\n",
    "print('Mean of Article Length',sum(text_word_count)/len(text_word_count))\n",
    "print('Mean of Summary Length',sum(summary_word_count)/len(summary_word_count))\n",
    "length_df.hist(bins = 30)\n",
    "plt.show()"
   ]
  },
  {
   "cell_type": "code",
   "execution_count": 41,
   "id": "948a34a3",
   "metadata": {},
   "outputs": [],
   "source": [
    "max_text_len=400\n",
    "max_summary_len=46\n",
    "\n",
    "cleaned_text =np.array(data['cleaned_text'])\n",
    "cleaned_summary=np.array(data['cleaned_summary'])\n",
    "\n",
    "short_text=[]\n",
    "short_summary=[]\n",
    "\n",
    "for i in range(len(cleaned_text)):\n",
    "    if(len(cleaned_summary[i].split())<=max_summary_len and len(cleaned_text[i].split())<=max_text_len):\n",
    "        short_text.append(cleaned_text[i])\n",
    "        short_summary.append(cleaned_summary[i])\n",
    "        \n",
    "df=pd.DataFrame({'text':short_text,'summary':short_summary})"
   ]
  },
  {
   "cell_type": "code",
   "execution_count": 42,
   "id": "8ab1c5f1",
   "metadata": {},
   "outputs": [],
   "source": [
    "#making sure tokens dont appear in the summaries\n",
    "for summary in df['summary']:\n",
    "    if 'sostok' in summary:\n",
    "        print(\"ERROR\")\n",
    "    if 'eostok' in summary:\n",
    "        print(\"ERROR\")"
   ]
  },
  {
   "cell_type": "code",
   "execution_count": 43,
   "id": "6f9c8a91",
   "metadata": {},
   "outputs": [],
   "source": [
    "df['summary'] = df['summary'].apply(lambda x : 'sostok '+ x + ' eostok')"
   ]
  },
  {
   "cell_type": "code",
   "execution_count": 44,
   "id": "d8ca4364",
   "metadata": {},
   "outputs": [],
   "source": [
    "from sklearn.model_selection import train_test_split\n",
    "x_tr,x_val,y_tr,y_val=train_test_split(np.array(df['text']),np.array(df['summary']),test_size=0.1,random_state=0,shuffle=True) "
   ]
  },
  {
   "cell_type": "code",
   "execution_count": 63,
   "id": "82a87ecc",
   "metadata": {},
   "outputs": [
    {
     "name": "stdout",
     "output_type": "stream",
     "text": [
      "Article: lytro cameras let take photo refocus anywhere taken getting two much requested new features instagram like filters ability bring entire image one section focus camera released early year new silicon valley based startup long rectangular small touchscreen one end minimal buttons camera uses light field technology capture interactive images since camera release lytro employees busy testing releasing new features recent additions available december first new perspective shift feature could focus one small section lytro image time seemed negate benefit camera could focus everything frame perspective shift finally allows bring entire image focus interesting part click drag lytro picture also effect allowing move image around altered angles existing lytro camera owners happy learn effect applied older images well one test photo eric cheng lytro director photography former underwater photographer filled glass christmas ornament paint shot pellet capturing explosion happened desktop application also gain new filter options anything photography industry learned past two years people love adding quick filters photos make look better lytro first nine filters mix typical retro film noir track crayon genuinely unique effects take advantage interactive features lytro pictures example glass filter throws pane frosted glass foreground background click around refocus move accordingly carnival distorts photo like mirror undulating different directions depending focus year product announced question exactly still lingers price tag steep camera takes one kind photo fun play immediately clear practical purpose photos serve flattened lytro image megapixels rules many pro photography uses like product photography lytro sharing sales numbers statistics says camera mostly hit amateur photography enthusiasts enterprising customers found creative uses food bloggers snapping interactive shots meals artist makes miniature figures uses document work bug lovers everywhere like impressive macro photography abilities medical field tested technology lytro says dermatologist uses camera take close photos skin issues dentist takes shots teeth looking people interested storytelling new way cheng said common thread earlier camera owners lytro released updates camera firmware desktop software year including rolling windows version desktop application adding manual camera controls manual controls speed slow shutter speed play interesting effects like light company also released handful accessories cases tripod mount new lytro body colors hardware exact camera started shipping start year prices also stayed gb camera gb version \n",
      "Original summary: cameras capture photos that can be after they are taken new photo include mirror effect and retro images can finally be focused entirely perspective shifting effect has been added \n",
      "Predicted summary:  nasa created the company on facebook and the first time to be launched by the device the device is in the sale of the new york and the company has been launched to an app to be launched in september\n",
      "\n",
      "\n",
      "Article: socks christmas stocking staple majority us happy plain old wool afford launched vicu pair socks come presentation box available golden brown vicu like hails peru produces wool delicate dyeing process would damage beyond repair want pair need place orders quickly pairs luxury socks made luxurious limited edition socks made vicu wool quite literally worth weight gold socks part german hosiery specialist autumn winter collection also includes limited edition worth approximately created fabric range offers choice roll necklines offers luxury spin brand mainline menswear collection crafted merino wool silk cashmere fine wool thermal properties communicate uniqueness yarn explain company description website first clothing manufacturer producing socks made premium wool vicu wool rarest expensive wool world softer lighter warmer wool since fibres delicate wool natural golden colour remains unchanged expensive socks come special presentation box pairs footwear made endangered vicu live andes shorn every two years protected law vicu small endangered lives peruvian andes produces expensive wool world related alpaca vicu makes stand less expensive cousins additional value created rarity mountainous habitat make getting hands vicu wool even difficult animal shorn every two years peruvian law dubbed world expensive fabric vicu wool quite literally worth weight gold rarity difficulty involved obtaining vicu relative ancestor alpaca national animals peru live high andes mountains wool finest animal derived fibres micro metres diameter cannot dyed delicate endangered species vicu cannot domesticated wool taken wild animals caught sheared every two years enough animal produced one pound wool making wool rare well hard get hold afford splash pair socks rarity likely much reason buy keeping feet warm \n",
      "Original summary: is the world most expensive fabric and is worth its weight in gold the socks are being launched in limited edition run of by the company also offers run of each of which costs \n",
      "Predicted summary:  the company is the only of the world most famous in the world of its world it has been sold in the and the first lady is expected to be the first in its th century the company has also sold since its status\n",
      "\n",
      "\n",
      "Article: congratulations order comedian mario cantone married partner years musical theater director jerry dixon cantone revealed friday view got married reasons sex city actor tells fellow newlywed joy behar show older together years years like thanks anti climactic honeymoon government cantone says wedding officiated pastor jay bakker son late tammy faye bakker beautiful family cantone says adding new husband love good man see full article people com \n",
      "Original summary: comedian mario cantone and his partner jerry dixon tied the knot cantone and dixon musical theater director married after years together it was beautiful just my family there cantone said \n",
      "Predicted summary:  singer and his daughter were on the posing of the married the actress is now on the run of the singer and her father\n",
      "\n",
      "\n",
      "Article: sturdy bra saved woman life metal stopped stray bullet hitting chest robbery brazil northern amazonian city bel struck round left supermarket investigate commotion unfolding street outside cctv footage taken moments incident sees helped back store husband calls medical assistance scroll video lucky escape sturdy bra saved woman life metal stopped stray bullet hitting chest robbery brazil realised bleeding presumed hit thanked god sparing life felt little burning sensation finding source pain discovered bullet lodged underwear interview filmed terrifying event holds dress show reporters bullet torn sped towards heart reveals black lace underwired bra wearing points bullet stopped accidental deaths stray bullets alarmingly common brazil five million people live poverty line fuelling crime country miraculous northern amazonian city bel holds bra saved life caught crossfire struck round left supermarket investigate commotion unfolding street outside cctv showed supported husband hit incredible incident took place brazil northern amazonian city bel pictured \n",
      "Original summary: was shot in the chest after being caught in robbery crossfire after seeing no blood she thought bullet had missed her and thanked god but then felt burning sensation and discovered the bullet lodged in bra \n",
      "Predicted summary:  year old man was killed on the run when he was hit by the year old boy was arrested with the condition in the death of the accident she was in critical condition and is not known as the result of his\n",
      "\n",
      "\n",
      "Article: johannesburg south africa nobel peace laureate desmond tutu labeled zimbabwean president robert mugabe frankenstein called countries intervene country descended bloodshed desmond tutu labelled zimbabwe president robert mugabe frankenstein people international military action mugabe regime however unlikely said australian foreign minister stephen smith friday runoff election country go matter said ambassador zimbabwe tutu speaking south africa told australian television mugabe disappointed many held high regard role liberating country shackles colonialism mean mutated something quite unbelievable tutu said late tuesday really turned kind frankenstein people mugabe zimbabwe leader since gained independence britain frankenstein name scientist mary shelley novel creates monster likeness man years popular culture taken referring creature frankenstein tutu anglican archbishop cape town urged international intervention curb violence harassment leading runoff vote zimbabwe hope mean wait late said know rwanda happened despite warnings international community given kept holding back today regretting fact act expeditiously ethnic cleansing campaign rwanda led deaths people according united nations zimbabwean opposition leader morgan tsvangirai called armed international peacekeepers secure new presidential election country international military action zimbabwe regime unlikely australian foreign minister stephen smith told reporters instead urged southern african nations put pressure mugabe step think international community move first instance quickly necessarily military intervention zimbabwe smith said tuesday arguing time repeat argument primary responsibility fall upon zimbabwe neighbors security council unanimously condemned zimbabwean government campaign violence intimidation stopped short calling postponement runoff new election mugabe said friday vote would take place planned james mcgee ambassador zimbabwe said mugabe zanu pf party intends force people vote even though mugabe candidate ballot saying want election costs want validate mr mugabe victory mcgee said tuesday really nothing international community stop elections zimbabwean opposition leader tsvangirai votes march election failed gain majority formally withdrew tuesday runoff citing violence party members legal experts zimbabwe however said cannot legally withdraw runoff electoral commission meet wednesday discuss matter state run newspaper harare herald reported speaking cnn tuesday dutch embassy harare granted refuge since sunday said total war cannot part war watch tutu full interview election said conditions horrendous added arrested brutalized exaggeration reality mugabe government denied responsibility violence zimbabwe instead blaming supporters tsvangirai movement democratic change party frightened frightened people mugabe said tsvangirai rally tuesday seeking refuge \n",
      "Original summary: nobel peace laureate desmond tutu calls zimbabwe president warns of dangers of compares to rwanda when plus died australia pm urges southern african nations to put pressure mugabe to step down security council has unanimously condemned the \n"
     ]
    },
    {
     "name": "stdout",
     "output_type": "stream",
     "text": [
      "Predicted summary:  new the prime minister says it will be on the way to discuss new president the former president says his body will not be the first time in the united states\n",
      "\n",
      "\n",
      "Article: withering lord rennard questioned whether nick clegg still leading major party following latest election humiliation lord rennard questioned whether nick clegg still leading major party following latest election humiliation former chief executive liberal democrats said party rock bottom showing last week rochester poll came fifth less per cent vote unacceptable warned latest failure makes chances lib dems holding dozens seats next general election much harder lord rennard barbed accusation lib dems minor party seen revenge mr clegg allowing back heart party lib dem peer party chief executive suspended early year series women accused making sexual advances denied allegations issued apology encroaching women personal space august suspension controversially lifted although told would role next year election campaign last week lib dem candidate rochester strood geoff recorded worst result major party since war garnering per cent vote coming fifth behind greens ukip mark reckless seat month lib dem candidate clacton polled per cent vote last year south shields lib dems got per cent lord rennard notched string election victories strategy chief made comments blog facebook entitled reflections rochester lord rennard barbed accusation lib dems minor party seen revenge mr clegg allowing back heart party said result opinion unavoidable added allow result ever polling lowest vote major party election ever casts doubt status major party lord rennard also criticised lib dems fail grasp enormity crisis engulfing party suggesting said terms parliamentary elections england anyway added avoid results rochester party must change approach elections various sets elections need try sustain support build future nick clegg hinted would prepared form three party coalition labour lib dems scottish nationalists surge support snp north border prompted speculation rainbow coalition made several parties may needed next may poll analysis polling data yesterday predicted neither labour tories able secure enough seats govern one party suggested government would need two parties majority mr clegg ruled deal ukip leader nigel farage declined give similar declaration snp \n",
      "Original summary: lord questions whether nick clegg is still leading major party the lib dem peer was suspended early this year after series of women accused him of making sexual advances comments will be seen as revenge for not being welcomed back \n",
      "Predicted summary:  new england will vote on whether that new government will be in vote to be held in the wake of new government to be in eu election\n",
      "\n",
      "\n",
      "Article: sacked nottingham forest boss stuart pearce turned offer owner fawaz al hasawi stay club advisory role day six employees left city ground understood pearce offered senior role initially believed resemble director football position significant development chief executive paul faulkner quit light pearce dismissal al hasawi failure consult appointment new manager dougie freedman stuart pearce turned offer nottingham forest owners stay director nottingham forest chief executive paul faulkner resigned less hours pearce sacked assistant manager steve first team coach brian goalkeeping coach tim flowers physio dave galley head recruitment john marshall shown door freedman began shape staff al hasawi flew kuwait business yesterday tweeted selling anyone season still alive must hold key players dougie freedman appointed new boss forest following pearce departure peterborough chairman darragh macanthony launches scathing twitter attack forest failed payments peterborough chairman darragh macanthony launched scathing twitter attack championship club believed forest failing make payments player signed london road club macanthony wrote ok posh fans incoming signings today nothing players leave etc real reason due certain championship club failing make agreed large payment last week player bought us \n",
      "Original summary: sacked boss stuart pearce turned down offer to stay at nottingham forest owner al offered him chance of an advisory role dougie freedman was appointed as the new manager at the city ground chief executive quits after not being consulted over freedman appointment \n",
      "Predicted summary:  former manchester united footballer is not suspended after his contract with the footballer he is now in the world championship squad against him he has been the only player of the world to england the year old was the highest player in the history\n",
      "\n",
      "\n",
      "Article: first week sale walter isaacson biography apple co founder steve jobs sold copies making far top selling book country book titled simply steve jobs also achieved biggest week sales book almost year according data nielsen service reported com published simon schuster october book outsold next bestselling book week john grisham three one six days sales jobs biography already th bestselling book year according figures simon schuster decision move book publication month jobs death october appears paid fueled intense interest late tech visionary life career biography arrived wave publicity including appearances isaacson cbs minutes cnn piers morgan tonight page book traces jobs years life hippie youth co founding apple parents silicon valley garage ouster company triumphant return years later remarkable successes past decade ipod iphone ipad book already produced plenty headlines including jobs regretted waiting long cancer diagnosis get surgery might saved retails although many sellers pricing closer \n",
      "Original summary: biography of apple co founder sold copies in the its first week that the biggest week of sales for any book in the for almost year publisher moved its release up by month after jobs death \n",
      "Predicted summary:  twitter has compiled the new network the company for the world most expensive and will be available in stores at its time the company also says they are also looking for the app\n",
      "\n",
      "\n",
      "Article: johannesburg south africa south africans waited election results thursday ballot ruling african national congress party appeared course win landslide anc leader jacob zuma expected south africa next president south african media reported thursday anc around percent vote one third ballots counted reports suggested opposition democratic alliance could course claim control western cape province anc ahead country eight provinces party elephant cannot actually topple elephant presidential candidate jacob zuma told thousands supporters anc headquarters central johannesburg according reuters com zuma danced sang trademark bring machine gun anti apartheid anthem stressed anc yet celebrating victory final results expected saturday counting done hand country million registered voters members parliament elect country president next month independent electoral commission said number people voting wednesday created long lines shortage ballot boxes papers districts voting stations watch south africa waits winner thank voters enthusiasm patience waited exercise democratic right vote commission chairwoman bam said wednesday although anc widely expected win remains seen much ground two main opposition parties democratic alliance congress people gain whether anc able hold onto two thirds parliamentary majority anc gained votes every election since country held first democratic election congress people breakaway faction anc threatens ruling party grip power voter shares feelings anc new rival anc dogged allegations corruption accused failing deliver services poor zuma recently faced fraud corruption charges country prosecuting authority dropped charges two weeks elections citing alleged political interference case decision sparked widespread outrage opposition parties accusing prosecutors buckling political pressure twenty six parties vied wednesday election included islamic christian parties right wing socialist groups learn south africa political parties domestic international observers monitoring election according electoral commission cnn nkepile mabuse contributed report \n",
      "Original summary: african national congress on course for landslide south african media reports reports says has percent of vote official results expected saturday opposition democratic alliance could claim control of western cape province controversial leader jacob zuma expected to become president \n"
     ]
    },
    {
     "name": "stdout",
     "output_type": "stream",
     "text": [
      "Predicted summary:  protesters on the streets of the vote will not be first on its first time in january the president has been in the run of the new parliament\n",
      "\n",
      "\n",
      "Article: police force making cuts million using unqualified detectives investigate serious crimes critical shortage staff whistleblower said officers moved criminal investigation department brighton west sussex deals murders rapes without taking compulsory detective exams sussex police admitted officers moved brighton cid temporarily keep numbers prompting warning county police commissioner shortage police brighton admitted facing called challenging times whistleblower reported concerns local newspaper brighton argus critical shortage police officers across entire brighton hove division anonymous detective said added officers drafted departments almost notice many officers even passed detectives exam national requirement little additional training prepare dealing serious crimes investigated cid uncommon see colleagues verge tears much pressure stress work cope stress whistleblower said many colleagues close tears nothing short scandalous puts public increased risk officers spokesman sussex police admitted officers working cid without relevant qualifications insisted experienced investigators spokesman also admitted department operating per cent staffing level superintendent steve whitton sussex police said policing nature requires flexible approach often means moving officers trained competent investigate crime different departments recently temporarily moved number people cid ensure continue respond effectively crimes rape sexual assault going challenging times moment make difficult decisions regarding resources decision making needs public always come first sussex police crime commissioner katy bourne said would investigate public safety remains highest priority added find evidence officer staff resilience affecting police performance hold chief constable account behalf sussex residents sussex police came fire inspectors last year axing frontline officers bid meet government imposed cuts million cuts million sussex police headquarters force criticised inspectors last year hm inspectorate constabulary revealed force one three country reducing number frontline staff force managing protect frontline crime fighting capability effectively report said report acknowledged challenge tough sussex lower costs forces added early indications service public might starting diminish last two years sussex reduced crime substantially lower rate forces \n",
      "Original summary: whistleblower some in brighton have not passed detective exams he claimed is so high it has left many officers close to tears sussex police blamed challenging times but insisted they were force facing cuts of million has been criticised for frontline pcs \n",
      "Predicted summary:  police found that were arrested over five year ago police say they were told by police officers were in the way to their home but it has been found guilty to help and the evidence\n",
      "\n",
      "\n"
     ]
    }
   ],
   "source": [
    "#bidirectional\n",
    "for i in range(0,10):\n",
    "    x_val_seq   =   x_tokenizer.texts_to_sequences([x_val[i]])\n",
    "    x_val_i   =   pad_sequences(x_val_seq, maxlen=max_text_len, padding='post')\n",
    "    \n",
    "    y_val_seq   =   y_tokenizer.texts_to_sequences([y_val[i]])\n",
    "    y_val_i   =   pad_sequences(y_val_seq, maxlen=max_text_len, padding='post')\n",
    "\n",
    "    print(\"Article:\",seq2text(x_val_i[0]))\n",
    "    print(\"Original summary:\",seq2summary(y_val_i[0]))\n",
    "    print(\"Predicted summary:\",decode_sequence(x_val_i[0].reshape(1,max_text_len)))\n",
    "    print(\"\\n\")"
   ]
  },
  {
   "cell_type": "code",
   "execution_count": null,
   "id": "41b3a771",
   "metadata": {},
   "outputs": [],
   "source": []
  }
 ],
 "metadata": {
  "kernelspec": {
   "display_name": "Python [conda env:175]",
   "language": "python",
   "name": "conda-env-175-py"
  },
  "language_info": {
   "codemirror_mode": {
    "name": "ipython",
    "version": 3
   },
   "file_extension": ".py",
   "mimetype": "text/x-python",
   "name": "python",
   "nbconvert_exporter": "python",
   "pygments_lexer": "ipython3",
   "version": "3.8.12"
  }
 },
 "nbformat": 4,
 "nbformat_minor": 5
}
