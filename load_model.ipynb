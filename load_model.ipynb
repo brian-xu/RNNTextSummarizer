{
 "cells": [
  {
   "cell_type": "code",
   "execution_count": 1,
   "id": "b782c417",
   "metadata": {},
   "outputs": [
    {
     "name": "stdout",
     "output_type": "stream",
     "text": [
      "2.5.0\n",
      "[PhysicalDevice(name='/physical_device:CPU:0', device_type='CPU'), PhysicalDevice(name='/physical_device:GPU:0', device_type='GPU')]\n",
      "Num GPUs Available:  1\n"
     ]
    }
   ],
   "source": [
    "import numpy as np\n",
    "import pandas as pd \n",
    "import re\n",
    "from bs4 import BeautifulSoup\n",
    "from tensorflow.keras.preprocessing.text import Tokenizer \n",
    "from tensorflow.keras.preprocessing.sequence import pad_sequences\n",
    "from nltk.corpus import stopwords\n",
    "from matplotlib import pyplot\n",
    "import warnings\n",
    "pd.set_option(\"display.max_colwidth\", 200)\n",
    "warnings.filterwarnings(\"ignore\")\n",
    "import pathlib\n",
    "# from tensorflow.keras.layers import Input, LSTM, Embedding, Dense, Concatenate, TimeDistributed, Attention\n",
    "# from tensorflow.keras.models import Model\n",
    "# from tensorflow.keras.callbacks import EarlyStopping\n",
    "import tensorflow as tf\n",
    "from tensorflow.keras import backend as K \n",
    "from tensorflow.keras.layers import Input, LSTM, Embedding, Dense, Concatenate, TimeDistributed, Bidirectional, Attention\n",
    "from tensorflow.keras.models import Model\n",
    "from tensorflow.keras.callbacks import EarlyStopping\n",
    "\n",
    "print(tf.__version__)\n",
    "print(tf.config.list_physical_devices())\n",
    "print(\"Num GPUs Available: \", len(tf.config.list_physical_devices('GPU')))"
   ]
  },
  {
   "cell_type": "code",
   "execution_count": 2,
   "id": "56308513",
   "metadata": {},
   "outputs": [],
   "source": [
    "x_voc = 8440\n",
    "y_voc = 1989"
   ]
  },
  {
   "cell_type": "code",
   "execution_count": 3,
   "id": "d498dd45",
   "metadata": {},
   "outputs": [],
   "source": [
    "# load the weights\n",
    "w_encoder_embeddings = np.load('model/enc_embedding.npz', allow_pickle=True)\n",
    "w_decoder_embeddings = np.load('model/dec_embedding.npz', allow_pickle=True)\n",
    "w_encoder_lstm0 = np.load('model/encoder_lstm0.npz', allow_pickle=True)\n",
    "w_encoder_lstm1 = np.load('model/encoder_lstm1.npz', allow_pickle=True)\n",
    "w_decoder_lstm = np.load('model/lstm_2.npz', allow_pickle=True)\n",
    "time_distributed  = np.load('model/time_distributed.npz', allow_pickle=True)"
   ]
  },
  {
   "cell_type": "code",
   "execution_count": 4,
   "id": "0b0e203d",
   "metadata": {},
   "outputs": [
    {
     "name": "stdout",
     "output_type": "stream",
     "text": [
      "Model: \"model\"\n",
      "__________________________________________________________________________________________________\n",
      "Layer (type)                    Output Shape         Param #     Connected to                     \n",
      "==================================================================================================\n",
      "input_1 (InputLayer)            [(None, None)]       0                                            \n",
      "__________________________________________________________________________________________________\n",
      "enc_embedding (Embedding)       (None, None, 100)    6332000     input_1[0][0]                    \n",
      "__________________________________________________________________________________________________\n",
      "encoder_lstm0 (Bidirectional)   (None, None, 600)    962400      enc_embedding[0][0]              \n",
      "__________________________________________________________________________________________________\n",
      "input_2 (InputLayer)            [(None, None)]       0                                            \n",
      "__________________________________________________________________________________________________\n",
      "encoder_lstm1 (Bidirectional)   [(None, 600), (None, 2162400     encoder_lstm0[0][0]              \n",
      "__________________________________________________________________________________________________\n",
      "dec_embedding (Embedding)       (None, None, 100)    1485600     input_2[0][0]                    \n",
      "__________________________________________________________________________________________________\n",
      "concatenate (Concatenate)       (None, 600)          0           encoder_lstm1[0][1]              \n",
      "                                                                 encoder_lstm1[0][3]              \n",
      "__________________________________________________________________________________________________\n",
      "concatenate_1 (Concatenate)     (None, 600)          0           encoder_lstm1[0][2]              \n",
      "                                                                 encoder_lstm1[0][4]              \n",
      "__________________________________________________________________________________________________\n",
      "lstm_2 (LSTM)                   [(None, None, 600),  1682400     dec_embedding[0][0]              \n",
      "                                                                 concatenate[0][0]                \n",
      "                                                                 concatenate_1[0][0]              \n",
      "__________________________________________________________________________________________________\n",
      "attention_layer (Attention)     (None, None, 600)    0           lstm_2[0][0]                     \n",
      "                                                                 encoder_lstm1[0][0]              \n",
      "__________________________________________________________________________________________________\n",
      "concat_layer (Concatenate)      (None, None, 1200)   0           lstm_2[0][0]                     \n",
      "                                                                 attention_layer[0][0]            \n",
      "__________________________________________________________________________________________________\n",
      "time_distributed (TimeDistribut (None, None, 14856)  17842056    concat_layer[0][0]               \n",
      "==================================================================================================\n",
      "Total params: 30,466,856\n",
      "Trainable params: 30,466,856\n",
      "Non-trainable params: 0\n",
      "__________________________________________________________________________________________________\n"
     ]
    }
   ],
   "source": [
    "# Bidirectional LSTM\n",
    "K.clear_session()\n",
    "\n",
    "latent_dim = 300\n",
    "embedding_dim = 100\n",
    "\n",
    "# Encoder\n",
    "encoder_inputs = Input(shape=(None,))\n",
    "\n",
    "# embedding layer\n",
    "enc_emb =  Embedding(63320, 100, trainable=True, name = \"enc_embedding\")(encoder_inputs)\n",
    "\n",
    "\n",
    "encoder_lstm0 = Bidirectional(\n",
    "    LSTM(latent_dim, return_sequences=True),\n",
    "    name = 'encoder_lstm0')\n",
    "encoder_outputs0 = encoder_lstm0(enc_emb)\n",
    "\n",
    "encoder_lstm1 = Bidirectional(\n",
    "    LSTM(latent_dim, return_state=True),\n",
    "    name = 'encoder_lstm1')\n",
    "encoder_outputs, enc_forward_h, enc_forward_c, enc_backward_h, enc_backward_c  = encoder_lstm1(encoder_outputs0)\n",
    "\n",
    "\n",
    "state_h = Concatenate()([enc_forward_h, enc_backward_h])\n",
    "state_c = Concatenate()([enc_forward_c, enc_backward_c])\n",
    "encoder_states = [state_h, state_c]\n",
    "# Set up the decoder, using `encoder_states` as initial state.\n",
    "decoder_inputs = Input(shape=(None,))\n",
    "\n",
    "#embedding layer\n",
    "dec_emb_layer = Embedding(14856, 100,trainable=True, name = 'dec_embedding')\n",
    "dec_emb = dec_emb_layer(decoder_inputs)\n",
    "\n",
    "decoder_lstm = LSTM(latent_dim*2, return_sequences=True,return_state=True,dropout=0.2,recurrent_dropout=0)\n",
    "decoder_outputs1, decoder_fwd_state, decoder_back_state = decoder_lstm(dec_emb,initial_state=encoder_states)\n",
    "\n",
    "# Attention layer\n",
    "attn_layer = Attention(name='attention_layer')\n",
    "attn_out = attn_layer([decoder_outputs1, encoder_outputs])\n",
    "\n",
    "# Concat attention input and decoder LSTM output\n",
    "decoder_concat_input = Concatenate(axis=-1, name='concat_layer')([decoder_outputs1, attn_out])\n",
    "\n",
    "#dense layer\n",
    "decoder_dense = TimeDistributed(Dense(14856, activation='softmax'))\n",
    "decoder_outputs = decoder_dense(decoder_concat_input)\n",
    "\n",
    "model = Model([encoder_inputs, decoder_inputs], decoder_outputs)\n",
    "\n",
    "model.summary() \n",
    "\n",
    "model.compile(optimizer='rmsprop', loss='sparse_categorical_crossentropy')\n",
    "es = EarlyStopping(monitor='val_loss', mode='min', verbose=1,patience=2)"
   ]
  },
  {
   "cell_type": "code",
   "execution_count": 5,
   "id": "e2647bed",
   "metadata": {},
   "outputs": [],
   "source": [
    "# set the weights of the model\n",
    "\n",
    "model.layers[1].set_weights(w_encoder_embeddings['arr_0'])\n",
    "model.layers[2].set_weights(w_encoder_lstm0['arr_0'])\n",
    "model.layers[4].set_weights(w_encoder_lstm1['arr_0'])\n",
    "model.layers[5].set_weights(w_decoder_embeddings['arr_0'])\n",
    "model.layers[8].set_weights(w_decoder_lstm['arr_0'])\n",
    "model.layers[11].set_weights(time_distributed['arr_0'])"
   ]
  },
  {
   "cell_type": "code",
   "execution_count": 6,
   "id": "1574fd6a",
   "metadata": {},
   "outputs": [],
   "source": [
    "import pickle\n",
    "# load the tokenizer\n",
    "with open('model/x_tokenizer.pickle', 'rb') as handle:\n",
    "    x_tokenizer = pickle.load(handle)\n",
    "with open('model/y_tokenizer.pickle', 'rb') as handle:\n",
    "    y_tokenizer = pickle.load(handle)\n",
    "reverse_target_word_index=y_tokenizer.index_word\n",
    "reverse_source_word_index=x_tokenizer.index_word\n",
    "target_word_index=y_tokenizer.word_index"
   ]
  },
  {
   "cell_type": "code",
   "execution_count": 7,
   "id": "fd006f41",
   "metadata": {},
   "outputs": [],
   "source": [
    "#bidirectional\n",
    "# Encode the input sequence to get the feature vector\n",
    "encoder_model = Model(inputs=encoder_inputs, outputs=[encoder_outputs, state_h, state_c])\n",
    "\n",
    "# Decoder setup\n",
    "# Below tensors will hold the states of the previous time step\n",
    "decoder_state_input_h = Input(shape=(latent_dim*2,))\n",
    "decoder_state_input_c = Input(shape=(latent_dim*2,))\n",
    "decoder_hidden_state_input = Input(shape=(latent_dim*2))\n",
    "\n",
    "# Get the embeddings of the decoder sequence\n",
    "dec_emb2 = dec_emb_layer(decoder_inputs) \n",
    "# To predict the next word in the sequence, set the initial states to the states from the previous time step\n",
    "decoder_outputs2, state_h2, state_c2 = decoder_lstm(dec_emb2, initial_state=[decoder_state_input_h, decoder_state_input_c])\n",
    "\n",
    "#attention inference\n",
    "attn_out_inf = attn_layer([decoder_outputs2, decoder_hidden_state_input])\n",
    "\n",
    "decoder_inf_concat = Concatenate(axis=-1, name='concat')([decoder_outputs2, attn_out_inf])\n",
    "\n",
    "# A dense softmax layer to generate prob dist. over the target vocabulary\n",
    "decoder_outputs2 = decoder_dense(decoder_inf_concat)\n",
    "\n",
    "# Final decoder model\n",
    "decoder_model = Model(\n",
    "    [decoder_inputs] + [decoder_hidden_state_input, decoder_state_input_h, decoder_state_input_c],\n",
    "    [decoder_outputs2] + [state_h2, state_c2])"
   ]
  },
  {
   "cell_type": "markdown",
   "id": "a74b2784",
   "metadata": {},
   "source": [
    "https://stackoverflow.com/questions/70128813/how-do-i-save-an-encoder-decoder-model-with-tensorflow"
   ]
  },
  {
   "cell_type": "code",
   "execution_count": 113,
   "id": "17c4c863",
   "metadata": {},
   "outputs": [],
   "source": [
    "def softmax(x):\n",
    "    \"\"\"Compute softmax values for each sets of scores in x.\"\"\"\n",
    "    e_x = np.exp(x - np.max(x))\n",
    "    return e_x / e_x.sum(axis=0) \n",
    "\n",
    "def top_k_sampling(predictions, k):\n",
    "    top_k_probabilities, top_k_indices= tf.math.top_k(predictions, k=k, sorted=True)\n",
    "    top_k_indices = np.asarray(top_k_indices).astype(\"int32\")\n",
    "    top_k_redistributed_probability=softmax(np.log(top_k_probabilities))\n",
    "    top_k_redistributed_probability = np.asarray(top_k_redistributed_probability).astype(\"float32\")\n",
    "    sampled_token = np.random.choice(top_k_indices, p=top_k_redistributed_probability)\n",
    "#     print(reverse_target_word_index[sampled_token])\n",
    "#     top_k_tokens=[dictionary[i] for i in top_k_indices]\n",
    "#     plt.bar(top_k_tokens,top_k_redistributed_probability)\n",
    "#     plt.show()\n",
    "    return sampled_token"
   ]
  },
  {
   "cell_type": "code",
   "execution_count": 114,
   "id": "38399be7",
   "metadata": {},
   "outputs": [],
   "source": [
    "def decode_sequence(input_seq):\n",
    "    # Encode the input as state vectors.\n",
    "    e_out, e_h, e_c = encoder_model.predict(input_seq)\n",
    "    \n",
    "    # Generate empty target sequence of length 1.\n",
    "    target_seq = np.zeros((1,1))\n",
    "    \n",
    "    # Populate the first word of target sequence with the start word.\n",
    "    target_seq[0, 0] = target_word_index['sostok']\n",
    "\n",
    "    stop_condition = False\n",
    "    decoded_sentence = ''\n",
    "    while not stop_condition:\n",
    "      \n",
    "        output_tokens, h, c = decoder_model.predict([target_seq] + [e_out, e_h, e_c])\n",
    "\n",
    "        # Sample a token\n",
    "        #sampled_token_index = np.argmax(output_tokens[0, -1, :])\n",
    "        sampled_token_index = top_k_sampling(output_tokens[0, -1, :],5)\n",
    "        #sampled_token_index = np.random.choice(len(output_tokens[0, -1, :]), p=output_tokens[0, -1, :])\n",
    "  \n",
    "        sampled_token = reverse_target_word_index[sampled_token_index]\n",
    "        \n",
    "        if(sampled_token!='eostok'):\n",
    "            decoded_sentence += ' '+sampled_token\n",
    "\n",
    "        # Exit condition: either hit max length or find stop word.\n",
    "        if (sampled_token == 'eostok'  or len(decoded_sentence.split()) >= (max_summary_len-1)):\n",
    "            stop_condition = True\n",
    "\n",
    "        # Update the target sequence (of length 1).\n",
    "        target_seq = np.zeros((1,1))\n",
    "        target_seq[0, 0] = sampled_token_index\n",
    "\n",
    "        # Update internal states\n",
    "        e_h, e_c = h, c\n",
    "\n",
    "    return decoded_sentence\n",
    "\n",
    "def seq2summary(input_seq):\n",
    "    newString=''\n",
    "    for i in input_seq:\n",
    "        if((i!=0 and i!=target_word_index['sostok']) and i!=target_word_index['eostok']):\n",
    "            newString=newString+reverse_target_word_index[i]+' '\n",
    "    return newString\n",
    "\n",
    "def seq2text(input_seq):\n",
    "    newString=''\n",
    "    for i in input_seq:\n",
    "        if(i!=0):\n",
    "            newString=newString+reverse_source_word_index[i]+' '\n",
    "    return newString"
   ]
  },
  {
   "cell_type": "code",
   "execution_count": 115,
   "id": "075f72cd",
   "metadata": {},
   "outputs": [
    {
     "name": "stdout",
     "output_type": "stream",
     "text": [
      "<class 'pandas.core.frame.DataFrame'>\n",
      "RangeIndex: 100 entries, 0 to 99\n",
      "Data columns (total 3 columns):\n",
      " #   Column      Non-Null Count  Dtype \n",
      "---  ------      --------------  ----- \n",
      " 0   id          100 non-null    object\n",
      " 1   article     100 non-null    object\n",
      " 2   highlights  100 non-null    object\n",
      "dtypes: object(3)\n",
      "memory usage: 2.5+ KB\n"
     ]
    }
   ],
   "source": [
    "data=pd.read_csv(f\"{pathlib.Path().resolve()}\\\\input\\\\cnn_dailymail\\\\test.csv\", nrows=100)\n",
    "data.info()"
   ]
  },
  {
   "cell_type": "code",
   "execution_count": 116,
   "id": "915a180d",
   "metadata": {},
   "outputs": [],
   "source": [
    "data.drop_duplicates(subset=['article'],inplace=True) #dropping duplicates\n",
    "data.dropna(axis=0,inplace=True) #dropping na"
   ]
  },
  {
   "cell_type": "code",
   "execution_count": 117,
   "id": "630fda28",
   "metadata": {},
   "outputs": [
    {
     "name": "stdout",
     "output_type": "stream",
     "text": [
      "<class 'pandas.core.frame.DataFrame'>\n",
      "Int64Index: 100 entries, 0 to 99\n",
      "Data columns (total 3 columns):\n",
      " #   Column      Non-Null Count  Dtype \n",
      "---  ------      --------------  ----- \n",
      " 0   id          100 non-null    object\n",
      " 1   article     100 non-null    object\n",
      " 2   highlights  100 non-null    object\n",
      "dtypes: object(3)\n",
      "memory usage: 3.1+ KB\n"
     ]
    }
   ],
   "source": [
    "data.info()"
   ]
  },
  {
   "cell_type": "code",
   "execution_count": 118,
   "id": "c51f6b9a",
   "metadata": {},
   "outputs": [],
   "source": [
    "contraction_mapping = {\"ain't\": \"is not\", \"aren't\": \"are not\",\"can't\": \"cannot\", \"'cause\": \"because\", \"could've\": \"could have\", \"couldn't\": \"could not\",\n",
    "                           \"didn't\": \"did not\",  \"doesn't\": \"does not\", \"don't\": \"do not\", \"hadn't\": \"had not\", \"hasn't\": \"has not\", \"haven't\": \"have not\",\n",
    "                           \"he'd\": \"he would\",\"he'll\": \"he will\", \"he's\": \"he is\", \"how'd\": \"how did\", \"how'd'y\": \"how do you\", \"how'll\": \"how will\", \"how's\": \"how is\",\n",
    "                           \"I'd\": \"I would\", \"I'd've\": \"I would have\", \"I'll\": \"I will\", \"I'll've\": \"I will have\",\"I'm\": \"I am\", \"I've\": \"I have\", \"i'd\": \"i would\",\n",
    "                           \"i'd've\": \"i would have\", \"i'll\": \"i will\",  \"i'll've\": \"i will have\",\"i'm\": \"i am\", \"i've\": \"i have\", \"isn't\": \"is not\", \"it'd\": \"it would\",\n",
    "                           \"it'd've\": \"it would have\", \"it'll\": \"it will\", \"it'll've\": \"it will have\",\"it's\": \"it is\", \"let's\": \"let us\", \"ma'am\": \"madam\",\n",
    "                           \"mayn't\": \"may not\", \"might've\": \"might have\",\"mightn't\": \"might not\",\"mightn't've\": \"might not have\", \"must've\": \"must have\",\n",
    "                           \"mustn't\": \"must not\", \"mustn't've\": \"must not have\", \"needn't\": \"need not\", \"needn't've\": \"need not have\",\"o'clock\": \"of the clock\",\n",
    "                           \"oughtn't\": \"ought not\", \"oughtn't've\": \"ought not have\", \"shan't\": \"shall not\", \"sha'n't\": \"shall not\", \"shan't've\": \"shall not have\",\n",
    "                           \"she'd\": \"she would\", \"she'd've\": \"she would have\", \"she'll\": \"she will\", \"she'll've\": \"she will have\", \"she's\": \"she is\",\n",
    "                           \"should've\": \"should have\", \"shouldn't\": \"should not\", \"shouldn't've\": \"should not have\", \"so've\": \"so have\",\"so's\": \"so as\",\n",
    "                           \"this's\": \"this is\",\"that'd\": \"that would\", \"that'd've\": \"that would have\", \"that's\": \"that is\", \"there'd\": \"there would\",\n",
    "                           \"there'd've\": \"there would have\", \"there's\": \"there is\", \"here's\": \"here is\",\"they'd\": \"they would\", \"they'd've\": \"they would have\",\n",
    "                           \"they'll\": \"they will\", \"they'll've\": \"they will have\", \"they're\": \"they are\", \"they've\": \"they have\", \"to've\": \"to have\",\n",
    "                           \"wasn't\": \"was not\", \"we'd\": \"we would\", \"we'd've\": \"we would have\", \"we'll\": \"we will\", \"we'll've\": \"we will have\", \"we're\": \"we are\",\n",
    "                           \"we've\": \"we have\", \"weren't\": \"were not\", \"what'll\": \"what will\", \"what'll've\": \"what will have\", \"what're\": \"what are\",\n",
    "                           \"what's\": \"what is\", \"what've\": \"what have\", \"when's\": \"when is\", \"when've\": \"when have\", \"where'd\": \"where did\", \"where's\": \"where is\",\n",
    "                           \"where've\": \"where have\", \"who'll\": \"who will\", \"who'll've\": \"who will have\", \"who's\": \"who is\", \"who've\": \"who have\",\n",
    "                           \"why's\": \"why is\", \"why've\": \"why have\", \"will've\": \"will have\", \"won't\": \"will not\", \"won't've\": \"will not have\",\n",
    "                           \"would've\": \"would have\", \"wouldn't\": \"would not\", \"wouldn't've\": \"would not have\", \"y'all\": \"you all\",\n",
    "                           \"y'all'd\": \"you all would\",\"y'all'd've\": \"you all would have\",\"y'all're\": \"you all are\",\"y'all've\": \"you all have\",\n",
    "                           \"you'd\": \"you would\", \"you'd've\": \"you would have\", \"you'll\": \"you will\", \"you'll've\": \"you will have\",\n",
    "                           \"you're\": \"you are\", \"you've\": \"you have\"}"
   ]
  },
  {
   "cell_type": "code",
   "execution_count": 119,
   "id": "d0368b1b",
   "metadata": {},
   "outputs": [],
   "source": [
    "stop_words = set(stopwords.words('english')) \n",
    "\n",
    "def text_cleaner(text,num):\n",
    "    newString = text.lower()\n",
    "    newString = BeautifulSoup(newString).text\n",
    "    newString = re.sub(r'\\([^)]*\\)', '', newString)\n",
    "    newString = re.sub('\"','', newString)\n",
    "    newString = ' '.join([contraction_mapping[t] if t in contraction_mapping else t for t in newString.split(\" \")])    \n",
    "    newString = re.sub(r\"'s\\b\",\"\",newString)\n",
    "    newString = re.sub(\"[^a-zA-Z]\", \" \", newString) \n",
    "    newString = re.sub('[m]{2,}', 'mm', newString)\n",
    "    if (num==0):\n",
    "        tokens = [w for w in newString.split() if not w in stop_words]\n",
    "    else:\n",
    "        tokens=newString.split()\n",
    "    long_words=[]\n",
    "    for i in tokens:\n",
    "        if len(i)>1: # removing short words\n",
    "            long_words.append(i)   \n",
    "    return (\" \".join(long_words)).strip()"
   ]
  },
  {
   "cell_type": "code",
   "execution_count": 120,
   "id": "fdc4387f",
   "metadata": {},
   "outputs": [],
   "source": [
    "#call the function\n",
    "cleaned_text = []\n",
    "for t in data['article']:\n",
    "    cleaned_text.append(text_cleaner(t,0)) "
   ]
  },
  {
   "cell_type": "code",
   "execution_count": 121,
   "id": "66e9e48d",
   "metadata": {},
   "outputs": [],
   "source": [
    "#call the function\n",
    "cleaned_summary = []\n",
    "for t in data['highlights']:\n",
    "    cleaned_summary.append(text_cleaner(t,1))"
   ]
  },
  {
   "cell_type": "code",
   "execution_count": 122,
   "id": "cc08876d",
   "metadata": {},
   "outputs": [],
   "source": [
    "data['cleaned_text']=cleaned_text\n",
    "data['cleaned_summary']=cleaned_summary"
   ]
  },
  {
   "cell_type": "code",
   "execution_count": 123,
   "id": "aa1721bc",
   "metadata": {},
   "outputs": [],
   "source": [
    "#drop empty rows\n",
    "data.replace('', np.nan, inplace=True)\n",
    "data.dropna(axis=0,inplace=True)"
   ]
  },
  {
   "cell_type": "code",
   "execution_count": 124,
   "id": "5a1bb77f",
   "metadata": {},
   "outputs": [
    {
     "name": "stdout",
     "output_type": "stream",
     "text": [
      "Mean of Article Length 344.4\n",
      "Mean of Summary Length 46.7\n"
     ]
    },
    {
     "data": {
      "image/png": "[encoded data removed]",
      "text/plain": [
       "<Figure size 432x288 with 2 Axes>"
      ]
     },
     "metadata": {
      "needs_background": "light"
     },
     "output_type": "display_data"
    }
   ],
   "source": [
    "import matplotlib.pyplot as plt\n",
    "\n",
    "text_word_count = []\n",
    "summary_word_count = []\n",
    "\n",
    "# populate the lists with sentence lengths\n",
    "for i in data['cleaned_text']:\n",
    "      text_word_count.append(len(i.split()))\n",
    "\n",
    "for i in data['cleaned_summary']:\n",
    "      summary_word_count.append(len(i.split()))\n",
    "\n",
    "length_df = pd.DataFrame({'text':text_word_count, 'summary':summary_word_count})\n",
    "print('Mean of Article Length',sum(text_word_count)/len(text_word_count))\n",
    "print('Mean of Summary Length',sum(summary_word_count)/len(summary_word_count))\n",
    "length_df.hist(bins = 30)\n",
    "plt.show()"
   ]
  },
  {
   "cell_type": "code",
   "execution_count": 125,
   "id": "948a34a3",
   "metadata": {},
   "outputs": [],
   "source": [
    "max_text_len=400\n",
    "max_summary_len=46\n",
    "\n",
    "cleaned_text =np.array(data['cleaned_text'])\n",
    "cleaned_summary=np.array(data['cleaned_summary'])\n",
    "\n",
    "short_text=[]\n",
    "short_summary=[]\n",
    "\n",
    "for i in range(len(cleaned_text)):\n",
    "#     if(len(cleaned_summary[i].split())<=max_summary_len and len(cleaned_text[i].split())<=max_text_len):\n",
    "    short_text.append(cleaned_text[i])\n",
    "    short_summary.append(cleaned_summary[i])\n",
    "        \n",
    "df=pd.DataFrame({'text':short_text,'summary':short_summary})"
   ]
  },
  {
   "cell_type": "code",
   "execution_count": 126,
   "id": "8ab1c5f1",
   "metadata": {},
   "outputs": [],
   "source": [
    "#making sure tokens dont appear in the summaries\n",
    "for summary in df['summary']:\n",
    "    if 'sostok' in summary:\n",
    "        print(\"ERROR\")\n",
    "    if 'eostok' in summary:\n",
    "        print(\"ERROR\")"
   ]
  },
  {
   "cell_type": "code",
   "execution_count": 127,
   "id": "6f9c8a91",
   "metadata": {},
   "outputs": [],
   "source": [
    "df['summary'] = df['summary'].apply(lambda x : 'sostok '+ x + ' eostok')"
   ]
  },
  {
   "cell_type": "code",
   "execution_count": 128,
   "id": "7b9215e8",
   "metadata": {},
   "outputs": [],
   "source": [
    "x_val = df['text']\n",
    "y_val = df['summary']"
   ]
  },
  {
   "cell_type": "code",
   "execution_count": 129,
   "id": "82a87ecc",
   "metadata": {},
   "outputs": [
    {
     "name": "stdout",
     "output_type": "stream",
     "text": [
      "Article: ever noticed plane seats appear getting smaller smaller increasing numbers people taking skies experts questioning packed planes putting passengers risk say shrinking space aeroplanes uncomfortable putting health safety danger squabbling arm rest shrinking space planes putting health safety danger week consumer advisory group set department transportation said public hearing government happy set standards animals flying planes stipulate minimum amount space humans world animals rights space food humans said charlie consumer representative committee time dot faa take stand humane treatment passengers could crowding planes lead serious issues fighting space overhead lockers crashing elbows seat back kicking tests conducted faa use planes inch pitch standard airlines decreased many economy seats united airlines inches room airlines offer little inches cynthia human factors researcher federal aviation administration conducts tests quickly passengers leave plane tests conducted using planes inches row seats standard airlines decreased reported detroit news distance two seats one point seat point seat behind known pitch airlines stick pitch inches fall united airlines inches space gulf air economy seats inches air asia offers inches spirit airlines offers inches british airways seat pitch inches easyjet inches thomson short haul seat pitch inches virgin atlantic \n",
      "Original summary: experts question if packed out planes are putting passengers at risk consumer advisory group says minimum space must be safety tests conducted on planes with more leg room than airlines offer \n",
      "Predicted summary:  airlines could travel from the rain to reach the next time the temperatures are between and over south america it is expected to be the first hurricane to this\n",
      "\n",
      "\n",
      "Article: drunk teenage boy rescued security jumping lions enclosure zoo western india rahul kumar clambered enclosure fence nehru zoological park ahmedabad began running towards animals shouting would kill mr kumar explained afterwards drunk thought would stand good chance predators next level drunk intoxicated rahul kumar climbed lions enclosure zoo ahmedabad began running towards animals shouting today kill lion mr kumar sitting near enclosure suddenly made dash lions surprising zoo security intoxicated teenager ran towards lions shouting today kill lion lion kills zoo spokesman said guards earlier spotted close enclosure idea enter fortunately eight moats cross getting lions usually fell second one allowing guards catch take handed police brave fool fortunately mr kumar fell moat ran towards lions could rescued zoo security staff reaching animals kumar later explained really know drunk thought would stand good chance police spokesman said cautioned sent psychiatric evaluation fortunately lions asleep zoo guards acted quickly enough prevent tragedy similar delhi last year year old man mauled death tiger indian capital climbing enclosure city zoo \n",
      "Original summary: drunk teenage boy climbed into lion enclosure at zoo in west india kumar ran towards animals shouting today kill lion fortunately he fell into before reaching lions and was rescued \n",
      "Predicted summary:  the stuck out to the ground in the trapped on the buried the stuck in her face window and the rolled out the flames was taken on its way and fell to the animal\n",
      "\n",
      "\n",
      "Article: dougie freedman verge agreeing new two year deal remain nottingham forest freedman stabilised forest since replaced cult hero stuart pearce club owners pleased job done city ground dougie freedman set sign new deal nottingham forest freedman impressed city ground since replacing stuart pearce february made audacious attempt play places freedman replaced pearce tailed recent weeks prevented forest ownership making moves secure freedman contract next two seasons \n",
      "Original summary: nottingham forest are close to extending dougie freedman contract the forest boss took over from former manager stuart pearce in february freedman has since lead the club to ninth in the championship \n",
      "Predicted summary:  michael has been suspended for his first appearance since his contract the year old has now been on the centre with the condition squad the year old was left with an infection at the club\n",
      "\n",
      "\n",
      "Article: liverpool target neto also wanted psg clubs spain brendan rodgers faces stiff competition land fiorentina goalkeeper according brazilian agent stefano reds linked move year old whose contract expires june earlier season simon mignolet dropped side january move neto never materialised former atletico paranaense keeper looks certain leave florence based club summer neto rushes goal juan bears fiorentina clash roma march neto wanted number top european clubs including liverpool psg according agent reported neto verbal agreement join serie champions juventus end season agent revealed decision future made yet claims neto pick top european clubs transfer window opens summer including brendan rodgers side many european clubs interested neto example liverpool paris saint germain stefano quoted saying gazzetta tv goalkeeper neto saves feet tottenham midfielder nacer chadli europa league spain clubs top level tracking real madrid see made definitive decision case accept another loan move elsewhere neto represented brazil london olympics featured senior side warned joining club national coach dunga neto joined fiorentina atletico paranaense established last two seasons \n",
      "Original summary: fiorentina goalkeeper has been linked with liverpool and arsenal joined from brazilian outfit atletico in he is also wanted by psg and spanish clubs according to his agent click here for the latest liverpool news \n",
      "Predicted summary:  bayern munich midfielder has been on loan at borussia dortmund the chelsea striker has had been linked with real madrid and barcelona united are currently at the stadium at old trafford\n",
      "\n",
      "\n",
      "Article: speak far ranging interview sawyer special edition friday april abc news announced monday interview comes amid growing speculation father six transition woman follows closely behind involvement deadly car crash california february kardashian women known enjoying center stage stealing bruce spotlight armenia interview airs according tmz scroll video speaking bruce jenner pictured keeping kardashians speak far ranging interview diane sawyer later month abc news announced monday return diane sawyer recently mourned loss husband return abc interview rumors started swirling around jenner gender identity last year emerged beverly hills clinic adam apple shaved behavior past year also fueled speculation began embracing increasingly female appearance including growing hair shaving legs painting nails reportedly undergoing hormone therapy also split wife two decades kris jenner two daughters kyle kendall filed divorce september citing irreconcilable differences reports also emerged past week received breast enhancement bruce silicone breast implants put weeks ago source told radaronline went smaller implant want look ridiculous sunday seen walking car malibu hid body beneath bulky sweatshirt jenner pictured walking back car malibu weekend hiding beneath large sweatshirt sunday days reports undergone breast enhancement hiding also apparently painted nails red seen walking sunday according radar jenner wants surgeries completed time make screen debut woman fall season dancing stars jenner also rumored filming spin series transition although reps refused confirm claims jenner remained silent reported transition relatives including step daughter kim kardashian spoken journey guess kind let everyone curious feel like journey talk kim recently told entertainment tonight say think bruce tell story way think everyone goes things life think story bruce going think share whenever time right jenner gold decathlon olympics also made headlines earlier year involvement deadly car crash malibu deadly february jenner vehicle pulling trailer atv rear ended woman car pushed lane oncoming hummer died scene side bruce pictured ex wife kris jenner four step children rob kim kourtney khloe received support family kris filed divorce last year cadillac escalade pulling trailer road vehicle plowed back lexus pushed path oncoming hummer february lexus carrying year old kim howe died chest trauma scene police sources say jenner unlikely prosecuted drinking speeding texting time fatal crash tell interview also one sawyer first forays back tv news following death husband acclaimed director mike nichols following heart attack last november last september left anchor chair abc world news announced planned focus specials february presented nation women behind bars went prisons across country speak female inmates \n",
      "Original summary: tell all interview with the reality tv star will air on friday april it comes amid continuing speculation about his transition to woman and following his involvement in deadly car crash in february the interview will also be one of diane first appearances on television following the sudden death of her husband last year \n"
     ]
    },
    {
     "name": "stdout",
     "output_type": "stream",
     "text": [
      "Predicted summary:  new york tv show is in one of the family in new york series show she will be to have the youngest time she has also been in the last and the family of the stars she says\n",
      "\n",
      "\n",
      "Article: moment crew firefighters struggled haul giant pig garden swimming pool prize porker known fallen pool upmarket neighbourhood ringwood hampshire owners taking walk around garden animal plunged water unable get team dorset fire rescue struggled haul huge black pig swimming pool water prize porker known fallen water unable get two fire crews specialist animal rescue team use slide boards haul huge black pig small pool spokesman dorset fire rescue service said pm yesterday service received call pig stuck swimming pool one crew firefighters specialist animal rescue unit poole mobilised incident attendance crew secured pig requested attendance another appliance mobilised ringwood colleagues hampshire fire rescue service firefighters also called horse fallen swimming pool west sussex exhausted animal winched using terrain crane appeared worse wear tumble crew rescued pig swimming pool using specialist animal rescue slide boards lines haul pig swimming pool animal needed rescuing taking unexpected swim crews west sussex called swimming pool time horse fallen wet exhausted animal put opposition firefighters arrived hoist small garden pool two hour rescue operation ended wayward horse fitted straps belly lifted air terrain crane swung around deposited back dry land fire brigade spokesman said appeared none worse impromptu swim stepping edge domestic pool \n",
      "Original summary: giant pig fell into the swimming pool at his home in hampshire it took the efforts of team of firefighters to him out of the water horse also had to be rescued from swimming pool in sussex \n",
      "Predicted summary:  two bull captured on the ocean in the river on thursday the tourists were taken to the hospital by the dog and the year old man was in the river\n",
      "\n",
      "\n",
      "Article: amount time people spend listening bbc radio dropped lowest level ever corporation boss admitted figures show millions still tune listen much shorter bursts average listener spent ten hours week tuning bbc radio last three months according official figures length time people spend listening bbc radio dropped lowest level ever figures show per cent decade earlier listeners clocked average hours week minutes bbc trust february meeting published yesterday revealed director general tony hall highlighted fall noted time spent listening bbc radio dropped lowest ever level documents said sources blamed downward trend people leading faster paced lives past change habits amongst young people lord tony hall bbc director general highlighted decline bbc trust according minutes february meeting many people used listen radio daily habit turn online streaming services spotify music fix problem likely grow apple develops long rumoured streaming service bbc spokesman said number people listening bbc radio stations audience appreciation levels high ever time spent listening inevitably affected digital competition people tune new digital ways ways reflected traditional listening figures quoted like watching videos radio shows listening podcasts bbc radio still reaching per cent population week according last set figures available organisation measures radio audiences although figure feels relatively healthy today standards none less fallen last decade final three months per cent people britain listened bbc network radio every week lord hall also used bbc trust meeting note strong performance bbc radio digital music station corporation one point planning scrap reported recent figures showed music become first digital station reach two million listeners minutes said earlier month matthew bbc chief technology officer said corporation would adopt new digital first strategy help target new generation users said organisation needed learn lessons want compete organisations born digital age \n",
      "Original summary: figures show that while millions still tune in they listen for shorter bursts average spent ten hours week in last three months of this was down on decade earlier when people tuned in for hours the bbc trust has cleared the way for firms to buy their way into lifestyle programmes on the world news channel in product experiment for example publishers could pay to have their books reviewed on talking books the bbc trust will review the scheme in year \n",
      "Predicted summary:  new poll reveals that is the best for the best time people in the uk are now on the top list of all the best ever has registered its place in the past five years and is in list\n",
      "\n",
      "\n",
      "Article: would like full house reunion spinoff got dude co star john stamos announced monday night jimmy kimmel live netflix ordered reunion special followed spinoff series called fuller house show feature candace cameron bure played eldest daughter tanner original series aired recently widowed mother three boys sort role reversal turn house stamos told kimmel jodie played stephanie tanner original series andrea barber portrayed best friend return new series netflix said stamos produce guest star talks co mary kate ashley olsen dave lori loughlin ongoing netflix said show available next year netflix said big fans original full house thrilled able introduce fuller house new narrative existing fans worldwide grew original well new generation global viewers grown syndication netflix vice president original content cindy holland said statement show starts tanner named tanner fuller pregnant recently widowed living san francisco younger sister stephanie aspiring musician lifelong best friend fellow single mom move help care two boys new baby monday barber tweeted cameron bure ask whether ready resume onscreen friendship never stopped cameron bure tweeted back fans moon news \n",
      "Original summary: show will return with one hour special followed by star john says he announced the show monday night on jimmy kimmel live \n",
      "Predicted summary:  the new movie will feature the first episode in the new the show the series is not the first time in the history the will have the first time the producer will still be an first player since the movie\n",
      "\n",
      "\n",
      "Article: potted final black extinguished dream evans become first women player play hallowed sheffield crucible theatre world snooker championship every respect however year old evans single mum dudley winner thursday night advanced cause women sport end gave doherty fright life enthralling match bettered year qualifying tournament snooker governing body criticised quarters allowing evans wild card compete alongside male players right play sport blue chip event april something female achieved evans shakes hands ken doherty following victory ponds forge evans plays shot world championship qualifying match doherty doherty world championship title back took first frame evans doherty sorts trouble former champion closed game critics bookies made doherty ridiculously short priced favourite made look foolish evans illustrious opponent ropes finally bowing gracious doherty admitted afterwards played skin good match play snooker tough way lot pressure match different kind pressure ever experienced usually feel sympathy opponents felt sorry end played better lost know final frame gone would million one win evans cheered eight year old daughter lauren ponds forge sports centre sheffield admitted exhausted match unfamiliar intensity time ladies champion evans led twice opening session doherty went front time ladies world champion collected prize money winning title completely different environment player beat stephen hendry crowned best player world struggle experience ken dig said ken little runs needed could tell pressure balls wobbling first frame could take advantage end play better reason cannot return beat ken even players women game shoulders hope get help allowed play big tournaments give experience next week playing ladies club lovely club get wrong think many ladies could give ken game think would would taken presence television crews snooker star ronnie sullivan underlined big story evans participation evans eyes move enthralling game doherty sheffield lost first frame convincingly nerves show reeled three frames row led doherty went front pegged back irishman ranked world started look years sat every opportunity evans often stood played confidence play right handed left handed sullivan sometimes key frame sixteenth lasted minutes evans rattling first points doherty next took doherty lead evans came roaring back next frame needed snooker avoid match going final frame got doherty ranked world showed experience close contest two qualifying rounds makes crucible doubtful face tougher opponent let play competitions added evans certainly use match become leading ambassador women sport purple silver waistcoats drew admiring glances swimmers turned leisure centre normal walked reception basketball hall snooker tables set next time know exactly \n",
      "Original summary: evans faced ken in world championship qualifier won the world championship in evans lost the first frame against but the native fought back to lead ken however managed to close out an contest \n"
     ]
    },
    {
     "name": "stdout",
     "output_type": "stream",
     "text": [
      "Predicted summary:  england beat wales at the rugby stadium on saturday night one of three players who were beaten by their side on their day in south africa they have now won the gold in the league series\n",
      "\n",
      "\n",
      "Article: sentences three nine years jail jailed ahmed hassan sentenced nine years imprisonment mohamed saleh imprisoned four years nine months girls aged targeted gang parties organised ahmed hassan known one child described parties place girls would go boys would choose targets victims described court emotionally immature abused sentencing hassan others court packed friends relatives defendants victims yesterday judge zoe smith said put charity events raise money football club raised profile among young people banbury saw celebrity friends helped put events became sexually promiscuous group girlfriends girls young vulnerable lacking maturity judge rejected argument put forward defence accused girls coming forward better victim slag behind bars jailed four years said saleh sentenced four years detention young offenders institute one victims told oxford mail used go missing would swear mum realise really nasty men put family really clever started hanging around felt important friends people left talk big part life scared felt like friends making new memories part calling people defence case stops girls coming forward would say girls think future never wanted never wanted sex thought friends thames valley police launched operation reportage receiving tip men activities eventually tracked numerous teenager girls molested detective inspector steve banbury force cid said result would possible without bravery victims would like thank coming forward giving evidence case trials without testimony would today result young people safeguarded men time reflect upon actions prison convicted sentenced six years imprisonment sentenced three years detention young offenders institute found guilty rape justice judge rejected argument put forward defence oxford crown court accused girls coming forward better victim slag jailed friday afternoon oxford crown court ahmed hassan banbury found guilty counts sexual activity child one count assault penetration sentenced nine years imprisonment mohamed saleh banbury found guilty two counts sexual activity child sentenced four years nine months imprisonment said saleh banbury found guilty one count sexual activity child sentenced four years detention young offenders institute banbury found guilty one count sexual activity child two counts causing inciting child engage sexual activity one count rape sentenced six years imprisonment banbury found guilty two counts sexual activity child two counts causing inciting child engage sexual activity one count sexual assault sentenced four years imprisonment also pleaded guilty possession identity documents intent offence related found possession control false south african passport uk residence permit sentenced one year imprisonment run consecutively banbury found guilty one count rape sentenced three years detention young offenders institute \n",
      "Original summary: gang have been jailed for total of years for sexually abusing children offences happened in cars woods or at the defendants homes in lured victims to parties organised on social media and then abused them girls aged between and were exploited by the gang from to \n",
      "Predicted summary:  the man was sentenced to the face of three year period in his early year\n",
      "\n",
      "\n"
     ]
    }
   ],
   "source": [
    "#bidirectional\n",
    "for i in range(0,10):\n",
    "    x_val_seq   =   x_tokenizer.texts_to_sequences([x_val[i]])\n",
    "    x_val_i   =   pad_sequences(x_val_seq, maxlen=max_text_len, padding='post')\n",
    "    \n",
    "    y_val_seq   =   y_tokenizer.texts_to_sequences([y_val[i]])\n",
    "    y_val_i   =   pad_sequences(y_val_seq, maxlen=max_text_len, padding='post')\n",
    "\n",
    "    print(\"Article:\",seq2text(x_val_i[0]))\n",
    "    print(\"Original summary:\",seq2summary(y_val_i[0]))\n",
    "    print(\"Predicted summary:\",decode_sequence(x_val_i[0].reshape(1,max_text_len)))\n",
    "    print(\"\\n\")"
   ]
  },
  {
   "cell_type": "code",
   "execution_count": 130,
   "id": "41b3a771",
   "metadata": {},
   "outputs": [
    {
     "name": "stdout",
     "output_type": "stream",
     "text": [
      "(100,)\n"
     ]
    }
   ],
   "source": [
    "print(x_val.shape)"
   ]
  },
  {
   "cell_type": "code",
   "execution_count": null,
   "id": "eada4f82",
   "metadata": {},
   "outputs": [],
   "source": []
  },
  {
   "cell_type": "code",
   "execution_count": null,
   "id": "668f1274",
   "metadata": {},
   "outputs": [],
   "source": []
  }
 ],
 "metadata": {
  "kernelspec": {
   "display_name": "Python [conda env:175]",
   "language": "python",
   "name": "conda-env-175-py"
  },
  "language_info": {
   "codemirror_mode": {
    "name": "ipython",
    "version": 3
   },
   "file_extension": ".py",
   "mimetype": "text/x-python",
   "name": "python",
   "nbconvert_exporter": "python",
   "pygments_lexer": "ipython3",
   "version": "3.8.12"
  }
 },
 "nbformat": 4,
 "nbformat_minor": 5
}
