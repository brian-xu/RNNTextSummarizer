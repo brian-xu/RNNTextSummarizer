{
 "cells": [
  {
   "cell_type": "code",
   "execution_count": 1,
   "id": "2f6b6a20",
   "metadata": {},
   "outputs": [],
   "source": [
    "import numpy as np\n",
    "import pandas as pd \n",
    "import re\n",
    "from bs4 import BeautifulSoup\n",
    "from tensorflow.keras.preprocessing.text import Tokenizer \n",
    "from tensorflow.keras.preprocessing.sequence import pad_sequences\n",
    "from nltk.corpus import stopwords\n",
    "from matplotlib import pyplot\n",
    "import warnings\n",
    "pd.set_option(\"display.max_colwidth\", 200)\n",
    "warnings.filterwarnings(\"ignore\")\n",
    "import pathlib"
   ]
  },
  {
   "cell_type": "code",
   "execution_count": 2,
   "id": "48150bc0",
   "metadata": {},
   "outputs": [
    {
     "name": "stdout",
     "output_type": "stream",
     "text": [
      "<class 'pandas.core.frame.DataFrame'>\n",
      "RangeIndex: 10000 entries, 0 to 9999\n",
      "Data columns (total 3 columns):\n",
      " #   Column      Non-Null Count  Dtype \n",
      "---  ------      --------------  ----- \n",
      " 0   id          10000 non-null  object\n",
      " 1   article     10000 non-null  object\n",
      " 2   highlights  10000 non-null  object\n",
      "dtypes: object(3)\n",
      "memory usage: 234.5+ KB\n"
     ]
    }
   ],
   "source": [
    "data=pd.read_csv(f\"{pathlib.Path().resolve()}\\\\input\\\\cnn_dailymail\\\\train.csv\", nrows=100000)\n",
    "data.info()"
   ]
  },
  {
   "cell_type": "code",
   "execution_count": 3,
   "id": "da56ff0a",
   "metadata": {},
   "outputs": [],
   "source": [
    "data.drop_duplicates(subset=['article'],inplace=True) #dropping duplicates\n",
    "data.dropna(axis=0,inplace=True) #dropping na"
   ]
  },
  {
   "cell_type": "code",
   "execution_count": 4,
   "id": "3f4e1343",
   "metadata": {},
   "outputs": [
    {
     "name": "stdout",
     "output_type": "stream",
     "text": [
      "<class 'pandas.core.frame.DataFrame'>\n",
      "Int64Index: 9997 entries, 0 to 9999\n",
      "Data columns (total 3 columns):\n",
      " #   Column      Non-Null Count  Dtype \n",
      "---  ------      --------------  ----- \n",
      " 0   id          9997 non-null   object\n",
      " 1   article     9997 non-null   object\n",
      " 2   highlights  9997 non-null   object\n",
      "dtypes: object(3)\n",
      "memory usage: 312.4+ KB\n"
     ]
    }
   ],
   "source": [
    "data.info()"
   ]
  },
  {
   "cell_type": "code",
   "execution_count": 5,
   "id": "c3165017",
   "metadata": {},
   "outputs": [],
   "source": [
    "contraction_mapping = {\"ain't\": \"is not\", \"aren't\": \"are not\",\"can't\": \"cannot\", \"'cause\": \"because\", \"could've\": \"could have\", \"couldn't\": \"could not\",\n",
    "                           \"didn't\": \"did not\",  \"doesn't\": \"does not\", \"don't\": \"do not\", \"hadn't\": \"had not\", \"hasn't\": \"has not\", \"haven't\": \"have not\",\n",
    "                           \"he'd\": \"he would\",\"he'll\": \"he will\", \"he's\": \"he is\", \"how'd\": \"how did\", \"how'd'y\": \"how do you\", \"how'll\": \"how will\", \"how's\": \"how is\",\n",
    "                           \"I'd\": \"I would\", \"I'd've\": \"I would have\", \"I'll\": \"I will\", \"I'll've\": \"I will have\",\"I'm\": \"I am\", \"I've\": \"I have\", \"i'd\": \"i would\",\n",
    "                           \"i'd've\": \"i would have\", \"i'll\": \"i will\",  \"i'll've\": \"i will have\",\"i'm\": \"i am\", \"i've\": \"i have\", \"isn't\": \"is not\", \"it'd\": \"it would\",\n",
    "                           \"it'd've\": \"it would have\", \"it'll\": \"it will\", \"it'll've\": \"it will have\",\"it's\": \"it is\", \"let's\": \"let us\", \"ma'am\": \"madam\",\n",
    "                           \"mayn't\": \"may not\", \"might've\": \"might have\",\"mightn't\": \"might not\",\"mightn't've\": \"might not have\", \"must've\": \"must have\",\n",
    "                           \"mustn't\": \"must not\", \"mustn't've\": \"must not have\", \"needn't\": \"need not\", \"needn't've\": \"need not have\",\"o'clock\": \"of the clock\",\n",
    "                           \"oughtn't\": \"ought not\", \"oughtn't've\": \"ought not have\", \"shan't\": \"shall not\", \"sha'n't\": \"shall not\", \"shan't've\": \"shall not have\",\n",
    "                           \"she'd\": \"she would\", \"she'd've\": \"she would have\", \"she'll\": \"she will\", \"she'll've\": \"she will have\", \"she's\": \"she is\",\n",
    "                           \"should've\": \"should have\", \"shouldn't\": \"should not\", \"shouldn't've\": \"should not have\", \"so've\": \"so have\",\"so's\": \"so as\",\n",
    "                           \"this's\": \"this is\",\"that'd\": \"that would\", \"that'd've\": \"that would have\", \"that's\": \"that is\", \"there'd\": \"there would\",\n",
    "                           \"there'd've\": \"there would have\", \"there's\": \"there is\", \"here's\": \"here is\",\"they'd\": \"they would\", \"they'd've\": \"they would have\",\n",
    "                           \"they'll\": \"they will\", \"they'll've\": \"they will have\", \"they're\": \"they are\", \"they've\": \"they have\", \"to've\": \"to have\",\n",
    "                           \"wasn't\": \"was not\", \"we'd\": \"we would\", \"we'd've\": \"we would have\", \"we'll\": \"we will\", \"we'll've\": \"we will have\", \"we're\": \"we are\",\n",
    "                           \"we've\": \"we have\", \"weren't\": \"were not\", \"what'll\": \"what will\", \"what'll've\": \"what will have\", \"what're\": \"what are\",\n",
    "                           \"what's\": \"what is\", \"what've\": \"what have\", \"when's\": \"when is\", \"when've\": \"when have\", \"where'd\": \"where did\", \"where's\": \"where is\",\n",
    "                           \"where've\": \"where have\", \"who'll\": \"who will\", \"who'll've\": \"who will have\", \"who's\": \"who is\", \"who've\": \"who have\",\n",
    "                           \"why's\": \"why is\", \"why've\": \"why have\", \"will've\": \"will have\", \"won't\": \"will not\", \"won't've\": \"will not have\",\n",
    "                           \"would've\": \"would have\", \"wouldn't\": \"would not\", \"wouldn't've\": \"would not have\", \"y'all\": \"you all\",\n",
    "                           \"y'all'd\": \"you all would\",\"y'all'd've\": \"you all would have\",\"y'all're\": \"you all are\",\"y'all've\": \"you all have\",\n",
    "                           \"you'd\": \"you would\", \"you'd've\": \"you would have\", \"you'll\": \"you will\", \"you'll've\": \"you will have\",\n",
    "                           \"you're\": \"you are\", \"you've\": \"you have\"}"
   ]
  },
  {
   "cell_type": "code",
   "execution_count": 6,
   "id": "1c2aa0f0",
   "metadata": {},
   "outputs": [],
   "source": [
    "stop_words = set(stopwords.words('english')) \n",
    "\n",
    "def text_cleaner(text,num):\n",
    "    newString = text.lower()\n",
    "    newString = BeautifulSoup(newString).text\n",
    "    newString = re.sub(r'\\([^)]*\\)', '', newString)\n",
    "    newString = re.sub('\"','', newString)\n",
    "    newString = ' '.join([contraction_mapping[t] if t in contraction_mapping else t for t in newString.split(\" \")])    \n",
    "    newString = re.sub(r\"'s\\b\",\"\",newString)\n",
    "    newString = re.sub(\"[^a-zA-Z]\", \" \", newString) \n",
    "    newString = re.sub('[m]{2,}', 'mm', newString)\n",
    "    if (num==0):\n",
    "        tokens = [w for w in newString.split() if not w in stop_words]\n",
    "    else:\n",
    "        tokens=newString.split()\n",
    "    long_words=[]\n",
    "    for i in tokens:\n",
    "        if len(i)>1: # removing short words\n",
    "            long_words.append(i)   \n",
    "    return (\" \".join(long_words)).strip()"
   ]
  },
  {
   "cell_type": "code",
   "execution_count": 7,
   "id": "f3419af2",
   "metadata": {},
   "outputs": [],
   "source": [
    "#call the function\n",
    "cleaned_text = []\n",
    "for t in data['article']:\n",
    "    cleaned_text.append(text_cleaner(t,0)) "
   ]
  },
  {
   "cell_type": "code",
   "execution_count": 8,
   "id": "702dae51",
   "metadata": {},
   "outputs": [
    {
     "data": {
      "text/plain": [
       "['associated press published est october updated est october bishop fargo catholic diocese north dakota exposed potentially hundreds church members fargo grand forks jamestown hepatitis virus late september early october state health department issued advisory exposure anyone attended five churches took communion bishop john folda fargo catholic diocese north dakota exposed potentially hundreds church members fargo grand forks jamestown hepatitis state immunization program manager molly howell says risk low officials feel important alert people possible exposure diocese announced monday bishop john folda taking time diagnosed hepatitis diocese says contracted infection contaminated food attending conference newly ordained bishops italy last month symptoms hepatitis include fever tiredness loss appetite nausea abdominal discomfort fargo catholic diocese north dakota bishop located',\n",
       " 'ralph mata internal affairs lieutenant miami dade police department working division investigates allegations wrongdoing cops outside office authorities allege year old longtime officer worked drug trafficking organization help plan murder plot get guns criminal complaint unsealed district court new jersey tuesday accuses mata also known milk man using role police officer help drug trafficking organization exchange money gifts including rolex watch one instance complaint alleges mata arranged pay two assassins kill rival drug dealers killers would pose cops pulling targets shooting according complaint ultimately decided move forward murder plot mata still received payment setting meetings federal prosecutors said statement complaint also alleges mata used police badge purchase weapons drug traffickers mata according complaint used contacts airport transport weapons carry luggage trips miami dominican republic court documents released investigators specify name drug trafficking organization mata allegedly conspired says organization importing narcotics places ecuador dominican republic hiding inside shipping containers containing pallets produce including bananas organization distributing narcotics new jersey elsewhere complaint says authorities arrested mata tuesday miami gardens florida immediately clear whether mata attorney police officials could immediately reached comment mata worked miami dade police department since including directing investigations miami gardens working lieutenant unit miami international airport according complaint since march working internal affairs division mata faces charges aiding abetting conspiracy distribute cocaine conspiring distribute cocaine engaging monetary transactions property derived specified unlawful activity scheduled appear federal court florida wednesday convicted mata could face life prison cnn suzanne presto contributed report',\n",
       " 'drunk driver killed young woman head crash checking mobile phone jailed six years craig eccleston todd driving home night pub received text message reading replying veered across road driving round bend smashed rachel titley car coming way craig eccleston todd using mobile phone crashed head car driven rachel titley died later injuries head crash took place october mr eccleston todd car barely recognisable police said eccleston todd drunk least three four pints beer getting behind wheel found guilty causing death dangerous driving portsmouth crown court yesterday miss titley year old solicitor clerk cowes isle wight also spent evening friends pub drunk alcohol police said driving responsibly nothing could done avoid collision added lindsay pennell prosecuting said craig eccleston todd driving resulted tragic death young woman rachel titley death could avoided mr eccleston todd took decision pick mobile phone whilst driving either reading replying text message distracted failed negotiate left hand bend crossing central white line path miss titley oncoming car miss titley pulled wreckage daihatsu cuore died later injuries hospital miss titley bright future ahead also returning home spent enjoyable evening friends driving responsibly arranged contact friends got home confirm arrived safely friends sadly never heard parted company miss titley death circumstances reiterates danger using hand held mobile phone whilst driving police unable take breath blood tests eccleston todd immediately tests several hours accident marginally drink drive limit judge agreed police would limit time red citroen hit miss titley blue daihatsu cuore road near yarmouth isle wight october phone records showed also texting around time crash pc mark furse hampshire constabulary serious collision investigation unit said thoughts rachel family time friends pub shalfleet evening alcohol investigation showed nothing could done avoid collision sadly cost life mr eccleston todd left work yarmouth met friends pub drank least three four pints lager long left pub return home collision occurred around pm able take breath blood tests immediately although blood taken several hours collision showed marginally limit maintain would limit time collision summing today judge agreed analysis phone records showed texting phone around time collision highly likely would also contributed dangerous driving loss control eccleston todd found guilty causing death dangerous driving following trial portsmouth crown court added mr eccleston todd spend six years behind bars rachel family lost forever hope make people think twice drinking alcohol getting behind wheel using phone road dangers drink driving driving whilst using mobile phone obvious continue risk spending substantial time prison case highlights tragic consequences committing offences mr eccleston todd spend six years behind bars rachel family lost ever hope make people think twice drinking alcohol getting behind wheel using phone road case highlights tragic consequences committing offences eccleston todd newport isle wight also disqualified driving eight years complete extended test',\n",
       " 'breezy sweep pen president vladimir putin wrote new chapter crimea turbulent history committing region future returned russian domain sixty years prior ukraine breakaway peninsula signed away swiftly soviet leader nikita khrushchev dealing blatant land grab eastern flank anywhere near quick easy europe member union unlike crimea rushed referendum everyone say initially slapping visa restrictions asset freezes limited number little known politicians military men europe facing urgent calls widen scope measures target russian business community particular logic run russia essentially two sides coin alexei navalny one time moscow mayoral contender house arrest opposing current regime called europe leaders ban everyone vladimir putin personal banker chelsea football club owner roman abramovich keeping money loved ones abroad asset freezes visa restrictions especially palatable options eu rolled discretionary basis without requiring cumbersome legal procedures recourse fact russia cancels visas people like time look hermitage capital founder bill browder lost right entry moscow based money dare go back russia also banned adoption orphans americans retaliation us implementation anti corruption law named sergei magnitsky browder lawyer died year moscow detention center apparently beaten death yet playing money talks card europe must ready consequences action money also walks eu leaders must ready accept sanctions two way street hurt sides targeting russia peripatetic business community would one way sapping tenuous support president putin strategy might also turn silver lining awarding eu countries chance finally deal unpleasant sides patronage including money laundering corruption inflated prize assets like london property picasso paintings years europe hold fire though trade two decades post soviet rapprochement almost billion worth commerce lot put stake true trade war would hurt russia far harder would eu least former gdp comes exports bloc europe hefty reliance russian gas would hard time keeping factories going citizens warm without power east putin flexes political muscle open trade channels keep dialogue going giving sides chance change subject talk less tensely one afford cut lifeline especially europe economy rebound russia one wane',\n",
       " 'fleetwood team still record sky bet league one win scunthorpe sent graham alexander men top table cod army playing third tier first time history six promotions nine years remarkable ascent shows sign slowing jamie proctor gareth evans scoring goals glanford park fleetwood one five teams two two four clubs peterborough bristol city chesterfield crawley hit first stumbling blocks posh defeated sheffield united lost opening contests jose baxter opener gave blades first half lead although later cancelled shaun brisley goal ben davies snatched winner six minutes time lead jose baxter celebrates opening scoring sheffield united battle sheffield united michael doyle challenges peterborough kyle vassell keenly contested clash bristol city beat nigel clough men opening day held goalless draw last season play finalists leyton orient chesterfield league two champions beaten mk dons play manchester united capital one cup seven days time arsenal loanee benik afobe scored goal game break meanwhile crawley lost unbeaten status bradford maintained thanks win bantams james hanson became first player score crawley season minutes joe walsh equalised five minutes later heads bristol city korey smith leyton orient lloyd james go header strikes billy knott mason bennett sealed impressive away win phil parkinson men bradford second behind fleetwood doncaster stoppage time equaliser meant preston joe garner signed new contract earlier tuesday held draw slipped table chris humphrey looked secured points lilywhites nathan tyson struck last gasp leveller stand striker matt done scored hat trick rochdale evening high scoring affair crewe hammered marcus haber marked full railwaymen debut brace done treble goals ian henderson peter vincenti helped keith hill men big away victory plenty goals coventry barnsley draw four goals coming first half josh mcquoid jordan clarke twice gave sky blues lead tykes earned point thanks strikes conor hourihane leroy lita notts county recorded home win colchester ronan murray liam noble target freddie sears replied colchester james wilson second half equaliser earned oldham points port vale tom pope opener yeovil claimed away victory walsall kevin dawson striking late winner tom bradshaw equalised veteran james hayter gave glovers lead finally swindon held gillingham draw thanks stephen bywater last minute goal danny kedwell kortney hause twice gave gills lead andy williams pulled swindon level bywater dropped raphael branco cross net']"
      ]
     },
     "execution_count": 8,
     "metadata": {},
     "output_type": "execute_result"
    }
   ],
   "source": [
    "cleaned_text[:5]  "
   ]
  },
  {
   "cell_type": "code",
   "execution_count": 9,
   "id": "64d5039a",
   "metadata": {},
   "outputs": [],
   "source": [
    "#call the function\n",
    "cleaned_summary = []\n",
    "for t in data['highlights']:\n",
    "    cleaned_summary.append(text_cleaner(t,1))"
   ]
  },
  {
   "cell_type": "code",
   "execution_count": 10,
   "id": "f2b50cdb",
   "metadata": {},
   "outputs": [
    {
     "data": {
      "text/plain": [
       "['bishop john folda of north dakota is taking time off after being diagnosed he contracted the infection through contaminated food in italy church members in fargo grand forks and jamestown could have been exposed',\n",
       " 'criminal complaint cop used his role to help cocaine traffickers ralph mata an internal affairs lieutenant allegedly helped group get guns he also arranged to pay two assassins in murder plot complaint alleges',\n",
       " 'craig eccleston todd had drunk at least three pints before driving car was using phone when he veered across road in yarmouth isle of wight crashed head on into year old rachel titley car who died in hospital police say he would have been over legal drink drive limit at time of crash he was found guilty at portsmouth crown court of causing death by dangerous driving',\n",
       " 'nina dos santos says europe must be ready to accept sanctions will hurt both sides targeting russia business community would be one way of sapping their support for president putin she says but she says europe would have hard time keeping its factories going without power from the east',\n",
       " 'fleetwood top of league one after win at scunthorpe peterborough bristol city chesterfield and crawley all drop first points of the season stand in striker matt done scores hat trick as rochdale thrash crewe wins for notts county and yeovil coventry bradford and oldham port vale both end in draws late stephen bywater own goal denies gillingham three points against millwall',\n",
       " 'prime minister and his family are enjoying an easter break in lanzarote sported the same beige loafers as he wore in portugal last year pm sat and had drink at beach side cafe on the spanish island',\n",
       " 'nba star calls for black and hispanic communities to get tested former lakers player dedicated life to raising awareness about disease',\n",
       " 'london midland service had been pulling into telford station in shropshire passenger chris downes was recording on his mobile at the time announcer can clearly be heard saying telford central please be aware of pickpockets and gipsies london midland said it is now launching an investigation into the incident',\n",
       " 'tony pulis believes saido berahino should look up to darren fletcher pulis insists berahino has been listened to the wrong advice berahino said he wants to move on to bigger things earlier in the week read berahino available for after liverpool target angers club click here for all the latest west brom news',\n",
       " 'black box data from flight could be analyzed at laboratory in australia even if the flight data recorder is damaged information is retrievable about parameters are decoded like altitude engine performance and cabin pressure the data is used to create visual representation helping the public understand an accident']"
      ]
     },
     "execution_count": 10,
     "metadata": {},
     "output_type": "execute_result"
    }
   ],
   "source": [
    "cleaned_summary[:10]"
   ]
  },
  {
   "cell_type": "code",
   "execution_count": 11,
   "id": "91f184cc",
   "metadata": {},
   "outputs": [],
   "source": [
    "data['cleaned_text']=cleaned_text\n",
    "data['cleaned_summary']=cleaned_summary"
   ]
  },
  {
   "cell_type": "code",
   "execution_count": 12,
   "id": "19769e9d",
   "metadata": {},
   "outputs": [],
   "source": [
    "#drop empty rows\n",
    "data.replace('', np.nan, inplace=True)\n",
    "data.dropna(axis=0,inplace=True)"
   ]
  },
  {
   "cell_type": "code",
   "execution_count": 13,
   "id": "02cdf4e7",
   "metadata": {},
   "outputs": [
    {
     "name": "stdout",
     "output_type": "stream",
     "text": [
      "Mean of Article Length 374.88456536961087\n",
      "Mean of Summary Length 46.14494348304491\n"
     ]
    },
    {
     "data": {
      "image/png": "[encoded data removed]",
      "text/plain": [
       "<Figure size 432x288 with 2 Axes>"
      ]
     },
     "metadata": {
      "needs_background": "light"
     },
     "output_type": "display_data"
    }
   ],
   "source": [
    "import matplotlib.pyplot as plt\n",
    "\n",
    "text_word_count = []\n",
    "summary_word_count = []\n",
    "\n",
    "# populate the lists with sentence lengths\n",
    "for i in data['cleaned_text']:\n",
    "      text_word_count.append(len(i.split()))\n",
    "\n",
    "for i in data['cleaned_summary']:\n",
    "      summary_word_count.append(len(i.split()))\n",
    "\n",
    "length_df = pd.DataFrame({'text':text_word_count, 'summary':summary_word_count})\n",
    "print('Mean of Article Length',sum(text_word_count)/len(text_word_count))\n",
    "print('Mean of Summary Length',sum(summary_word_count)/len(summary_word_count))\n",
    "length_df.hist(bins = 30)\n",
    "plt.show()"
   ]
  },
  {
   "cell_type": "code",
   "execution_count": 14,
   "id": "8f534a15",
   "metadata": {},
   "outputs": [],
   "source": [
    "max_text_len=375\n",
    "max_summary_len=46"
   ]
  },
  {
   "cell_type": "code",
   "execution_count": 15,
   "id": "d3d33622",
   "metadata": {},
   "outputs": [],
   "source": [
    "cleaned_text =np.array(data['cleaned_text'])\n",
    "cleaned_summary=np.array(data['cleaned_summary'])\n",
    "\n",
    "short_text=[]\n",
    "short_summary=[]\n",
    "\n",
    "for i in range(len(cleaned_text)):\n",
    "    if(len(cleaned_summary[i].split())<=max_summary_len and len(cleaned_text[i].split())<=max_text_len):\n",
    "        short_text.append(cleaned_text[i])\n",
    "        short_summary.append(cleaned_summary[i])\n",
    "        \n",
    "df=pd.DataFrame({'text':short_text,'summary':short_summary})"
   ]
  },
  {
   "cell_type": "code",
   "execution_count": 16,
   "id": "a3b97aad",
   "metadata": {},
   "outputs": [],
   "source": [
    "#making sure tokens dont appear in the summaries\n",
    "for summary in df['summary']:\n",
    "    if 'sostok' in summary:\n",
    "        print(\"ERROR\")\n",
    "    if 'eostok' in summary:\n",
    "        print(\"ERROR\")"
   ]
  },
  {
   "cell_type": "code",
   "execution_count": 17,
   "id": "0e986c1e",
   "metadata": {},
   "outputs": [],
   "source": [
    "df['summary'] = df['summary'].apply(lambda x : 'sostok '+ x + ' eostok')"
   ]
  },
  {
   "cell_type": "code",
   "execution_count": 18,
   "id": "bba11efb",
   "metadata": {},
   "outputs": [],
   "source": [
    "from sklearn.model_selection import train_test_split\n",
    "x_tr,x_val,y_tr,y_val=train_test_split(np.array(df['text']),np.array(df['summary']),test_size=0.1,random_state=0,shuffle=True) "
   ]
  },
  {
   "cell_type": "code",
   "execution_count": 19,
   "id": "6091d5fa",
   "metadata": {},
   "outputs": [],
   "source": [
    "from tensorflow.keras.preprocessing.text import Tokenizer \n",
    "from tensorflow.keras.preprocessing.sequence import pad_sequences\n",
    "\n",
    "#prepare a tokenizer for reviews on training data\n",
    "x_tokenizer = Tokenizer() \n",
    "x_tokenizer.fit_on_texts(list(x_tr))"
   ]
  },
  {
   "cell_type": "code",
   "execution_count": 20,
   "id": "03c581c2",
   "metadata": {},
   "outputs": [
    {
     "name": "stdout",
     "output_type": "stream",
     "text": [
      "% of rare words in vocabulary: 57.30270906949352\n",
      "Total Coverage of rare words: 4.89543038499754\n"
     ]
    }
   ],
   "source": [
    "thresh=4\n",
    "\n",
    "cnt=0\n",
    "tot_cnt=0\n",
    "freq=0\n",
    "tot_freq=0\n",
    "\n",
    "for key,value in x_tokenizer.word_counts.items():\n",
    "    tot_cnt=tot_cnt+1\n",
    "    tot_freq=tot_freq+value\n",
    "    if(value<thresh):\n",
    "        cnt=cnt+1\n",
    "        freq=freq+value\n",
    "    \n",
    "print(\"% of rare words in vocabulary:\",(cnt/tot_cnt)*100)\n",
    "print(\"Total Coverage of rare words:\",(freq/tot_freq)*100)"
   ]
  },
  {
   "cell_type": "code",
   "execution_count": 21,
   "id": "166ce74b",
   "metadata": {},
   "outputs": [],
   "source": [
    "#prepare a tokenizer for articles on training data\n",
    "x_tokenizer = Tokenizer(num_words=tot_cnt-cnt) \n",
    "x_tokenizer.fit_on_texts(list(x_tr))\n",
    "\n",
    "#convert text sequences into integer sequences\n",
    "x_tr_seq    =   x_tokenizer.texts_to_sequences(x_tr) \n",
    "x_val_seq   =   x_tokenizer.texts_to_sequences(x_val)\n",
    "\n",
    "#padding zero upto maximum length\n",
    "x_tr    =   pad_sequences(x_tr_seq,  maxlen=max_text_len, padding='post')\n",
    "x_val   =   pad_sequences(x_val_seq, maxlen=max_text_len, padding='post')\n",
    "\n",
    "#size of vocabulary ( +1 for padding token)\n",
    "x_voc   =  x_tokenizer.num_words + 1"
   ]
  },
  {
   "cell_type": "code",
   "execution_count": 22,
   "id": "5a071647",
   "metadata": {},
   "outputs": [
    {
     "data": {
      "text/plain": [
       "19576"
      ]
     },
     "execution_count": 22,
     "metadata": {},
     "output_type": "execute_result"
    }
   ],
   "source": [
    "x_voc"
   ]
  },
  {
   "cell_type": "code",
   "execution_count": 23,
   "id": "321b0e49",
   "metadata": {},
   "outputs": [],
   "source": [
    "#prepare a tokenizer for headlines on training data\n",
    "y_tokenizer = Tokenizer()   \n",
    "y_tokenizer.fit_on_texts(list(y_tr))"
   ]
  },
  {
   "cell_type": "code",
   "execution_count": 24,
   "id": "b7f6b481",
   "metadata": {},
   "outputs": [
    {
     "name": "stdout",
     "output_type": "stream",
     "text": [
      "% of rare words in vocabulary: 82.36204535984285\n",
      "Total Coverage of rare words: 19.365476094493268\n"
     ]
    }
   ],
   "source": [
    "thresh=6\n",
    "\n",
    "cnt=0\n",
    "tot_cnt=0\n",
    "freq=0\n",
    "tot_freq=0\n",
    "\n",
    "for key,value in y_tokenizer.word_counts.items():\n",
    "    tot_cnt=tot_cnt+1\n",
    "    tot_freq=tot_freq+value\n",
    "    if(value<thresh):\n",
    "        cnt=cnt+1\n",
    "        freq=freq+value\n",
    "    \n",
    "print(\"% of rare words in vocabulary:\",(cnt/tot_cnt)*100)\n",
    "print(\"Total Coverage of rare words:\",(freq/tot_freq)*100)"
   ]
  },
  {
   "cell_type": "code",
   "execution_count": 25,
   "id": "bda21891",
   "metadata": {},
   "outputs": [],
   "source": [
    "#prepare a tokenizer for reviews on training data\n",
    "y_tokenizer = Tokenizer(num_words=tot_cnt-cnt) \n",
    "y_tokenizer.fit_on_texts(list(y_tr))\n",
    "\n",
    "#convert text sequences into integer sequences\n",
    "y_tr_seq    =   y_tokenizer.texts_to_sequences(y_tr) \n",
    "y_val_seq   =   y_tokenizer.texts_to_sequences(y_val) \n",
    "\n",
    "#padding zero upto maximum length\n",
    "y_tr    =   pad_sequences(y_tr_seq, maxlen=max_summary_len, padding='post')\n",
    "y_val   =   pad_sequences(y_val_seq, maxlen=max_summary_len, padding='post')\n",
    "\n",
    "#size of vocabulary\n",
    "y_voc  =   y_tokenizer.num_words +1"
   ]
  },
  {
   "cell_type": "code",
   "execution_count": 26,
   "id": "76d34fbc",
   "metadata": {},
   "outputs": [
    {
     "data": {
      "text/plain": [
       "2964"
      ]
     },
     "execution_count": 26,
     "metadata": {},
     "output_type": "execute_result"
    }
   ],
   "source": [
    "y_voc"
   ]
  },
  {
   "cell_type": "code",
   "execution_count": 27,
   "id": "4126490c",
   "metadata": {},
   "outputs": [
    {
     "data": {
      "text/plain": [
       "(3438, 3438)"
      ]
     },
     "execution_count": 27,
     "metadata": {},
     "output_type": "execute_result"
    }
   ],
   "source": [
    "y_tokenizer.word_counts['sostok'], len(y_tr)"
   ]
  },
  {
   "cell_type": "code",
   "execution_count": 28,
   "id": "3a01eb1c",
   "metadata": {},
   "outputs": [],
   "source": [
    "#delete rows that only have start and end tokens\n",
    "ind=[]\n",
    "for i in range(len(y_tr)):\n",
    "    cnt=0\n",
    "    for j in y_tr[i]:\n",
    "        if j!=0:\n",
    "            cnt=cnt+1\n",
    "    if(cnt==2):\n",
    "        ind.append(i)\n",
    "\n",
    "y_tr=np.delete(y_tr, ind, axis=0)\n",
    "x_tr=np.delete(x_tr, ind, axis=0)"
   ]
  },
  {
   "cell_type": "code",
   "execution_count": 30,
   "id": "6922fb1f",
   "metadata": {},
   "outputs": [],
   "source": [
    "ind=[]\n",
    "for i in range(len(y_val)):\n",
    "    cnt=0\n",
    "    for j in y_val[i]:\n",
    "        if j!=0:\n",
    "            cnt=cnt+1\n",
    "    if(cnt==2):\n",
    "        ind.append(i)\n",
    "\n",
    "y_val=np.delete(y_val,ind, axis=0)\n",
    "x_val=np.delete(x_val,ind, axis=0)"
   ]
  },
  {
   "cell_type": "code",
   "execution_count": 40,
   "id": "0591d3f3",
   "metadata": {},
   "outputs": [
    {
     "name": "stdout",
     "output_type": "stream",
     "text": [
      "2.5.0\n",
      "[PhysicalDevice(name='/physical_device:CPU:0', device_type='CPU'), PhysicalDevice(name='/physical_device:GPU:0', device_type='GPU')]\n",
      "Num GPUs Available:  1\n"
     ]
    }
   ],
   "source": [
    "# from tensorflow.keras.layers import Input, LSTM, Embedding, Dense, Concatenate, TimeDistributed, Attention\n",
    "# from tensorflow.keras.models import Model\n",
    "# from tensorflow.keras.callbacks import EarlyStopping\n",
    "import tensorflow as tf\n",
    "from tensorflow.keras import backend as K \n",
    "from tensorflow.keras.layers import Dropout, GRU, Input, LSTM, Embedding, Dense, Concatenate, TimeDistributed, Bidirectional, Attention\n",
    "from tensorflow.keras.models import Model\n",
    "from tensorflow.keras.callbacks import EarlyStopping\n",
    "\n",
    "print(tf.__version__)\n",
    "print(tf.config.list_physical_devices())\n",
    "print(\"Num GPUs Available: \", len(tf.config.list_physical_devices('GPU')))"
   ]
  },
  {
   "cell_type": "code",
   "execution_count": 73,
   "id": "d1ef397b",
   "metadata": {},
   "outputs": [
    {
     "name": "stdout",
     "output_type": "stream",
     "text": [
      "Model: \"model\"\n",
      "__________________________________________________________________________________________________\n",
      "Layer (type)                    Output Shape         Param #     Connected to                     \n",
      "==================================================================================================\n",
      "input_1 (InputLayer)            [(None, None)]       0                                            \n",
      "__________________________________________________________________________________________________\n",
      "enc_embedding (Embedding)       (None, None, 100)    1957600     input_1[0][0]                    \n",
      "__________________________________________________________________________________________________\n",
      "encoder_lstm0 (Bidirectional)   (None, None, 600)    962400      enc_embedding[0][0]              \n",
      "__________________________________________________________________________________________________\n",
      "input_2 (InputLayer)            [(None, None)]       0                                            \n",
      "__________________________________________________________________________________________________\n",
      "encoder_lstm1 (Bidirectional)   [(None, 600), (None, 2162400     encoder_lstm0[0][0]              \n",
      "__________________________________________________________________________________________________\n",
      "dec_embedding (Embedding)       (None, None, 100)    296400      input_2[0][0]                    \n",
      "__________________________________________________________________________________________________\n",
      "concatenate (Concatenate)       (None, 600)          0           encoder_lstm1[0][1]              \n",
      "                                                                 encoder_lstm1[0][3]              \n",
      "__________________________________________________________________________________________________\n",
      "concatenate_1 (Concatenate)     (None, 600)          0           encoder_lstm1[0][2]              \n",
      "                                                                 encoder_lstm1[0][4]              \n",
      "__________________________________________________________________________________________________\n",
      "lstm_2 (LSTM)                   [(None, None, 600),  1682400     dec_embedding[0][0]              \n",
      "                                                                 concatenate[0][0]                \n",
      "                                                                 concatenate_1[0][0]              \n",
      "__________________________________________________________________________________________________\n",
      "attention_layer (Attention)     (None, None, 600)    0           lstm_2[0][0]                     \n",
      "                                                                 encoder_lstm1[0][0]              \n",
      "__________________________________________________________________________________________________\n",
      "concat_layer (Concatenate)      (None, None, 1200)   0           lstm_2[0][0]                     \n",
      "                                                                 attention_layer[0][0]            \n",
      "__________________________________________________________________________________________________\n",
      "time_distributed (TimeDistribut (None, None, 2964)   3559764     concat_layer[0][0]               \n",
      "==================================================================================================\n",
      "Total params: 10,620,964\n",
      "Trainable params: 10,620,964\n",
      "Non-trainable params: 0\n",
      "__________________________________________________________________________________________________\n"
     ]
    }
   ],
   "source": [
    "# Bidirectional LSTM\n",
    "K.clear_session()\n",
    "\n",
    "latent_dim = 300\n",
    "embedding_dim = 100\n",
    "\n",
    "# Encoder\n",
    "encoder_inputs = Input(shape=(None,))\n",
    "\n",
    "# embedding layer\n",
    "enc_emb =  Embedding(x_voc, embedding_dim, trainable=True, name = \"enc_embedding\")(encoder_inputs)\n",
    "\n",
    "\n",
    "encoder_lstm0 = Bidirectional(\n",
    "    LSTM(latent_dim, return_sequences=True),\n",
    "    name = 'encoder_lstm0')\n",
    "encoder_outputs0 = encoder_lstm0(enc_emb)\n",
    "\n",
    "encoder_lstm1 = Bidirectional(\n",
    "    LSTM(latent_dim, return_state=True),\n",
    "    name = 'encoder_lstm1')\n",
    "encoder_outputs, enc_forward_h, enc_forward_c, enc_backward_h, enc_backward_c  = encoder_lstm1(encoder_outputs0)\n",
    "\n",
    "\n",
    "state_h = Concatenate()([enc_forward_h, enc_backward_h])\n",
    "state_c = Concatenate()([enc_forward_c, enc_backward_c])\n",
    "encoder_states = [state_h, state_c]\n",
    "# Set up the decoder, using `encoder_states` as initial state.\n",
    "decoder_inputs = Input(shape=(None,))\n",
    "\n",
    "#embedding layer\n",
    "dec_emb_layer = Embedding(y_voc, embedding_dim,trainable=True, name = 'dec_embedding')\n",
    "dec_emb = dec_emb_layer(decoder_inputs)\n",
    "\n",
    "decoder_lstm = LSTM(latent_dim*2, return_sequences=True,return_state=True,dropout=0.2,recurrent_dropout=0)\n",
    "decoder_outputs1, decoder_fwd_state, decoder_back_state = decoder_lstm(dec_emb,initial_state=encoder_states)\n",
    "\n",
    "# Attention layer\n",
    "attn_layer = Attention(name='attention_layer')\n",
    "attn_out = attn_layer([decoder_outputs1, encoder_outputs])\n",
    "\n",
    "# Concat attention input and decoder LSTM output\n",
    "decoder_concat_input = Concatenate(axis=-1, name='concat_layer')([decoder_outputs1, attn_out])\n",
    "\n",
    "#dense layer\n",
    "decoder_dense = TimeDistributed(Dense(y_voc, activation='softmax'))\n",
    "decoder_outputs = decoder_dense(decoder_concat_input)\n",
    "\n",
    "model = Model([encoder_inputs, decoder_inputs], decoder_outputs)\n",
    "\n",
    "model.summary() \n",
    "\n",
    "model.compile(optimizer='rmsprop', loss='sparse_categorical_crossentropy')\n",
    "es = EarlyStopping(monitor='val_loss', mode='min', verbose=1,patience=2)"
   ]
  },
  {
   "cell_type": "code",
   "execution_count": 74,
   "id": "9938cf12",
   "metadata": {},
   "outputs": [
    {
     "name": "stdout",
     "output_type": "stream",
     "text": [
      "Epoch 1/20\n",
      "27/27 [==============================] - 21s 583ms/step - loss: 4.9766 - val_loss: 4.1823\n",
      "Epoch 2/20\n",
      "27/27 [==============================] - 15s 556ms/step - loss: 4.4251 - val_loss: 4.0927\n",
      "Epoch 3/20\n",
      "27/27 [==============================] - 15s 559ms/step - loss: 4.2207 - val_loss: 3.9388\n",
      "Epoch 4/20\n",
      "27/27 [==============================] - 15s 543ms/step - loss: 4.0988 - val_loss: 3.8735\n",
      "Epoch 5/20\n",
      "27/27 [==============================] - 15s 557ms/step - loss: 4.0534 - val_loss: 3.8913\n",
      "Epoch 6/20\n",
      "27/27 [==============================] - 15s 554ms/step - loss: 3.9957 - val_loss: 3.7819\n",
      "Epoch 7/20\n",
      "27/27 [==============================] - 15s 552ms/step - loss: 3.9272 - val_loss: 3.7605\n",
      "Epoch 8/20\n",
      "27/27 [==============================] - 15s 560ms/step - loss: 3.8781 - val_loss: 3.7526\n",
      "Epoch 9/20\n",
      "27/27 [==============================] - 15s 550ms/step - loss: 3.8387 - val_loss: 3.7721\n",
      "Epoch 10/20\n",
      "27/27 [==============================] - 15s 547ms/step - loss: 3.8140 - val_loss: 3.7259\n",
      "Epoch 11/20\n",
      "27/27 [==============================] - 15s 562ms/step - loss: 3.7545 - val_loss: 3.7150\n",
      "Epoch 12/20\n",
      "27/27 [==============================] - 15s 556ms/step - loss: 3.7015 - val_loss: 3.6918\n",
      "Epoch 13/20\n",
      "27/27 [==============================] - 15s 557ms/step - loss: 3.6512 - val_loss: 3.6856\n",
      "Epoch 14/20\n",
      "27/27 [==============================] - 15s 550ms/step - loss: 3.6002 - val_loss: 3.6729\n",
      "Epoch 15/20\n",
      "27/27 [==============================] - 15s 549ms/step - loss: 3.5482 - val_loss: 3.6951\n",
      "Epoch 16/20\n",
      "27/27 [==============================] - 15s 560ms/step - loss: 3.4927 - val_loss: 3.6696\n",
      "Epoch 17/20\n",
      "27/27 [==============================] - 15s 554ms/step - loss: 3.4407 - val_loss: 3.6733\n",
      "Epoch 18/20\n",
      "27/27 [==============================] - 15s 547ms/step - loss: 3.3913 - val_loss: 3.6675\n",
      "Epoch 19/20\n",
      "27/27 [==============================] - 15s 550ms/step - loss: 3.3383 - val_loss: 3.6720\n",
      "Epoch 20/20\n",
      "27/27 [==============================] - 15s 561ms/step - loss: 3.2839 - val_loss: 3.6744\n",
      "Epoch 00020: early stopping\n"
     ]
    }
   ],
   "source": [
    "history=model.fit([x_tr, y_tr[:,:-1]],\n",
    "                   y_tr.reshape(y_tr.shape[0], y_tr.shape[1], 1)[:,1:],\n",
    "                   epochs=20,\n",
    "                   callbacks=[es],\n",
    "                   batch_size=128,\n",
    "                   validation_data=([x_val,\n",
    "                                     y_val[:,:-1]],\n",
    "                                     y_val.reshape(y_val.shape[0], y_val.shape[1], 1)[:,1:]\n",
    "                                     )\n",
    "                   )"
   ]
  },
  {
   "cell_type": "code",
   "execution_count": 75,
   "id": "46a786fc",
   "metadata": {},
   "outputs": [
    {
     "data": {
      "image/png": "[encoded data removed]",
      "text/plain": [
       "<Figure size 432x288 with 1 Axes>"
      ]
     },
     "metadata": {
      "needs_background": "light"
     },
     "output_type": "display_data"
    }
   ],
   "source": [
    "from matplotlib import pyplot\n",
    "pyplot.plot(history.history['loss'], label='train')\n",
    "pyplot.plot(history.history['val_loss'], label='test')\n",
    "pyplot.legend()\n",
    "pyplot.show()"
   ]
  },
  {
   "cell_type": "code",
   "execution_count": 76,
   "id": "3f3ebffb",
   "metadata": {},
   "outputs": [],
   "source": [
    "reverse_target_word_index=y_tokenizer.index_word\n",
    "reverse_source_word_index=x_tokenizer.index_word\n",
    "target_word_index=y_tokenizer.word_index"
   ]
  },
  {
   "cell_type": "code",
   "execution_count": 77,
   "id": "baecbdf6",
   "metadata": {},
   "outputs": [],
   "source": [
    "#bidirectional\n",
    "# Encode the input sequence to get the feature vector\n",
    "encoder_model = Model(inputs=encoder_inputs, outputs=[encoder_outputs, state_h, state_c])\n",
    "\n",
    "# Decoder setup\n",
    "# Below tensors will hold the states of the previous time step\n",
    "decoder_state_input_h = Input(shape=(latent_dim*2,))\n",
    "decoder_state_input_c = Input(shape=(latent_dim*2,))\n",
    "decoder_hidden_state_input = Input(shape=(latent_dim*2))\n",
    "\n",
    "# Get the embeddings of the decoder sequence\n",
    "dec_emb2 = dec_emb_layer(decoder_inputs) \n",
    "# To predict the next word in the sequence, set the initial states to the states from the previous time step\n",
    "decoder_outputs2, state_h2, state_c2 = decoder_lstm(dec_emb2, initial_state=[decoder_state_input_h, decoder_state_input_c])\n",
    "\n",
    "#attention inference\n",
    "attn_out_inf = attn_layer([decoder_outputs2, decoder_hidden_state_input])\n",
    "\n",
    "decoder_inf_concat = Concatenate(axis=-1, name='concat')([decoder_outputs2, attn_out_inf])\n",
    "\n",
    "# A dense softmax layer to generate prob dist. over the target vocabulary\n",
    "decoder_outputs2 = decoder_dense(decoder_inf_concat)\n",
    "\n",
    "# Final decoder model\n",
    "decoder_model = Model(\n",
    "    [decoder_inputs] + [decoder_hidden_state_input, decoder_state_input_h, decoder_state_input_c],\n",
    "    [decoder_outputs2] + [state_h2, state_c2])"
   ]
  },
  {
   "cell_type": "code",
   "execution_count": 78,
   "id": "c7da3c16",
   "metadata": {},
   "outputs": [],
   "source": [
    "def softmax(x):\n",
    "    \"\"\"Compute softmax values for each sets of scores in x.\"\"\"\n",
    "    e_x = np.exp(x - np.max(x))\n",
    "    return e_x / e_x.sum(axis=0) \n",
    "\n",
    "def top_k_sampling(predictions, k):\n",
    "    top_k_probabilities, top_k_indices= tf.math.top_k(predictions, k=k, sorted=True)\n",
    "    top_k_indices = np.asarray(top_k_indices).astype(\"int32\")\n",
    "    top_k_redistributed_probability=softmax(np.log(top_k_probabilities))\n",
    "    top_k_redistributed_probability = np.asarray(top_k_redistributed_probability).astype(\"float32\")\n",
    "    sampled_token = np.random.choice(top_k_indices, p=top_k_redistributed_probability)\n",
    "#     print(reverse_target_word_index[sampled_token])\n",
    "#     top_k_tokens=[dictionary[i] for i in top_k_indices]\n",
    "#     plt.bar(top_k_tokens,top_k_redistributed_probability)\n",
    "#     plt.show()\n",
    "    return sampled_token"
   ]
  },
  {
   "cell_type": "code",
   "execution_count": 83,
   "id": "96a380cd",
   "metadata": {},
   "outputs": [],
   "source": [
    "def decode_sequence(input_seq):\n",
    "    # Encode the input as state vectors.\n",
    "    e_out, e_h, e_c = encoder_model.predict(input_seq)\n",
    "    \n",
    "    # Generate empty target sequence of length 1.\n",
    "    target_seq = np.zeros((1,1))\n",
    "    \n",
    "    # Populate the first word of target sequence with the start word.\n",
    "    target_seq[0, 0] = target_word_index['sostok']\n",
    "\n",
    "    stop_condition = False\n",
    "    decoded_sentence = ''\n",
    "    while not stop_condition:\n",
    "      \n",
    "        output_tokens, h, c = decoder_model.predict([target_seq] + [e_out, e_h, e_c])\n",
    "\n",
    "        # Sample a token\n",
    "        #sampled_token_index = np.argmax(output_tokens[0, -1, :])\n",
    "        sampled_token_index = top_k_sampling(output_tokens[0, -1, :],5)\n",
    "        #sampled_token_index = np.random.choice(len(output_tokens[0, -1, :]), p=output_tokens[0, -1, :])\n",
    "  \n",
    "        sampled_token = reverse_target_word_index[sampled_token_index]\n",
    "        \n",
    "        if(sampled_token!='eostok'):\n",
    "            decoded_sentence += ' '+sampled_token\n",
    "\n",
    "        # Exit condition: either hit max length or find stop word.\n",
    "        if (sampled_token == 'eostok'  or len(decoded_sentence.split()) >= (max_summary_len-1)):\n",
    "            stop_condition = True\n",
    "\n",
    "        # Update the target sequence (of length 1).\n",
    "        target_seq = np.zeros((1,1))\n",
    "        target_seq[0, 0] = sampled_token_index\n",
    "\n",
    "        # Update internal states\n",
    "        e_h, e_c = h, c\n",
    "\n",
    "    return decoded_sentence\n",
    "\n",
    "def seq2summary(input_seq):\n",
    "    newString=''\n",
    "    for i in input_seq:\n",
    "        if((i!=0 and i!=target_word_index['sostok']) and i!=target_word_index['eostok']):\n",
    "            newString=newString+reverse_target_word_index[i]+' '\n",
    "    return newString\n",
    "\n",
    "def seq2text(input_seq):\n",
    "    newString=''\n",
    "    for i in input_seq:\n",
    "        if(i!=0):\n",
    "            newString=newString+reverse_source_word_index[i]+' '\n",
    "    return newString"
   ]
  },
  {
   "cell_type": "code",
   "execution_count": 84,
   "id": "e53a6f56",
   "metadata": {},
   "outputs": [
    {
     "name": "stdout",
     "output_type": "stream",
     "text": [
      "Article: pet loving president bonus dog owners argentina whose state run airline allow small pets flights starting mid january president cristina fernandez announced policy change strange new year social media address starring beloved pooch lolita regularly appears facebook page careful said small pets post says try board mastiff lolita weighs two argentine president cristina fernandez announced small pets allowed fernandez announced state run airline policy change new year address facebook popular accessory status symbol argentina especially capital buenos aires famously pampered one photograph fernandez lolita presidential plane tango posted new year eve attracted likes almost comments hand held ranging commonly seen outdoor cafes wide avenues buenos aires known paris south america european architecture aside fernandez addressed country worrying double inflation contracting gross domestic product repeated sovereign debt said central bank cash reserves rose per cent could keep forced deal hedge funds suing bonds oh yes almost forgot come billion central bank reserves post says zoe herman going america biggest airlines petition allow companion travel cabin aircraft like small cats dogs portland allowed travel inside airplane cabins owner next president elected october lolita better make time left enjoy spacious tango fernandez cannot seek third term president pet travel policies vary airline airline able arrange pet travel hold usually air manner cabin past week us woman zoe herman launched campaign make possible travel pet cabin rather hold dog cat breeds deemed unfit travel virgin refuses fly snub breeds including boston terrier english toy british american french along himalayan persian cats due respiratory problems british airways allows cats dogs carrier cabin weigh less kg larger go cargo hold \n",
      "Original summary: president has pet toy call new policy will allow small on board flights \n",
      "Predicted summary:  is to be able for one of the first of the first in an built in the world than and are still to make the year\n",
      "\n",
      "\n",
      "Article: former west ham defender jordan joined mk dons one year deal following release summer year old spent last season loan league club made appearances karl robinson side left upton park free transfer joined hammers youth back done deal jordan joined mk dons following release west ham summer \n",
      "Original summary: jordan joins on one year deal defender was released by west ham in the summer year old joined as youth back in \n",
      "Predicted summary:  manchester is has been for in madrid to loan the season and believes will be by the year old has been in the premier league the first time\n",
      "\n",
      "\n",
      "Article: south carolina sheriff office investigating whether olympic gold medalist michael phelps smoked marijuana university south carolina campus michael phelps facing criminal investigation whether smoked marijuana college campus authorities file criminal charges investigation determines spokesman said tuesday someone breaks law richland county obligation law enforcement investigate bring charges sheriff leon lott said statement richland county sheriff department making effort determine mr phelps broke law charged manner anyone else sheriff responsibility fair enforce law turn blind eye someone celebrity phelps admitted regrettable behavior sunday british newspaper published photograph smoking tabloid news world showed phelps using said november party university south carolina richland county university police columbia south carolina police said would pursue charges according state newspaper columbia unclear party took place paper said whether campus engaged behavior regrettable demonstrated bad judgment said phelps record eight gold medals olympic games beijing china statement sunday see photo cover star magazine years old despite successes pool acted youthful inappropriate way manner people come expect said sorry promise fans public happen olympic committee also issued statement said part michael acknowledged made mistake apologized actions confident going forward michael consistently set kind example expect great olympic champion phelps arrested charges driving influence salisbury maryland pleaded guilty sentenced months probation also issued apology incident phelps one olympic athletes signed victory initiative launched last year anti doping agency aimed keeping competitive sports clean \n",
      "Original summary: charges will be filed if sheriff spokesman says published photo it says was taken at university of south carolina photo shows with water used for smoking over weekend for \n",
      "Predicted summary:  the year old will the most the says the is have been been in the year of the league the was have been in the year\n",
      "\n",
      "\n",
      "Article: london janet jackson opening first time duet brother two years death jackson took stage london thursday performed song scream video michael jackson played voice filled royal albert hall duet follows footsteps jazz singer king cole daughter natalie cole turned father famous recording unforgettable father daughter duet janet jackson said original duet request brother years ago rhythm nation tour mike actually asked song told want felt come fully made name want ride anyone said remember janet tour good years later asked would song felt point would carved little niche world music felt okay came jackson said performing song alongside brother difficult feels great listening hearing voice said adding stage finds remembering experience recording jackson declined comment press two year mark brother death instead taking social media week simple message twitter june anniversary miss love jackson wraps european leg tour week heads north america australia africa \n",
      "Original summary: jackson on stage in london she recorded it with her brother michael in it great just to and hearing his voice she says \n",
      "Predicted summary:  new than the year old has been recovered for the league in the th and are the first in may be on the top one\n",
      "\n",
      "\n",
      "Article: iowa army national guard st battalion rd received emotional welcome home july year half leaving iraq soldiers marched field stadium waterloo iowa front thousands friends family members reporter captures iowa national guard soldiers celebrating return iraq unit served months iraq part operation iraqi freedom said master sgt iowa national guard two soldiers killed action roadside bomb radio iowa reported reporter captured emotion family members soldiers camera well tributes soldiers around town wife works sara barnard reunited husband tim ceremony could see excitement look face finally found group said everyone amazing mail friend \n",
      "Original summary: more than soldiers returned to iowa from service in iraq on july thousands of friends and relatives them back at ceremony the event \n",
      "Predicted summary:  police was in the first league the says the year old will be be on than than the first\n",
      "\n",
      "\n",
      "Article: carl former champion david feel sent first group start rd open championship royal liverpool insists grateful tee time american another north west course st goes david howell robert thursday may perceived treating former winner respect deserves year old see way problem david feel sent first group open seen career go downward spiral open win injuries illness personal issues contributing spectacular loss form keen make every opportunity take disrespectful said always said care tee give tee time fortunate past champion long playing golf coming rough time form since open win dropped due injuries illness personal issues everyone opinions favourites think cherished event golf take peter dawson sending make sure pace gets set properly asking favour backing course hope done early start creates logistical challenges professional golfer player long list back neck wrist injuries additional difficulties least preparation lies ahead practised tiger woods early morning start tuesday little harder getting little older get takes get loose warm added former world number one currently ranked th low end last year hit balls tuesday morning still ready tee whether go bed maybe go pub till come struggle go bed real early going figure way get sleep nine clock tonight maybe watching british television help good times back st golf course \n",
      "Original summary: david says he does not feel by being sent out in the first group of the open will off at am on thursday with david and robert year old american won the in \n"
     ]
    },
    {
     "name": "stdout",
     "output_type": "stream",
     "text": [
      "Predicted summary:  new city beat in tuesday cup on the cup cup in saturday champions beat in champions in in cup in saturday in saturday night\n",
      "\n",
      "\n",
      "Article: council include title official forms trans community campaigners say short gender neutral alternative mr mrs ms miss brighton hove city council trans equality panel previously pointed gender part forms allows people say male female said lack options title field provide people identify male female brighton hove city council offer title option official forms following review services trans people yesterday council policy resources committee approved series measures including removal need patients choose male female options check electronic screens arrival gp surgery recommendations include ensuring police staff undertake trans awareness training introducing gender neutral toilets changing rooms suggested council trans equality scrutiny panel brighton gay lesbian bisexual trans population recommendations passed full council ruth rose sussex born male said difficult gp surgeries recognised put female found put male found decide one sex depending stage transition situations example getting bins collected matter male female recommendation follows suggestions brighton hove city council introduce gender neutral toilets send police trans awareness training report noted trans equality scrutiny panel ground breaking first country carry sensitive effective way detailed investigation experiences needs trans individuals community city provides firm clear foundation public services build terms improving understanding service provision trans community example panel process housing officers committed commissioning trans awareness training city services committed looking introducing flexibility titles within online forms clinical commissioning group made gps across county said would implement changes green party councillor chairman trans equality scrutiny panel set may said transgender community one disadvantaged groups brighton hove inadequate awareness lives trans people long recommendations cross party panel make city fairer place trans people live work study visit clinical commissioning group spokesman said support recommendations \n",
      "Original summary: short for is gender title council policy committee approved plan yesterday move follows report into services for people \n",
      "Predicted summary:  the has been in the of the league the says has been released by the first of the league was the year old has not be to the\n",
      "\n",
      "\n",
      "Article: says shock world make four nations debut england brisbane st prop forward missed pacific cup win fiji may concentrated first season super league recalled along wakefield half back hooker heavyweight clashes quite surprised get said fresh club grand final triumph good performance fiji coach kept faith players came st prop forward hoping shock england four nations really selected going great tournament got quite strong squad shock world guess outside backs handy couple played grand final forward pack match best world cup showed something another step us course familiar opposition head coach matt parish also able call former st great britain scrum half sean long salford assistant right hand man world cup flown brisbane start four nations series without former st forward captained world cup preparations overshadowed suspension three players amid allegations involved nightclub brawl parish forced leave canterbury forward team mate england acting captain james graham north queensland centre tigers back sue canterbury centre tim unavailable due wedding \n",
      "Original summary: set for four nations debut against england in st has been called up to the squad alongside \n",
      "Predicted summary:  new messi beat the world season of win night win the champions in champions win for in saturday the season the year united will not be on the top of real the cup\n",
      "\n",
      "\n",
      "Article: associated press published est january updated est january inbev said tuesday introducing new beer amber lager higher alcohol content promote new super bowl ad maker budweiser bud light launch budweiser black crown second ad february super bowl though beer available stores nationwide starting january sold ounce glass bottles six packs ounce single bottles new contender budweiser black crown brewer attempt break beer market launch comes year inbev introduced bud light platinum another beer super bowl like budweiser black crown bud light platinum alcohol content percent budweiser percent editor beer insights said inbev seeking compete large variety products market though budweiser four nearest competitors combined known premium regular beer market market used budweiser peaked million barrels one third point said constant desire among beer consumers days innovation flavor variety cocktails spirits gained strength thanks budweiser bush four nearest competitors combined premium regular market demand beer growing black crown brewer reaction budweiser black crown recipe resulted challenge inbev effort dubbed project company said developed six beers customers sampled last year testing phase company received opinions samples winning recipe came bryan sullivan los angeles spend time sullivan said project gave us chance hear firsthand people beers company officials said budweiser black crown blends two row caramel four types domestic finished bed chips stays true original budweiser recipe unique take said budweiser black crown senior brand manager addition second super bowl spot national advertising include billboards digital radio print along social media \n",
      "Original summary: black crown will be during show on february new aims to with beer market and is percent in alcohol content than percent \n",
      "Predicted summary:  the was were to be to the first of the year old will an to be be to be seen to the top the year old will still to be in the year\n",
      "\n",
      "\n",
      "Article: fried chicken chain kfc famous finger good slogan british high streets since almost years since opening first store fast food chain gone upmarket makeover aims give atmosphere branch berkshire first country restaurants undergo scroll videos kfc branch berkshire undergone create atmosphere new feature semi open plan kitchen allow diners see food prepared red white plastic replaced brick effect walls timber tables designed replicate kitchen heart home image commissioned artists provide photographs adorn walls space brightly lit low hanging copper lighting new feature added restaurants semi open plan kitchen allow diners see food prepared design also allow service much faster kfc restaurants red white plastic replaced brick effect walls timber tables jade kfc creative design manager said wanted design reflect fact unlike many fast food restaurants kfc cooks prepare make fresh food scratch every day sense kitchen heart home really influenced authentic inviting design founded colonel sanders kentucky known finger good slogan shortened good three years ago kfc british high streets since opening first uk outlet preston past decade kfc uk ireland nearly doubled number chicken products sells new design hopes create sense kitchen heart home almost years since first store opened uk new design launched sales hot chicken wings increased year overall uk ireland revenues nearly doubled close bn earlier year revealed kfc planning create new jobs opening additional outlets uk ireland next five years \n",
      "Original summary: in is the first in the country to red and white plastic replaced with effect and new design hopes to as the heart of the home image \n",
      "Predicted summary:  the league the was recovered of the year old says has been in the than the league is be the top in the year the league\n",
      "\n",
      "\n"
     ]
    }
   ],
   "source": [
    "#bidirectional\n",
    "for i in range(0,10):\n",
    "    print(\"Article:\",seq2text(x_val[i]))\n",
    "    print(\"Original summary:\",seq2summary(y_val[i]))\n",
    "    print(\"Predicted summary:\",decode_sequence(x_val[i].reshape(1,max_text_len)))\n",
    "    print(\"\\n\")"
   ]
  },
  {
   "cell_type": "code",
   "execution_count": 96,
   "id": "60cb2e58",
   "metadata": {},
   "outputs": [
    {
     "name": "stdout",
     "output_type": "stream",
     "text": [
      "Article: pet loving president bonus dog owners argentina whose state run airline allow small pets flights starting mid january president cristina fernandez announced policy change strange new year social media address starring beloved pooch lolita regularly appears facebook page careful said small pets post says try board mastiff lolita weighs two argentine president cristina fernandez announced small pets allowed fernandez announced state run airline policy change new year address facebook popular accessory status symbol argentina especially capital buenos aires famously pampered one photograph fernandez lolita presidential plane tango posted new year eve attracted likes almost comments hand held ranging commonly seen outdoor cafes wide avenues buenos aires known paris south america european architecture aside fernandez addressed country worrying double inflation contracting gross domestic product repeated sovereign debt said central bank cash reserves rose per cent could keep forced deal hedge funds suing bonds oh yes almost forgot come billion central bank reserves post says zoe herman going america biggest airlines petition allow companion travel cabin aircraft like small cats dogs portland allowed travel inside airplane cabins owner next president elected october lolita better make time left enjoy spacious tango fernandez cannot seek third term president pet travel policies vary airline airline able arrange pet travel hold usually air manner cabin past week us woman zoe herman launched campaign make possible travel pet cabin rather hold dog cat breeds deemed unfit travel virgin refuses fly snub breeds including boston terrier english toy british american french along himalayan persian cats due respiratory problems british airways allows cats dogs carrier cabin weigh less kg larger go cargo hold \n",
      "Original summary: president has pet toy call new policy will allow small on board flights \n",
      "Predicted summary:  the is the of the of the of the year old was the first of the year old is the first of the year old is the first of the world\n",
      "\n",
      "\n",
      "Article: former west ham defender jordan joined mk dons one year deal following release summer year old spent last season loan league club made appearances karl robinson side left upton park free transfer joined hammers youth back done deal jordan joined mk dons following release west ham summer \n",
      "Original summary: jordan joins on one year deal defender was released by west ham in the summer year old joined as youth back in \n",
      "Predicted summary:  manchester united has been to the club club the club the year old has not linked to the club the year old has been to the goals for the world cup\n",
      "\n",
      "\n",
      "Article: south carolina sheriff office investigating whether olympic gold medalist michael phelps smoked marijuana university south carolina campus michael phelps facing criminal investigation whether smoked marijuana college campus authorities file criminal charges investigation determines spokesman said tuesday someone breaks law richland county obligation law enforcement investigate bring charges sheriff leon lott said statement richland county sheriff department making effort determine mr phelps broke law charged manner anyone else sheriff responsibility fair enforce law turn blind eye someone celebrity phelps admitted regrettable behavior sunday british newspaper published photograph smoking tabloid news world showed phelps using said november party university south carolina richland county university police columbia south carolina police said would pursue charges according state newspaper columbia unclear party took place paper said whether campus engaged behavior regrettable demonstrated bad judgment said phelps record eight gold medals olympic games beijing china statement sunday see photo cover star magazine years old despite successes pool acted youthful inappropriate way manner people come expect said sorry promise fans public happen olympic committee also issued statement said part michael acknowledged made mistake apologized actions confident going forward michael consistently set kind example expect great olympic champion phelps arrested charges driving influence salisbury maryland pleaded guilty sentenced months probation also issued apology incident phelps one olympic athletes signed victory initiative launched last year anti doping agency aimed keeping competitive sports clean \n",
      "Original summary: charges will be filed if sheriff spokesman says published photo it says was taken at university of south carolina photo shows with water used for smoking over weekend for \n",
      "Predicted summary:  the is the of the of the year old was the first of the year old is the first of the year old was the first of the world\n",
      "\n",
      "\n",
      "Article: london janet jackson opening first time duet brother two years death jackson took stage london thursday performed song scream video michael jackson played voice filled royal albert hall duet follows footsteps jazz singer king cole daughter natalie cole turned father famous recording unforgettable father daughter duet janet jackson said original duet request brother years ago rhythm nation tour mike actually asked song told want felt come fully made name want ride anyone said remember janet tour good years later asked would song felt point would carved little niche world music felt okay came jackson said performing song alongside brother difficult feels great listening hearing voice said adding stage finds remembering experience recording jackson declined comment press two year mark brother death instead taking social media week simple message twitter june anniversary miss love jackson wraps european leg tour week heads north america australia africa \n",
      "Original summary: jackson on stage in london she recorded it with her brother michael in it great just to and hearing his voice she says \n",
      "Predicted summary:  new minister is the of the of the new the is the of the of the is the first of the of the world old is the first of the world cup\n",
      "\n",
      "\n",
      "Article: iowa army national guard st battalion rd received emotional welcome home july year half leaving iraq soldiers marched field stadium waterloo iowa front thousands friends family members reporter captures iowa national guard soldiers celebrating return iraq unit served months iraq part operation iraqi freedom said master sgt iowa national guard two soldiers killed action roadside bomb radio iowa reported reporter captured emotion family members soldiers camera well tributes soldiers around town wife works sara barnard reunited husband tim ceremony could see excitement look face finally found group said everyone amazing mail friend \n",
      "Original summary: more than soldiers returned to iowa from service in iraq on july thousands of friends and relatives them back at ceremony the event \n",
      "Predicted summary:  the is the of the of the of the year old was the first of the year old is the first of the year old is the first of the world\n",
      "\n",
      "\n",
      "Article: carl former champion david feel sent first group start rd open championship royal liverpool insists grateful tee time american another north west course st goes david howell robert thursday may perceived treating former winner respect deserves year old see way problem david feel sent first group open seen career go downward spiral open win injuries illness personal issues contributing spectacular loss form keen make every opportunity take disrespectful said always said care tee give tee time fortunate past champion long playing golf coming rough time form since open win dropped due injuries illness personal issues everyone opinions favourites think cherished event golf take peter dawson sending make sure pace gets set properly asking favour backing course hope done early start creates logistical challenges professional golfer player long list back neck wrist injuries additional difficulties least preparation lies ahead practised tiger woods early morning start tuesday little harder getting little older get takes get loose warm added former world number one currently ranked th low end last year hit balls tuesday morning still ready tee whether go bed maybe go pub till come struggle go bed real early going figure way get sleep nine clock tonight maybe watching british television help good times back st golf course \n",
      "Original summary: david says he does not feel by being sent out in the first group of the open will off at am on thursday with david and robert year old american won the in \n"
     ]
    },
    {
     "name": "stdout",
     "output_type": "stream",
     "text": [
      "Predicted summary:  new united has been to the club the year old is the first of the year old is the first of the year old is the first in the world cup\n",
      "\n",
      "\n",
      "Article: council include title official forms trans community campaigners say short gender neutral alternative mr mrs ms miss brighton hove city council trans equality panel previously pointed gender part forms allows people say male female said lack options title field provide people identify male female brighton hove city council offer title option official forms following review services trans people yesterday council policy resources committee approved series measures including removal need patients choose male female options check electronic screens arrival gp surgery recommendations include ensuring police staff undertake trans awareness training introducing gender neutral toilets changing rooms suggested council trans equality scrutiny panel brighton gay lesbian bisexual trans population recommendations passed full council ruth rose sussex born male said difficult gp surgeries recognised put female found put male found decide one sex depending stage transition situations example getting bins collected matter male female recommendation follows suggestions brighton hove city council introduce gender neutral toilets send police trans awareness training report noted trans equality scrutiny panel ground breaking first country carry sensitive effective way detailed investigation experiences needs trans individuals community city provides firm clear foundation public services build terms improving understanding service provision trans community example panel process housing officers committed commissioning trans awareness training city services committed looking introducing flexibility titles within online forms clinical commissioning group made gps across county said would implement changes green party councillor chairman trans equality scrutiny panel set may said transgender community one disadvantaged groups brighton hove inadequate awareness lives trans people long recommendations cross party panel make city fairer place trans people live work study visit clinical commissioning group spokesman said support recommendations \n",
      "Original summary: short for is gender title council policy committee approved plan yesterday move follows report into services for people \n",
      "Predicted summary:  the is the of the of the year old was the of the of the year old was the first of the year old was the first of the\n",
      "\n",
      "\n",
      "Article: says shock world make four nations debut england brisbane st prop forward missed pacific cup win fiji may concentrated first season super league recalled along wakefield half back hooker heavyweight clashes quite surprised get said fresh club grand final triumph good performance fiji coach kept faith players came st prop forward hoping shock england four nations really selected going great tournament got quite strong squad shock world guess outside backs handy couple played grand final forward pack match best world cup showed something another step us course familiar opposition head coach matt parish also able call former st great britain scrum half sean long salford assistant right hand man world cup flown brisbane start four nations series without former st forward captained world cup preparations overshadowed suspension three players amid allegations involved nightclub brawl parish forced leave canterbury forward team mate england acting captain james graham north queensland centre tigers back sue canterbury centre tim unavailable due wedding \n",
      "Original summary: set for four nations debut against england in st has been called up to the squad alongside \n",
      "Predicted summary:  the is have been to the club the club the year old has not linked to the club the year old has been linked to the midfielder\n",
      "\n",
      "\n",
      "Article: associated press published est january updated est january inbev said tuesday introducing new beer amber lager higher alcohol content promote new super bowl ad maker budweiser bud light launch budweiser black crown second ad february super bowl though beer available stores nationwide starting january sold ounce glass bottles six packs ounce single bottles new contender budweiser black crown brewer attempt break beer market launch comes year inbev introduced bud light platinum another beer super bowl like budweiser black crown bud light platinum alcohol content percent budweiser percent editor beer insights said inbev seeking compete large variety products market though budweiser four nearest competitors combined known premium regular beer market market used budweiser peaked million barrels one third point said constant desire among beer consumers days innovation flavor variety cocktails spirits gained strength thanks budweiser bush four nearest competitors combined premium regular market demand beer growing black crown brewer reaction budweiser black crown recipe resulted challenge inbev effort dubbed project company said developed six beers customers sampled last year testing phase company received opinions samples winning recipe came bryan sullivan los angeles spend time sullivan said project gave us chance hear firsthand people beers company officials said budweiser black crown blends two row caramel four types domestic finished bed chips stays true original budweiser recipe unique take said budweiser black crown senior brand manager addition second super bowl spot national advertising include billboards digital radio print along social media \n",
      "Original summary: black crown will be during show on february new aims to with beer market and is percent in alcohol content than percent \n",
      "Predicted summary:  the is the of the of the year old was the first of the first the year old was the of the year old is the first of the world\n",
      "\n",
      "\n",
      "Article: fried chicken chain kfc famous finger good slogan british high streets since almost years since opening first store fast food chain gone upmarket makeover aims give atmosphere branch berkshire first country restaurants undergo scroll videos kfc branch berkshire undergone create atmosphere new feature semi open plan kitchen allow diners see food prepared red white plastic replaced brick effect walls timber tables designed replicate kitchen heart home image commissioned artists provide photographs adorn walls space brightly lit low hanging copper lighting new feature added restaurants semi open plan kitchen allow diners see food prepared design also allow service much faster kfc restaurants red white plastic replaced brick effect walls timber tables jade kfc creative design manager said wanted design reflect fact unlike many fast food restaurants kfc cooks prepare make fresh food scratch every day sense kitchen heart home really influenced authentic inviting design founded colonel sanders kentucky known finger good slogan shortened good three years ago kfc british high streets since opening first uk outlet preston past decade kfc uk ireland nearly doubled number chicken products sells new design hopes create sense kitchen heart home almost years since first store opened uk new design launched sales hot chicken wings increased year overall uk ireland revenues nearly doubled close bn earlier year revealed kfc planning create new jobs opening additional outlets uk ireland next five years \n",
      "Original summary: in is the first in the country to red and white plastic replaced with effect and new design hopes to as the heart of the home image \n",
      "Predicted summary:  the is the of the year old was the first of the year old is the first of the year old is the first of the world\n",
      "\n",
      "\n"
     ]
    }
   ],
   "source": [
    "#bidirectional\n",
    "for i in range(0,10):\n",
    "    print(\"Article:\",seq2text(x_val[i]))\n",
    "    print(\"Original summary:\",seq2summary(y_val[i]))\n",
    "    print(\"Predicted summary:\",decode_sequence(x_val[i].reshape(1,max_text_len)))\n",
    "    print(\"\\n\")"
   ]
  },
  {
   "cell_type": "code",
   "execution_count": 97,
   "id": "8ef277bd",
   "metadata": {},
   "outputs": [
    {
     "name": "stdout",
     "output_type": "stream",
     "text": [
      "Article: pet loving president bonus dog owners argentina whose state run airline allow small pets flights starting mid january president cristina fernandez announced policy change strange new year social media address starring beloved pooch lolita regularly appears facebook page careful said small pets post says try board mastiff lolita weighs two argentine president cristina fernandez announced small pets allowed fernandez announced state run airline policy change new year address facebook popular accessory status symbol argentina especially capital buenos aires famously pampered one photograph fernandez lolita presidential plane tango posted new year eve attracted likes almost comments hand held ranging commonly seen outdoor cafes wide avenues buenos aires known paris south america european architecture aside fernandez addressed country worrying double inflation contracting gross domestic product repeated sovereign debt said central bank cash reserves rose per cent could keep forced deal hedge funds suing bonds oh yes almost forgot come billion central bank reserves post says zoe herman going america biggest airlines petition allow companion travel cabin aircraft like small cats dogs portland allowed travel inside airplane cabins owner next president elected october lolita better make time left enjoy spacious tango fernandez cannot seek third term president pet travel policies vary airline airline able arrange pet travel hold usually air manner cabin past week us woman zoe herman launched campaign make possible travel pet cabin rather hold dog cat breeds deemed unfit travel virgin refuses fly snub breeds including boston terrier english toy british american french along himalayan persian cats due respiratory problems british airways allows cats dogs carrier cabin weigh less kg larger go cargo hold \n",
      "Original summary: president has pet toy call new policy will allow small on board flights \n",
      "Predicted summary:  the is the of the of the of the year old was the first of the year old is the first of the year old is the first of the world\n",
      "\n",
      "\n",
      "Article: former west ham defender jordan joined mk dons one year deal following release summer year old spent last season loan league club made appearances karl robinson side left upton park free transfer joined hammers youth back done deal jordan joined mk dons following release west ham summer \n",
      "Original summary: jordan joins on one year deal defender was released by west ham in the summer year old joined as youth back in \n",
      "Predicted summary:  manchester united has been to the club club the club the year old has not linked to the club the year old has been to the goals for the world cup\n",
      "\n",
      "\n",
      "Article: south carolina sheriff office investigating whether olympic gold medalist michael phelps smoked marijuana university south carolina campus michael phelps facing criminal investigation whether smoked marijuana college campus authorities file criminal charges investigation determines spokesman said tuesday someone breaks law richland county obligation law enforcement investigate bring charges sheriff leon lott said statement richland county sheriff department making effort determine mr phelps broke law charged manner anyone else sheriff responsibility fair enforce law turn blind eye someone celebrity phelps admitted regrettable behavior sunday british newspaper published photograph smoking tabloid news world showed phelps using said november party university south carolina richland county university police columbia south carolina police said would pursue charges according state newspaper columbia unclear party took place paper said whether campus engaged behavior regrettable demonstrated bad judgment said phelps record eight gold medals olympic games beijing china statement sunday see photo cover star magazine years old despite successes pool acted youthful inappropriate way manner people come expect said sorry promise fans public happen olympic committee also issued statement said part michael acknowledged made mistake apologized actions confident going forward michael consistently set kind example expect great olympic champion phelps arrested charges driving influence salisbury maryland pleaded guilty sentenced months probation also issued apology incident phelps one olympic athletes signed victory initiative launched last year anti doping agency aimed keeping competitive sports clean \n",
      "Original summary: charges will be filed if sheriff spokesman says published photo it says was taken at university of south carolina photo shows with water used for smoking over weekend for \n",
      "Predicted summary:  the is the of the of the year old was the first of the year old is the first of the year old was the first of the world\n",
      "\n",
      "\n",
      "Article: london janet jackson opening first time duet brother two years death jackson took stage london thursday performed song scream video michael jackson played voice filled royal albert hall duet follows footsteps jazz singer king cole daughter natalie cole turned father famous recording unforgettable father daughter duet janet jackson said original duet request brother years ago rhythm nation tour mike actually asked song told want felt come fully made name want ride anyone said remember janet tour good years later asked would song felt point would carved little niche world music felt okay came jackson said performing song alongside brother difficult feels great listening hearing voice said adding stage finds remembering experience recording jackson declined comment press two year mark brother death instead taking social media week simple message twitter june anniversary miss love jackson wraps european leg tour week heads north america australia africa \n",
      "Original summary: jackson on stage in london she recorded it with her brother michael in it great just to and hearing his voice she says \n",
      "Predicted summary:  new minister is the of the of the new the is the of the of the is the first of the of the world old is the first of the world cup\n",
      "\n",
      "\n",
      "Article: iowa army national guard st battalion rd received emotional welcome home july year half leaving iraq soldiers marched field stadium waterloo iowa front thousands friends family members reporter captures iowa national guard soldiers celebrating return iraq unit served months iraq part operation iraqi freedom said master sgt iowa national guard two soldiers killed action roadside bomb radio iowa reported reporter captured emotion family members soldiers camera well tributes soldiers around town wife works sara barnard reunited husband tim ceremony could see excitement look face finally found group said everyone amazing mail friend \n",
      "Original summary: more than soldiers returned to iowa from service in iraq on july thousands of friends and relatives them back at ceremony the event \n",
      "Predicted summary:  the is the of the of the of the year old was the first of the year old is the first of the year old is the first of the world\n",
      "\n",
      "\n",
      "Article: carl former champion david feel sent first group start rd open championship royal liverpool insists grateful tee time american another north west course st goes david howell robert thursday may perceived treating former winner respect deserves year old see way problem david feel sent first group open seen career go downward spiral open win injuries illness personal issues contributing spectacular loss form keen make every opportunity take disrespectful said always said care tee give tee time fortunate past champion long playing golf coming rough time form since open win dropped due injuries illness personal issues everyone opinions favourites think cherished event golf take peter dawson sending make sure pace gets set properly asking favour backing course hope done early start creates logistical challenges professional golfer player long list back neck wrist injuries additional difficulties least preparation lies ahead practised tiger woods early morning start tuesday little harder getting little older get takes get loose warm added former world number one currently ranked th low end last year hit balls tuesday morning still ready tee whether go bed maybe go pub till come struggle go bed real early going figure way get sleep nine clock tonight maybe watching british television help good times back st golf course \n",
      "Original summary: david says he does not feel by being sent out in the first group of the open will off at am on thursday with david and robert year old american won the in \n"
     ]
    },
    {
     "name": "stdout",
     "output_type": "stream",
     "text": [
      "Predicted summary:  new united has been to the club the year old is the first of the year old is the first of the year old is the first in the world cup\n",
      "\n",
      "\n",
      "Article: council include title official forms trans community campaigners say short gender neutral alternative mr mrs ms miss brighton hove city council trans equality panel previously pointed gender part forms allows people say male female said lack options title field provide people identify male female brighton hove city council offer title option official forms following review services trans people yesterday council policy resources committee approved series measures including removal need patients choose male female options check electronic screens arrival gp surgery recommendations include ensuring police staff undertake trans awareness training introducing gender neutral toilets changing rooms suggested council trans equality scrutiny panel brighton gay lesbian bisexual trans population recommendations passed full council ruth rose sussex born male said difficult gp surgeries recognised put female found put male found decide one sex depending stage transition situations example getting bins collected matter male female recommendation follows suggestions brighton hove city council introduce gender neutral toilets send police trans awareness training report noted trans equality scrutiny panel ground breaking first country carry sensitive effective way detailed investigation experiences needs trans individuals community city provides firm clear foundation public services build terms improving understanding service provision trans community example panel process housing officers committed commissioning trans awareness training city services committed looking introducing flexibility titles within online forms clinical commissioning group made gps across county said would implement changes green party councillor chairman trans equality scrutiny panel set may said transgender community one disadvantaged groups brighton hove inadequate awareness lives trans people long recommendations cross party panel make city fairer place trans people live work study visit clinical commissioning group spokesman said support recommendations \n",
      "Original summary: short for is gender title council policy committee approved plan yesterday move follows report into services for people \n",
      "Predicted summary:  the is the of the of the year old was the of the of the year old was the first of the year old was the first of the\n",
      "\n",
      "\n",
      "Article: says shock world make four nations debut england brisbane st prop forward missed pacific cup win fiji may concentrated first season super league recalled along wakefield half back hooker heavyweight clashes quite surprised get said fresh club grand final triumph good performance fiji coach kept faith players came st prop forward hoping shock england four nations really selected going great tournament got quite strong squad shock world guess outside backs handy couple played grand final forward pack match best world cup showed something another step us course familiar opposition head coach matt parish also able call former st great britain scrum half sean long salford assistant right hand man world cup flown brisbane start four nations series without former st forward captained world cup preparations overshadowed suspension three players amid allegations involved nightclub brawl parish forced leave canterbury forward team mate england acting captain james graham north queensland centre tigers back sue canterbury centre tim unavailable due wedding \n",
      "Original summary: set for four nations debut against england in st has been called up to the squad alongside \n",
      "Predicted summary:  the is have been to the club the club the year old has not linked to the club the year old has been linked to the midfielder\n",
      "\n",
      "\n",
      "Article: associated press published est january updated est january inbev said tuesday introducing new beer amber lager higher alcohol content promote new super bowl ad maker budweiser bud light launch budweiser black crown second ad february super bowl though beer available stores nationwide starting january sold ounce glass bottles six packs ounce single bottles new contender budweiser black crown brewer attempt break beer market launch comes year inbev introduced bud light platinum another beer super bowl like budweiser black crown bud light platinum alcohol content percent budweiser percent editor beer insights said inbev seeking compete large variety products market though budweiser four nearest competitors combined known premium regular beer market market used budweiser peaked million barrels one third point said constant desire among beer consumers days innovation flavor variety cocktails spirits gained strength thanks budweiser bush four nearest competitors combined premium regular market demand beer growing black crown brewer reaction budweiser black crown recipe resulted challenge inbev effort dubbed project company said developed six beers customers sampled last year testing phase company received opinions samples winning recipe came bryan sullivan los angeles spend time sullivan said project gave us chance hear firsthand people beers company officials said budweiser black crown blends two row caramel four types domestic finished bed chips stays true original budweiser recipe unique take said budweiser black crown senior brand manager addition second super bowl spot national advertising include billboards digital radio print along social media \n",
      "Original summary: black crown will be during show on february new aims to with beer market and is percent in alcohol content than percent \n",
      "Predicted summary:  the is the of the of the year old was the first of the first the year old was the of the year old is the first of the world\n",
      "\n",
      "\n",
      "Article: fried chicken chain kfc famous finger good slogan british high streets since almost years since opening first store fast food chain gone upmarket makeover aims give atmosphere branch berkshire first country restaurants undergo scroll videos kfc branch berkshire undergone create atmosphere new feature semi open plan kitchen allow diners see food prepared red white plastic replaced brick effect walls timber tables designed replicate kitchen heart home image commissioned artists provide photographs adorn walls space brightly lit low hanging copper lighting new feature added restaurants semi open plan kitchen allow diners see food prepared design also allow service much faster kfc restaurants red white plastic replaced brick effect walls timber tables jade kfc creative design manager said wanted design reflect fact unlike many fast food restaurants kfc cooks prepare make fresh food scratch every day sense kitchen heart home really influenced authentic inviting design founded colonel sanders kentucky known finger good slogan shortened good three years ago kfc british high streets since opening first uk outlet preston past decade kfc uk ireland nearly doubled number chicken products sells new design hopes create sense kitchen heart home almost years since first store opened uk new design launched sales hot chicken wings increased year overall uk ireland revenues nearly doubled close bn earlier year revealed kfc planning create new jobs opening additional outlets uk ireland next five years \n",
      "Original summary: in is the first in the country to red and white plastic replaced with effect and new design hopes to as the heart of the home image \n",
      "Predicted summary:  the is the of the year old was the first of the year old is the first of the year old is the first of the world\n",
      "\n",
      "\n"
     ]
    }
   ],
   "source": [
    "\n",
    "\n",
    "#bidirectional\n",
    "for i in range(0,10):\n",
    "    print(\"Article:\",seq2text(x_val[i]))\n",
    "    print(\"Original summary:\",seq2summary(y_val[i]))\n",
    "    print(\"Predicted summary:\",decode_sequence(x_val[i].reshape(1,max_text_len)))\n",
    "    print(\"\\n\")"
   ]
  },
  {
   "cell_type": "code",
   "execution_count": 150,
   "id": "8b8e4579",
   "metadata": {},
   "outputs": [
    {
     "name": "stdout",
     "output_type": "stream",
     "text": [
      "(375,)\n"
     ]
    }
   ],
   "source": [
    "print(x_val[0].shape)"
   ]
  },
  {
   "cell_type": "code",
   "execution_count": 154,
   "id": "cd5a0c19",
   "metadata": {},
   "outputs": [
    {
     "ename": "AttributeError",
     "evalue": "'str' object has no attribute 'reshape'",
     "output_type": "error",
     "traceback": [
      "\u001b[1;31m---------------------------------------------------------------------------\u001b[0m",
      "\u001b[1;31mAttributeError\u001b[0m                            Traceback (most recent call last)",
      "\u001b[1;32m<ipython-input-154-314ffadd163f>\u001b[0m in \u001b[0;36m<module>\u001b[1;34m\u001b[0m\n\u001b[0;32m      6\u001b[0m     \u001b[1;32mreturn\u001b[0m \u001b[0mdecode_sequence\u001b[0m\u001b[1;33m(\u001b[0m\u001b[0mcleaned_input\u001b[0m\u001b[1;33m.\u001b[0m\u001b[0mreshape\u001b[0m\u001b[1;33m(\u001b[0m\u001b[1;36m1\u001b[0m\u001b[1;33m,\u001b[0m\u001b[0mmax_text_len\u001b[0m\u001b[1;33m)\u001b[0m\u001b[1;33m)\u001b[0m\u001b[1;33m\u001b[0m\u001b[1;33m\u001b[0m\u001b[0m\n\u001b[0;32m      7\u001b[0m \u001b[1;33m\u001b[0m\u001b[0m\n\u001b[1;32m----> 8\u001b[1;33m \u001b[0mprint\u001b[0m\u001b[1;33m(\u001b[0m\u001b[0msummarizeText\u001b[0m\u001b[1;33m(\u001b[0m\u001b[1;34m'Microsoft chairman bill gates late wednesday unveiled his vision of the digital lifestyle , outlining the latest version of his windows operating system to be launched later this year'\u001b[0m\u001b[1;33m)\u001b[0m\u001b[1;33m)\u001b[0m\u001b[1;33m\u001b[0m\u001b[1;33m\u001b[0m\u001b[0m\n\u001b[0m",
      "\u001b[1;32m<ipython-input-154-314ffadd163f>\u001b[0m in \u001b[0;36msummarizeText\u001b[1;34m(input_text)\u001b[0m\n\u001b[0;32m      4\u001b[0m \u001b[1;31m#     print(cleaned_input)\u001b[0m\u001b[1;33m\u001b[0m\u001b[1;33m\u001b[0m\u001b[1;33m\u001b[0m\u001b[0m\n\u001b[0;32m      5\u001b[0m \u001b[1;31m#     cleaned   =   pad_sequences(cleaned_seq, maxlen=max_text_len, padding='post')\u001b[0m\u001b[1;33m\u001b[0m\u001b[1;33m\u001b[0m\u001b[1;33m\u001b[0m\u001b[0m\n\u001b[1;32m----> 6\u001b[1;33m     \u001b[1;32mreturn\u001b[0m \u001b[0mdecode_sequence\u001b[0m\u001b[1;33m(\u001b[0m\u001b[0mcleaned_input\u001b[0m\u001b[1;33m.\u001b[0m\u001b[0mreshape\u001b[0m\u001b[1;33m(\u001b[0m\u001b[1;36m1\u001b[0m\u001b[1;33m,\u001b[0m\u001b[0mmax_text_len\u001b[0m\u001b[1;33m)\u001b[0m\u001b[1;33m)\u001b[0m\u001b[1;33m\u001b[0m\u001b[1;33m\u001b[0m\u001b[0m\n\u001b[0m\u001b[0;32m      7\u001b[0m \u001b[1;33m\u001b[0m\u001b[0m\n\u001b[0;32m      8\u001b[0m \u001b[0mprint\u001b[0m\u001b[1;33m(\u001b[0m\u001b[0msummarizeText\u001b[0m\u001b[1;33m(\u001b[0m\u001b[1;34m'Microsoft chairman bill gates late wednesday unveiled his vision of the digital lifestyle , outlining the latest version of his windows operating system to be launched later this year'\u001b[0m\u001b[1;33m)\u001b[0m\u001b[1;33m)\u001b[0m\u001b[1;33m\u001b[0m\u001b[1;33m\u001b[0m\u001b[0m\n",
      "\u001b[1;31mAttributeError\u001b[0m: 'str' object has no attribute 'reshape'"
     ]
    }
   ],
   "source": [
    "def summarizeText(input_text):\n",
    "    cleaned_input = text_cleaner(input_text,0)\n",
    "#     cleaned_seq   =   x_tokenizer.texts_to_sequences(cleaned_input )\n",
    "#     print(cleaned_input)\n",
    "#     cleaned   =   pad_sequences(cleaned_seq, maxlen=max_text_len, padding='post')\n",
    "    return decode_sequence(cleaned_input.reshape(1,max_text_len))\n",
    "\n",
    "print(summarizeText('Microsoft chairman bill gates late wednesday unveiled his vision of the digital lifestyle , outlining the latest version of his windows operating system to be launched later this year'))"
   ]
  },
  {
   "cell_type": "code",
   "execution_count": null,
   "id": "471c574e",
   "metadata": {},
   "outputs": [],
   "source": []
  }
 ],
 "metadata": {
  "kernelspec": {
   "display_name": "Python [conda env:175]",
   "language": "python",
   "name": "conda-env-175-py"
  },
  "language_info": {
   "codemirror_mode": {
    "name": "ipython",
    "version": 3
   },
   "file_extension": ".py",
   "mimetype": "text/x-python",
   "name": "python",
   "nbconvert_exporter": "python",
   "pygments_lexer": "ipython3",
   "version": "3.8.12"
  }
 },
 "nbformat": 4,
 "nbformat_minor": 5
}
